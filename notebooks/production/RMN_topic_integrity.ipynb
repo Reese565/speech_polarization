{
 "cells": [
  {
   "cell_type": "markdown",
   "metadata": {},
   "source": [
    "### Training a corpus-wide RMN with tfidf embeddings"
   ]
  },
  {
   "cell_type": "code",
   "execution_count": 1,
   "metadata": {},
   "outputs": [],
   "source": [
    "import os\n",
    "import sys\n",
    "import pandas as pd\n",
    "import matplotlib.pyplot as plt"
   ]
  },
  {
   "cell_type": "code",
   "execution_count": 2,
   "metadata": {},
   "outputs": [],
   "source": [
    "sys.path.append(\"/home/rocassius/w266_final/scripts/assembly\")\n",
    "sys.path.append(\"/home/rocassius/w266_final/scripts/modeling\")"
   ]
  },
  {
   "cell_type": "code",
   "execution_count": 3,
   "metadata": {},
   "outputs": [],
   "source": [
    "from document import load_documents\n",
    "from constant import DOC_PRAYER_PATH, MIN_SESSION, MAX_SESSION, DOC_ALL_PATH\n",
    "from subject import subject_keywords\n",
    "\n",
    "sessions = list(range(MIN_SESSION, MAX_SESSION+1))"
   ]
  },
  {
   "cell_type": "code",
   "execution_count": 4,
   "metadata": {},
   "outputs": [],
   "source": [
    "from helper import *\n",
    "from rmn import *\n",
    "from rmn_data_generator import RMN_DataGenerator\n",
    "from rmn_analyzer import RMN_Analyzer"
   ]
  },
  {
   "cell_type": "code",
   "execution_count": 5,
   "metadata": {},
   "outputs": [],
   "source": [
    "# load embedding tools\n",
    "prayer_tools_path = \"/home/rocassius/gen-data/tools/prayer_tools\"\n",
    "metadata_dict = load_pickled_object(os.path.join(prayer_tools_path, \"metadata_dict\"))\n",
    "tokenizer_dict = load_pickled_object(os.path.join(prayer_tools_path, \"tokenizer_dict\"))\n",
    "embedding_matrix = load_pickled_object(os.path.join(prayer_tools_path, \"idf_embedding_matrix\"))\n",
    "global_embedding_matrix = load_pickled_object(os.path.join(prayer_tools_path, \"embedding_matrix_wg\"))\n",
    "global_tokenizer_dict = load_pickled_object(os.path.join(prayer_tools_path, \"tokenizer_dict_wg\"))"
   ]
  },
  {
   "cell_type": "code",
   "execution_count": 6,
   "metadata": {},
   "outputs": [],
   "source": [
    "docs_df = load_documents([66], DOC_PRAYER_PATH)"
   ]
  },
  {
   "cell_type": "code",
   "execution_count": 7,
   "metadata": {},
   "outputs": [],
   "source": [
    "data_df = docs_df.sample(2347)"
   ]
  },
  {
   "cell_type": "code",
   "execution_count": 8,
   "metadata": {},
   "outputs": [
    {
     "data": {
      "text/plain": [
       "(35475, 10)"
      ]
     },
     "execution_count": 8,
     "metadata": {},
     "output_type": "execute_result"
    }
   ],
   "source": [
    "docs_df.shape"
   ]
  },
  {
   "cell_type": "code",
   "execution_count": 9,
   "metadata": {},
   "outputs": [],
   "source": [
    "local_models_path = \"/home/rocassius/gen-data/models\""
   ]
  },
  {
   "cell_type": "code",
   "execution_count": 10,
   "metadata": {},
   "outputs": [
    {
     "name": "stdout",
     "output_type": "stream",
     "text": [
      "WARNING:tensorflow:From /home/rocassius/anaconda3/lib/python3.7/site-packages/tensorflow_core/python/keras/initializers.py:119: calling RandomUniform.__init__ (from tensorflow.python.ops.init_ops) with dtype is deprecated and will be removed in a future version.\n",
      "Instructions for updating:\n",
      "Call initializer instance with the dtype argument instead of passing it to the constructor\n",
      "WARNING:tensorflow:From /home/rocassius/anaconda3/lib/python3.7/site-packages/tensorflow_core/python/ops/resource_variable_ops.py:1630: calling BaseResourceVariable.__init__ (from tensorflow.python.ops.resource_variable_ops) with constraint is deprecated and will be removed in a future version.\n",
      "Instructions for updating:\n",
      "If using Keras pass *_constraint arguments to layers.\n"
     ]
    }
   ],
   "source": [
    "rmn = RigidRMN()\n",
    "rmn.load_rmn(\"SuaveRanger\", local_models_path)\n",
    "rmn.infer_embedding_matrix = global_embedding_matrix\n",
    "rmn.infer_tokenizer_dict = global_tokenizer_dict"
   ]
  },
  {
   "cell_type": "code",
   "execution_count": 11,
   "metadata": {},
   "outputs": [],
   "source": [
    "# def mean_pair_similarity(vectors):\n",
    "    \n",
    "#     n_vec = vectors.shape[0]\n",
    "#     index_A = np.tile(range(n_vec), n_vec)\n",
    "#     index_B = np.repeat(range(n_vec), n_vec)\n",
    "    \n",
    "#     v_A, v_B = vectors[index_A], vectors[index_B]\n",
    "#     norm = (np.linalg.norm(v_A, axis=1) * \n",
    "#             np.linalg.norm(v_B, axis=1))\n",
    "#     sim = (v_A * v_B).sum(axis=1) / norm\n",
    "    \n",
    "#     coherence = (sim.sum() - n_vec) / (n_vec**2 - n_vec)\n",
    "    \n",
    "#     return coherence\n",
    "    \n",
    "    \n",
    "# def vector_coherence(index, W):    \n",
    "#     return mean_pair_similarity(W[index])\n",
    "    \n",
    "\n",
    "# def word_coherence(words, word_index, W):\n",
    "#     return vector_coherence([word_index[w] for w in words], W)\n",
    "\n",
    "\n",
    "# def random_coherence(k, W):\n",
    "    \n",
    "#     v = np.random.uniform(low=-1., high=1., size=W.shape[1])\n",
    "#     nn, sim = find_nn_cos(v, W, k)    \n",
    "#     nn_coherence = vector_coherence(nn, W)\n",
    "    \n",
    "#     return nn_coherence"
   ]
  },
  {
   "cell_type": "code",
   "execution_count": 12,
   "metadata": {},
   "outputs": [],
   "source": [
    "# #====================#\n",
    "# #=*= RMN Analyzer =*=#\n",
    "# #====================#\n",
    "\n",
    "# # Class for analyzing an RMN\n",
    "\n",
    "# import numpy as np\n",
    "# import pandas as pd\n",
    "# from analysis import *\n",
    "\n",
    "# # variable constants\n",
    "# SUB = 'subject'\n",
    "# SPEAK = 'speakerid'\n",
    "# PARTY = 'party'\n",
    "# SESS = 'session'\n",
    "# # party constants\n",
    "# R = 'R'\n",
    "# D = 'D'\n",
    "# # metric constants\n",
    "# JS = 'js'\n",
    "# HH = 'hh'\n",
    "# EN = 'entr'\n",
    "# N_REC = 'n_records'\n",
    "# N_NAN = 'n_nan_preds'\n",
    "# TP = 'topic_use'\n",
    "\n",
    "\n",
    "# class RMN_Analyzer(object):\n",
    "#     \"\"\"Class for Analyzing an RMN with respect to a dataset\n",
    "#     \"\"\"\n",
    "    \n",
    "#     def __init__(self, rmn, df):\n",
    "#         \"\"\"\n",
    "#         Args:\n",
    "#         - rmn: (RMN) the RMN to be used for analysis\n",
    "#         - df : (DataFrame) the dataframe to analyze\n",
    "#         \"\"\"\n",
    "        \n",
    "#         'Initialization'\n",
    "#         self.rmn = rmn\n",
    "#         self.df = df.reset_index(drop=True)\n",
    "#         self.topic_preds = None\n",
    "#         self.y_preds = None\n",
    "        \n",
    "#         self.topic_nns = None\n",
    "#         self.topic_coherence = None\n",
    "        \n",
    "        \n",
    "#     @property\n",
    "#     def index(self):\n",
    "#         return self.df.index\n",
    "        \n",
    "    \n",
    "#     def predict_topics(self, use_generator=True):\n",
    "#         \"\"\"Computes the topic predictions for all observations\n",
    "#         \"\"\"\n",
    "#         self.topic_preds = self.rmn.predict_topics(self.df, use_generator)\n",
    "        \n",
    "    \n",
    "#     def predict_y(self, use_generator=True):\n",
    "#         \"\"\"Computes the sentence vector predictions for all observations\n",
    "#         \"\"\"\n",
    "#         self.y_preds = self.rmn.predict_y(self.df, use_generator)\n",
    "        \n",
    "        \n",
    "#     def sample_indices(self, indices, n):\n",
    "#         \"\"\"Returns a SRR of the indices provided\n",
    "#         \"\"\"\n",
    "#         return np.random.choice(indices, n, replace=True)\n",
    "\n",
    "    \n",
    "#     def bool_subset(self, col, value):\n",
    "#         \"\"\"\n",
    "#         Returns a boolean vector for each observation in the\n",
    "#         dataframe indicating whether it meets the col == value condition\n",
    "#         \"\"\"\n",
    "#         assert col in self.df.columns\n",
    "#         return self.df[col] == value\n",
    "    \n",
    "    \n",
    "#     def bool_index(self, conditions):\n",
    "#         \"\"\"\n",
    "#         Returns a boolean vector for each observation in the\n",
    "#         dataframe indicating whether it meets all conditions\n",
    "        \n",
    "#         Args:\n",
    "#         - conditions: (dict) dictionary of conditions\n",
    "        \n",
    "#         Returns: \n",
    "#         - pandas series of booleans indicating where all \n",
    "#           of the conditions hold\n",
    "#         \"\"\"\n",
    "#         # initialize bool index\n",
    "#         bool_index = (pd.Series(True)\n",
    "#                       .repeat(self.index.shape[0])\n",
    "#                       .reset_index(drop=True))\n",
    "        \n",
    "#         for col, val in conditions.items():\n",
    "#             bool_index = bool_index & self.bool_subset(col, val)\n",
    "            \n",
    "#         return bool_index\n",
    "    \n",
    "    \n",
    "#     def cond_index(self, conditions):\n",
    "#         \"\"\"Returns indices of records meeting the conditions\n",
    "#         \"\"\"\n",
    "#         return self.index[self.bool_index(conditions)]\n",
    "    \n",
    "    \n",
    "#     def n_records(self, conditions={}):\n",
    "#         \"\"\"Returns the number of records meetings the conditions\n",
    "#         \"\"\"\n",
    "#         return len(self.cond_index(conditions))\n",
    "    \n",
    "    \n",
    "#     def n_nan_preds(self, conditions={}):\n",
    "#         \"\"\"Returns the number of records which have nan predictions\n",
    "#         \"\"\"\n",
    "#         cond_index = self.cond_index(conditions)\n",
    "#         return np.isnan(self.topic_preds[cond_index].sum(axis=-1)).sum().item()\n",
    "    \n",
    "    \n",
    "#     def compute_JS(self, index_A, index_B, base=2):\n",
    "#         \"\"\"\n",
    "#         Computes the mean pair-wise JS divergence and associated CI\n",
    "#         between indices in index_A and indices in index_B\n",
    "#         \"\"\"\n",
    "#         p_A = self.topic_preds[index_A]\n",
    "#         p_B = self.topic_preds[index_B]\n",
    "#         js_list = [jensenshannon(p, q, base) for p, q in zip(p_A, p_B)]\n",
    "        \n",
    "#         return mean_CI(js_list)\n",
    "        \n",
    "        \n",
    "#     def compute_HH(self, index):\n",
    "#         \"\"\"\n",
    "#         Computes the mean HH index and associated CI between\n",
    "#         indices in index_A and indices in index_B\n",
    "#         \"\"\"\n",
    "#         p = self.topic_preds[index]\n",
    "#         hh_list = [hh_index(q) for q in p]\n",
    "        \n",
    "#         return mean_CI(hh_list)\n",
    "    \n",
    "    \n",
    "#     def topic_use_RD_js(self, conditions={}):\n",
    "#         \"\"\"Returns the JS divergence of the R and D topic use distributions\n",
    "#         \"\"\"\n",
    "#         R_topic_use = self.topic_use({**conditions, **{PARTY: R}})\n",
    "#         D_topic_use = self.topic_use({**conditions, **{PARTY: D}})\n",
    "        \n",
    "#         return jensenshannon(R_topic_use, D_topic_use)\n",
    "    \n",
    "    \n",
    "#     def topic_use_hh(self, conditions={}):\n",
    "#         \"\"\"Returns the HH-index of the RD topic use distributions\n",
    "#         \"\"\"\n",
    "#         return hh_index(self.topic_use(conditions))\n",
    "    \n",
    "    \n",
    "#     def inter_party_js(self, conditions, n):\n",
    "#         \"\"\"\n",
    "#         Returns the estimated inter party JS divergence and a CI.\n",
    "        \n",
    "#         Computes the inter party JS divergence between \n",
    "#         Republicans and Democrats on a given subject\n",
    "        \n",
    "#         Args:\n",
    "#         - subject: (str) subject to examine\n",
    "#         - n      : (int) sample size\n",
    "        \n",
    "#         Returns: a numpy array of length 3, where\n",
    "#         - 0 is the mean divergence point estimate:\n",
    "#         - 1 is the lower bound of a 95% CI\n",
    "#         - 2 is the upper bound of a 95% CI\n",
    "#         \"\"\"\n",
    "#         # ensure that the topic predictions exist\n",
    "#         if self.topic_preds is None:\n",
    "#             self.predict_topics()\n",
    "        \n",
    "#         # find R and D indicies on the subject\n",
    "#         index_R = self.cond_index({**conditions, **{PARTY: R}})\n",
    "#         index_D = self.cond_index({**conditions, **{PARTY: D}})\n",
    "        \n",
    "#         # return None if indices are insufficient\n",
    "#         if len(index_R)==0 or len(index_D)==0:\n",
    "#             return None\n",
    "        \n",
    "#         # sample \n",
    "#         samp_index_R = self.sample_indices(index_R, n)\n",
    "#         samp_index_D = self.sample_indices(index_D, n)\n",
    "    \n",
    "#         return self.compute_JS(samp_index_R, samp_index_D)\n",
    "    \n",
    "    \n",
    "#     def group_js(self, conditions, n):\n",
    "#         \"\"\"\n",
    "#         Returns the estimated mean JS divergence and a CI\n",
    "        \n",
    "#         Estimates the average JS divergence between any two documents of\n",
    "#         a group defined by the conditions. A document by speaker _i_ is \n",
    "#         never compared to another document by speaker _i_.\n",
    "        \n",
    "        \n",
    "#         Args:\n",
    "#         - conditions: (dict) dictionary of conditions\n",
    "#         - n         : (int) sample size\n",
    "        \n",
    "#         Returns: a numpy array of length 3, where index...\n",
    "#         - 0 is the mean divergence point estimate:\n",
    "#         - 1 is the lower bound of a 95% CI\n",
    "#         - 2 is the upper bound of a 95% CI\n",
    "#         \"\"\"\n",
    "#         # ensure that the topic predictions exist\n",
    "#         if self.topic_preds is None:\n",
    "#             self.predict_topics()\n",
    "        \n",
    "#         # find indicies of party on the subject\n",
    "#         cond_index = self.cond_index(conditions)\n",
    "        \n",
    "#         # Return none if there are fewer than 2 speakers\n",
    "#         if self.df.loc[cond_index][SPEAK].nunique() < 2:\n",
    "#             return None\n",
    "        \n",
    "#         # Sample index pairs\n",
    "#         index_AB = []\n",
    "#         while len(index_AB) < n:\n",
    "#             a_b = self.sample_indices(cond_index, n=2)\n",
    "#             # include samples whose speakers are different\n",
    "#             if self.df.loc[a_b][SPEAK].nunique() == 2:\n",
    "#                 index_AB.append(a_b)\n",
    "        \n",
    "#         index_AB = np.asarray(index_AB)\n",
    "#         assert index_AB.shape == (n, 2)\n",
    "        \n",
    "#         # get indices for each group\n",
    "#         index_A, index_B = index_AB[:,0], index_AB[:,1]\n",
    "        \n",
    "#         return self.compute_JS(index_A, index_B)\n",
    "    \n",
    "    \n",
    "#     def group_hh(self, conditions={}, n=None):\n",
    "#         \"\"\"\n",
    "#         Returns the estimated mean HH index and a CI\n",
    "        \n",
    "#         Estimates the average Herfindahl–Hirschman Index \n",
    "#         of all records meetings the conditons.\n",
    "        \n",
    "#         Args:\n",
    "#         - subject: (str) subject to examine\n",
    "#         - party  : (str) party of interest\n",
    "#         - n      : (int) sample size\n",
    "        \n",
    "#         Returns: a numpy array of length 3, where index...\n",
    "#         - 0 is the mean index point estimate:\n",
    "#         - 1 is the lower bound of a 95% CI\n",
    "#         - 2 is the upper bound of a 95% CI\n",
    "#         \"\"\"\n",
    "#         # ensure that the topic predictions exist\n",
    "#         if self.topic_preds is None:\n",
    "#             self.predict_topics()\n",
    "        \n",
    "#         # indicies meeting the conditions\n",
    "#         cond_index = self.cond_index(conditions)\n",
    "        \n",
    "#         # return None if indices are insufficient\n",
    "#         if len(cond_index)==0:\n",
    "#             return None\n",
    "        \n",
    "#         if n is None:\n",
    "#             return self.compute_HH(cond_index)\n",
    "#         else:\n",
    "#             samp_index = self.sample_indices(cond_index, n)\n",
    "#             return self.compute_HH(samp_index)\n",
    "        \n",
    "        \n",
    "#     def analyze_subset(self, conditions, n):\n",
    "#         \"\"\"\n",
    "#         Returns a dictionary of analysis metrics for the subset \n",
    "#         of records defined by the conditions.\n",
    "        \n",
    "#         Note: It is recommended conditions be on subject\n",
    "        \n",
    "#         Args:\n",
    "#         - conditions: (dict) dictionary of conditions\n",
    "#         - n         : (int) sample size for estimation of metrics\n",
    "        \n",
    "#         for the entire dataset and for each subject the following are computed:\n",
    "#         - n_records, n_records_R\n",
    "#         - n_records_D\n",
    "#         - js\n",
    "#         - js_R\n",
    "#         - js_D\n",
    "#         - js_RD\n",
    "#         - hh\n",
    "#         - hh_R\n",
    "#         - hh_D\n",
    "        \n",
    "#         Returns: a dictionary of metrics\n",
    "#         \"\"\"\n",
    "#         # R and D added conditions\n",
    "#         conditions_R = {**conditions, **{PARTY: R}}\n",
    "#         conditions_D = {**conditions, **{PARTY: D}}\n",
    "        \n",
    "#         # annotation tags\n",
    "#         _R = '_' + R\n",
    "#         _D = '_' + D\n",
    "#         _RD = _R + D\n",
    "#         _TP = '_' + TP\n",
    "        \n",
    "#         metrics = {\n",
    "#             # n records in data\n",
    "#             N_REC:    self.n_records(conditions),\n",
    "#             N_REC+_R: self.n_records(conditions_R),\n",
    "#             N_REC+_D: self.n_records(conditions_D),\n",
    "#             N_NAN+_R: self.n_nan_preds(conditions_R),\n",
    "#             N_NAN+_D: self.n_nan_preds(conditions_D),\n",
    "#             # JS divergence data\n",
    "#             JS:     self.group_js(conditions, n),\n",
    "#             JS+_R:  self.group_js(conditions_R, n),\n",
    "#             JS+_D:  self.group_js(conditions_D, n),\n",
    "#             JS+_RD: self.inter_party_js(conditions, n),\n",
    "#             # HH index data\n",
    "#             HH:    self.group_hh(conditions, n),\n",
    "#             HH+_R: self.group_hh(conditions_R, n),\n",
    "#             HH+_D: self.group_hh(conditions_D, n),\n",
    "#             # Topic Use Metrics\n",
    "#             HH+_TP:    self.topic_use_hh(conditions),\n",
    "#             HH+_TP+_R: self.topic_use_hh(conditions_R),\n",
    "#             HH+_TP+_D: self.topic_use_hh(conditions_D),\n",
    "#             JS+_TP:    self.topic_use_RD_js(conditions),\n",
    "#         }\n",
    "        \n",
    "#         return metrics\n",
    "    \n",
    "        \n",
    "#     def analyze(self, subjects, n):\n",
    "#         \"\"\"\n",
    "#         Returns a dictionary of analysis metrics at the subject level\n",
    "#         and at the session level (assuming self.df is the data of a\n",
    "#         single session).\n",
    "        \n",
    "#         Args:\n",
    "#         - subjects: (array-like) list of subjects\n",
    "#         - n       : (int) sample size for estimation of metrics\n",
    "        \n",
    "#         Returns: a dictionary of metrics\n",
    "#         \"\"\"\n",
    "#         # analyze entire session dataset\n",
    "#         dataset_metrics = self.analyze_subset(conditions={}, n=n)\n",
    "        \n",
    "#         # analyze by subject\n",
    "#         subject_metrics = {}\n",
    "#         for s in subjects:\n",
    "#             subject_metrics[s] = self.analyze_subset({SUB: s}, n)\n",
    "        \n",
    "#         metrics = {'dataset' : dataset_metrics, \n",
    "#                    'subjects': subject_metrics}\n",
    "        \n",
    "#         return metrics\n",
    "    \n",
    "    \n",
    "#     def shannon_entropy(self, conditions={}):\n",
    "#         \"\"\"Returns the Shannon Entropy of topic predictions meeting conditions\n",
    "#         \"\"\"\n",
    "#         # ensure that the topic predictions exist\n",
    "#         if self.topic_preds is None:\n",
    "#             self.predict_topics()\n",
    "        \n",
    "#         return shannon_entropy(self.topic_preds[self.cond_index(conditions)])\n",
    "    \n",
    "    \n",
    "#     def mean_entropy(self, conditions={}):\n",
    "#         \"\"\"Returns the mean entropy of topic predictions meeting condiditons\n",
    "#         \"\"\"\n",
    "#         return np.nanmean(self.shannon_entropy(conditions))\n",
    "        \n",
    "    \n",
    "#     def first_topic_counts(self, conditions={}):\n",
    "#         \"\"\"\n",
    "#         Returns a leaderboard of topics and how many times they \n",
    "#         are the primary topic associated with a document.\n",
    "#         \"\"\"\n",
    "#         if self.topic_preds is None:\n",
    "#             self.predict_topics()\n",
    "           \n",
    "#         cond_index = self.cond_index(conditions)\n",
    "#         topic_counts = pd.Series(np.argmax(self.topic_preds[cond_index], axis=-1)).value_counts()\n",
    "        \n",
    "#         return topic_counts\n",
    "    \n",
    "    \n",
    "#     def topic_use(self, conditions={}):\n",
    "#         \"\"\"\n",
    "#         Returns a leaderboard of topics based on the percentage of \n",
    "#         total weight given to them in all of the documents\n",
    "#         \"\"\"\n",
    "#         cond_index = self.cond_index(conditions)\n",
    "#         topic_sums = pd.Series(np.nansum(self.topic_preds[cond_index], axis=0))\n",
    "#         topic_use = topic_sums.sort_values(ascending=False) / topic_sums.sum()\n",
    "        \n",
    "#         return topic_use\n",
    "    \n",
    "    \n",
    "#     def primary_topics(self, conditions={}, k=5):\n",
    "#         \"\"\"Returns top k most prominent topics for documents\n",
    "#         \"\"\"\n",
    "#         cond_index = self.cond_index(conditions)\n",
    "#         primary_topics = np.flip(np.argsort(self.topic_preds[cond_index]), axis=-1)[:,:k]\n",
    "        \n",
    "#         return primary_topics\n",
    "    \n",
    "    \n",
    "#     def find_topic_nns(self):\n",
    "#         \"\"\"Finds the nearest neighbors of the rmn's topics\n",
    "#         \"\"\"\n",
    "#         self.topic_nns = np.array(rmn.inspect_topics())\n",
    "      \n",
    "    \n",
    "#     def find_topic_coherence(self, k=5):\n",
    "#         \"\"\"Updates the topic coherence scores of the \n",
    "#         \"\"\"\n",
    "#         W = self.rmn.infer_embedding_matrix\n",
    "#         word_index = self.rmn.infer_tokenizer_dict['word_index']\n",
    "#         coherence_scores = [word_coherence(np.array(t)[:5,0], word_index, W) \n",
    "#                             for t in self.topic_nns]\n",
    "        \n",
    "#         self.topic_coherence = pd.Series(coherence_scores).sort_values(ascending=False)\n",
    "        \n",
    "    \n",
    "#     @property\n",
    "#     def topic_nn_sim(self):\n",
    "#         return pd.Series(self.topic_nns[:,0,1]).sort_values(ascending=False)\n",
    "        "
   ]
  },
  {
   "cell_type": "code",
   "execution_count": 87,
   "metadata": {},
   "outputs": [
    {
     "data": {
      "text/html": [
       "<div>\n",
       "<style scoped>\n",
       "    .dataframe tbody tr th:only-of-type {\n",
       "        vertical-align: middle;\n",
       "    }\n",
       "\n",
       "    .dataframe tbody tr th {\n",
       "        vertical-align: top;\n",
       "    }\n",
       "\n",
       "    .dataframe thead th {\n",
       "        text-align: right;\n",
       "    }\n",
       "</style>\n",
       "<table border=\"1\" class=\"dataframe\">\n",
       "  <thead>\n",
       "    <tr style=\"text-align: right;\">\n",
       "      <th></th>\n",
       "      <th>speakerid</th>\n",
       "      <th>lastname</th>\n",
       "      <th>firstname</th>\n",
       "      <th>chamber</th>\n",
       "      <th>state</th>\n",
       "      <th>gender</th>\n",
       "      <th>party</th>\n",
       "      <th>document</th>\n",
       "      <th>subject</th>\n",
       "      <th>session</th>\n",
       "    </tr>\n",
       "  </thead>\n",
       "  <tbody>\n",
       "    <tr>\n",
       "      <td>24122</td>\n",
       "      <td>66079650</td>\n",
       "      <td>GLYNN</td>\n",
       "      <td>JAMES</td>\n",
       "      <td>H</td>\n",
       "      <td>CT</td>\n",
       "      <td>M</td>\n",
       "      <td>R</td>\n",
       "      <td>similar cases occur among members of the house...</td>\n",
       "      <td>foreign</td>\n",
       "      <td>66</td>\n",
       "    </tr>\n",
       "    <tr>\n",
       "      <td>12310</td>\n",
       "      <td>66075430</td>\n",
       "      <td>CAMPBELL</td>\n",
       "      <td>PHILIP</td>\n",
       "      <td>H</td>\n",
       "      <td>KS</td>\n",
       "      <td>M</td>\n",
       "      <td>R</td>\n",
       "      <td>delay he says we should have more information ...</td>\n",
       "      <td>economy</td>\n",
       "      <td>66</td>\n",
       "    </tr>\n",
       "    <tr>\n",
       "      <td>24221</td>\n",
       "      <td>66075840</td>\n",
       "      <td>HUSTED</td>\n",
       "      <td>JAMES</td>\n",
       "      <td>H</td>\n",
       "      <td>NY</td>\n",
       "      <td>M</td>\n",
       "      <td>R</td>\n",
       "      <td>check up what we have done i am sure the would...</td>\n",
       "      <td>foreign</td>\n",
       "      <td>66</td>\n",
       "    </tr>\n",
       "    <tr>\n",
       "      <td>12283</td>\n",
       "      <td>66084501</td>\n",
       "      <td>KING</td>\n",
       "      <td>WILLIAM</td>\n",
       "      <td>S</td>\n",
       "      <td>UT</td>\n",
       "      <td>M</td>\n",
       "      <td>D</td>\n",
       "      <td>over the public highways it is estimated that ...</td>\n",
       "      <td>economy</td>\n",
       "      <td>66</td>\n",
       "    </tr>\n",
       "    <tr>\n",
       "      <td>18128</td>\n",
       "      <td>66078171</td>\n",
       "      <td>SIMMONS</td>\n",
       "      <td>FURNIFOLD</td>\n",
       "      <td>S</td>\n",
       "      <td>NC</td>\n",
       "      <td>M</td>\n",
       "      <td>D</td>\n",
       "      <td>authorized by the federal reserve board i thin...</td>\n",
       "      <td>foreign</td>\n",
       "      <td>66</td>\n",
       "    </tr>\n",
       "    <tr>\n",
       "      <td>...</td>\n",
       "      <td>...</td>\n",
       "      <td>...</td>\n",
       "      <td>...</td>\n",
       "      <td>...</td>\n",
       "      <td>...</td>\n",
       "      <td>...</td>\n",
       "      <td>...</td>\n",
       "      <td>...</td>\n",
       "      <td>...</td>\n",
       "      <td>...</td>\n",
       "    </tr>\n",
       "    <tr>\n",
       "      <td>23277</td>\n",
       "      <td>66076130</td>\n",
       "      <td>MANN</td>\n",
       "      <td>JAMES</td>\n",
       "      <td>H</td>\n",
       "      <td>IL</td>\n",
       "      <td>M</td>\n",
       "      <td>R</td>\n",
       "      <td>president i have discussed this budget questio...</td>\n",
       "      <td>foreign</td>\n",
       "      <td>66</td>\n",
       "    </tr>\n",
       "    <tr>\n",
       "      <td>13170</td>\n",
       "      <td>66074100</td>\n",
       "      <td>CALDWELL</td>\n",
       "      <td>CHARLES</td>\n",
       "      <td>H</td>\n",
       "      <td>NY</td>\n",
       "      <td>M</td>\n",
       "      <td>D</td>\n",
       "      <td>escape the intolerable conditions of their own...</td>\n",
       "      <td>education</td>\n",
       "      <td>66</td>\n",
       "    </tr>\n",
       "    <tr>\n",
       "      <td>5381</td>\n",
       "      <td>66078500</td>\n",
       "      <td>BLACK</td>\n",
       "      <td>EUGENE</td>\n",
       "      <td>H</td>\n",
       "      <td>TX</td>\n",
       "      <td>M</td>\n",
       "      <td>D</td>\n",
       "      <td>amendment i read that the act approved october...</td>\n",
       "      <td>defense</td>\n",
       "      <td>66</td>\n",
       "    </tr>\n",
       "    <tr>\n",
       "      <td>34727</td>\n",
       "      <td>66073411</td>\n",
       "      <td>MCCUMBER</td>\n",
       "      <td>PORTER</td>\n",
       "      <td>S</td>\n",
       "      <td>ND</td>\n",
       "      <td>M</td>\n",
       "      <td>R</td>\n",
       "      <td>smaller in area than the state of indianaexerc...</td>\n",
       "      <td>trade</td>\n",
       "      <td>66</td>\n",
       "    </tr>\n",
       "    <tr>\n",
       "      <td>7561</td>\n",
       "      <td>66082420</td>\n",
       "      <td>WOOD</td>\n",
       "      <td>WILLIAM</td>\n",
       "      <td>H</td>\n",
       "      <td>IN</td>\n",
       "      <td>M</td>\n",
       "      <td>R</td>\n",
       "      <td>combinations and corporations and operating un...</td>\n",
       "      <td>defense</td>\n",
       "      <td>66</td>\n",
       "    </tr>\n",
       "  </tbody>\n",
       "</table>\n",
       "<p>2347 rows × 10 columns</p>\n",
       "</div>"
      ],
      "text/plain": [
       "      speakerid  lastname  firstname chamber state gender party  \\\n",
       "24122  66079650     GLYNN      JAMES       H    CT      M     R   \n",
       "12310  66075430  CAMPBELL     PHILIP       H    KS      M     R   \n",
       "24221  66075840    HUSTED      JAMES       H    NY      M     R   \n",
       "12283  66084501      KING    WILLIAM       S    UT      M     D   \n",
       "18128  66078171   SIMMONS  FURNIFOLD       S    NC      M     D   \n",
       "...         ...       ...        ...     ...   ...    ...   ...   \n",
       "23277  66076130      MANN      JAMES       H    IL      M     R   \n",
       "13170  66074100  CALDWELL    CHARLES       H    NY      M     D   \n",
       "5381   66078500     BLACK     EUGENE       H    TX      M     D   \n",
       "34727  66073411  MCCUMBER     PORTER       S    ND      M     R   \n",
       "7561   66082420      WOOD    WILLIAM       H    IN      M     R   \n",
       "\n",
       "                                                document    subject session  \n",
       "24122  similar cases occur among members of the house...    foreign      66  \n",
       "12310  delay he says we should have more information ...    economy      66  \n",
       "24221  check up what we have done i am sure the would...    foreign      66  \n",
       "12283  over the public highways it is estimated that ...    economy      66  \n",
       "18128  authorized by the federal reserve board i thin...    foreign      66  \n",
       "...                                                  ...        ...     ...  \n",
       "23277  president i have discussed this budget questio...    foreign      66  \n",
       "13170  escape the intolerable conditions of their own...  education      66  \n",
       "5381   amendment i read that the act approved october...    defense      66  \n",
       "34727  smaller in area than the state of indianaexerc...      trade      66  \n",
       "7561   combinations and corporations and operating un...    defense      66  \n",
       "\n",
       "[2347 rows x 10 columns]"
      ]
     },
     "execution_count": 87,
     "metadata": {},
     "output_type": "execute_result"
    }
   ],
   "source": [
    "data_df"
   ]
  },
  {
   "cell_type": "code",
   "execution_count": 12,
   "metadata": {},
   "outputs": [],
   "source": [
    "analyzer = RMN_Analyzer(rmn, data_df)"
   ]
  },
  {
   "cell_type": "code",
   "execution_count": 13,
   "metadata": {},
   "outputs": [],
   "source": [
    "analyzer.predict_topics()"
   ]
  },
  {
   "cell_type": "code",
   "execution_count": 37,
   "metadata": {},
   "outputs": [],
   "source": [
    "# analyzer.find_topic_nns()\n",
    "# nns = analyzer.topic_nns\n",
    "# analyzer.topic_nns = np.array(nns)"
   ]
  },
  {
   "cell_type": "code",
   "execution_count": 38,
   "metadata": {},
   "outputs": [],
   "source": [
    "analyzer.find_topic_coherence()"
   ]
  },
  {
   "cell_type": "code",
   "execution_count": 39,
   "metadata": {},
   "outputs": [
    {
     "data": {
      "text/plain": [
       "0.6701718750000002"
      ]
     },
     "execution_count": 39,
     "metadata": {},
     "output_type": "execute_result"
    }
   ],
   "source": [
    "np.mean(analyzer.topic_coherence)"
   ]
  },
  {
   "cell_type": "code",
   "execution_count": 40,
   "metadata": {},
   "outputs": [
    {
     "data": {
      "text/plain": [
       "0.08869908585792331"
      ]
     },
     "execution_count": 40,
     "metadata": {},
     "output_type": "execute_result"
    }
   ],
   "source": [
    "np.std(analyzer.topic_coherence)"
   ]
  },
  {
   "cell_type": "code",
   "execution_count": 41,
   "metadata": {},
   "outputs": [
    {
     "data": {
      "text/plain": [
       "34    0.542188\n",
       "8     0.512109\n",
       "5     0.484766\n",
       "24    0.478906\n",
       "2     0.474219\n",
       "dtype: float64"
      ]
     },
     "execution_count": 41,
     "metadata": {},
     "output_type": "execute_result"
    }
   ],
   "source": [
    "analyzer.topic_coherence[45:50]"
   ]
  },
  {
   "cell_type": "code",
   "execution_count": 42,
   "metadata": {},
   "outputs": [],
   "source": [
    "#analyzer.topic_nns[analyzer.topic_coherence.index[:5]][:,:,0]"
   ]
  },
  {
   "cell_type": "code",
   "execution_count": 43,
   "metadata": {},
   "outputs": [
    {
     "data": {
      "text/plain": [
       "array([['violate', 'applicable', 'precedent', 'violation', 'applies',\n",
       "        'limitation', 'laws', 'regard', 'unfair', 'certain'],\n",
       "       ['e', 'page', 'k', 'w', 'text', 'n', 'article', 'letter', 'note',\n",
       "        'h'],\n",
       "       ['drink', 'amount', 'liquid', 'amounts', 'soda', 'concoction',\n",
       "        'excess', 'ingredients', 'ingredient', 'essence'],\n",
       "       ['exacerbated', 'unnecessarily', 'inevitable', 'embarrassing',\n",
       "        'embarrassment', 'unfortunate', 'fear', 'unnecessary', 'vicious',\n",
       "        'intolerable'],\n",
       "       ['territories', 'lands', 'granted', 'abolished', 'legally',\n",
       "        'privileges', 'permitted', 'governed', 'territory', 'permit']],\n",
       "      dtype='<U14')"
      ]
     },
     "execution_count": 43,
     "metadata": {},
     "output_type": "execute_result"
    }
   ],
   "source": [
    "analyzer.topic_nns[analyzer.topic_coherence.index[45:50]][:,:,0]"
   ]
  },
  {
   "cell_type": "code",
   "execution_count": 44,
   "metadata": {},
   "outputs": [
    {
     "data": {
      "text/plain": [
       "3     0.928\n",
       "41    0.909\n",
       "37    0.904\n",
       "21    0.895\n",
       "47    0.892\n",
       "11    0.883\n",
       "43    0.882\n",
       "18    0.879\n",
       "31    0.878\n",
       "49    0.878\n",
       "19    0.877\n",
       "40    0.864\n",
       "16    0.861\n",
       "20    0.857\n",
       "17    0.857\n",
       "6     0.851\n",
       "42    0.851\n",
       "22    0.849\n",
       "48    0.849\n",
       "45    0.839\n",
       "27    0.829\n",
       "23    0.826\n",
       "35    0.823\n",
       "4     0.822\n",
       "32    0.819\n",
       "26    0.815\n",
       "44    0.813\n",
       "30    0.812\n",
       "39    0.811\n",
       "7      0.81\n",
       "29    0.807\n",
       "9     0.803\n",
       "46    0.782\n",
       "25    0.765\n",
       "15    0.764\n",
       "10    0.764\n",
       "12    0.759\n",
       "33    0.751\n",
       "36    0.749\n",
       "38    0.743\n",
       "13    0.727\n",
       "8     0.718\n",
       "34    0.711\n",
       "24    0.694\n",
       "0     0.686\n",
       "14    0.684\n",
       "2     0.664\n",
       "1     0.633\n",
       "28    0.609\n",
       "5     0.598\n",
       "dtype: object"
      ]
     },
     "execution_count": 44,
     "metadata": {},
     "output_type": "execute_result"
    }
   ],
   "source": [
    "analyzer.topic_nn_sim"
   ]
  },
  {
   "cell_type": "code",
   "execution_count": 45,
   "metadata": {},
   "outputs": [
    {
     "name": "stdout",
     "output_type": "stream",
     "text": [
      "10/10 [==============================] - 0s 41ms/step\n"
     ]
    }
   ],
   "source": [
    "analyzer.predict_topics()"
   ]
  },
  {
   "cell_type": "code",
   "execution_count": 46,
   "metadata": {},
   "outputs": [
    {
     "data": {
      "image/png": "[encoded data removed]",
      "text/plain": [
       "<Figure size 432x288 with 1 Axes>"
      ]
     },
     "metadata": {
      "needs_background": "light"
     },
     "output_type": "display_data"
    }
   ],
   "source": [
    "plt.hist(analyzer.topic_coherence)\n",
    "plt.show()# topic_coherences"
   ]
  },
  {
   "cell_type": "code",
   "execution_count": 47,
   "metadata": {},
   "outputs": [
    {
     "data": {
      "image/png": "[encoded data removed]",
      "text/plain": [
       "<Figure size 432x288 with 1 Axes>"
      ]
     },
     "metadata": {
      "needs_background": "light"
     },
     "output_type": "display_data"
    }
   ],
   "source": [
    "\n",
    "plt.scatter(analyzer.topic_nn_sim.sort_index(), analyzer.topic_coherence.sort_index())\n",
    "plt.title(\"Nearest Neighbor Smilarity and Topic Coherence\")\n",
    "plt.show()"
   ]
  },
  {
   "cell_type": "code",
   "execution_count": 52,
   "metadata": {},
   "outputs": [
    {
     "data": {
      "image/png": "[encoded data removed]",
      "text/plain": [
       "<Figure size 432x288 with 1 Axes>"
      ]
     },
     "metadata": {
      "needs_background": "light"
     },
     "output_type": "display_data"
    }
   ],
   "source": [
    "plt.scatter(analyzer.topic_use().sort_index(), analyzer.topic_coherence.sort_index())\n",
    "plt.show()"
   ]
  },
  {
   "cell_type": "code",
   "execution_count": 49,
   "metadata": {},
   "outputs": [],
   "source": [
    "from scipy.stats import linregress"
   ]
  },
  {
   "cell_type": "code",
   "execution_count": 50,
   "metadata": {},
   "outputs": [
    {
     "data": {
      "text/plain": [
       "LinregressResult(slope=-0.04104871924468703, intercept=0.047509696695525655, rvalue=-0.4775383655243361, pvalue=0.00045351245824553043, stderr=0.010901024347022479)"
      ]
     },
     "execution_count": 50,
     "metadata": {},
     "output_type": "execute_result"
    }
   ],
   "source": [
    "linregress(analyzer.topic_coherence.sort_index(), analyzer.topic_use().sort_index())"
   ]
  },
  {
   "cell_type": "code",
   "execution_count": 284,
   "metadata": {},
   "outputs": [
    {
     "data": {
      "text/plain": [
       "array([[['cannot', '0.684'],\n",
       "        ['resolved', '0.663'],\n",
       "        ['decide', '0.662'],\n",
       "        ['determined', '0.658'],\n",
       "        ['proceed', '0.653'],\n",
       "        ['whether', '0.651'],\n",
       "        ['confirm', '0.651'],\n",
       "        ['definitively', '0.647'],\n",
       "        ['determine', '0.645'],\n",
       "        ['convinced', '0.637']],\n",
       "\n",
       "       [['drink', '0.598'],\n",
       "        ['amount', '0.573'],\n",
       "        ['liquid', '0.571'],\n",
       "        ['amounts', '0.566'],\n",
       "        ['soda', '0.566'],\n",
       "        ['concoction', '0.566'],\n",
       "        ['excess', '0.566'],\n",
       "        ['ingredients', '0.566'],\n",
       "        ['ingredient', '0.565'],\n",
       "        ['essence', '0.557']],\n",
       "\n",
       "       [['navy', '0.883'],\n",
       "        ['naval', '0.834'],\n",
       "        ['command', '0.818'],\n",
       "        ['fleet', '0.806'],\n",
       "        ['corps', '0.802'],\n",
       "        ['squadron', '0.797'],\n",
       "        ['battalion', '0.773'],\n",
       "        ['commanded', '0.773'],\n",
       "        ['marines', '0.77'],\n",
       "        ['infantry', '0.765']],\n",
       "\n",
       "       [['necessary', '0.686'],\n",
       "        ['adequate', '0.677'],\n",
       "        ['appropriate', '0.666'],\n",
       "        ['useful', '0.665'],\n",
       "        ['properly', '0.659'],\n",
       "        ['efficiently', '0.647'],\n",
       "        ['utilize', '0.644'],\n",
       "        ['tasks', '0.63'],\n",
       "        ['providing', '0.628'],\n",
       "        ['provide', '0.627']],\n",
       "\n",
       "       [['underneath', '0.764'],\n",
       "        ['door', '0.758'],\n",
       "        ['inside', '0.756'],\n",
       "        ['onto', '0.743'],\n",
       "        ['hand', '0.743'],\n",
       "        ['window', '0.742'],\n",
       "        ['front', '0.723'],\n",
       "        ['room', '0.718'],\n",
       "        ['plastic', '0.705'],\n",
       "        ['floor', '0.705']],\n",
       "\n",
       "       [['salary', '0.839'],\n",
       "        ['payment', '0.812'],\n",
       "        ['pay', '0.798'],\n",
       "        ['paid', '0.777'],\n",
       "        ['fee', '0.775'],\n",
       "        ['fees', '0.769'],\n",
       "        ['salaries', '0.766'],\n",
       "        ['payments', '0.762'],\n",
       "        ['compensation', '0.751'],\n",
       "        ['minimum', '0.737']],\n",
       "\n",
       "       [['meat', '0.813'],\n",
       "        ['corn', '0.801'],\n",
       "        ['grain', '0.799'],\n",
       "        ['imported', '0.794'],\n",
       "        ['products', '0.78'],\n",
       "        ['vegetables', '0.769'],\n",
       "        ['sugar', '0.763'],\n",
       "        ['dairy', '0.762'],\n",
       "        ['milk', '0.755'],\n",
       "        ['food', '0.753']],\n",
       "\n",
       "       [['e', '0.718'],\n",
       "        ['page', '0.707'],\n",
       "        ['k', '0.691'],\n",
       "        ['w', '0.679'],\n",
       "        ['text', '0.676'],\n",
       "        ['n', '0.676'],\n",
       "        ['article', '0.671'],\n",
       "        ['letter', '0.656'],\n",
       "        ['note', '0.656'],\n",
       "        ['h', '0.655']],\n",
       "\n",
       "       [['day', '0.633'],\n",
       "        ['end', '0.608'],\n",
       "        ['next', '0.592'],\n",
       "        ['strike', '0.576'],\n",
       "        ['ends', '0.574'],\n",
       "        ['week', '0.572'],\n",
       "        ['planned', '0.562'],\n",
       "        ['off', '0.559'],\n",
       "        ['on', '0.556'],\n",
       "        ['call', '0.553']],\n",
       "\n",
       "       [['violate', '0.711'],\n",
       "        ['applicable', '0.711'],\n",
       "        ['precedent', '0.71'],\n",
       "        ['violation', '0.709'],\n",
       "        ['applies', '0.704'],\n",
       "        ['limitation', '0.701'],\n",
       "        ['laws', '0.693'],\n",
       "        ['regard', '0.689'],\n",
       "        ['unfair', '0.686'],\n",
       "        ['certain', '0.685']]], dtype='<U14')"
      ]
     },
     "execution_count": 284,
     "metadata": {},
     "output_type": "execute_result"
    }
   ],
   "source": [
    "analyzer.topic_nns[analyzer.topic_use().index[:10]]"
   ]
  },
  {
   "cell_type": "code",
   "execution_count": 286,
   "metadata": {},
   "outputs": [
    {
     "data": {
      "text/plain": [
       "0.6701718750000002"
      ]
     },
     "execution_count": 286,
     "metadata": {},
     "output_type": "execute_result"
    }
   ],
   "source": [
    "analyzer.topic_coherence.mean()"
   ]
  },
  {
   "cell_type": "code",
   "execution_count": 15,
   "metadata": {},
   "outputs": [],
   "source": [
    "W = analyzer.rmn.infer_embedding_matrix\n",
    "# random_coherences = [random_coherence(5, W) for _ in range(1000)]"
   ]
  },
  {
   "cell_type": "code",
   "execution_count": null,
   "metadata": {},
   "outputs": [],
   "source": []
  },
  {
   "cell_type": "code",
   "execution_count": 20,
   "metadata": {},
   "outputs": [
    {
     "data": {
      "text/plain": [
       "(array([ 67., 375., 351., 138.,  47.,  14.,   3.,   4.,   0.,   1.]),\n",
       " array([0.06738281, 0.15759766, 0.2478125 , 0.33802734, 0.42824219,\n",
       "        0.51845703, 0.60867187, 0.69888672, 0.78910156, 0.87931641,\n",
       "        0.96953125]),\n",
       " <a list of 10 Patch objects>)"
      ]
     },
     "execution_count": 20,
     "metadata": {},
     "output_type": "execute_result"
    },
    {
     "data": {
      "image/png": "[encoded data removed]",
      "text/plain": [
       "<Figure size 432x288 with 1 Axes>"
      ]
     },
     "metadata": {
      "needs_background": "light"
     },
     "output_type": "display_data"
    }
   ],
   "source": [
    "plt.hist(random_coherences)"
   ]
  },
  {
   "cell_type": "code",
   "execution_count": 29,
   "metadata": {},
   "outputs": [],
   "source": [
    "m = np.mean(random_coherences)"
   ]
  },
  {
   "cell_type": "code",
   "execution_count": 30,
   "metadata": {},
   "outputs": [],
   "source": [
    "s = np.std(random_coherences)"
   ]
  },
  {
   "cell_type": "code",
   "execution_count": 31,
   "metadata": {},
   "outputs": [
    {
     "data": {
      "text/plain": [
       "0.47162352798083884"
      ]
     },
     "execution_count": 31,
     "metadata": {},
     "output_type": "execute_result"
    }
   ],
   "source": [
    "m+ 2*s"
   ]
  },
  {
   "cell_type": "code",
   "execution_count": 32,
   "metadata": {},
   "outputs": [
    {
     "data": {
      "text/plain": [
       "0.4558984375"
      ]
     },
     "execution_count": 32,
     "metadata": {},
     "output_type": "execute_result"
    }
   ],
   "source": [
    "np.quantile(random_coherences, 0.95)"
   ]
  },
  {
   "cell_type": "code",
   "execution_count": 18,
   "metadata": {},
   "outputs": [],
   "source": [
    "from analysis import *"
   ]
  },
  {
   "cell_type": "code",
   "execution_count": 19,
   "metadata": {},
   "outputs": [],
   "source": [
    "# def random_coherence(k, W):\n",
    "    \n",
    "#     v = np.random.uniform(low=-1., high=1., size=W.shape[1])\n",
    "#     nn, sim = find_nn_cos(v, W, k)    \n",
    "#     nn_coherence = vector_coherence(nn, W)\n",
    "    \n",
    "#     return nn_coherence  "
   ]
  },
  {
   "cell_type": "code",
   "execution_count": 22,
   "metadata": {},
   "outputs": [
    {
     "name": "stdout",
     "output_type": "stream",
     "text": [
      "['riddle', 'stockton', 'keun', 'kersee', 'duluth']\n",
      "0.21796875\n",
      "['stamps', 'reauthorize', 'enema', 'appropriation', 'physiotherapy']\n",
      "0.228515625\n",
      "['fabriclive', 'exceptionalism', 'adobo', 'reaganesque', 's400']\n",
      "0.3046875\n",
      "['belleza', 'witz', 'dyfi', 'qiantang', 'tropospheric']\n",
      "0.222265625\n"
     ]
    }
   ],
   "source": [
    "for _ in range(4):\n",
    "    v = np.random.uniform(low=-1., high=1., size=W.shape[1])\n",
    "    nn, sim = find_nn_cos(v, W, 5)    \n",
    "    nn_coherence = vector_coherence(nn, W)\n",
    "    \n",
    "    words = [analyzer.rmn.infer_tokenizer_dict['tokenizer'].index_word[n] for n in nn] \n",
    "    print(words)\n",
    "    print(nn_coherence)"
   ]
  },
  {
   "cell_type": "code",
   "execution_count": 6,
   "metadata": {},
   "outputs": [],
   "source": [
    "df = load_documents([108, 109, 110, 111], DOC_PRAYER_PATH)"
   ]
  },
  {
   "cell_type": "code",
   "execution_count": 7,
   "metadata": {},
   "outputs": [
    {
     "data": {
      "text/html": [
       "<div>\n",
       "<style scoped>\n",
       "    .dataframe tbody tr th:only-of-type {\n",
       "        vertical-align: middle;\n",
       "    }\n",
       "\n",
       "    .dataframe tbody tr th {\n",
       "        vertical-align: top;\n",
       "    }\n",
       "\n",
       "    .dataframe thead th {\n",
       "        text-align: right;\n",
       "    }\n",
       "</style>\n",
       "<table border=\"1\" class=\"dataframe\">\n",
       "  <thead>\n",
       "    <tr style=\"text-align: right;\">\n",
       "      <th></th>\n",
       "      <th>speakerid</th>\n",
       "      <th>lastname</th>\n",
       "      <th>firstname</th>\n",
       "      <th>chamber</th>\n",
       "      <th>state</th>\n",
       "      <th>gender</th>\n",
       "      <th>party</th>\n",
       "      <th>document</th>\n",
       "      <th>subject</th>\n",
       "      <th>session</th>\n",
       "    </tr>\n",
       "  </thead>\n",
       "  <tbody>\n",
       "    <tr>\n",
       "      <td>0</td>\n",
       "      <td>108119160</td>\n",
       "      <td>DEFAZIO</td>\n",
       "      <td>PETER</td>\n",
       "      <td>H</td>\n",
       "      <td>OR</td>\n",
       "      <td>M</td>\n",
       "      <td>D</td>\n",
       "      <td>the mother so if there are no cases where it i...</td>\n",
       "      <td>abortion</td>\n",
       "      <td>108</td>\n",
       "    </tr>\n",
       "    <tr>\n",
       "      <td>1</td>\n",
       "      <td>108116401</td>\n",
       "      <td>INOUYE</td>\n",
       "      <td>DANIEL</td>\n",
       "      <td>S</td>\n",
       "      <td>HI</td>\n",
       "      <td>M</td>\n",
       "      <td>D</td>\n",
       "      <td>that is being bandied about it would not be di...</td>\n",
       "      <td>abortion</td>\n",
       "      <td>108</td>\n",
       "    </tr>\n",
       "    <tr>\n",
       "      <td>2</td>\n",
       "      <td>108119920</td>\n",
       "      <td>JACKSON LEE</td>\n",
       "      <td>SHEILA</td>\n",
       "      <td>H</td>\n",
       "      <td>TX</td>\n",
       "      <td>F</td>\n",
       "      <td>D</td>\n",
       "      <td>president i rise with chafee to introduce a bi...</td>\n",
       "      <td>abortion</td>\n",
       "      <td>108</td>\n",
       "    </tr>\n",
       "    <tr>\n",
       "      <td>3</td>\n",
       "      <td>108113881</td>\n",
       "      <td>STEVENS</td>\n",
       "      <td>TED</td>\n",
       "      <td>S</td>\n",
       "      <td>AK</td>\n",
       "      <td>M</td>\n",
       "      <td>R</td>\n",
       "      <td>decades they fear about the supreme court and ...</td>\n",
       "      <td>abortion</td>\n",
       "      <td>108</td>\n",
       "    </tr>\n",
       "    <tr>\n",
       "      <td>4</td>\n",
       "      <td>108112971</td>\n",
       "      <td>DEWINE</td>\n",
       "      <td>MICHAEL</td>\n",
       "      <td>S</td>\n",
       "      <td>OH</td>\n",
       "      <td>M</td>\n",
       "      <td>R</td>\n",
       "      <td>across the nation who are worried about their ...</td>\n",
       "      <td>abortion</td>\n",
       "      <td>108</td>\n",
       "    </tr>\n",
       "    <tr>\n",
       "      <td>...</td>\n",
       "      <td>...</td>\n",
       "      <td>...</td>\n",
       "      <td>...</td>\n",
       "      <td>...</td>\n",
       "      <td>...</td>\n",
       "      <td>...</td>\n",
       "      <td>...</td>\n",
       "      <td>...</td>\n",
       "      <td>...</td>\n",
       "      <td>...</td>\n",
       "    </tr>\n",
       "    <tr>\n",
       "      <td>92749</td>\n",
       "      <td>111120531</td>\n",
       "      <td>MIKULSKI</td>\n",
       "      <td>BARBARA</td>\n",
       "      <td>S</td>\n",
       "      <td>MD</td>\n",
       "      <td>F</td>\n",
       "      <td>D</td>\n",
       "      <td>of a more accurate food facility registry impr...</td>\n",
       "      <td>trade</td>\n",
       "      <td>111</td>\n",
       "    </tr>\n",
       "    <tr>\n",
       "      <td>92750</td>\n",
       "      <td>111120170</td>\n",
       "      <td>LATTA</td>\n",
       "      <td>ROBERT</td>\n",
       "      <td>H</td>\n",
       "      <td>OH</td>\n",
       "      <td>M</td>\n",
       "      <td>R</td>\n",
       "      <td>their lives to save others that day these meda...</td>\n",
       "      <td>trade</td>\n",
       "      <td>111</td>\n",
       "    </tr>\n",
       "    <tr>\n",
       "      <td>92751</td>\n",
       "      <td>111116441</td>\n",
       "      <td>HUTCHISON</td>\n",
       "      <td>KAY</td>\n",
       "      <td>S</td>\n",
       "      <td>TX</td>\n",
       "      <td>F</td>\n",
       "      <td>R</td>\n",
       "      <td>investment this year the development assistanc...</td>\n",
       "      <td>trade</td>\n",
       "      <td>111</td>\n",
       "    </tr>\n",
       "    <tr>\n",
       "      <td>92752</td>\n",
       "      <td>111120860</td>\n",
       "      <td>POLIS</td>\n",
       "      <td>JARED</td>\n",
       "      <td>H</td>\n",
       "      <td>CO</td>\n",
       "      <td>M</td>\n",
       "      <td>D</td>\n",
       "      <td>economytoo much in the last decade of folks pa...</td>\n",
       "      <td>trade</td>\n",
       "      <td>111</td>\n",
       "    </tr>\n",
       "    <tr>\n",
       "      <td>92753</td>\n",
       "      <td>111118680</td>\n",
       "      <td>BORDALLO</td>\n",
       "      <td>MADELEINE</td>\n",
       "      <td>H</td>\n",
       "      <td>GU</td>\n",
       "      <td>F</td>\n",
       "      <td>D</td>\n",
       "      <td>central valley the majority has ignored yet an...</td>\n",
       "      <td>trade</td>\n",
       "      <td>111</td>\n",
       "    </tr>\n",
       "  </tbody>\n",
       "</table>\n",
       "<p>394733 rows × 10 columns</p>\n",
       "</div>"
      ],
      "text/plain": [
       "       speakerid     lastname  firstname chamber state gender party  \\\n",
       "0      108119160      DEFAZIO      PETER       H    OR      M     D   \n",
       "1      108116401       INOUYE     DANIEL       S    HI      M     D   \n",
       "2      108119920  JACKSON LEE     SHEILA       H    TX      F     D   \n",
       "3      108113881      STEVENS        TED       S    AK      M     R   \n",
       "4      108112971       DEWINE    MICHAEL       S    OH      M     R   \n",
       "...          ...          ...        ...     ...   ...    ...   ...   \n",
       "92749  111120531     MIKULSKI    BARBARA       S    MD      F     D   \n",
       "92750  111120170        LATTA     ROBERT       H    OH      M     R   \n",
       "92751  111116441    HUTCHISON        KAY       S    TX      F     R   \n",
       "92752  111120860        POLIS      JARED       H    CO      M     D   \n",
       "92753  111118680     BORDALLO  MADELEINE       H    GU      F     D   \n",
       "\n",
       "                                                document   subject session  \n",
       "0      the mother so if there are no cases where it i...  abortion     108  \n",
       "1      that is being bandied about it would not be di...  abortion     108  \n",
       "2      president i rise with chafee to introduce a bi...  abortion     108  \n",
       "3      decades they fear about the supreme court and ...  abortion     108  \n",
       "4      across the nation who are worried about their ...  abortion     108  \n",
       "...                                                  ...       ...     ...  \n",
       "92749  of a more accurate food facility registry impr...     trade     111  \n",
       "92750  their lives to save others that day these meda...     trade     111  \n",
       "92751  investment this year the development assistanc...     trade     111  \n",
       "92752  economytoo much in the last decade of folks pa...     trade     111  \n",
       "92753  central valley the majority has ignored yet an...     trade     111  \n",
       "\n",
       "[394733 rows x 10 columns]"
      ]
     },
     "execution_count": 7,
     "metadata": {},
     "output_type": "execute_result"
    }
   ],
   "source": [
    "df"
   ]
  },
  {
   "cell_type": "code",
   "execution_count": null,
   "metadata": {},
   "outputs": [],
   "source": []
  },
  {
   "cell_type": "code",
   "execution_count": 26,
   "metadata": {},
   "outputs": [],
   "source": [
    "# df_match = \n",
    "df = df[(df['speakerid']=='108119920') | (df['speakerid']=='108113881')]\n",
    "#df = df[df['speakerid']=='108119920']"
   ]
  },
  {
   "cell_type": "code",
   "execution_count": 27,
   "metadata": {},
   "outputs": [],
   "source": [
    "analyzer = RMN_Analyzer(rmn, df)"
   ]
  },
  {
   "cell_type": "code",
   "execution_count": 28,
   "metadata": {},
   "outputs": [],
   "source": [
    "analyzer.predict_topics()"
   ]
  },
  {
   "cell_type": "code",
   "execution_count": 29,
   "metadata": {},
   "outputs": [],
   "source": [
    "# preds = analyzer.topic_preds"
   ]
  },
  {
   "cell_type": "code",
   "execution_count": 32,
   "metadata": {},
   "outputs": [
    {
     "data": {
      "text/plain": [
       "0"
      ]
     },
     "execution_count": 32,
     "metadata": {},
     "output_type": "execute_result"
    }
   ],
   "source": [
    "np.sum(preds != analyzer.topic_preds[analyzer.cond_index({'speakerid': '108119920'})])"
   ]
  },
  {
   "cell_type": "code",
   "execution_count": 133,
   "metadata": {},
   "outputs": [],
   "source": [
    "c = analyzer.topic_preds"
   ]
  },
  {
   "cell_type": "code",
   "execution_count": 134,
   "metadata": {},
   "outputs": [
    {
     "data": {
      "text/plain": [
       "793.99994"
      ]
     },
     "execution_count": 134,
     "metadata": {},
     "output_type": "execute_result"
    }
   ],
   "source": [
    "c.sum()"
   ]
  },
  {
   "cell_type": "code",
   "execution_count": 135,
   "metadata": {},
   "outputs": [],
   "source": [
    "c = (preds != analyzer.topic_preds)"
   ]
  },
  {
   "cell_type": "code",
   "execution_count": 137,
   "metadata": {},
   "outputs": [
    {
     "data": {
      "text/plain": [
       "79.0"
      ]
     },
     "execution_count": 137,
     "metadata": {},
     "output_type": "execute_result"
    }
   ],
   "source": [
    "c.sum() / 100"
   ]
  },
  {
   "cell_type": "code",
   "execution_count": 124,
   "metadata": {},
   "outputs": [
    {
     "data": {
      "text/plain": [
       "(794, 50)"
      ]
     },
     "execution_count": 124,
     "metadata": {},
     "output_type": "execute_result"
    }
   ],
   "source": [
    "# preds = analyzer.topic_preds\n",
    "preds.shape"
   ]
  },
  {
   "cell_type": "code",
   "execution_count": 109,
   "metadata": {},
   "outputs": [
    {
     "data": {
      "text/plain": [
       "array(['abortion', 'drug_alcohol', 'budget', 'guns', 'defense', 'economy',\n",
       "       'education', 'foreign', 'health', 'immigration', 'labor',\n",
       "       'minorities', 'women', 'tax', 'trade'], dtype=object)"
      ]
     },
     "execution_count": 109,
     "metadata": {},
     "output_type": "execute_result"
    }
   ],
   "source": [
    "analyzer.df['subject'].unique()"
   ]
  },
  {
   "cell_type": "code",
   "execution_count": 110,
   "metadata": {},
   "outputs": [
    {
     "name": "stderr",
     "output_type": "stream",
     "text": [
      "/home/rocassius/w266_final/scripts/modeling/vector_math.py:34: RuntimeWarning: divide by zero encountered in true_divide\n",
      "  Ds = np.dot(Wv, v) / (np.linalg.norm(v) * np.linalg.norm(Wv, axis = 1))\n",
      "/home/rocassius/w266_final/scripts/modeling/vector_math.py:34: RuntimeWarning: invalid value encountered in true_divide\n",
      "  Ds = np.dot(Wv, v) / (np.linalg.norm(v) * np.linalg.norm(Wv, axis = 1))\n"
     ]
    },
    {
     "name": "stdout",
     "output_type": "stream",
     "text": [
      "====================\n",
      "\n",
      "Topic 0\n",
      "['necessary', 'adequate', 'appropriate', 'useful', 'properly', 'efficiently', 'utilize', 'tasks', 'providing', 'provide']\n"
     ]
    },
    {
     "ename": "KeyboardInterrupt",
     "evalue": "",
     "output_type": "error",
     "traceback": [
      "\u001b[0;31m---------------------------------------------------------------------------\u001b[0m",
      "\u001b[0;31mKeyboardInterrupt\u001b[0m                         Traceback (most recent call last)",
      "\u001b[0;32m<ipython-input-110-21849ab5dccc>\u001b[0m in \u001b[0;36m<module>\u001b[0;34m\u001b[0m\n\u001b[0;32m----> 1\u001b[0;31m \u001b[0manalyzer\u001b[0m\u001b[0;34m.\u001b[0m\u001b[0mfind_topic_nns\u001b[0m\u001b[0;34m(\u001b[0m\u001b[0;34m)\u001b[0m\u001b[0;34m\u001b[0m\u001b[0;34m\u001b[0m\u001b[0m\n\u001b[0m",
      "\u001b[0;32m<ipython-input-12-0382c32c976d>\u001b[0m in \u001b[0;36mfind_topic_nns\u001b[0;34m(self)\u001b[0m\n\u001b[1;32m    415\u001b[0m         \"\"\"Finds the nearest neighbors of the rmn's topics\n\u001b[1;32m    416\u001b[0m         \"\"\"\n\u001b[0;32m--> 417\u001b[0;31m         \u001b[0mself\u001b[0m\u001b[0;34m.\u001b[0m\u001b[0mtopic_nns\u001b[0m \u001b[0;34m=\u001b[0m \u001b[0mnp\u001b[0m\u001b[0;34m.\u001b[0m\u001b[0marray\u001b[0m\u001b[0;34m(\u001b[0m\u001b[0mrmn\u001b[0m\u001b[0;34m.\u001b[0m\u001b[0minspect_topics\u001b[0m\u001b[0;34m(\u001b[0m\u001b[0;34m)\u001b[0m\u001b[0;34m)\u001b[0m\u001b[0;34m\u001b[0m\u001b[0;34m\u001b[0m\u001b[0m\n\u001b[0m\u001b[1;32m    418\u001b[0m \u001b[0;34m\u001b[0m\u001b[0m\n\u001b[1;32m    419\u001b[0m \u001b[0;34m\u001b[0m\u001b[0m\n",
      "\u001b[0;32m~/w266_final/scripts/modeling/rmn.py\u001b[0m in \u001b[0;36minspect_topics\u001b[0;34m(self, which_topics, k_neighbors)\u001b[0m\n\u001b[1;32m    366\u001b[0m         \u001b[0;32mfor\u001b[0m \u001b[0mi\u001b[0m \u001b[0;32min\u001b[0m \u001b[0mwhich_topics\u001b[0m\u001b[0;34m:\u001b[0m\u001b[0;34m\u001b[0m\u001b[0;34m\u001b[0m\u001b[0m\n\u001b[1;32m    367\u001b[0m             \u001b[0;31m# find nearest neighbors to topic\u001b[0m\u001b[0;34m\u001b[0m\u001b[0;34m\u001b[0m\u001b[0;34m\u001b[0m\u001b[0m\n\u001b[0;32m--> 368\u001b[0;31m             \u001b[0mneighbors\u001b[0m\u001b[0;34m,\u001b[0m \u001b[0msim\u001b[0m \u001b[0;34m=\u001b[0m \u001b[0mfind_nn_cos\u001b[0m\u001b[0;34m(\u001b[0m\u001b[0mR\u001b[0m\u001b[0;34m[\u001b[0m\u001b[0mi\u001b[0m\u001b[0;34m]\u001b[0m\u001b[0;34m,\u001b[0m \u001b[0mE\u001b[0m\u001b[0;34m,\u001b[0m \u001b[0mk_neighbors\u001b[0m\u001b[0;34m)\u001b[0m\u001b[0;34m\u001b[0m\u001b[0;34m\u001b[0m\u001b[0m\n\u001b[0m\u001b[1;32m    369\u001b[0m             \u001b[0mwords\u001b[0m \u001b[0;34m=\u001b[0m \u001b[0;34m[\u001b[0m\u001b[0mself\u001b[0m\u001b[0;34m.\u001b[0m\u001b[0minfer_tokenizer_dict\u001b[0m\u001b[0;34m[\u001b[0m\u001b[0;34m'tokenizer'\u001b[0m\u001b[0;34m]\u001b[0m\u001b[0;34m.\u001b[0m\u001b[0mindex_word\u001b[0m\u001b[0;34m[\u001b[0m\u001b[0mv\u001b[0m\u001b[0;34m]\u001b[0m \u001b[0;32mfor\u001b[0m \u001b[0mv\u001b[0m \u001b[0;32min\u001b[0m \u001b[0mneighbors\u001b[0m\u001b[0;34m]\u001b[0m\u001b[0;34m\u001b[0m\u001b[0;34m\u001b[0m\u001b[0m\n\u001b[1;32m    370\u001b[0m \u001b[0;34m\u001b[0m\u001b[0m\n",
      "\u001b[0;32m~/w266_final/scripts/modeling/vector_math.py\u001b[0m in \u001b[0;36mfind_nn_cos\u001b[0;34m(v, Wv, k)\u001b[0m\n\u001b[1;32m     33\u001b[0m    \u001b[0;31m# compute cosine similarities\u001b[0m\u001b[0;34m\u001b[0m\u001b[0;34m\u001b[0m\u001b[0;34m\u001b[0m\u001b[0m\n\u001b[1;32m     34\u001b[0m     \u001b[0mDs\u001b[0m \u001b[0;34m=\u001b[0m \u001b[0mnp\u001b[0m\u001b[0;34m.\u001b[0m\u001b[0mdot\u001b[0m\u001b[0;34m(\u001b[0m\u001b[0mWv\u001b[0m\u001b[0;34m,\u001b[0m \u001b[0mv\u001b[0m\u001b[0;34m)\u001b[0m \u001b[0;34m/\u001b[0m \u001b[0;34m(\u001b[0m\u001b[0mnp\u001b[0m\u001b[0;34m.\u001b[0m\u001b[0mlinalg\u001b[0m\u001b[0;34m.\u001b[0m\u001b[0mnorm\u001b[0m\u001b[0;34m(\u001b[0m\u001b[0mv\u001b[0m\u001b[0;34m)\u001b[0m \u001b[0;34m*\u001b[0m \u001b[0mnp\u001b[0m\u001b[0;34m.\u001b[0m\u001b[0mlinalg\u001b[0m\u001b[0;34m.\u001b[0m\u001b[0mnorm\u001b[0m\u001b[0;34m(\u001b[0m\u001b[0mWv\u001b[0m\u001b[0;34m,\u001b[0m \u001b[0maxis\u001b[0m \u001b[0;34m=\u001b[0m \u001b[0;36m1\u001b[0m\u001b[0;34m)\u001b[0m\u001b[0;34m)\u001b[0m\u001b[0;34m\u001b[0m\u001b[0;34m\u001b[0m\u001b[0m\n\u001b[0;32m---> 35\u001b[0;31m     \u001b[0mn_nan\u001b[0m \u001b[0;34m=\u001b[0m \u001b[0msum\u001b[0m\u001b[0;34m(\u001b[0m\u001b[0mnp\u001b[0m\u001b[0;34m.\u001b[0m\u001b[0misnan\u001b[0m\u001b[0;34m(\u001b[0m\u001b[0mDs\u001b[0m\u001b[0;34m)\u001b[0m\u001b[0;34m)\u001b[0m\u001b[0;34m\u001b[0m\u001b[0;34m\u001b[0m\u001b[0m\n\u001b[0m\u001b[1;32m     36\u001b[0m     \u001b[0mnns\u001b[0m \u001b[0;34m=\u001b[0m \u001b[0mnp\u001b[0m\u001b[0;34m.\u001b[0m\u001b[0mflip\u001b[0m\u001b[0;34m(\u001b[0m\u001b[0mnp\u001b[0m\u001b[0;34m.\u001b[0m\u001b[0margsort\u001b[0m\u001b[0;34m(\u001b[0m\u001b[0mDs\u001b[0m\u001b[0;34m)\u001b[0m\u001b[0;34m)\u001b[0m\u001b[0;34m[\u001b[0m\u001b[0mn_nan\u001b[0m\u001b[0;34m:\u001b[0m\u001b[0;34m]\u001b[0m\u001b[0;34m[\u001b[0m\u001b[0;34m:\u001b[0m\u001b[0mk\u001b[0m\u001b[0;34m]\u001b[0m\u001b[0;34m\u001b[0m\u001b[0;34m\u001b[0m\u001b[0m\n\u001b[1;32m     37\u001b[0m     \u001b[0mds\u001b[0m \u001b[0;34m=\u001b[0m \u001b[0mDs\u001b[0m\u001b[0;34m[\u001b[0m\u001b[0mnns\u001b[0m\u001b[0;34m]\u001b[0m\u001b[0;34m\u001b[0m\u001b[0;34m\u001b[0m\u001b[0m\n",
      "\u001b[0;31mKeyboardInterrupt\u001b[0m: "
     ]
    }
   ],
   "source": [
    "analyzer.find_topic_nns()"
   ]
  },
  {
   "cell_type": "code",
   "execution_count": 112,
   "metadata": {},
   "outputs": [
    {
     "data": {
      "text/html": [
       "<div>\n",
       "<style scoped>\n",
       "    .dataframe tbody tr th:only-of-type {\n",
       "        vertical-align: middle;\n",
       "    }\n",
       "\n",
       "    .dataframe tbody tr th {\n",
       "        vertical-align: top;\n",
       "    }\n",
       "\n",
       "    .dataframe thead th {\n",
       "        text-align: right;\n",
       "    }\n",
       "</style>\n",
       "<table border=\"1\" class=\"dataframe\">\n",
       "  <thead>\n",
       "    <tr style=\"text-align: right;\">\n",
       "      <th></th>\n",
       "      <th>speakerid</th>\n",
       "      <th>lastname</th>\n",
       "      <th>firstname</th>\n",
       "      <th>chamber</th>\n",
       "      <th>state</th>\n",
       "      <th>gender</th>\n",
       "      <th>party</th>\n",
       "      <th>document</th>\n",
       "      <th>subject</th>\n",
       "      <th>session</th>\n",
       "    </tr>\n",
       "  </thead>\n",
       "  <tbody>\n",
       "    <tr>\n",
       "      <td>0</td>\n",
       "      <td>108119920</td>\n",
       "      <td>JACKSON LEE</td>\n",
       "      <td>SHEILA</td>\n",
       "      <td>H</td>\n",
       "      <td>TX</td>\n",
       "      <td>F</td>\n",
       "      <td>D</td>\n",
       "      <td>president i rise with chafee to introduce a bi...</td>\n",
       "      <td>abortion</td>\n",
       "      <td>108</td>\n",
       "    </tr>\n",
       "    <tr>\n",
       "      <td>1</td>\n",
       "      <td>108119920</td>\n",
       "      <td>JACKSON LEE</td>\n",
       "      <td>SHEILA</td>\n",
       "      <td>H</td>\n",
       "      <td>TX</td>\n",
       "      <td>F</td>\n",
       "      <td>D</td>\n",
       "      <td>rise in opposition to the amendment to s  that...</td>\n",
       "      <td>abortion</td>\n",
       "      <td>108</td>\n",
       "    </tr>\n",
       "    <tr>\n",
       "      <td>2</td>\n",
       "      <td>108119920</td>\n",
       "      <td>JACKSON LEE</td>\n",
       "      <td>SHEILA</td>\n",
       "      <td>H</td>\n",
       "      <td>TX</td>\n",
       "      <td>F</td>\n",
       "      <td>D</td>\n",
       "      <td>misuse of the filibuster they criticize kuhls ...</td>\n",
       "      <td>abortion</td>\n",
       "      <td>108</td>\n",
       "    </tr>\n",
       "    <tr>\n",
       "      <td>3</td>\n",
       "      <td>108119920</td>\n",
       "      <td>JACKSON LEE</td>\n",
       "      <td>SHEILA</td>\n",
       "      <td>H</td>\n",
       "      <td>TX</td>\n",
       "      <td>F</td>\n",
       "      <td>D</td>\n",
       "      <td>name three supreme court cases in the last  ye...</td>\n",
       "      <td>abortion</td>\n",
       "      <td>108</td>\n",
       "    </tr>\n",
       "    <tr>\n",
       "      <td>4</td>\n",
       "      <td>108119920</td>\n",
       "      <td>JACKSON LEE</td>\n",
       "      <td>SHEILA</td>\n",
       "      <td>H</td>\n",
       "      <td>TX</td>\n",
       "      <td>F</td>\n",
       "      <td>D</td>\n",
       "      <td>i am suggesting to my friend that when people ...</td>\n",
       "      <td>abortion</td>\n",
       "      <td>108</td>\n",
       "    </tr>\n",
       "    <tr>\n",
       "      <td>...</td>\n",
       "      <td>...</td>\n",
       "      <td>...</td>\n",
       "      <td>...</td>\n",
       "      <td>...</td>\n",
       "      <td>...</td>\n",
       "      <td>...</td>\n",
       "      <td>...</td>\n",
       "      <td>...</td>\n",
       "      <td>...</td>\n",
       "      <td>...</td>\n",
       "    </tr>\n",
       "    <tr>\n",
       "      <td>789</td>\n",
       "      <td>108119920</td>\n",
       "      <td>JACKSON LEE</td>\n",
       "      <td>SHEILA</td>\n",
       "      <td>H</td>\n",
       "      <td>TX</td>\n",
       "      <td>F</td>\n",
       "      <td>D</td>\n",
       "      <td>instructions for overseas assignments delaying...</td>\n",
       "      <td>trade</td>\n",
       "      <td>108</td>\n",
       "    </tr>\n",
       "    <tr>\n",
       "      <td>790</td>\n",
       "      <td>108119920</td>\n",
       "      <td>JACKSON LEE</td>\n",
       "      <td>SHEILA</td>\n",
       "      <td>H</td>\n",
       "      <td>TX</td>\n",
       "      <td>F</td>\n",
       "      <td>D</td>\n",
       "      <td>of maintaining it dlindjic was an effective de...</td>\n",
       "      <td>trade</td>\n",
       "      <td>108</td>\n",
       "    </tr>\n",
       "    <tr>\n",
       "      <td>791</td>\n",
       "      <td>108119920</td>\n",
       "      <td>JACKSON LEE</td>\n",
       "      <td>SHEILA</td>\n",
       "      <td>H</td>\n",
       "      <td>TX</td>\n",
       "      <td>F</td>\n",
       "      <td>D</td>\n",
       "      <td>health and the environment given the concern m...</td>\n",
       "      <td>trade</td>\n",
       "      <td>108</td>\n",
       "    </tr>\n",
       "    <tr>\n",
       "      <td>792</td>\n",
       "      <td>108119920</td>\n",
       "      <td>JACKSON LEE</td>\n",
       "      <td>SHEILA</td>\n",
       "      <td>H</td>\n",
       "      <td>TX</td>\n",
       "      <td>F</td>\n",
       "      <td>D</td>\n",
       "      <td>a runner on second with the tying run at the p...</td>\n",
       "      <td>trade</td>\n",
       "      <td>108</td>\n",
       "    </tr>\n",
       "    <tr>\n",
       "      <td>793</td>\n",
       "      <td>108119920</td>\n",
       "      <td>JACKSON LEE</td>\n",
       "      <td>SHEILA</td>\n",
       "      <td>H</td>\n",
       "      <td>TX</td>\n",
       "      <td>F</td>\n",
       "      <td>D</td>\n",
       "      <td>americas foreign policy is still based on the ...</td>\n",
       "      <td>trade</td>\n",
       "      <td>108</td>\n",
       "    </tr>\n",
       "  </tbody>\n",
       "</table>\n",
       "<p>794 rows × 10 columns</p>\n",
       "</div>"
      ],
      "text/plain": [
       "     speakerid     lastname firstname chamber state gender party  \\\n",
       "0    108119920  JACKSON LEE    SHEILA       H    TX      F     D   \n",
       "1    108119920  JACKSON LEE    SHEILA       H    TX      F     D   \n",
       "2    108119920  JACKSON LEE    SHEILA       H    TX      F     D   \n",
       "3    108119920  JACKSON LEE    SHEILA       H    TX      F     D   \n",
       "4    108119920  JACKSON LEE    SHEILA       H    TX      F     D   \n",
       "..         ...          ...       ...     ...   ...    ...   ...   \n",
       "789  108119920  JACKSON LEE    SHEILA       H    TX      F     D   \n",
       "790  108119920  JACKSON LEE    SHEILA       H    TX      F     D   \n",
       "791  108119920  JACKSON LEE    SHEILA       H    TX      F     D   \n",
       "792  108119920  JACKSON LEE    SHEILA       H    TX      F     D   \n",
       "793  108119920  JACKSON LEE    SHEILA       H    TX      F     D   \n",
       "\n",
       "                                              document   subject session  \n",
       "0    president i rise with chafee to introduce a bi...  abortion     108  \n",
       "1    rise in opposition to the amendment to s  that...  abortion     108  \n",
       "2    misuse of the filibuster they criticize kuhls ...  abortion     108  \n",
       "3    name three supreme court cases in the last  ye...  abortion     108  \n",
       "4    i am suggesting to my friend that when people ...  abortion     108  \n",
       "..                                                 ...       ...     ...  \n",
       "789  instructions for overseas assignments delaying...     trade     108  \n",
       "790  of maintaining it dlindjic was an effective de...     trade     108  \n",
       "791  health and the environment given the concern m...     trade     108  \n",
       "792  a runner on second with the tying run at the p...     trade     108  \n",
       "793  americas foreign policy is still based on the ...     trade     108  \n",
       "\n",
       "[794 rows x 10 columns]"
      ]
     },
     "execution_count": 112,
     "metadata": {},
     "output_type": "execute_result"
    }
   ],
   "source": [
    "analyzer.df"
   ]
  },
  {
   "cell_type": "code",
   "execution_count": 111,
   "metadata": {},
   "outputs": [
    {
     "data": {
      "text/plain": [
       "38    0.139428\n",
       "16    0.103645\n",
       "25    0.086492\n",
       "47    0.079346\n",
       "3     0.067411\n",
       "37    0.065845\n",
       "14    0.061035\n",
       "39    0.054541\n",
       "30    0.038324\n",
       "21    0.037176\n",
       "28    0.027588\n",
       "33    0.027135\n",
       "1     0.022511\n",
       "36    0.016015\n",
       "31    0.015899\n",
       "15    0.015148\n",
       "34    0.013880\n",
       "17    0.013132\n",
       "19    0.010763\n",
       "5     0.009732\n",
       "46    0.009285\n",
       "45    0.008042\n",
       "8     0.007683\n",
       "7     0.007037\n",
       "2     0.006866\n",
       "10    0.006223\n",
       "24    0.006133\n",
       "49    0.005905\n",
       "27    0.004030\n",
       "32    0.004025\n",
       "18    0.003703\n",
       "23    0.002937\n",
       "0     0.002914\n",
       "40    0.002716\n",
       "9     0.002645\n",
       "29    0.002078\n",
       "41    0.001938\n",
       "13    0.001802\n",
       "48    0.001601\n",
       "35    0.001272\n",
       "43    0.001117\n",
       "26    0.001099\n",
       "12    0.001034\n",
       "42    0.000709\n",
       "11    0.000669\n",
       "6     0.000594\n",
       "20    0.000456\n",
       "4     0.000218\n",
       "22    0.000141\n",
       "44    0.000080\n",
       "dtype: float32"
      ]
     },
     "execution_count": 111,
     "metadata": {},
     "output_type": "execute_result"
    }
   ],
   "source": [
    "analyzer.topic_use({'subject': 'abortion'})"
   ]
  },
  {
   "cell_type": "code",
   "execution_count": 113,
   "metadata": {},
   "outputs": [
    {
     "ename": "TypeError",
     "evalue": "'NoneType' object is not subscriptable",
     "output_type": "error",
     "traceback": [
      "\u001b[0;31m---------------------------------------------------------------------------\u001b[0m",
      "\u001b[0;31mTypeError\u001b[0m                                 Traceback (most recent call last)",
      "\u001b[0;32m<ipython-input-113-4c6e6bd78542>\u001b[0m in \u001b[0;36m<module>\u001b[0;34m\u001b[0m\n\u001b[0;32m----> 1\u001b[0;31m \u001b[0manalyzer\u001b[0m\u001b[0;34m.\u001b[0m\u001b[0mtopic_nns\u001b[0m\u001b[0;34m[\u001b[0m\u001b[0;34m[\u001b[0m\u001b[0;36m38\u001b[0m\u001b[0;34m,\u001b[0m\u001b[0;36m16\u001b[0m\u001b[0;34m,\u001b[0m\u001b[0;36m25\u001b[0m\u001b[0;34m]\u001b[0m\u001b[0;34m]\u001b[0m\u001b[0;34m\u001b[0m\u001b[0;34m\u001b[0m\u001b[0m\n\u001b[0m",
      "\u001b[0;31mTypeError\u001b[0m: 'NoneType' object is not subscriptable"
     ]
    }
   ],
   "source": [
    "analyzer.topic_nns[[38,16,25]]"
   ]
  },
  {
   "cell_type": "code",
   "execution_count": 104,
   "metadata": {},
   "outputs": [
    {
     "data": {
      "text/plain": [
       "21    0.126599\n",
       "16    0.103379\n",
       "34    0.096589\n",
       "14    0.086058\n",
       "30    0.082578\n",
       "33    0.077941\n",
       "39    0.044387\n",
       "28    0.044259\n",
       "38    0.043068\n",
       "1     0.042469\n",
       "25    0.037454\n",
       "37    0.024855\n",
       "8     0.023814\n",
       "2     0.022185\n",
       "5     0.018318\n",
       "3     0.014073\n",
       "32    0.013723\n",
       "17    0.012022\n",
       "24    0.009163\n",
       "47    0.009160\n",
       "36    0.008421\n",
       "45    0.006835\n",
       "10    0.006075\n",
       "0     0.005956\n",
       "15    0.005160\n",
       "31    0.004550\n",
       "19    0.004501\n",
       "43    0.003732\n",
       "7     0.003582\n",
       "4     0.002698\n",
       "46    0.002683\n",
       "27    0.002366\n",
       "49    0.001881\n",
       "48    0.001456\n",
       "29    0.001203\n",
       "18    0.001001\n",
       "13    0.000730\n",
       "26    0.000709\n",
       "40    0.000652\n",
       "42    0.000619\n",
       "41    0.000582\n",
       "23    0.000543\n",
       "9     0.000538\n",
       "12    0.000489\n",
       "6     0.000305\n",
       "20    0.000270\n",
       "35    0.000117\n",
       "11    0.000089\n",
       "22    0.000083\n",
       "44    0.000078\n",
       "dtype: float32"
      ]
     },
     "execution_count": 104,
     "metadata": {},
     "output_type": "execute_result"
    }
   ],
   "source": [
    "analyzer.topic_use({'speakerid': '108119920', 'subject': 'abortion'})"
   ]
  },
  {
   "cell_type": "code",
   "execution_count": 105,
   "metadata": {},
   "outputs": [
    {
     "data": {
      "text/plain": [
       "21    0.242749\n",
       "25    0.111155\n",
       "16    0.091975\n",
       "23    0.088045\n",
       "34    0.080668\n",
       "33    0.070566\n",
       "49    0.069137\n",
       "7     0.038396\n",
       "19    0.027475\n",
       "3     0.025134\n",
       "47    0.016292\n",
       "15    0.014350\n",
       "43    0.012503\n",
       "17    0.012231\n",
       "32    0.012097\n",
       "37    0.011407\n",
       "24    0.009759\n",
       "39    0.009397\n",
       "40    0.007582\n",
       "30    0.007210\n",
       "10    0.005959\n",
       "29    0.003964\n",
       "27    0.003846\n",
       "46    0.003406\n",
       "14    0.003166\n",
       "42    0.002327\n",
       "31    0.002198\n",
       "38    0.001644\n",
       "9     0.001473\n",
       "13    0.001378\n",
       "12    0.001264\n",
       "35    0.001129\n",
       "18    0.001100\n",
       "28    0.001044\n",
       "8     0.001038\n",
       "6     0.001027\n",
       "36    0.000987\n",
       "41    0.000981\n",
       "45    0.000734\n",
       "48    0.000632\n",
       "0     0.000596\n",
       "20    0.000524\n",
       "4     0.000327\n",
       "26    0.000275\n",
       "2     0.000267\n",
       "5     0.000179\n",
       "11    0.000152\n",
       "22    0.000143\n",
       "44    0.000092\n",
       "1     0.000019\n",
       "dtype: float32"
      ]
     },
     "execution_count": 105,
     "metadata": {},
     "output_type": "execute_result"
    }
   ],
   "source": [
    "analyzer.topic_use({'speakerid': '108113881', 'subject': 'abortion'})"
   ]
  },
  {
   "cell_type": "code",
   "execution_count": 103,
   "metadata": {},
   "outputs": [
    {
     "data": {
      "text/plain": [
       "array([[['vote', '0.895'],\n",
       "        ['votes', '0.868'],\n",
       "        ['democrats', '0.86'],\n",
       "        ['candidates', '0.852'],\n",
       "        ['election', '0.847'],\n",
       "        ['voters', '0.84'],\n",
       "        ['candidate', '0.836'],\n",
       "        ['democratic', '0.833'],\n",
       "        ['republican', '0.812'],\n",
       "        ['republicans', '0.812']],\n",
       "\n",
       "       [['constitutional', '0.765'],\n",
       "        ['amended', '0.759'],\n",
       "        ['approved', '0.758'],\n",
       "        ['court', '0.743'],\n",
       "        ['decree', '0.739'],\n",
       "        ['injunction', '0.738'],\n",
       "        ['upheld', '0.734'],\n",
       "        ['amendment', '0.731'],\n",
       "        ['supreme', '0.729'],\n",
       "        ['amendments', '0.725']],\n",
       "\n",
       "       [['care', '0.861'],\n",
       "        ['medicaid', '0.861'],\n",
       "        ['medicare', '0.849'],\n",
       "        ['benefits', '0.804'],\n",
       "        ['health', '0.791'],\n",
       "        ['insurance', '0.777'],\n",
       "        ['welfare', '0.755'],\n",
       "        ['pensions', '0.752'],\n",
       "        ['pension', '0.744'],\n",
       "        ['beneficiaries', '0.737']],\n",
       "\n",
       "       [['iraq', '0.826'],\n",
       "        ['lebanon', '0.813'],\n",
       "        ['sudan', '0.799'],\n",
       "        ['afghanistan', '0.798'],\n",
       "        ['syria', '0.785'],\n",
       "        ['forces', '0.767'],\n",
       "        ['troops', '0.747'],\n",
       "        ['conflict', '0.739'],\n",
       "        ['rebels', '0.739'],\n",
       "        ['iraqi', '0.736']],\n",
       "\n",
       "       [['violate', '0.711'],\n",
       "        ['applicable', '0.711'],\n",
       "        ['precedent', '0.71'],\n",
       "        ['violation', '0.709'],\n",
       "        ['applies', '0.704'],\n",
       "        ['limitation', '0.701'],\n",
       "        ['laws', '0.693'],\n",
       "        ['regard', '0.689'],\n",
       "        ['unfair', '0.686'],\n",
       "        ['certain', '0.685']],\n",
       "\n",
       "       [['describe', '0.751'],\n",
       "        ['different', '0.75'],\n",
       "        ['context', '0.745'],\n",
       "        ['analogous', '0.741'],\n",
       "        ['description', '0.737'],\n",
       "        ['distinct', '0.73'],\n",
       "        ['simple', '0.717'],\n",
       "        ['theory', '0.715'],\n",
       "        ['examples', '0.705'],\n",
       "        ['concept', '0.7']],\n",
       "\n",
       "       [['killed', '0.878'],\n",
       "        ['wounded', '0.846'],\n",
       "        ['dead', '0.842'],\n",
       "        ['soldiers', '0.828'],\n",
       "        ['policemen', '0.808'],\n",
       "        ['dozens', '0.803'],\n",
       "        ['attackers', '0.794'],\n",
       "        ['gunmen', '0.792'],\n",
       "        ['civilians', '0.791'],\n",
       "        ['hundreds', '0.775']],\n",
       "\n",
       "       [['religion', '0.81'],\n",
       "        ['religious', '0.783'],\n",
       "        ['freedom', '0.774'],\n",
       "        ['beliefs', '0.745'],\n",
       "        ['equality', '0.742'],\n",
       "        ['ideals', '0.736'],\n",
       "        ['ideology', '0.73'],\n",
       "        ['belief', '0.724'],\n",
       "        ['faith', '0.72'],\n",
       "        ['democracy', '0.709']],\n",
       "\n",
       "       [['cancer', '0.877'],\n",
       "        ['disease', '0.869'],\n",
       "        ['patients', '0.844'],\n",
       "        ['diseases', '0.831'],\n",
       "        ['infection', '0.82'],\n",
       "        ['diabetes', '0.812'],\n",
       "        ['treatment', '0.803'],\n",
       "        ['illness', '0.794'],\n",
       "        ['hiv', '0.781'],\n",
       "        ['treatments', '0.777']],\n",
       "\n",
       "       [['father', '0.928'],\n",
       "        ['friend', '0.901'],\n",
       "        ['mother', '0.882'],\n",
       "        ['wife', '0.881'],\n",
       "        ['brother', '0.88'],\n",
       "        ['son', '0.876'],\n",
       "        ['daughter', '0.87'],\n",
       "        ['husband', '0.858'],\n",
       "        ['uncle', '0.835'],\n",
       "        ['cousin', '0.826']]], dtype='<U14')"
      ]
     },
     "execution_count": 103,
     "metadata": {},
     "output_type": "execute_result"
    }
   ],
   "source": [
    "analyzer.topic_nns[analyzer.topic_use({'speakerid': '108113881', 'subject': 'abortion'}).index[:10]]"
   ]
  },
  {
   "cell_type": "code",
   "execution_count": null,
   "metadata": {},
   "outputs": [],
   "source": []
  }
 ],
 "metadata": {
  "kernelspec": {
   "display_name": "Python 3",
   "language": "python",
   "name": "python3"
  },
  "language_info": {
   "codemirror_mode": {
    "name": "ipython",
    "version": 3
   },
   "file_extension": ".py",
   "mimetype": "text/x-python",
   "name": "python",
   "nbconvert_exporter": "python",
   "pygments_lexer": "ipython3",
   "version": "3.7.4"
  }
 },
 "nbformat": 4,
 "nbformat_minor": 2
}
