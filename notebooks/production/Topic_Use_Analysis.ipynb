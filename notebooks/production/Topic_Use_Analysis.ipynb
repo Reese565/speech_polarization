{
 "cells": [
  {
   "cell_type": "code",
   "execution_count": 6,
   "metadata": {},
   "outputs": [],
   "source": [
    "import pandas as pd\n",
    "import numpy as np\n",
    "import matplotlib.pyplot as plt\n",
    "\n",
    "import os \n",
    "import sys"
   ]
  },
  {
   "cell_type": "code",
   "execution_count": 21,
   "metadata": {},
   "outputs": [],
   "source": [
    "from constant import MIN_SESSION, MAX_SESSION"
   ]
  },
  {
   "cell_type": "code",
   "execution_count": 22,
   "metadata": {},
   "outputs": [],
   "source": [
    "TOPIC_TAG = 'topic_data_%s.pkl'\n",
    "sessions = list(range(MIN_SESSION, MAX_SESSION+1))"
   ]
  },
  {
   "cell_type": "code",
   "execution_count": 2,
   "metadata": {},
   "outputs": [],
   "source": [
    "import warnings\n",
    "warnings.filterwarnings('ignore')"
   ]
  },
  {
   "cell_type": "code",
   "execution_count": 3,
   "metadata": {},
   "outputs": [],
   "source": [
    "sys.path.append(\"/home/rocassius/w266_final/scripts/assembly\")\n",
    "sys.path.append(\"/home/rocassius/w266_final/scripts/modeling\")"
   ]
  },
  {
   "cell_type": "code",
   "execution_count": 133,
   "metadata": {},
   "outputs": [],
   "source": [
    "from document import *\n",
    "from helper import *\n",
    "from rmn import *\n",
    "from rmn_analyzer import *"
   ]
  },
  {
   "cell_type": "code",
   "execution_count": 5,
   "metadata": {},
   "outputs": [],
   "source": [
    "# load embedding tools\n",
    "generic_tools_path = \"/home/rocassius/gen-data/tools/generic_tools\"\n",
    "prayer_tools_path = \"/home/rocassius/gen-data/tools/prayer_tools\"\n",
    "\n",
    "global_embedding_matrix = load_pickled_object(os.path.join(prayer_tools_path, \"embedding_matrix_wg\"))\n",
    "global_tokenizer_dict = load_pickled_object(os.path.join(prayer_tools_path, \"tokenizer_dict_wg\"))"
   ]
  },
  {
   "cell_type": "code",
   "execution_count": 9,
   "metadata": {},
   "outputs": [
    {
     "name": "stdout",
     "output_type": "stream",
     "text": [
      "WARNING:tensorflow:From /home/rocassius/anaconda3/lib/python3.7/site-packages/tensorflow_core/python/keras/initializers.py:119: calling RandomUniform.__init__ (from tensorflow.python.ops.init_ops) with dtype is deprecated and will be removed in a future version.\n",
      "Instructions for updating:\n",
      "Call initializer instance with the dtype argument instead of passing it to the constructor\n",
      "WARNING:tensorflow:From /home/rocassius/anaconda3/lib/python3.7/site-packages/tensorflow_core/python/ops/resource_variable_ops.py:1630: calling BaseResourceVariable.__init__ (from tensorflow.python.ops.resource_variable_ops) with constraint is deprecated and will be removed in a future version.\n",
      "Instructions for updating:\n",
      "If using Keras pass *_constraint arguments to layers.\n"
     ]
    }
   ],
   "source": [
    "# load rmn\n",
    "local_models_path = \"/home/rocassius/gen-data/models\"\n",
    "rmn = RigidRMN()\n",
    "rmn.load_rmn(\"PoliteFinish\", local_models_path)\n",
    "rmn.infer_embedding_matrix = global_embedding_matrix\n",
    "rmn.infer_tokenizer_dict = global_tokenizer_dict"
   ]
  },
  {
   "cell_type": "code",
   "execution_count": 36,
   "metadata": {},
   "outputs": [],
   "source": [
    "# load data\n",
    "topic_data_path = \"/home/rocassius/gen-data/data/topic-data-first/\" \n",
    "data = load_pickled_object(os.path.join(topic_data_path, \"topic_data_all.pkl\"))"
   ]
  },
  {
   "cell_type": "code",
   "execution_count": 39,
   "metadata": {},
   "outputs": [
    {
     "data": {
      "text/plain": [
       "dict_keys(['dataset', 'topics', 'session'])"
      ]
     },
     "execution_count": 39,
     "metadata": {},
     "output_type": "execute_result"
    }
   ],
   "source": [
    "data[0].keys()"
   ]
  },
  {
   "cell_type": "code",
   "execution_count": 40,
   "metadata": {},
   "outputs": [
    {
     "data": {
      "text/plain": [
       "dict_keys(['n_records', 'n_records_R', 'n_records_D', 'n_nan_preds_R', 'n_nan_preds_D', 'hh', 'hh_R', 'hh_D', 'js_RD', 'js_placebo', 'topic_use', 'topic_use_R', 'topic_use_D'])"
      ]
     },
     "execution_count": 40,
     "metadata": {},
     "output_type": "execute_result"
    }
   ],
   "source": [
    "data[0]['dataset'].keys()"
   ]
  },
  {
   "cell_type": "markdown",
   "metadata": {},
   "source": [
    "Records Data"
   ]
  },
  {
   "cell_type": "code",
   "execution_count": 97,
   "metadata": {},
   "outputs": [
    {
     "data": {
      "text/plain": [
       "3913325"
      ]
     },
     "execution_count": 97,
     "metadata": {},
     "output_type": "execute_result"
    }
   ],
   "source": [
    "total_records = np.array([d['dataset']['n_records'] for d in data]).sum()\n",
    "total_records"
   ]
  },
  {
   "cell_type": "code",
   "execution_count": 99,
   "metadata": {},
   "outputs": [
    {
     "data": {
      "text/plain": [
       "1697124"
      ]
     },
     "execution_count": 99,
     "metadata": {},
     "output_type": "execute_result"
    }
   ],
   "source": [
    "R_records = np.array([d['dataset']['n_records_R'] for d in data]).sum()\n",
    "R_records"
   ]
  },
  {
   "cell_type": "code",
   "execution_count": 101,
   "metadata": {},
   "outputs": [
    {
     "data": {
      "text/plain": [
       "2175473"
      ]
     },
     "execution_count": 101,
     "metadata": {},
     "output_type": "execute_result"
    }
   ],
   "source": [
    "D_records = np.array([d['dataset']['n_records_D'] for d in data]).sum()\n",
    "D_records"
   ]
  },
  {
   "cell_type": "code",
   "execution_count": null,
   "metadata": {},
   "outputs": [],
   "source": [
    "D_records = np.array(dp[])"
   ]
  },
  {
   "cell_type": "code",
   "execution_count": 88,
   "metadata": {},
   "outputs": [],
   "source": [
    "sessions = np.array([d['session'] for d in data])"
   ]
  },
  {
   "cell_type": "code",
   "execution_count": 41,
   "metadata": {},
   "outputs": [],
   "source": [
    "js = [d['dataset']['js_RD'] for d in data]"
   ]
  },
  {
   "cell_type": "code",
   "execution_count": 48,
   "metadata": {},
   "outputs": [],
   "source": [
    "js_placebo = [d['dataset']['js_placebo']['mean'] for d in data] "
   ]
  },
  {
   "cell_type": "code",
   "execution_count": 109,
   "metadata": {},
   "outputs": [
    {
     "data": {
      "image/png": "[encoded data removed]",
      "text/plain": [
       "<Figure size 432x288 with 1 Axes>"
      ]
     },
     "metadata": {
      "needs_background": "light"
     },
     "output_type": "display_data"
    }
   ],
   "source": [
    "plt.scatter(sessions, js)\n",
    "plt.show()"
   ]
  },
  {
   "cell_type": "code",
   "execution_count": 55,
   "metadata": {},
   "outputs": [
    {
     "data": {
      "image/png": "[encoded data removed]",
      "text/plain": [
       "<Figure size 432x288 with 1 Axes>"
      ]
     },
     "metadata": {
      "needs_background": "light"
     },
     "output_type": "display_data"
    }
   ],
   "source": [
    "plt.plot(sessions, js_placebo)\n",
    "plt.show()"
   ]
  },
  {
   "cell_type": "code",
   "execution_count": 51,
   "metadata": {},
   "outputs": [],
   "source": [
    "js_diff = np.array(js) - np.array(js_placebo)"
   ]
  },
  {
   "cell_type": "code",
   "execution_count": 110,
   "metadata": {},
   "outputs": [
    {
     "data": {
      "image/png": "[encoded data removed]",
      "text/plain": [
       "<Figure size 432x288 with 1 Axes>"
      ]
     },
     "metadata": {
      "needs_background": "light"
     },
     "output_type": "display_data"
    }
   ],
   "source": [
    "# success in detecting overall divergence !\n",
    "plt.scatter(sessions, js_diff)\n",
    "plt.ylim((0.000, 0.05))\n",
    "plt.show()"
   ]
  },
  {
   "cell_type": "code",
   "execution_count": 80,
   "metadata": {},
   "outputs": [],
   "source": [
    "n_rec_99 = np.array([d['topics'][99]['n_records'] for d in data])"
   ]
  },
  {
   "cell_type": "code",
   "execution_count": 81,
   "metadata": {},
   "outputs": [
    {
     "data": {
      "text/plain": [
       "array([   1,    0,    0,    1,    1,    1,    4,    2,    1,    0,    1,\n",
       "          6,    1,    2,    1,    0,    2,    0,    0,    3,   10,   11,\n",
       "          6,   22,   11,   12,   14,    6,   40,   14,   24,   42,   37,\n",
       "         51,   16,   56,  100,  106,  161,   73,  200,  264,  237,  549,\n",
       "        617,  691, 1177, 1199, 1573, 1913, 1866, 1894, 1864, 1701, 1308,\n",
       "       1806, 1753, 3086, 2976, 3241, 3331, 5520, 3539, 5829, 3937, 5742,\n",
       "       3207, 4445, 5693])"
      ]
     },
     "execution_count": 81,
     "metadata": {},
     "output_type": "execute_result"
    }
   ],
   "source": [
    "n_rec_99"
   ]
  },
  {
   "cell_type": "code",
   "execution_count": 87,
   "metadata": {},
   "outputs": [
    {
     "data": {
      "text/plain": [
       "array([[36]])"
      ]
     },
     "execution_count": 87,
     "metadata": {},
     "output_type": "execute_result"
    }
   ],
   "source": [
    "np.argwhere(n_rec_99 == 100)"
   ]
  },
  {
   "cell_type": "code",
   "execution_count": 85,
   "metadata": {},
   "outputs": [],
   "source": [
    "js_health = (np.array([d['topics'][99]['js_RD'] for d in data]) -\n",
    "             np.array([d['topics'][99]['js_placebo']['mean'] for d in data ]))"
   ]
  },
  {
   "cell_type": "code",
   "execution_count": 89,
   "metadata": {},
   "outputs": [
    {
     "data": {
      "text/plain": [
       "array([-1.69890431e-02, -1.90112448e-02,  9.92445128e-04,  7.67736112e-03,\n",
       "        7.08621869e-05, -1.91675129e-03,  4.21127821e-02,  1.34485764e-02,\n",
       "       -4.03679076e-03,  2.52035974e-03,  2.81325417e-02,  1.39424644e-02,\n",
       "        1.31427201e-02,  1.60953511e-02,  2.22428621e-02,  1.84344367e-02,\n",
       "        1.44303363e-02,  1.59372697e-03,  1.28031104e-02,  5.04106025e-03,\n",
       "       -1.54751434e-03,  2.05485656e-02,  2.09323676e-02,  7.64715456e-03,\n",
       "        1.78277577e-02,  1.32498904e-02,  2.44564015e-02,  8.20597371e-03,\n",
       "        5.45094219e-03,  2.82749409e-02,  1.48103847e-02,  9.59579333e-03,\n",
       "        3.98637092e-02])"
      ]
     },
     "execution_count": 89,
     "metadata": {},
     "output_type": "execute_result"
    }
   ],
   "source": [
    "js_health[45:]"
   ]
  },
  {
   "cell_type": "code",
   "execution_count": 91,
   "metadata": {},
   "outputs": [
    {
     "data": {
      "text/plain": [
       "69"
      ]
     },
     "execution_count": 91,
     "metadata": {},
     "output_type": "execute_result"
    }
   ],
   "source": [
    "len(js_health)"
   ]
  },
  {
   "cell_type": "code",
   "execution_count": 92,
   "metadata": {},
   "outputs": [
    {
     "data": {
      "text/plain": [
       "69"
      ]
     },
     "execution_count": 92,
     "metadata": {},
     "output_type": "execute_result"
    }
   ],
   "source": [
    "len(sessions)"
   ]
  },
  {
   "cell_type": "code",
   "execution_count": 165,
   "metadata": {},
   "outputs": [
    {
     "data": {
      "image/png": "[encoded data removed]",
      "text/plain": [
       "<Figure size 432x288 with 1 Axes>"
      ]
     },
     "metadata": {
      "needs_background": "light"
     },
     "output_type": "display_data"
    }
   ],
   "source": [
    "plt.plot(sessions[36:], js_health[36:])\n",
    "plt.show()"
   ]
  },
  {
   "cell_type": "code",
   "execution_count": 136,
   "metadata": {},
   "outputs": [],
   "source": [
    "session_index = dict(zip(sessions, range(len(sessions))))"
   ]
  },
  {
   "cell_type": "code",
   "execution_count": 147,
   "metadata": {},
   "outputs": [],
   "source": [
    "def analyze_session(s, data):\n",
    "    d = data[session_index[s]]\n",
    "    \n",
    "    js = [v['js_RD'] - v['js_placebo']['mean']\n",
    "          for t, v in d['topics'].items()]\n",
    "    \n",
    "    return np.array(js)"
   ]
  },
  {
   "cell_type": "code",
   "execution_count": 174,
   "metadata": {},
   "outputs": [
    {
     "data": {
      "text/plain": [
       "dict_keys(['n_records', 'n_records_R', 'n_records_D', 'n_nan_preds_R', 'n_nan_preds_D', 'hh', 'hh_R', 'hh_D', 'js_RD', 'js_placebo', 'topic_use', 'topic_use_R', 'topic_use_D'])"
      ]
     },
     "execution_count": 174,
     "metadata": {},
     "output_type": "execute_result"
    }
   ],
   "source": [
    "data[0]['topics'][0].keys()"
   ]
  },
  {
   "cell_type": "code",
   "execution_count": 149,
   "metadata": {},
   "outputs": [],
   "source": [
    "js_111 = analyze_session(111, data)"
   ]
  },
  {
   "cell_type": "code",
   "execution_count": 168,
   "metadata": {},
   "outputs": [
    {
     "data": {
      "text/plain": [
       "array([ 0.00507642,  0.04240782,  0.05873158, -0.07177333,  0.03933496,\n",
       "        0.02932894,  0.0096653 ,  0.06160078, -0.00080746,  0.        ,\n",
       "        0.02124584,  0.00748709,  0.00411589,  0.02896776, -0.00520131,\n",
       "       -0.01184928,  0.019247  ,  0.00924875, -0.00277193,  0.02199024,\n",
       "        0.01050919,  0.01024745,  0.00693724, -0.03735365,  0.00746904,\n",
       "        0.03806727,  0.05341905,  0.00156792,  0.02783158,  0.03234679,\n",
       "        0.01253957,  0.03102679,  0.01721151, -0.00401423,  0.00195476,\n",
       "        0.02183028,  0.02234976,  0.00043196,  0.01559254,  0.03009399,\n",
       "        0.00094413,  0.02773243,  0.04147174,  0.01145549,  0.02939366,\n",
       "        0.00744216,  0.01173974,  0.01512179,  0.01268422,  0.01636257,\n",
       "        0.03554134,  0.04707123,  0.01018776,  0.00998184,  0.03151142,\n",
       "        0.03138137,  0.03292645,  0.00713822,  0.02811898,  0.01047482,\n",
       "        0.        ,  0.03012667,  0.01528451,  0.02223606,  0.00475135,\n",
       "        0.0103641 , -0.01071687, -0.00591515,  0.00094546,  0.00320167,\n",
       "        0.00909285,  0.03391139,  0.01336054,  0.01482108, -0.00120553,\n",
       "        0.00321459,  0.0108321 ,  0.0058543 ,  0.01419134,  0.00177192,\n",
       "        0.00629275, -0.02196775,  0.03443291,  0.01143478,  0.02278573,\n",
       "        0.02194426,  0.03811696,  0.01465151,  0.03268457,  0.04814438,\n",
       "        0.01326539,  0.00049651,  0.01905393,  0.01462547,  0.00166162,\n",
       "        0.01213768,  0.03755069,  0.01085144, -0.00132122,  0.03986371])"
      ]
     },
     "execution_count": 168,
     "metadata": {},
     "output_type": "execute_result"
    }
   ],
   "source": [
    "js_111"
   ]
  },
  {
   "cell_type": "code",
   "execution_count": 158,
   "metadata": {},
   "outputs": [],
   "source": [
    "hot_topics = np.flip(np.argsort(js_111))"
   ]
  },
  {
   "cell_type": "code",
   "execution_count": null,
   "metadata": {},
   "outputs": [],
   "source": []
  },
  {
   "cell_type": "code",
   "execution_count": 169,
   "metadata": {},
   "outputs": [
    {
     "data": {
      "text/plain": [
       "array([0.06160078, 0.05873158, 0.05341905, 0.04814438, 0.04707123,\n",
       "       0.04240782, 0.04147174, 0.03986371, 0.03933496, 0.03811696])"
      ]
     },
     "execution_count": 169,
     "metadata": {},
     "output_type": "execute_result"
    }
   ],
   "source": [
    "js_111[hot_topics[:10]]"
   ]
  },
  {
   "cell_type": "code",
   "execution_count": 170,
   "metadata": {},
   "outputs": [
    {
     "data": {
      "text/plain": [
       "array([[['o', '0.684'],\n",
       "        ['q', '0.667'],\n",
       "        ['l', '0.66'],\n",
       "        ['h', '0.657'],\n",
       "        ['k', '0.647'],\n",
       "        ['n', '0.627'],\n",
       "        ['w', '0.62'],\n",
       "        ['e', '0.603'],\n",
       "        ['p', '0.599'],\n",
       "        ['na', '0.587']],\n",
       "\n",
       "       [['nomination', '0.686'],\n",
       "        ['votes', '0.664'],\n",
       "        ['nominees', '0.637'],\n",
       "        ['nominations', '0.634'],\n",
       "        ['nominee', '0.625'],\n",
       "        ['candidates', '0.618'],\n",
       "        ['nominated', '0.609'],\n",
       "        ['polls', '0.601'],\n",
       "        ['vote', '0.601'],\n",
       "        ['election', '0.592']],\n",
       "\n",
       "       [['134', '0.878'],\n",
       "        ['173', '0.876'],\n",
       "        ['157', '0.873'],\n",
       "        ['143', '0.87'],\n",
       "        ['136', '0.87'],\n",
       "        ['232', '0.869'],\n",
       "        ['169', '0.869'],\n",
       "        ['139', '0.868'],\n",
       "        ['163', '0.867'],\n",
       "        ['161', '0.865']],\n",
       "\n",
       "       [['amending', '0.513'],\n",
       "        ['amendments', '0.504'],\n",
       "        ['authorizing', '0.495'],\n",
       "        ['objecting', '0.473'],\n",
       "        ['approving', '0.469'],\n",
       "        ['enactment', '0.466'],\n",
       "        ['reinstituting', '0.457'],\n",
       "        ['mandating', '0.455'],\n",
       "        ['amend', '0.449'],\n",
       "        ['considering', '0.444']],\n",
       "\n",
       "       [['trafficking', '0.788'],\n",
       "        ['crime', '0.733'],\n",
       "        ['prostitution', '0.719'],\n",
       "        ['offenses', '0.713'],\n",
       "        ['narcotics', '0.695'],\n",
       "        ['pornography', '0.69'],\n",
       "        ['smuggling', '0.675'],\n",
       "        ['gang', '0.672'],\n",
       "        ['robbery', '0.668'],\n",
       "        ['illegal', '0.666']],\n",
       "\n",
       "       [['improving', '0.582'],\n",
       "        ['opportunities', '0.538'],\n",
       "        ['integrating', '0.533'],\n",
       "        ['improve', '0.532'],\n",
       "        ['innovation', '0.532'],\n",
       "        ['objectives', '0.53'],\n",
       "        ['ensuring', '0.527'],\n",
       "        ['goals', '0.526'],\n",
       "        ['strategies', '0.523'],\n",
       "        ['innovative', '0.511']],\n",
       "\n",
       "       [['assistant', '0.741'],\n",
       "        ['deputy', '0.7'],\n",
       "        ['associate', '0.698'],\n",
       "        ['chief', '0.677'],\n",
       "        ['vice', '0.628'],\n",
       "        ['professor', '0.625'],\n",
       "        ['adviser', '0.623'],\n",
       "        ['executive', '0.615'],\n",
       "        ['senior', '0.614'],\n",
       "        ['director', '0.61']],\n",
       "\n",
       "       [['care', '0.704'],\n",
       "        ['healthcare', '0.666'],\n",
       "        ['medicaid', '0.657'],\n",
       "        ['uninsured', '0.646'],\n",
       "        ['medicare', '0.637'],\n",
       "        ['affordable', '0.633'],\n",
       "        ['prescription', '0.624'],\n",
       "        ['elderly', '0.615'],\n",
       "        ['health', '0.611'],\n",
       "        ['beneficiaries', '0.599']],\n",
       "\n",
       "       [['guys', '0.533'],\n",
       "        ['ital', '0.515'],\n",
       "        [\"'re\", '0.5'],\n",
       "        ['wondering', '0.487'],\n",
       "        ['dad', '0.483'],\n",
       "        ['maybe', '0.482'],\n",
       "        ['somebody', '0.481'],\n",
       "        ['kids', '0.476'],\n",
       "        ['getting', '0.474'],\n",
       "        ['everybody', '0.47']],\n",
       "\n",
       "       [['constitutionally', '0.505'],\n",
       "        ['violates', '0.491'],\n",
       "        ['sovereignty', '0.489'],\n",
       "        ['lawful', '0.483'],\n",
       "        ['inalienable', '0.477'],\n",
       "        ['liberty', '0.471'],\n",
       "        ['violate', '0.469'],\n",
       "        ['constitution', '0.469'],\n",
       "        ['freedoms', '0.469'],\n",
       "        ['legitimate', '0.465']],\n",
       "\n",
       "       [['gold', '0.743'],\n",
       "        ['bullion', '0.694'],\n",
       "        ['coins', '0.676'],\n",
       "        ['silver', '0.674'],\n",
       "        ['currency', '0.612'],\n",
       "        ['coin', '0.605'],\n",
       "        ['coinage', '0.581'],\n",
       "        ['bond', '0.576'],\n",
       "        ['ounce', '0.562'],\n",
       "        ['dollar', '0.558']],\n",
       "\n",
       "       [['constitution', '0.52'],\n",
       "        ['clause', '0.519'],\n",
       "        ['rule', '0.511'],\n",
       "        ['restriction', '0.511'],\n",
       "        ['amendment', '0.504'],\n",
       "        ['statute', '0.49'],\n",
       "        ['rules', '0.473'],\n",
       "        ['mandating', '0.472'],\n",
       "        ['unconstitutional', '0.471'],\n",
       "        ['constitutional', '0.468']],\n",
       "\n",
       "       [['appropriation', '0.627'],\n",
       "        ['appropriated', '0.587'],\n",
       "        ['earmarked', '0.57'],\n",
       "        ['funding', '0.565'],\n",
       "        ['million', '0.562'],\n",
       "        ['earmark', '0.53'],\n",
       "        ['billion', '0.528'],\n",
       "        ['stimulus', '0.521'],\n",
       "        ['renovation', '0.519'],\n",
       "        ['grants', '0.504']],\n",
       "\n",
       "       [['pensions', '0.655'],\n",
       "        ['benefits', '0.645'],\n",
       "        ['wages', '0.635'],\n",
       "        ['compensation', '0.628'],\n",
       "        ['pension', '0.622'],\n",
       "        ['severance', '0.612'],\n",
       "        ['employer', '0.602'],\n",
       "        ['unpaid', '0.599'],\n",
       "        ['salary', '0.596'],\n",
       "        ['salaries', '0.582']],\n",
       "\n",
       "       [['computing', '0.664'],\n",
       "        ['computational', '0.654'],\n",
       "        ['simulation', '0.629'],\n",
       "        ['quantum', '0.623'],\n",
       "        ['imaging', '0.621'],\n",
       "        ['algorithms', '0.613'],\n",
       "        ['computation', '0.607'],\n",
       "        ['mathematical', '0.599'],\n",
       "        ['optics', '0.596'],\n",
       "        ['methods', '0.588']]], dtype='<U16')"
      ]
     },
     "execution_count": 170,
     "metadata": {},
     "output_type": "execute_result"
    }
   ],
   "source": [
    "analyzer.topic_nns[hot_topics[:15]]"
   ]
  },
  {
   "cell_type": "code",
   "execution_count": 164,
   "metadata": {},
   "outputs": [
    {
     "data": {
      "text/plain": [
       "array([[['o', '0.684'],\n",
       "        ['q', '0.667'],\n",
       "        ['l', '0.66'],\n",
       "        ['h', '0.657'],\n",
       "        ['k', '0.647'],\n",
       "        ['n', '0.627'],\n",
       "        ['w', '0.62'],\n",
       "        ['e', '0.603'],\n",
       "        ['p', '0.599'],\n",
       "        ['na', '0.587']],\n",
       "\n",
       "       [['guys', '0.533'],\n",
       "        ['ital', '0.515'],\n",
       "        [\"'re\", '0.5'],\n",
       "        ['wondering', '0.487'],\n",
       "        ['dad', '0.483'],\n",
       "        ['maybe', '0.482'],\n",
       "        ['somebody', '0.481'],\n",
       "        ['kids', '0.476'],\n",
       "        ['getting', '0.474'],\n",
       "        ['everybody', '0.47']],\n",
       "\n",
       "       [['slap', '0.445'],\n",
       "        ['give', '0.441'],\n",
       "        ['get', '0.414'],\n",
       "        ['lose', '0.413'],\n",
       "        ['cut', '0.412'],\n",
       "        ['try', '0.405'],\n",
       "        ['grab', '0.402'],\n",
       "        ['got', '0.396'],\n",
       "        ['osgood', '0.394'],\n",
       "        ['snap', '0.394']],\n",
       "\n",
       "       [['door', '0.64'],\n",
       "        ['upstairs', '0.606'],\n",
       "        ['bed', '0.605'],\n",
       "        ['inside', '0.591'],\n",
       "        ['room', '0.589'],\n",
       "        ['window', '0.583'],\n",
       "        ['closet', '0.581'],\n",
       "        ['bag', '0.58'],\n",
       "        ['downstairs', '0.579'],\n",
       "        ['bathroom', '0.57']],\n",
       "\n",
       "       [['gerrard', '0.478'],\n",
       "        ['keane', '0.451'],\n",
       "        ['ballack', '0.437'],\n",
       "        ['lampard', '0.433'],\n",
       "        ['equalised', '0.422'],\n",
       "        ['minute', '0.416'],\n",
       "        ['start', '0.404'],\n",
       "        ['minutes', '0.404'],\n",
       "        ['crouch', '0.4'],\n",
       "        ['robbie', '0.398']],\n",
       "\n",
       "       [['recess', '0.543'],\n",
       "        ['tuesday', '0.539'],\n",
       "        ['session', '0.539'],\n",
       "        ['wednesday', '0.538'],\n",
       "        ['monday', '0.538'],\n",
       "        ['sunday', '0.527'],\n",
       "        ['friday', '0.527'],\n",
       "        ['afternoon', '0.527'],\n",
       "        ['thursday', '0.525'],\n",
       "        ['saturday', '0.525']],\n",
       "\n",
       "       [['applause', '0.524'],\n",
       "        ['smile', '0.511'],\n",
       "        ['loud', '0.488'],\n",
       "        ['cheers', '0.486'],\n",
       "        ['laugh', '0.484'],\n",
       "        ['shouted', '0.479'],\n",
       "        ['shouting', '0.479'],\n",
       "        ['joking', '0.479'],\n",
       "        ['waved', '0.478'],\n",
       "        ['shout', '0.476']],\n",
       "\n",
       "       [['older', '0.548'],\n",
       "        ['age', '0.501'],\n",
       "        ['ages', '0.49'],\n",
       "        ['younger', '0.484'],\n",
       "        ['couples', '0.465'],\n",
       "        ['aged', '0.465'],\n",
       "        ['unemployed', '0.461'],\n",
       "        ['males', '0.459'],\n",
       "        ['siblings', '0.456'],\n",
       "        ['unmarried', '0.454']]], dtype='<U16')"
      ]
     },
     "execution_count": 164,
     "metadata": {},
     "output_type": "execute_result"
    }
   ],
   "source": [
    "analyzer.topic_nns[[7,4,6,90,70, 16, 0, 36]]"
   ]
  },
  {
   "cell_type": "code",
   "execution_count": 155,
   "metadata": {},
   "outputs": [
    {
     "data": {
      "text/plain": [
       "{'n_records': 142,\n",
       " 'n_records_R': 77,\n",
       " 'n_records_D': 65,\n",
       " 'n_nan_preds_R': 0,\n",
       " 'n_nan_preds_D': 0,\n",
       " 'hh': 0.27200016,\n",
       " 'hh_R': 0.21837552,\n",
       " 'hh_D': 0.34693632,\n",
       " 'js_RD': 0.12270070382035284,\n",
       " 'js_placebo': {'mean': 0.061099920874396696,\n",
       "  'lower': 0.05591437027279238,\n",
       "  'upper': 0.06628547147600101},\n",
       " 'topic_use': [(7, 0.5092393159866333),\n",
       "  (4, 0.05623307079076767),\n",
       "  (6, 0.05310580134391785),\n",
       "  (90, 0.03827812150120735),\n",
       "  (70, 0.031031956896185875),\n",
       "  (16, 0.028565548360347748),\n",
       "  (0, 0.026814889162778854),\n",
       "  (36, 0.02578550949692726),\n",
       "  (87, 0.020151568576693535),\n",
       "  (19, 0.016624877229332924),\n",
       "  (21, 0.014648061245679855),\n",
       "  (53, 0.013328121043741703),\n",
       "  (17, 0.011711157858371735),\n",
       "  (63, 0.010465249419212341),\n",
       "  (49, 0.009942498058080673),\n",
       "  (78, 0.009332406334578991),\n",
       "  (81, 0.00877384003251791),\n",
       "  (43, 0.008559748530387878),\n",
       "  (11, 0.008046663366258144),\n",
       "  (83, 0.007502386346459389),\n",
       "  (8, 0.007098901551216841),\n",
       "  (66, 0.005922737531363964),\n",
       "  (42, 0.005152096971869469),\n",
       "  (24, 0.004777274094521999),\n",
       "  (15, 0.00451291399076581),\n",
       "  (26, 0.004166146274656057),\n",
       "  (50, 0.0036495428066700697),\n",
       "  (25, 0.003346616169437766),\n",
       "  (68, 0.003298804396763444),\n",
       "  (95, 0.003042523516342044),\n",
       "  (75, 0.002892808523029089),\n",
       "  (29, 0.0024565942585468292),\n",
       "  (20, 0.0023119908291846514),\n",
       "  (92, 0.0022316845133900642),\n",
       "  (56, 0.0021438272669911385),\n",
       "  (34, 0.0021413154900074005),\n",
       "  (93, 0.001973420614376664),\n",
       "  (44, 0.001903475378639996),\n",
       "  (39, 0.0017847602721303701),\n",
       "  (91, 0.001733941724523902),\n",
       "  (2, 0.0016132098389789462),\n",
       "  (33, 0.0015859795967116952),\n",
       "  (99, 0.0012484956532716751),\n",
       "  (74, 0.0012375160586088896),\n",
       "  (61, 0.0012313885381445289),\n",
       "  (71, 0.0011313172290101647),\n",
       "  (82, 0.0010618279920890927),\n",
       "  (65, 0.0010415795259177685),\n",
       "  (79, 0.0010360957821831107),\n",
       "  (23, 0.0009800213156268),\n",
       "  (98, 0.0009425382013432682),\n",
       "  (32, 0.0008184409234672785),\n",
       "  (55, 0.0007369329687207937),\n",
       "  (62, 0.0006973138661123812),\n",
       "  (77, 0.0006813053623773158),\n",
       "  (41, 0.0006471360684372485),\n",
       "  (37, 0.0006401975988410413),\n",
       "  (13, 0.0005928085302002728),\n",
       "  (60, 0.0005879560485482216),\n",
       "  (89, 0.0004456171882338822),\n",
       "  (3, 0.0004288287600502372),\n",
       "  (72, 0.0004189612518530339),\n",
       "  (96, 0.00041233282536268234),\n",
       "  (57, 0.0003771597985178232),\n",
       "  (88, 0.00037275487557053566),\n",
       "  (45, 0.00035348135861568153),\n",
       "  (73, 0.0003336563240736723),\n",
       "  (52, 0.0003242641396354884),\n",
       "  (18, 0.0002675828873179853),\n",
       "  (86, 0.0002339726488571614),\n",
       "  (85, 0.00022632050968240947),\n",
       "  (31, 0.00022433584672398865),\n",
       "  (22, 0.00020653833053074777),\n",
       "  (47, 0.00015600472397636622),\n",
       "  (54, 0.00014460081001743674),\n",
       "  (9, 0.00014167357585392892),\n",
       "  (35, 0.000137376700877212),\n",
       "  (1, 0.0001264966995222494),\n",
       "  (80, 0.00012188420805614442),\n",
       "  (28, 0.00011726715456461534),\n",
       "  (46, 0.00011226398055441678),\n",
       "  (30, 0.00010334107355447486),\n",
       "  (14, 0.00010133504110854119),\n",
       "  (59, 0.00010019271576311439),\n",
       "  (64, 8.752572466619313e-05),\n",
       "  (97, 8.419979712925851e-05),\n",
       "  (5, 8.18665066617541e-05),\n",
       "  (12, 7.894667214713991e-05),\n",
       "  (69, 7.485689275199547e-05),\n",
       "  (27, 7.028340041870251e-05),\n",
       "  (76, 6.85697013977915e-05),\n",
       "  (94, 6.248865247471258e-05),\n",
       "  (48, 4.05553582822904e-05),\n",
       "  (51, 3.734988422365859e-05),\n",
       "  (40, 3.636857945821248e-05),\n",
       "  (38, 2.5882862246362492e-05),\n",
       "  (67, 2.4013035726966336e-05),\n",
       "  (58, 2.0695015336968936e-05),\n",
       "  (84, 1.989363954635337e-05),\n",
       "  (10, 4.142997568123974e-06)],\n",
       " 'topic_use_R': [(7, 0.4481188654899597),\n",
       "  (4, 0.06236279383301735),\n",
       "  (6, 0.056812580674886703),\n",
       "  (90, 0.05299200862646103),\n",
       "  (70, 0.04172418639063835),\n",
       "  (0, 0.03862587362527847),\n",
       "  (16, 0.03277645260095596),\n",
       "  (36, 0.023845262825489044),\n",
       "  (87, 0.023243160918354988),\n",
       "  (19, 0.02109924517571926),\n",
       "  (21, 0.0185153316706419),\n",
       "  (53, 0.01803925447165966),\n",
       "  (17, 0.013755448162555695),\n",
       "  (49, 0.012531294487416744),\n",
       "  (43, 0.011601771228015423),\n",
       "  (63, 0.010359888896346092),\n",
       "  (8, 0.008906299248337746),\n",
       "  (78, 0.008692270144820213),\n",
       "  (83, 0.00849395152181387),\n",
       "  (11, 0.007914829067885876),\n",
       "  (81, 0.007350737228989601),\n",
       "  (66, 0.005876281764358282),\n",
       "  (15, 0.004168128129094839),\n",
       "  (95, 0.004155504517257214),\n",
       "  (42, 0.004079980310052633),\n",
       "  (75, 0.0035615067463368177),\n",
       "  (92, 0.0031883304473012686),\n",
       "  (68, 0.0029434531461447477),\n",
       "  (25, 0.0025967953260987997),\n",
       "  (2, 0.002178255934268236),\n",
       "  (24, 0.002126323990523815),\n",
       "  (91, 0.0021037375554442406),\n",
       "  (39, 0.0020912012550979853),\n",
       "  (93, 0.0020578436087816954),\n",
       "  (26, 0.001929837977513671),\n",
       "  (74, 0.0018928720382973552),\n",
       "  (71, 0.0017893749754875898),\n",
       "  (79, 0.0016661479603499174),\n",
       "  (82, 0.0015105002094060183),\n",
       "  (50, 0.0014350238488987088),\n",
       "  (56, 0.0014170159120112658),\n",
       "  (55, 0.001256468240171671),\n",
       "  (61, 0.0012167062377557158),\n",
       "  (44, 0.0010665423469617963),\n",
       "  (23, 0.0009964664932340384),\n",
       "  (62, 0.0008973241201601923),\n",
       "  (60, 0.0008315200102515519),\n",
       "  (29, 0.0008060307591222227),\n",
       "  (98, 0.0007448391406796873),\n",
       "  (37, 0.0007353186956606805),\n",
       "  (77, 0.0007259838748723269),\n",
       "  (34, 0.0006850144709460437),\n",
       "  (45, 0.0006323721027001739),\n",
       "  (32, 0.0006249725702218711),\n",
       "  (33, 0.0005565581959672272),\n",
       "  (99, 0.0005100276903249323),\n",
       "  (65, 0.0005069075850769877),\n",
       "  (3, 0.0005019378149881959),\n",
       "  (96, 0.0004982987302355468),\n",
       "  (18, 0.00045073172077536583),\n",
       "  (86, 0.00040486696525476873),\n",
       "  (57, 0.0003686233249027282),\n",
       "  (41, 0.00033040286507457495),\n",
       "  (85, 0.0003164642257615924),\n",
       "  (22, 0.0003110875259153545),\n",
       "  (89, 0.00024911388754844666),\n",
       "  (88, 0.00023551640333607793),\n",
       "  (20, 0.0002148594066966325),\n",
       "  (31, 0.00020398634660523385),\n",
       "  (9, 0.0001956256019184366),\n",
       "  (14, 0.00017547998868394643),\n",
       "  (1, 0.00017476022185292095),\n",
       "  (13, 0.0001624591095605865),\n",
       "  (72, 0.00014740611368324608),\n",
       "  (28, 0.00014733834541402757),\n",
       "  (80, 0.00014408912102226168),\n",
       "  (46, 0.00014185778854880482),\n",
       "  (12, 0.0001379169843858108),\n",
       "  (52, 0.0001341970928478986),\n",
       "  (97, 0.0001334124681307003),\n",
       "  (73, 0.00010955414472846314),\n",
       "  (64, 9.468780626775697e-05),\n",
       "  (59, 8.595202962169424e-05),\n",
       "  (30, 8.433784387307242e-05),\n",
       "  (76, 7.567212742287666e-05),\n",
       "  (48, 5.7565688621252775e-05),\n",
       "  (27, 5.615644477074966e-05),\n",
       "  (69, 5.388411591411568e-05),\n",
       "  (40, 4.988117507309653e-05),\n",
       "  (51, 4.182446718914434e-05),\n",
       "  (35, 3.8419362681452185e-05),\n",
       "  (47, 3.009187821589876e-05),\n",
       "  (84, 2.5878744054352865e-05),\n",
       "  (38, 2.3516178771387786e-05),\n",
       "  (94, 1.790738861018326e-05),\n",
       "  (67, 1.694137608865276e-05),\n",
       "  (5, 1.3860894796380308e-05),\n",
       "  (54, 1.3353331269172486e-05),\n",
       "  (10, 3.908729013346601e-06),\n",
       "  (58, 3.677241465993575e-06)],\n",
       " 'topic_use_D': [(7, 0.5816435813903809),\n",
       "  (4, 0.04897169768810272),\n",
       "  (6, 0.04871467873454094),\n",
       "  (36, 0.02808396704494953),\n",
       "  (16, 0.02357723005115986),\n",
       "  (90, 0.020847810432314873),\n",
       "  (70, 0.0183657705783844),\n",
       "  (87, 0.016489220783114433),\n",
       "  (0, 0.012823415920138359),\n",
       "  (19, 0.011324480175971985),\n",
       "  (63, 0.010590060614049435),\n",
       "  (81, 0.010459668934345245),\n",
       "  (78, 0.01009072083979845),\n",
       "  (21, 0.010066818445920944),\n",
       "  (17, 0.009289455600082874),\n",
       "  (11, 0.008202832192182541),\n",
       "  (24, 0.007917632348835468),\n",
       "  (53, 0.007747248280793428),\n",
       "  (49, 0.0068757724948227406),\n",
       "  (26, 0.006815308704972267),\n",
       "  (42, 0.006422142963856459),\n",
       "  (83, 0.006327764131128788),\n",
       "  (50, 0.006272896192967892),\n",
       "  (66, 0.005977770779281855),\n",
       "  (8, 0.004957830999046564),\n",
       "  (43, 0.004956122487783432),\n",
       "  (15, 0.004921351093798876),\n",
       "  (20, 0.004796285182237625),\n",
       "  (29, 0.004411877598613501),\n",
       "  (25, 0.00423486577346921),\n",
       "  (34, 0.0038664734456688166),\n",
       "  (68, 0.0037197584751993418),\n",
       "  (56, 0.003004819853231311),\n",
       "  (44, 0.0028949191328138113),\n",
       "  (33, 0.002805447904393077),\n",
       "  (99, 0.0021232953295111656),\n",
       "  (75, 0.0021006581373512745),\n",
       "  (93, 0.0018734128680080175),\n",
       "  (95, 0.001724070287309587),\n",
       "  (65, 0.001674960134550929),\n",
       "  (39, 0.0014217451680451632),\n",
       "  (91, 0.0012958769220858812),\n",
       "  (61, 0.0012487818021327257),\n",
       "  (98, 0.0011767358519136906),\n",
       "  (13, 0.001102606882341206),\n",
       "  (92, 0.0010984265245497227),\n",
       "  (32, 0.0010476261377334595),\n",
       "  (41, 0.0010223431745544076),\n",
       "  (23, 0.000960540201049298),\n",
       "  (2, 0.0009438474662601948),\n",
       "  (72, 0.0007406495860777795),\n",
       "  (89, 0.0006783982389606535),\n",
       "  (77, 0.0006283786497078836),\n",
       "  (73, 0.0005991311627440155),\n",
       "  (52, 0.0005494204815477133),\n",
       "  (88, 0.0005353294545784593),\n",
       "  (82, 0.0005303250509314239),\n",
       "  (37, 0.0005275157163850963),\n",
       "  (74, 0.00046117158490233123),\n",
       "  (62, 0.0004603788838721812),\n",
       "  (57, 0.0003872720117215067),\n",
       "  (71, 0.00035177290556021035),\n",
       "  (3, 0.00034222271642647684),\n",
       "  (96, 0.0003104961651843041),\n",
       "  (47, 0.0003051629464607686),\n",
       "  (54, 0.0003000786527991295),\n",
       "  (60, 0.00029942646506242454),\n",
       "  (79, 0.0002897266822401434),\n",
       "  (35, 0.00025460304459556937),\n",
       "  (31, 0.0002484422002453357),\n",
       "  (5, 0.00016242696437984705),\n",
       "  (30, 0.0001258525880984962),\n",
       "  (55, 0.00012148381938459352),\n",
       "  (85, 0.00011953493958571926),\n",
       "  (59, 0.00011706243094522506),\n",
       "  (94, 0.00011530031770234928),\n",
       "  (69, 9.970155952032655e-05),\n",
       "  (80, 9.558013698551804e-05),\n",
       "  (27, 8.701840124558657e-05),\n",
       "  (22, 8.268772216979414e-05),\n",
       "  (28, 8.164447353919968e-05),\n",
       "  (64, 7.904144149506465e-05),\n",
       "  (9, 7.776123675284907e-05),\n",
       "  (46, 7.720671419519931e-05),\n",
       "  (1, 6.932293763384223e-05),\n",
       "  (76, 6.015608232701197e-05),\n",
       "  (18, 5.0621776608750224e-05),\n",
       "  (58, 4.085452383151278e-05),\n",
       "  (67, 3.239022771595046e-05),\n",
       "  (51, 3.204921813448891e-05),\n",
       "  (86, 3.152870704070665e-05),\n",
       "  (38, 2.868647607101593e-05),\n",
       "  (97, 2.5901746994350106e-05),\n",
       "  (45, 2.3103328203433193e-05),\n",
       "  (48, 2.0404637325555086e-05),\n",
       "  (40, 2.036135811067652e-05),\n",
       "  (14, 1.3501852663466707e-05),\n",
       "  (84, 1.280358719668584e-05),\n",
       "  (12, 9.089509148907382e-06),\n",
       "  (10, 4.42051805293886e-06)]}"
      ]
     },
     "execution_count": 155,
     "metadata": {},
     "output_type": "execute_result"
    }
   ],
   "source": [
    "data[session_index[111]]['topics'][7]"
   ]
  },
  {
   "cell_type": "code",
   "execution_count": null,
   "metadata": {},
   "outputs": [],
   "source": []
  },
  {
   "cell_type": "code",
   "execution_count": 150,
   "metadata": {},
   "outputs": [
    {
     "data": {
      "text/plain": [
       "(array([ 1.,  0.,  1.,  1.,  4., 27., 31., 22., 10.,  3.]),\n",
       " array([-0.07177333, -0.05843592, -0.04509851, -0.0317611 , -0.01842368,\n",
       "        -0.00508627,  0.00825114,  0.02158855,  0.03492596,  0.04826337,\n",
       "         0.06160078]),\n",
       " <a list of 10 Patch objects>)"
      ]
     },
     "execution_count": 150,
     "metadata": {},
     "output_type": "execute_result"
    },
    {
     "data": {
      "image/png": "[encoded data removed]",
      "text/plain": [
       "<Figure size 432x288 with 1 Axes>"
      ]
     },
     "metadata": {
      "needs_background": "light"
     },
     "output_type": "display_data"
    }
   ],
   "source": [
    "plt.hist(js_111)"
   ]
  },
  {
   "cell_type": "markdown",
   "metadata": {},
   "source": [
    "# Playing with the model itself"
   ]
  },
  {
   "cell_type": "code",
   "execution_count": 112,
   "metadata": {},
   "outputs": [],
   "source": [
    "# load embedding tools\n",
    "prayer_tools_path = \"/home/rocassius/gen-data/tools/prayer_tools\"\n",
    "generic_tools_path = \"/home/rocassius/gen-data/tools/generic_tools\"\n",
    "\n",
    "global_embedding_matrix = load_pickled_object(os.path.join(prayer_tools_path, \"embedding_matrix_wg\"))\n",
    "global_tokenizer_dict = load_pickled_object(os.path.join(prayer_tools_path, \"tokenizer_dict_wg\"))"
   ]
  },
  {
   "cell_type": "code",
   "execution_count": 124,
   "metadata": {},
   "outputs": [],
   "source": [
    "RMN_NAME = \"PoliteFinish\"\n",
    "RMN_PATH = \"/home/rocassius/gen-data/models\"\n",
    "\n",
    "rmn = RigidRMN()\n",
    "rmn.load_rmn(name=RMN_NAME, save_path=RMN_PATH)\n",
    "rmn.infer_embedding_matrix = global_embedding_matrix\n",
    "rmn.infer_tokenizer_dict = global_tokenizer_dict"
   ]
  },
  {
   "cell_type": "code",
   "execution_count": 121,
   "metadata": {},
   "outputs": [],
   "source": [
    "from constant import DOC_GEN_PATH, DOCUMENT\n",
    "\n",
    "docs_df = load_pickled_object(os.path.join(\"/home/rocassius/gen-data/doc/doc-generic/\", DOCUMENT % 'sample'))"
   ]
  },
  {
   "cell_type": "code",
   "execution_count": 125,
   "metadata": {},
   "outputs": [],
   "source": [
    "analyzer = RMN_Analyzer(rmn, docs_df)"
   ]
  },
  {
   "cell_type": "code",
   "execution_count": 126,
   "metadata": {},
   "outputs": [],
   "source": [
    "analyzer.predict_topics()"
   ]
  },
  {
   "cell_type": "code",
   "execution_count": 127,
   "metadata": {},
   "outputs": [
    {
     "name": "stdout",
     "output_type": "stream",
     "text": [
      "====================\n",
      "\n",
      "Topic 0\n",
      "['applause', 'smile', 'loud', 'cheers', 'laugh', 'shouted', 'shouting', 'joking', 'waved', 'shout']\n",
      "====================\n",
      "\n",
      "Topic 1\n",
      "['improving', 'opportunities', 'integrating', 'improve', 'innovation', 'objectives', 'ensuring', 'goals', 'strategies', 'innovative']\n",
      "====================\n",
      "\n",
      "Topic 2\n",
      "['nomination', 'votes', 'nominees', 'nominations', 'nominee', 'candidates', 'nominated', 'polls', 'vote', 'election']\n",
      "====================\n",
      "\n",
      "Topic 3\n",
      "['examples', 'merely', 'describe', 'instances', 'example', 'abbāsābād', 'mentioned', 'instance', 'simple', 'penchant']\n",
      "====================\n",
      "\n",
      "Topic 4\n",
      "['guys', 'ital', \"'re\", 'wondering', 'dad', 'maybe', 'somebody', 'kids', 'getting', 'everybody']\n",
      "====================\n",
      "\n",
      "Topic 5\n",
      "['nicaragua', 'salvador', 'fidel', 'castro', 'dictatorship', 'junta', 'marxist', 'leftist', 'nicaraguan', 'regime']\n",
      "====================\n",
      "\n",
      "Topic 6\n",
      "['slap', 'give', 'get', 'lose', 'cut', 'try', 'grab', 'got', 'osgood', 'snap']\n",
      "====================\n",
      "\n",
      "Topic 7\n",
      "['o', 'q', 'l', 'h', 'k', 'n', 'w', 'e', 'p', 'na']\n",
      "====================\n",
      "\n",
      "Topic 8\n",
      "['commenting', 'listens', 'elaborating', 'interviewer', 'candidly', 'talk', 'specifics', 'news', 'listened', 'comment']\n",
      "====================\n",
      "\n",
      "Topic 9\n",
      "['logically', 'genuinely', 'inherently', 'predictably', 'positively', 'absolutely', 'reasonably', 'fairly', 'otherwise', 'terribly']\n",
      "====================\n",
      "\n",
      "Topic 10\n",
      "['nazis', 'polish', 'soviet', 'jews', 'germans', 'nazi', 'hungarian', 'romanian', 'russians', 'lithuanian']\n",
      "====================\n",
      "\n",
      "Topic 11\n",
      "['grandson', 'grandfather', 'poet', 'famous', 'father', 'renowned', 'friend', 'granddaughter', 'widow', 'son']\n",
      "====================\n",
      "\n",
      "Topic 12\n",
      "['shameful', 'implication', 'unfortunate', 'inexcusable', 'misstep', 'inexplicable', 'demoralizing', 'inescapable', 'mystifying', 'shortcoming']\n",
      "====================\n",
      "\n",
      "Topic 13\n",
      "['repair', 'infrastructure', 'damaged', 'sanitation', 'buildings', 'housing', 'damage', 'shelters', 'facilities', 'rebuild']\n",
      "====================\n",
      "\n",
      "Topic 14\n",
      "['adhering', 'dictating', 'strictly', 'dismantling', 'altering', 'dispose', 'undesirable', 'prohibited', 'inimical', 'immoral']\n",
      "====================\n",
      "\n",
      "Topic 15\n",
      "['number', 'volume', 'attendance', 'numbered', 'numbers', 'composed', 'release', 'given', 'subset', 'sum']\n",
      "====================\n",
      "\n",
      "Topic 16\n",
      "['recess', 'tuesday', 'session', 'wednesday', 'monday', 'sunday', 'friday', 'afternoon', 'thursday', 'saturday']\n",
      "====================\n",
      "\n",
      "Topic 17\n",
      "['yourself', 'quietly', 'pulling', 'practically', 'permanently', 'shut', \"'ll\", 'pull', 'liven', 'plunk']\n",
      "====================\n",
      "\n",
      "Topic 18\n",
      "['whenever', 'oneself', 'happens', 'spite', 'exists', 'disguise', 'uncommon', 'otherwise', 'follows', 'arises']\n",
      "====================\n",
      "\n",
      "Topic 19\n",
      "['agents', 'operatives', 'interrogators', 'reporters', 'secretly', 'fbi', 'searched', 'contacted', 'asked', 'alerted']\n",
      "====================\n",
      "\n",
      "Topic 20\n",
      "['development', 'promote', 'sustainable', 'adb', 'economic', 'recovery', 'initiative', 'promoting', 'empowerment', 'creation']\n",
      "====================\n",
      "\n",
      "Topic 21\n",
      "['tries', 'pass', 'try', 'throws', 'forwards', 'damon', 'nice', 'helped', 'give', 'come']\n",
      "====================\n",
      "\n",
      "Topic 22\n",
      "['textiles', 'apparel', 'goods', 'footwear', 'automobiles', 'accessories', 'clothing', 'electronics', 'manufacturers', 'products']\n",
      "====================\n",
      "\n",
      "Topic 23\n",
      "['disclosed', 'confirming', 'purportedly', 'falsely', 'admitting', 'misled', 'allegations', 'confirmed', 'lied', 'denying']\n",
      "====================\n",
      "\n",
      "Topic 24\n",
      "['1899', '1902', '1903', '1907', '1909', '1888', '1914', '1872', '1883', '1919']\n",
      "====================\n",
      "\n",
      "Topic 25\n",
      "['gold', 'bullion', 'coins', 'silver', 'currency', 'coin', 'coinage', 'bond', 'ounce', 'dollar']\n",
      "====================\n",
      "\n",
      "Topic 26\n",
      "['134', '173', '157', '143', '136', '232', '169', '139', '163', '161']\n",
      "====================\n",
      "\n",
      "Topic 27\n",
      "['liberal', 'party', 'conservative', 'nationalist', 'movement', 'progressive', 'opposition', 'unionist', 'radical', 'leader']\n",
      "====================\n",
      "\n",
      "Topic 28\n",
      "['differences', 'attitudes', 'racial', 'viewpoints', 'themes', 'feelings', 'perspectives', 'prejudices', 'perceptions', 'issues']\n",
      "====================\n",
      "\n",
      "Topic 29\n",
      "['cancer', 'disease', 'infection', 'diabetes', 'diseases', 'cancers', 'patients', 'alzheimer', 'infections', 'prostate']\n",
      "====================\n",
      "\n",
      "Topic 30\n",
      "['industry', 'firms', 'market', 'companies', 'markets', 'marketplace', 'business', 'trade', 'businesses', 'global']\n",
      "====================\n",
      "\n",
      "Topic 31\n",
      "['milk', 'juice', 'vegetables', 'yogurt', 'ingredients', 'cheese', 'butter', 'cream', 'canned', 'fruit']\n",
      "====================\n",
      "\n",
      "Topic 32\n",
      "['chairmen', 'committees', 'chairmanship', 'committee', 'prominent', 'ministers', 'debates', 'aides', 'lawmakers', 'politicians']\n",
      "====================\n",
      "\n",
      "Topic 33\n",
      "['coast', 'ports', 'port', 'coasts', 'atlantic', 'islands', 'coastline', 'shipping', 'caribbean', 'shore']\n",
      "====================\n",
      "\n",
      "Topic 34\n",
      "['rail', 'commuter', 'bus', 'tram', 'trains', 'freight', 'buses', 'traffic', 'highways', 'roadway']\n",
      "====================\n",
      "\n",
      "Topic 35\n",
      "['thailand', 'indonesia', 'china', 'mongolia', 'brunei', 'kazakhstan', 'greece', 'denmark', 'laos', 'slovakia']\n",
      "====================\n",
      "\n",
      "Topic 36\n",
      "['older', 'age', 'ages', 'younger', 'couples', 'aged', 'unemployed', 'males', 'siblings', 'unmarried']\n",
      "====================\n",
      "\n",
      "Topic 37\n",
      "['amass', 'borrow', 'devolve', 'enormous', 'attract', 'considerable', 'wealth', 'bequeath', 'speculators', 'fetch']\n",
      "====================\n",
      "\n",
      "Topic 38\n",
      "['mankind', 'tyranny', 'humankind', 'liberate', 'god', 'repent', 'oppression', 'humanity', 'injustice', 'enemies']\n",
      "====================\n",
      "\n",
      "Topic 39\n",
      "['confidential', 'documents', 'fbi', 'affidavit', 'disclosure', 'subpoena', 'anonymous', 'complaint', 'investigators', 'mails']\n",
      "====================\n",
      "\n",
      "Topic 40\n",
      "['cynical', 'arrogant', 'gentle', 'arrogance', 'cocky', 'pushy', 'contemptuous', 'wit', 'self', 'timid']\n",
      "====================\n",
      "\n",
      "Topic 41\n",
      "['habitat', 'forests', 'habitats', 'wildlife', 'vegetation', 'forest', 'endangered', 'species', 'fauna', 'rainforest']\n",
      "====================\n",
      "\n",
      "Topic 42\n",
      "['assistant', 'deputy', 'associate', 'chief', 'vice', 'professor', 'adviser', 'executive', 'senior', 'director']\n",
      "====================\n",
      "\n",
      "Topic 43\n",
      "['figured', 'nobody', 'unfortunately', 'yeah', 'frankly', 'hey', 'guess', 'happened', 'happening', 'happen']\n",
      "====================\n",
      "\n",
      "Topic 44\n",
      "['budget', 'deficit', 'deficits', 'trillion', 'fiscal', 'shortfall', 'projected', 'cuts', 'surplus', 'slash']\n",
      "====================\n",
      "\n",
      "Topic 45\n",
      "['roe', 'abortion', 'controversial', 'homosexuality', 'alito', 'rulings', 'affirmative', 'gay', 'grounds', 'argument']\n",
      "====================\n",
      "\n",
      "Topic 46\n",
      "['excessive', 'adjustments', 'delays', 'volatility', 'minimize', 'constraints', 'workload', 'costs', 'unnecessary', 'disruption']\n",
      "====================\n",
      "\n",
      "Topic 47\n",
      "['peacekeeping', 'withdraw', 'annan', 'withdrawal', 'escalation', 'mediation', 'resolve', 'peacekeepers', 'hostilities', 'kofi']\n",
      "====================\n",
      "\n",
      "Topic 48\n",
      "['farmers', 'grain', 'farm', 'livestock', 'crop', 'cattle', 'soybean', 'agricultural', 'farming', 'corn']\n",
      "====================\n",
      "\n",
      "Topic 49\n",
      "['love', 'romantic', 'lover', 'tale', 'memoir', 'character', 'romance', 'loves', 'she', 'girlfriend']\n",
      "====================\n",
      "\n",
      "Topic 50\n",
      "['appropriation', 'appropriated', 'earmarked', 'funding', 'million', 'earmark', 'billion', 'stimulus', 'renovation', 'grants']\n",
      "====================\n",
      "\n",
      "Topic 51\n",
      "['trafficking', 'crime', 'prostitution', 'offenses', 'narcotics', 'pornography', 'smuggling', 'gang', 'robbery', 'illegal']\n",
      "====================\n",
      "\n",
      "Topic 52\n",
      "['infantry', 'battalion', 'corps', 'cavalry', 'brigade', 'platoon', 'command', 'regiment', 'army', 'battalions']\n",
      "====================\n",
      "\n",
      "Topic 53\n",
      "['pretty', 'thing', \"'m\", 'maybe', \"'re\", 'seems', 'anyway', 'happen', 'happens', 'happening']\n",
      "====================\n",
      "\n",
      "Topic 54\n",
      "['lebanon', 'hezbollah', 'militants', 'hamas', 'iraqi', 'iraq', 'gaza', 'extremists', 'taliban', 'insurgents']\n",
      "====================\n",
      "\n",
      "Topic 55\n",
      "['deductions', 'income', 'deduction', 'taxes', 'tax', 'expenses', 'deductible', 'taxable', 'expense', 'dividends']\n",
      "====================\n",
      "\n",
      "Topic 56\n",
      "['republicans', 'democrats', 'proposing', 'reform', 'legislation', 'spending', 'cuts', 'bill', 'schwarzenegger', 'congress']\n",
      "====================\n",
      "\n",
      "Topic 57\n",
      "['faa', 'audit', 'supervisors', 'auditing', 'inspection', 'oversight', 'procedures', 'agencies', 'bureau', 'departments']\n"
     ]
    },
    {
     "name": "stdout",
     "output_type": "stream",
     "text": [
      "====================\n",
      "\n",
      "Topic 58\n",
      "['disarmament', 'pyongyang', 'nuclear', 'proliferation', 'nonproliferation', 'progress', 'normalization', 'verifiable', 'diplomatic', 'normalizing']\n",
      "====================\n",
      "\n",
      "Topic 59\n",
      "['arable', 'tracts', 'lands', 'farmland', 'plantations', 'irrigated', 'reclaimed', 'encompassed', 'extensive', 'undeveloped']\n",
      "====================\n",
      "\n",
      "Topic 60\n",
      "['doubtful', 'jehovah', 'abbot', 'regard', 'heretics', 'hades', 'heracles', 'authorship', 'bishopric', 'unwilling']\n",
      "====================\n",
      "\n",
      "Topic 61\n",
      "['inflation', 'unemployment', 'slowdown', 'recession', 'decline', 'growth', 'rate', 'rise', 'slowing', 'gdp']\n",
      "====================\n",
      "\n",
      "Topic 62\n",
      "['river', 'reservoir', 'creek', 'lake', 'dam', 'basin', 'rivers', 'tributaries', 'drains', 'drainage']\n",
      "====================\n",
      "\n",
      "Topic 63\n",
      "['install', 'restaurant', 'rent', 'diners', 'restaurants', 'shop', 'starbucks', 'renting', 'installing', 'buy']\n",
      "====================\n",
      "\n",
      "Topic 64\n",
      "['injunction', 'patent', 'lawsuit', 'plaintiff', 'rulings', 'filed', 'lawsuits', 'supreme', 'appellate', 'court']\n",
      "====================\n",
      "\n",
      "Topic 65\n",
      "['research', 'institute', 'science', 'study', 'analysis', 'environmental', 'directorate', 'epidemiological', 'expert', 'assessment']\n",
      "====================\n",
      "\n",
      "Topic 66\n",
      "['bellevue', 'downtown', 'springfield', 'city', 'suburb', 'glendale', 'midtown', 'dorchester', 'richmond', 'hartford']\n",
      "====================\n",
      "\n",
      "Topic 67\n",
      "['treaties', 'treaty', 'accords', 'accord', 'ratified', 'pact', 'agreements', 'agreement', 'pacts', 'understandings']\n",
      "====================\n",
      "\n",
      "Topic 68\n",
      "['divergent', 'opinions', 'critique', 'critical', 'nuanced', 'differing', 'consistent', 'different', 'influential', 'candid']\n",
      "====================\n",
      "\n",
      "Topic 69\n",
      "['students', 'colleges', 'undergraduate', 'school', 'graduate', 'schools', 'graduates', 'classes', 'courses', 'teaching']\n",
      "====================\n",
      "\n",
      "Topic 70\n",
      "['gerrard', 'keane', 'ballack', 'lampard', 'equalised', 'minute', 'start', 'minutes', 'crouch', 'robbie']\n",
      "====================\n",
      "\n",
      "Topic 71\n",
      "['computing', 'computational', 'simulation', 'quantum', 'imaging', 'algorithms', 'computation', 'mathematical', 'optics', 'methods']\n",
      "====================\n",
      "\n",
      "Topic 72\n",
      "['organisations', 'organizations', 'nonprofit', 'nongovernmental', 'ngos', 'ministries', 'governmental', 'centres', 'libraries', 'associations']\n",
      "====================\n",
      "\n",
      "Topic 73\n",
      "['mortgage', 'lenders', 'loans', 'mortgages', 'subprime', 'borrowers', 'lender', 'lending', 'credit', 'assets']\n",
      "====================\n",
      "\n",
      "Topic 74\n",
      "['aluminum', 'iron', 'metal', 'copper', 'alloy', 'aluminium', 'stainless', 'titanium', 'steel', 'zinc']\n",
      "====================\n",
      "\n",
      "Topic 75\n",
      "['circulated', 'brief', 'submitted', 'comments', 'excerpts', 'forthcoming', 'remarks', 'discussed', 'briefing', 'delivered']\n",
      "====================\n",
      "\n",
      "Topic 76\n",
      "['oil', 'crude', 'petroleum', 'gas', 'gasoline', 'opec', 'barrels', 'pipeline', 'refining', 'energy']\n",
      "====================\n",
      "\n",
      "Topic 77\n",
      "['proud', 'satisfied', 'accomplishment', 'ashamed', 'person', 'honest', 'admit', 'feel', 'abiding', 'physically']\n",
      "====================\n",
      "\n",
      "Topic 78\n",
      "['cents', 'cent', 'shares', 'share', 'fell', 'percent', 'rose', 'profit', 'dropped', 'gained']\n",
      "====================\n",
      "\n",
      "Topic 79\n",
      "['wholeheartedly', 'specifically', 'answer', 'assume', 'begs', 'admit', 'simply', 'refuse', 'responsibility', 'obligation']\n",
      "====================\n",
      "\n",
      "Topic 80\n",
      "['stricter', 'stringent', 'strict', 'regulations', 'regulatory', 'guidelines', 'rules', 'harsher', 'tougher', 'restrictive']\n",
      "====================\n",
      "\n",
      "Topic 81\n",
      "['text', 'printed', 'reads', 'page', 'copy', 'letters', 'lists', 'articles', 'article', 'pamphlet']\n",
      "====================\n",
      "\n",
      "Topic 82\n",
      "['pensions', 'benefits', 'wages', 'compensation', 'pension', 'severance', 'employer', 'unpaid', 'salary', 'salaries']\n",
      "====================\n",
      "\n",
      "Topic 83\n",
      "['exceeding', 'estimated', '50', '250', '100', '200', 'exceed', 'maximum', 'minimum', '600']\n",
      "====================\n",
      "\n",
      "Topic 84\n",
      "['modernity', 'modernism', 'classicism', 'romanticism', 'enlightenment', 'origins', 'antiquity', 'civilization', 'neoclassicism', 'postmodern']\n",
      "====================\n",
      "\n",
      "Topic 85\n",
      "['dioxide', 'gases', 'carbon', 'hydrogen', 'nitrogen', 'sulfur', 'pollutants', 'methane', 'combustion', 'co2']\n",
      "====================\n",
      "\n",
      "Topic 86\n",
      "['constitutionally', 'violates', 'sovereignty', 'lawful', 'inalienable', 'liberty', 'violate', 'constitution', 'freedoms', 'legitimate']\n",
      "====================\n",
      "\n",
      "Topic 87\n",
      "['basketball', 'football', 'soccer', 'league', 'hockey', 'championship', 'games', 'team', 'baseball', 'nba']\n",
      "====================\n",
      "\n",
      "Topic 88\n",
      "['cope', 'danger', 'difficulties', 'famine', 'plight', 'worsening', 'nightmare', 'poverty', 'insecurity', 'predicament']\n",
      "====================\n",
      "\n",
      "Topic 89\n",
      "['amending', 'amendments', 'authorizing', 'objecting', 'approving', 'enactment', 'reinstituting', 'mandating', 'amend', 'considering']\n",
      "====================\n",
      "\n",
      "Topic 90\n",
      "['door', 'upstairs', 'bed', 'inside', 'room', 'window', 'closet', 'bag', 'downstairs', 'bathroom']\n",
      "====================\n",
      "\n",
      "Topic 91\n",
      "['voting', 'balloting', 'ballot', 'ballots', 'vote', 'electors', 'votes', 'election', 'electoral', 'voters']\n",
      "====================\n",
      "\n",
      "Topic 92\n",
      "['wounded', 'killed', 'injured', 'assailants', 'ambushed', 'attackers', 'policemen', 'gunmen', 'dead', 'policeman']\n",
      "====================\n",
      "\n",
      "Topic 93\n",
      "['solemn', 'glow', 'somber', 'mournful', 'glowing', 'twinkling', 'praise', 'vivid', 'candles', 'tribute']\n",
      "====================\n",
      "\n",
      "Topic 94\n",
      "['missile', 'ballistic', 'missiles', 'warhead', 'warheads', 'icbm', 'weapon', 'nuclear', 'weapons', 'scud']\n",
      "====================\n",
      "\n",
      "Topic 95\n",
      "['intend', 'n’t', 'confirm', 'let', 'convince', 'soften', 'persuaded', 'fail', 'able', 'pretend']\n",
      "====================\n",
      "\n",
      "Topic 96\n",
      "['constitution', 'clause', 'rule', 'restriction', 'amendment', 'statute', 'rules', 'mandating', 'unconstitutional', 'constitutional']\n",
      "====================\n",
      "\n",
      "Topic 97\n",
      "['trial', 'acquitted', 'retrial', 'sentenced', 'defendants', 'guilty', 'convicted', 'conviction', 'sentence', 'prosecution']\n",
      "====================\n",
      "\n",
      "Topic 98\n",
      "['ships', 'boats', 'vessels', 'ship', 'vessel', 'warships', 'boat', 'sail', 'yachts', 'cargo']\n",
      "====================\n",
      "\n",
      "Topic 99\n",
      "['care', 'healthcare', 'medicaid', 'uninsured', 'medicare', 'affordable', 'prescription', 'elderly', 'health', 'beneficiaries']\n"
     ]
    }
   ],
   "source": [
    "analyzer.find_topic_nns()"
   ]
  },
  {
   "cell_type": "code",
   "execution_count": 128,
   "metadata": {},
   "outputs": [],
   "source": [
    "analyzer.find_topic_coherence()"
   ]
  },
  {
   "cell_type": "code",
   "execution_count": 129,
   "metadata": {},
   "outputs": [
    {
     "data": {
      "text/plain": [
       "24    0.975000\n",
       "26    0.941406\n",
       "53    0.831250\n",
       "52    0.830469\n",
       "98    0.828125\n",
       "        ...   \n",
       "8     0.387500\n",
       "14    0.373828\n",
       "37    0.351562\n",
       "79    0.325391\n",
       "60    0.216797\n",
       "Length: 100, dtype: float64"
      ]
     },
     "execution_count": 129,
     "metadata": {},
     "output_type": "execute_result"
    }
   ],
   "source": [
    "analyzer.topic_coherence"
   ]
  },
  {
   "cell_type": "code",
   "execution_count": 130,
   "metadata": {},
   "outputs": [
    {
     "data": {
      "text/plain": [
       "array([[['1899', '0.863'],\n",
       "        ['1902', '0.861'],\n",
       "        ['1903', '0.858'],\n",
       "        ['1907', '0.856'],\n",
       "        ['1909', '0.852'],\n",
       "        ['1888', '0.851'],\n",
       "        ['1914', '0.851'],\n",
       "        ['1872', '0.85'],\n",
       "        ['1883', '0.85'],\n",
       "        ['1919', '0.85']],\n",
       "\n",
       "       [['134', '0.878'],\n",
       "        ['173', '0.876'],\n",
       "        ['157', '0.873'],\n",
       "        ['143', '0.87'],\n",
       "        ['136', '0.87'],\n",
       "        ['232', '0.869'],\n",
       "        ['169', '0.869'],\n",
       "        ['139', '0.868'],\n",
       "        ['163', '0.867'],\n",
       "        ['161', '0.865']],\n",
       "\n",
       "       [['pretty', '0.454'],\n",
       "        ['thing', '0.446'],\n",
       "        [\"'m\", '0.435'],\n",
       "        ['maybe', '0.434'],\n",
       "        [\"'re\", '0.433'],\n",
       "        ['seems', '0.43'],\n",
       "        ['anyway', '0.423'],\n",
       "        ['happen', '0.419'],\n",
       "        ['happens', '0.415'],\n",
       "        ['happening', '0.411']],\n",
       "\n",
       "       [['infantry', '0.827'],\n",
       "        ['battalion', '0.824'],\n",
       "        ['corps', '0.803'],\n",
       "        ['cavalry', '0.793'],\n",
       "        ['brigade', '0.781'],\n",
       "        ['platoon', '0.775'],\n",
       "        ['command', '0.773'],\n",
       "        ['regiment', '0.771'],\n",
       "        ['army', '0.751'],\n",
       "        ['battalions', '0.731']]], dtype='<U16')"
      ]
     },
     "execution_count": 130,
     "metadata": {},
     "output_type": "execute_result"
    }
   ],
   "source": [
    "# most coherent topics\n",
    "analyzer.topic_nns[analyzer.topic_coherence.index[:4]]"
   ]
  },
  {
   "cell_type": "code",
   "execution_count": 131,
   "metadata": {},
   "outputs": [
    {
     "data": {
      "text/plain": [
       "array([[['disarmament', '0.622'],\n",
       "        ['pyongyang', '0.568'],\n",
       "        ['nuclear', '0.56'],\n",
       "        ['proliferation', '0.53'],\n",
       "        ['nonproliferation', '0.528'],\n",
       "        ['progress', '0.513'],\n",
       "        ['normalization', '0.495'],\n",
       "        ['verifiable', '0.494'],\n",
       "        ['diplomatic', '0.492'],\n",
       "        ['normalizing', '0.486']],\n",
       "\n",
       "       [['examples', '0.464'],\n",
       "        ['merely', '0.45'],\n",
       "        ['describe', '0.402'],\n",
       "        ['instances', '0.396'],\n",
       "        ['example', '0.391'],\n",
       "        ['abbāsābād', '0.391'],\n",
       "        ['mentioned', '0.39'],\n",
       "        ['instance', '0.383'],\n",
       "        ['simple', '0.38'],\n",
       "        ['penchant', '0.379']],\n",
       "\n",
       "       [['trafficking', '0.788'],\n",
       "        ['crime', '0.733'],\n",
       "        ['prostitution', '0.719'],\n",
       "        ['offenses', '0.713'],\n",
       "        ['narcotics', '0.695'],\n",
       "        ['pornography', '0.69'],\n",
       "        ['smuggling', '0.675'],\n",
       "        ['gang', '0.672'],\n",
       "        ['robbery', '0.668'],\n",
       "        ['illegal', '0.666']],\n",
       "\n",
       "       [['older', '0.548'],\n",
       "        ['age', '0.501'],\n",
       "        ['ages', '0.49'],\n",
       "        ['younger', '0.484'],\n",
       "        ['couples', '0.465'],\n",
       "        ['aged', '0.465'],\n",
       "        ['unemployed', '0.461'],\n",
       "        ['males', '0.459'],\n",
       "        ['siblings', '0.456'],\n",
       "        ['unmarried', '0.454']]], dtype='<U16')"
      ]
     },
     "execution_count": 131,
     "metadata": {},
     "output_type": "execute_result"
    }
   ],
   "source": [
    "analyzer.topic_nns[analyzer.topic_coherence.index[48:52]]"
   ]
  },
  {
   "cell_type": "code",
   "execution_count": 132,
   "metadata": {},
   "outputs": [
    {
     "data": {
      "text/plain": [
       "array([[['adhering', '0.413'],\n",
       "        ['dictating', '0.412'],\n",
       "        ['strictly', '0.409'],\n",
       "        ['dismantling', '0.403'],\n",
       "        ['altering', '0.397'],\n",
       "        ['dispose', '0.394'],\n",
       "        ['undesirable', '0.39'],\n",
       "        ['prohibited', '0.387'],\n",
       "        ['inimical', '0.387'],\n",
       "        ['immoral', '0.387']],\n",
       "\n",
       "       [['amass', '0.44'],\n",
       "        ['borrow', '0.425'],\n",
       "        ['devolve', '0.422'],\n",
       "        ['enormous', '0.422'],\n",
       "        ['attract', '0.421'],\n",
       "        ['considerable', '0.409'],\n",
       "        ['wealth', '0.402'],\n",
       "        ['bequeath', '0.4'],\n",
       "        ['speculators', '0.4'],\n",
       "        ['fetch', '0.395']],\n",
       "\n",
       "       [['wholeheartedly', '0.418'],\n",
       "        ['specifically', '0.41'],\n",
       "        ['answer', '0.399'],\n",
       "        ['assume', '0.393'],\n",
       "        ['begs', '0.38'],\n",
       "        ['admit', '0.38'],\n",
       "        ['simply', '0.378'],\n",
       "        ['refuse', '0.373'],\n",
       "        ['responsibility', '0.372'],\n",
       "        ['obligation', '0.37']],\n",
       "\n",
       "       [['doubtful', '0.426'],\n",
       "        ['jehovah', '0.424'],\n",
       "        ['abbot', '0.421'],\n",
       "        ['regard', '0.391'],\n",
       "        ['heretics', '0.387'],\n",
       "        ['hades', '0.383'],\n",
       "        ['heracles', '0.379'],\n",
       "        ['authorship', '0.377'],\n",
       "        ['bishopric', '0.377'],\n",
       "        ['unwilling', '0.376']]], dtype='<U16')"
      ]
     },
     "execution_count": 132,
     "metadata": {},
     "output_type": "execute_result"
    }
   ],
   "source": [
    "analyzer.topic_nns[analyzer.topic_coherence.index[96:100]]"
   ]
  },
  {
   "cell_type": "code",
   "execution_count": null,
   "metadata": {},
   "outputs": [],
   "source": []
  }
 ],
 "metadata": {
  "kernelspec": {
   "display_name": "Python 3",
   "language": "python",
   "name": "python3"
  },
  "language_info": {
   "codemirror_mode": {
    "name": "ipython",
    "version": 3
   },
   "file_extension": ".py",
   "mimetype": "text/x-python",
   "name": "python",
   "nbconvert_exporter": "python",
   "pygments_lexer": "ipython3",
   "version": "3.7.4"
  }
 },
 "nbformat": 4,
 "nbformat_minor": 2
}
