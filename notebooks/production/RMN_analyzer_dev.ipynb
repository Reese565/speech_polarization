{
 "cells": [
  {
   "cell_type": "markdown",
   "metadata": {},
   "source": [
    "### Training a corpus-wide RMN with tfidf embeddings"
   ]
  },
  {
   "cell_type": "code",
   "execution_count": 1,
   "metadata": {},
   "outputs": [],
   "source": [
    "import os\n",
    "import sys\n",
    "import pandas as pd"
   ]
  },
  {
   "cell_type": "code",
   "execution_count": 2,
   "metadata": {},
   "outputs": [],
   "source": [
    "sys.path.append(\"/home/rocassius/w266_final/scripts/assembly\")\n",
    "sys.path.append(\"/home/rocassius/w266_final/scripts/modeling\")"
   ]
  },
  {
   "cell_type": "code",
   "execution_count": 3,
   "metadata": {},
   "outputs": [],
   "source": [
    "from document import load_documents\n",
    "from constant import DOC_PRAYER_PATH, MIN_SESSION, MAX_SESSION, DOC_ALL_PATH\n",
    "from subject import subject_keywords\n",
    "\n",
    "sessions = list(range(MIN_SESSION, MAX_SESSION+1))"
   ]
  },
  {
   "cell_type": "code",
   "execution_count": 4,
   "metadata": {},
   "outputs": [],
   "source": [
    "from helper import *\n",
    "from rmn import *\n",
    "from rmn_data_generator import RMN_DataGenerator\n",
    "from rmn_analyzer import RMN_Analyzer"
   ]
  },
  {
   "cell_type": "code",
   "execution_count": 5,
   "metadata": {},
   "outputs": [],
   "source": [
    "# load embedding tools\n",
    "prayer_tools_path = \"/home/rocassius/gen-data/tools/prayer_tools\"\n",
    "metadata_dict = load_pickled_object(os.path.join(prayer_tools_path, \"metadata_dict\"))\n",
    "tokenizer_dict = load_pickled_object(os.path.join(prayer_tools_path, \"tokenizer_dict\"))\n",
    "embedding_matrix = load_pickled_object(os.path.join(prayer_tools_path, \"idf_embedding_matrix\"))\n",
    "global_embedding_matrix = load_pickled_object(os.path.join(prayer_tools_path, \"embedding_matrix_wg\"))\n",
    "global_tokenizer_dict = load_pickled_object(os.path.join(prayer_tools_path, \"tokenizer_dict_wg\"))"
   ]
  },
  {
   "cell_type": "code",
   "execution_count": 6,
   "metadata": {},
   "outputs": [],
   "source": [
    "docs_df = load_documents([66], DOC_PRAYER_PATH)"
   ]
  },
  {
   "cell_type": "code",
   "execution_count": 7,
   "metadata": {},
   "outputs": [],
   "source": [
    "data_df = docs_df.sample(2347)"
   ]
  },
  {
   "cell_type": "code",
   "execution_count": 8,
   "metadata": {},
   "outputs": [
    {
     "data": {
      "text/plain": [
       "(35475, 10)"
      ]
     },
     "execution_count": 8,
     "metadata": {},
     "output_type": "execute_result"
    }
   ],
   "source": [
    "docs_df.shape"
   ]
  },
  {
   "cell_type": "code",
   "execution_count": 9,
   "metadata": {},
   "outputs": [],
   "source": [
    "local_models_path = \"/home/rocassius/gen-data/models\""
   ]
  },
  {
   "cell_type": "code",
   "execution_count": 10,
   "metadata": {},
   "outputs": [
    {
     "name": "stdout",
     "output_type": "stream",
     "text": [
      "WARNING:tensorflow:From /home/rocassius/anaconda3/lib/python3.7/site-packages/tensorflow_core/python/keras/initializers.py:119: calling RandomUniform.__init__ (from tensorflow.python.ops.init_ops) with dtype is deprecated and will be removed in a future version.\n",
      "Instructions for updating:\n",
      "Call initializer instance with the dtype argument instead of passing it to the constructor\n",
      "WARNING:tensorflow:From /home/rocassius/anaconda3/lib/python3.7/site-packages/tensorflow_core/python/ops/resource_variable_ops.py:1630: calling BaseResourceVariable.__init__ (from tensorflow.python.ops.resource_variable_ops) with constraint is deprecated and will be removed in a future version.\n",
      "Instructions for updating:\n",
      "If using Keras pass *_constraint arguments to layers.\n"
     ]
    }
   ],
   "source": [
    "rmn = RigidRMN()\n",
    "rmn.load_rmn(\"SuaveRanger\", local_models_path)\n",
    "rmn.infer_embedding_matrix = global_embedding_matrix\n",
    "rmn.infer_tokenizer_dict = global_tokenizer_dict"
   ]
  },
  {
   "cell_type": "code",
   "execution_count": 11,
   "metadata": {},
   "outputs": [],
   "source": [
    "analyzer = RMN_Analyzer(rmn, data_df)"
   ]
  },
  {
   "cell_type": "code",
   "execution_count": 12,
   "metadata": {},
   "outputs": [
    {
     "name": "stdout",
     "output_type": "stream",
     "text": [
      "10/10 [==============================] - 1s 55ms/step\n"
     ]
    }
   ],
   "source": [
    "analyzer.predict_topics()"
   ]
  },
  {
   "cell_type": "code",
   "execution_count": 13,
   "metadata": {},
   "outputs": [
    {
     "name": "stderr",
     "output_type": "stream",
     "text": [
      "/home/rocassius/w266_final/scripts/modeling/vector_math.py:34: RuntimeWarning: divide by zero encountered in true_divide\n",
      "  Ds = np.dot(Wv, v) / (np.linalg.norm(v) * np.linalg.norm(Wv, axis = 1))\n",
      "/home/rocassius/w266_final/scripts/modeling/vector_math.py:34: RuntimeWarning: invalid value encountered in true_divide\n",
      "  Ds = np.dot(Wv, v) / (np.linalg.norm(v) * np.linalg.norm(Wv, axis = 1))\n"
     ]
    },
    {
     "name": "stdout",
     "output_type": "stream",
     "text": [
      "====================\n",
      "\n",
      "Topic 0\n",
      "['necessary', 'adequate']\n",
      "====================\n",
      "\n",
      "Topic 1\n",
      "['day', 'end']\n",
      "====================\n",
      "\n",
      "Topic 2\n",
      "['territories', 'lands']\n",
      "====================\n",
      "\n",
      "Topic 3\n",
      "['father', 'friend']\n",
      "====================\n",
      "\n",
      "Topic 4\n",
      "['companies', 'company']\n"
     ]
    },
    {
     "ename": "KeyboardInterrupt",
     "evalue": "",
     "output_type": "error",
     "traceback": [
      "\u001b[0;31m---------------------------------------------------------------------------\u001b[0m",
      "\u001b[0;31mKeyboardInterrupt\u001b[0m                         Traceback (most recent call last)",
      "\u001b[0;32m<ipython-input-13-fcf1fb0695b6>\u001b[0m in \u001b[0;36m<module>\u001b[0;34m\u001b[0m\n\u001b[0;32m----> 1\u001b[0;31m \u001b[0manalyzer\u001b[0m\u001b[0;34m.\u001b[0m\u001b[0mrmn\u001b[0m\u001b[0;34m.\u001b[0m\u001b[0minspect_topics\u001b[0m\u001b[0;34m(\u001b[0m\u001b[0mwhich_topics\u001b[0m\u001b[0;34m=\u001b[0m\u001b[0;34m'all'\u001b[0m\u001b[0;34m,\u001b[0m \u001b[0mk_neighbors\u001b[0m\u001b[0;34m=\u001b[0m\u001b[0;36m2\u001b[0m\u001b[0;34m)\u001b[0m\u001b[0;34m\u001b[0m\u001b[0;34m\u001b[0m\u001b[0m\n\u001b[0m",
      "\u001b[0;32m~/w266_final/scripts/modeling/rmn.py\u001b[0m in \u001b[0;36minspect_topics\u001b[0;34m(self, which_topics, k_neighbors)\u001b[0m\n\u001b[1;32m    366\u001b[0m         \u001b[0;32mfor\u001b[0m \u001b[0mi\u001b[0m \u001b[0;32min\u001b[0m \u001b[0mwhich_topics\u001b[0m\u001b[0;34m:\u001b[0m\u001b[0;34m\u001b[0m\u001b[0;34m\u001b[0m\u001b[0m\n\u001b[1;32m    367\u001b[0m             \u001b[0;31m# find nearest neighbors to topic\u001b[0m\u001b[0;34m\u001b[0m\u001b[0;34m\u001b[0m\u001b[0;34m\u001b[0m\u001b[0m\n\u001b[0;32m--> 368\u001b[0;31m             \u001b[0mneighbors\u001b[0m\u001b[0;34m,\u001b[0m \u001b[0msim\u001b[0m \u001b[0;34m=\u001b[0m \u001b[0mfind_nn_cos\u001b[0m\u001b[0;34m(\u001b[0m\u001b[0mR\u001b[0m\u001b[0;34m[\u001b[0m\u001b[0mi\u001b[0m\u001b[0;34m]\u001b[0m\u001b[0;34m,\u001b[0m \u001b[0mE\u001b[0m\u001b[0;34m,\u001b[0m \u001b[0mk_neighbors\u001b[0m\u001b[0;34m)\u001b[0m\u001b[0;34m\u001b[0m\u001b[0;34m\u001b[0m\u001b[0m\n\u001b[0m\u001b[1;32m    369\u001b[0m             \u001b[0mwords\u001b[0m \u001b[0;34m=\u001b[0m \u001b[0;34m[\u001b[0m\u001b[0mself\u001b[0m\u001b[0;34m.\u001b[0m\u001b[0minfer_tokenizer_dict\u001b[0m\u001b[0;34m[\u001b[0m\u001b[0;34m'tokenizer'\u001b[0m\u001b[0;34m]\u001b[0m\u001b[0;34m.\u001b[0m\u001b[0mindex_word\u001b[0m\u001b[0;34m[\u001b[0m\u001b[0mv\u001b[0m\u001b[0;34m]\u001b[0m \u001b[0;32mfor\u001b[0m \u001b[0mv\u001b[0m \u001b[0;32min\u001b[0m \u001b[0mneighbors\u001b[0m\u001b[0;34m]\u001b[0m\u001b[0;34m\u001b[0m\u001b[0;34m\u001b[0m\u001b[0m\n\u001b[1;32m    370\u001b[0m \u001b[0;34m\u001b[0m\u001b[0m\n",
      "\u001b[0;32m~/w266_final/scripts/modeling/vector_math.py\u001b[0m in \u001b[0;36mfind_nn_cos\u001b[0;34m(v, Wv, k)\u001b[0m\n\u001b[1;32m     34\u001b[0m     \u001b[0mDs\u001b[0m \u001b[0;34m=\u001b[0m \u001b[0mnp\u001b[0m\u001b[0;34m.\u001b[0m\u001b[0mdot\u001b[0m\u001b[0;34m(\u001b[0m\u001b[0mWv\u001b[0m\u001b[0;34m,\u001b[0m \u001b[0mv\u001b[0m\u001b[0;34m)\u001b[0m \u001b[0;34m/\u001b[0m \u001b[0;34m(\u001b[0m\u001b[0mnp\u001b[0m\u001b[0;34m.\u001b[0m\u001b[0mlinalg\u001b[0m\u001b[0;34m.\u001b[0m\u001b[0mnorm\u001b[0m\u001b[0;34m(\u001b[0m\u001b[0mv\u001b[0m\u001b[0;34m)\u001b[0m \u001b[0;34m*\u001b[0m \u001b[0mnp\u001b[0m\u001b[0;34m.\u001b[0m\u001b[0mlinalg\u001b[0m\u001b[0;34m.\u001b[0m\u001b[0mnorm\u001b[0m\u001b[0;34m(\u001b[0m\u001b[0mWv\u001b[0m\u001b[0;34m,\u001b[0m \u001b[0maxis\u001b[0m \u001b[0;34m=\u001b[0m \u001b[0;36m1\u001b[0m\u001b[0;34m)\u001b[0m\u001b[0;34m)\u001b[0m\u001b[0;34m\u001b[0m\u001b[0;34m\u001b[0m\u001b[0m\n\u001b[1;32m     35\u001b[0m     \u001b[0mn_nan\u001b[0m \u001b[0;34m=\u001b[0m \u001b[0msum\u001b[0m\u001b[0;34m(\u001b[0m\u001b[0mnp\u001b[0m\u001b[0;34m.\u001b[0m\u001b[0misnan\u001b[0m\u001b[0;34m(\u001b[0m\u001b[0mDs\u001b[0m\u001b[0;34m)\u001b[0m\u001b[0;34m)\u001b[0m\u001b[0;34m\u001b[0m\u001b[0;34m\u001b[0m\u001b[0m\n\u001b[0;32m---> 36\u001b[0;31m     \u001b[0mnns\u001b[0m \u001b[0;34m=\u001b[0m \u001b[0mnp\u001b[0m\u001b[0;34m.\u001b[0m\u001b[0mflip\u001b[0m\u001b[0;34m(\u001b[0m\u001b[0mnp\u001b[0m\u001b[0;34m.\u001b[0m\u001b[0margsort\u001b[0m\u001b[0;34m(\u001b[0m\u001b[0mDs\u001b[0m\u001b[0;34m)\u001b[0m\u001b[0;34m)\u001b[0m\u001b[0;34m[\u001b[0m\u001b[0mn_nan\u001b[0m\u001b[0;34m:\u001b[0m\u001b[0;34m]\u001b[0m\u001b[0;34m[\u001b[0m\u001b[0;34m:\u001b[0m\u001b[0mk\u001b[0m\u001b[0;34m]\u001b[0m\u001b[0;34m\u001b[0m\u001b[0;34m\u001b[0m\u001b[0m\n\u001b[0m\u001b[1;32m     37\u001b[0m     \u001b[0mds\u001b[0m \u001b[0;34m=\u001b[0m \u001b[0mDs\u001b[0m\u001b[0;34m[\u001b[0m\u001b[0mnns\u001b[0m\u001b[0;34m]\u001b[0m\u001b[0;34m\u001b[0m\u001b[0;34m\u001b[0m\u001b[0m\n\u001b[1;32m     38\u001b[0m \u001b[0;34m\u001b[0m\u001b[0m\n",
      "\u001b[0;32m<__array_function__ internals>\u001b[0m in \u001b[0;36margsort\u001b[0;34m(*args, **kwargs)\u001b[0m\n",
      "\u001b[0;32m~/anaconda3/lib/python3.7/site-packages/numpy/core/fromnumeric.py\u001b[0m in \u001b[0;36margsort\u001b[0;34m(a, axis, kind, order)\u001b[0m\n\u001b[1;32m   1082\u001b[0m \u001b[0;34m\u001b[0m\u001b[0m\n\u001b[1;32m   1083\u001b[0m     \"\"\"\n\u001b[0;32m-> 1084\u001b[0;31m     \u001b[0;32mreturn\u001b[0m \u001b[0m_wrapfunc\u001b[0m\u001b[0;34m(\u001b[0m\u001b[0ma\u001b[0m\u001b[0;34m,\u001b[0m \u001b[0;34m'argsort'\u001b[0m\u001b[0;34m,\u001b[0m \u001b[0maxis\u001b[0m\u001b[0;34m=\u001b[0m\u001b[0maxis\u001b[0m\u001b[0;34m,\u001b[0m \u001b[0mkind\u001b[0m\u001b[0;34m=\u001b[0m\u001b[0mkind\u001b[0m\u001b[0;34m,\u001b[0m \u001b[0morder\u001b[0m\u001b[0;34m=\u001b[0m\u001b[0morder\u001b[0m\u001b[0;34m)\u001b[0m\u001b[0;34m\u001b[0m\u001b[0;34m\u001b[0m\u001b[0m\n\u001b[0m\u001b[1;32m   1085\u001b[0m \u001b[0;34m\u001b[0m\u001b[0m\n\u001b[1;32m   1086\u001b[0m \u001b[0;34m\u001b[0m\u001b[0m\n",
      "\u001b[0;32m~/anaconda3/lib/python3.7/site-packages/numpy/core/fromnumeric.py\u001b[0m in \u001b[0;36m_wrapfunc\u001b[0;34m(obj, method, *args, **kwds)\u001b[0m\n\u001b[1;32m     59\u001b[0m \u001b[0;34m\u001b[0m\u001b[0m\n\u001b[1;32m     60\u001b[0m     \u001b[0;32mtry\u001b[0m\u001b[0;34m:\u001b[0m\u001b[0;34m\u001b[0m\u001b[0;34m\u001b[0m\u001b[0m\n\u001b[0;32m---> 61\u001b[0;31m         \u001b[0;32mreturn\u001b[0m \u001b[0mbound\u001b[0m\u001b[0;34m(\u001b[0m\u001b[0;34m*\u001b[0m\u001b[0margs\u001b[0m\u001b[0;34m,\u001b[0m \u001b[0;34m**\u001b[0m\u001b[0mkwds\u001b[0m\u001b[0;34m)\u001b[0m\u001b[0;34m\u001b[0m\u001b[0;34m\u001b[0m\u001b[0m\n\u001b[0m\u001b[1;32m     62\u001b[0m     \u001b[0;32mexcept\u001b[0m \u001b[0mTypeError\u001b[0m\u001b[0;34m:\u001b[0m\u001b[0;34m\u001b[0m\u001b[0;34m\u001b[0m\u001b[0m\n\u001b[1;32m     63\u001b[0m         \u001b[0;31m# A TypeError occurs if the object does have such a method in its\u001b[0m\u001b[0;34m\u001b[0m\u001b[0;34m\u001b[0m\u001b[0;34m\u001b[0m\u001b[0m\n",
      "\u001b[0;31mKeyboardInterrupt\u001b[0m: "
     ]
    }
   ],
   "source": [
    "analyzer.rmn.inspect_topics(which_topics='all', k_neighbors=2)"
   ]
  },
  {
   "cell_type": "code",
   "execution_count": 14,
   "metadata": {},
   "outputs": [],
   "source": [
    "# nn = rmn.inspect_topics([1,2,3])"
   ]
  },
  {
   "cell_type": "code",
   "execution_count": 15,
   "metadata": {},
   "outputs": [],
   "source": [
    "# analyzer.topic_preds[0,2] = np.nan\n",
    "# analyzer.topic_preds[2,44] = np.nan\n",
    "# analyzer.topic_preds[944,44] = np.nan\n",
    "# analyzer.topic_preds[944,1] = np.nan\n",
    "# analyzer.topic_preds[900,1] = np.nan\n",
    "# analyzer.topic_preds[200,5] = np.nan\n",
    "# analyzer.topic_preds[245,5] = np.nan"
   ]
  },
  {
   "cell_type": "code",
   "execution_count": 16,
   "metadata": {},
   "outputs": [
    {
     "data": {
      "text/plain": [
       "{'n_records': 46,\n",
       " 'n_records_R': 29,\n",
       " 'n_records_D': 17,\n",
       " 'n_nan_preds_R': 0,\n",
       " 'n_nan_preds_D': 0,\n",
       " 'js': {'mean': 0.9103171210741057,\n",
       "  'lower': 0.9076598773427386,\n",
       "  'upper': 0.9129743648054728},\n",
       " 'js_R': {'mean': 0.9091955517222737,\n",
       "  'lower': 0.9065130713595239,\n",
       "  'upper': 0.9118780320850232},\n",
       " 'js_D': {'mean': 0.9026465195395105,\n",
       "  'lower': 0.900038849589323,\n",
       "  'upper': 0.9052541894896977},\n",
       " 'js_RD': {'mean': 0.9101964590035202,\n",
       "  'lower': 0.9074541035339271,\n",
       "  'upper': 0.9129388144731133},\n",
       " 'hh': {'mean': 0.3904586434364319,\n",
       "  'lower': 0.38386951549452236,\n",
       "  'upper': 0.3970477613915832},\n",
       " 'hh_R': {'mean': 0.3818866014480591,\n",
       "  'lower': 0.37540282216230775,\n",
       "  'upper': 0.38837035552402593},\n",
       " 'hh_D': {'mean': 0.3936111629009247,\n",
       "  'lower': 0.38677758055102596,\n",
       "  'upper': 0.400444721403005},\n",
       " 'hh_topic_use': 0.029113077,\n",
       " 'hh_topic_use_R': 0.032633252,\n",
       " 'hh_topic_use_D': 0.04609549,\n",
       " 'js_topic_use': 0.1438401815281331}"
      ]
     },
     "execution_count": 16,
     "metadata": {},
     "output_type": "execute_result"
    }
   ],
   "source": [
    "analyzer.analyze_subset(conditions={'subject':'immigration'}, n=5000)"
   ]
  },
  {
   "cell_type": "code",
   "execution_count": 22,
   "metadata": {},
   "outputs": [
    {
     "data": {
      "text/plain": [
       "{'n_records': 2347,\n",
       " 'n_records_R': 1359,\n",
       " 'n_records_D': 986,\n",
       " 'n_nan_preds_R': 0,\n",
       " 'n_nan_preds_D': 0,\n",
       " 'js': {'mean': 0.8957717776919176,\n",
       "  'lower': 0.8925751218947856,\n",
       "  'upper': 0.8989684334890496},\n",
       " 'js_R': {'mean': 0.8999332239026008,\n",
       "  'lower': 0.896963153267926,\n",
       "  'upper': 0.9029032945372751},\n",
       " 'js_D': {'mean': 0.9028203100053394,\n",
       "  'lower': 0.8999136297951069,\n",
       "  'upper': 0.9057269902155722},\n",
       " 'js_RD': {'mean': 0.9001306863795672,\n",
       "  'lower': 0.8971534524220804,\n",
       "  'upper': 0.9031079203370541},\n",
       " 'hh': {'mean': 0.3677561581134796,\n",
       "  'lower': 0.3608768026818241,\n",
       "  'upper': 0.3746355109568035},\n",
       " 'hh_R': {'mean': 0.36135047674179077,\n",
       "  'lower': 0.3545306169262916,\n",
       "  'upper': 0.3681703463086098},\n",
       " 'hh_D': {'mean': 0.36098992824554443,\n",
       "  'lower': 0.35425571793748495,\n",
       "  'upper': 0.36772412918226366},\n",
       " 'hh_topic_use': 0.023394933,\n",
       " 'hh_topic_use_R': 0.02350846,\n",
       " 'hh_topic_use_D': 0.0235127,\n",
       " 'js_topic_use': 0.020763270013108733}"
      ]
     },
     "execution_count": 22,
     "metadata": {},
     "output_type": "execute_result"
    }
   ],
   "source": [
    "analyzer.analyze_subset(conditions={}, n=5000)"
   ]
  },
  {
   "cell_type": "code",
   "execution_count": 23,
   "metadata": {},
   "outputs": [
    {
     "data": {
      "text/plain": [
       "2.4610295"
      ]
     },
     "execution_count": 23,
     "metadata": {},
     "output_type": "execute_result"
    }
   ],
   "source": [
    "analyzer.mean_entropy({'subject':'trade'})"
   ]
  },
  {
   "cell_type": "code",
   "execution_count": 94,
   "metadata": {},
   "outputs": [
    {
     "data": {
      "text/plain": [
       "6"
      ]
     },
     "execution_count": 94,
     "metadata": {},
     "output_type": "execute_result"
    }
   ],
   "source": [
    "analyzer.n_nan_preds()"
   ]
  },
  {
   "cell_type": "code",
   "execution_count": 95,
   "metadata": {},
   "outputs": [
    {
     "data": {
      "text/plain": [
       "14    0.037360\n",
       "8     0.035398\n",
       "5     0.033360\n",
       "44    0.031464\n",
       "0     0.030891\n",
       "34    0.030410\n",
       "15    0.029673\n",
       "45    0.029430\n",
       "2     0.029329\n",
       "1     0.028507\n",
       "11    0.028051\n",
       "25    0.026124\n",
       "33    0.024791\n",
       "28    0.024385\n",
       "12    0.024194\n",
       "24    0.023645\n",
       "38    0.023498\n",
       "46    0.022405\n",
       "31    0.021437\n",
       "49    0.021356\n",
       "37    0.021292\n",
       "26    0.021249\n",
       "9     0.021246\n",
       "17    0.020038\n",
       "3     0.019613\n",
       "39    0.019430\n",
       "22    0.018316\n",
       "32    0.017907\n",
       "40    0.017642\n",
       "4     0.017435\n",
       "20    0.017127\n",
       "6     0.017115\n",
       "36    0.016969\n",
       "7     0.016921\n",
       "47    0.016913\n",
       "35    0.015669\n",
       "13    0.015399\n",
       "18    0.015156\n",
       "21    0.014893\n",
       "30    0.014650\n",
       "10    0.011828\n",
       "29    0.011460\n",
       "41    0.010965\n",
       "42    0.010087\n",
       "48    0.009989\n",
       "27    0.009341\n",
       "23    0.008044\n",
       "16    0.007311\n",
       "19    0.007285\n",
       "43    0.003004\n",
       "dtype: float32"
      ]
     },
     "execution_count": 95,
     "metadata": {},
     "output_type": "execute_result"
    }
   ],
   "source": [
    "analyzer.topic_use()"
   ]
  },
  {
   "cell_type": "code",
   "execution_count": 96,
   "metadata": {},
   "outputs": [
    {
     "data": {
      "text/plain": [
       "14    98\n",
       "8     90\n",
       "1     87\n",
       "44    84\n",
       "45    83\n",
       "5     78\n",
       "0     77\n",
       "2     73\n",
       "34    72\n",
       "15    71\n",
       "11    69\n",
       "25    67\n",
       "33    65\n",
       "12    59\n",
       "31    58\n",
       "37    57\n",
       "24    56\n",
       "38    56\n",
       "49    56\n",
       "9     54\n",
       "46    50\n",
       "26    48\n",
       "28    46\n",
       "6     42\n",
       "17    42\n",
       "20    41\n",
       "3     40\n",
       "35    40\n",
       "7     40\n",
       "39    39\n",
       "22    39\n",
       "32    38\n",
       "40    37\n",
       "13    36\n",
       "4     35\n",
       "47    35\n",
       "30    34\n",
       "21    33\n",
       "18    29\n",
       "36    28\n",
       "41    26\n",
       "10    24\n",
       "42    22\n",
       "48    22\n",
       "29    21\n",
       "19    13\n",
       "27    12\n",
       "16    11\n",
       "23    10\n",
       "43     4\n",
       "dtype: int64"
      ]
     },
     "execution_count": 96,
     "metadata": {},
     "output_type": "execute_result"
    }
   ],
   "source": [
    "analyzer.first_topic_counts()"
   ]
  },
  {
   "cell_type": "code",
   "execution_count": 97,
   "metadata": {},
   "outputs": [
    {
     "data": {
      "text/plain": [
       "array([[20, 45, 48, 26, 35],\n",
       "       [42, 44, 20, 22,  4],\n",
       "       [37, 10, 17, 39, 14],\n",
       "       ...,\n",
       "       [44, 20, 45, 38,  8],\n",
       "       [39,  8, 38,  1,  5],\n",
       "       [ 2, 14, 40, 12, 19]])"
      ]
     },
     "execution_count": 97,
     "metadata": {},
     "output_type": "execute_result"
    }
   ],
   "source": [
    "analyzer.primary_topics()"
   ]
  },
  {
   "cell_type": "code",
   "execution_count": 98,
   "metadata": {},
   "outputs": [
    {
     "data": {
      "text/plain": [
       "{'n_records': 2347,\n",
       " 'n_records_R': 1382,\n",
       " 'n_records_D': 959,\n",
       " 'n_nan_preds_R': 3,\n",
       " 'n_nan_preds_D': 3,\n",
       " 'js': {'mean': 0.8863957659417478,\n",
       "  'lower': 0.863518849703897,\n",
       "  'upper': 0.9092726821795984},\n",
       " 'js_R': {'mean': 0.8949470355028366,\n",
       "  'lower': 0.869312252791087,\n",
       "  'upper': 0.920581818214586},\n",
       " 'js_D': {'mean': 0.8947676850644782,\n",
       "  'lower': 0.8680333250166014,\n",
       "  'upper': 0.9215020451123551},\n",
       " 'js_RD': {'mean': 0.9064493207901105,\n",
       "  'lower': 0.8866138726161371,\n",
       "  'upper': 0.9262847689640844},\n",
       " 'hh': {'mean': 0.3773353099822998,\n",
       "  'lower': 0.32984055783772437,\n",
       "  'upper': 0.424829997306824},\n",
       " 'hh_R': {'mean': 0.37966644763946533,\n",
       "  'lower': 0.3324582539427007,\n",
       "  'upper': 0.4268746207726275},\n",
       " 'hh_D': {'mean': 0.3546164333820343,\n",
       "  'lower': 0.308238170541423,\n",
       "  'upper': 0.4009946578521555},\n",
       " 'hh_topic_use': 0.023090007,\n",
       " 'hh_topic_use_R': 0.023104973,\n",
       " 'hh_topic_use_D': 0.023600442,\n",
       " 'js_topic_use': 0.02396601826013351}"
      ]
     },
     "execution_count": 98,
     "metadata": {},
     "output_type": "execute_result"
    }
   ],
   "source": [
    "analyzer.analyze_subset(conditions={}, n =100)"
   ]
  },
  {
   "cell_type": "code",
   "execution_count": 99,
   "metadata": {},
   "outputs": [
    {
     "data": {
      "text/plain": [
       "array([2.5700021e-03, 1.8807802e-04,           nan, 1.2839150e-02,\n",
       "       5.9409621e-03, 2.7256053e-02, 1.1624908e-02, 4.0412087e-02,\n",
       "       6.9517833e-03, 2.0715038e-03, 2.9260023e-03, 6.0561683e-04,\n",
       "       9.1330469e-02, 3.5805947e-03, 1.3342206e-01, 2.2432106e-02,\n",
       "       4.0908293e-03, 3.9539553e-02, 5.4975979e-02, 5.9212290e-02,\n",
       "       7.0578512e-03, 4.7504166e-03, 4.8512153e-02, 4.8274137e-03,\n",
       "       3.9465006e-02, 1.1614815e-02, 1.6407501e-02, 1.1009588e-03,\n",
       "       3.1605072e-03, 1.9031172e-03, 2.1471735e-02, 7.2166225e-04,\n",
       "       1.1253923e-02, 1.9795235e-02, 2.4883274e-02, 4.2066994e-04,\n",
       "       1.0909189e-03, 1.2548159e-02, 9.9336830e-05, 7.8000868e-04,\n",
       "       1.1094594e-01, 1.0729488e-03, 5.9383465e-03, 1.7232537e-04,\n",
       "       1.9048652e-02, 4.9032527e-03, 1.3484785e-02, 1.6078722e-02,\n",
       "       2.8263815e-02, 1.7701630e-02], dtype=float32)"
      ]
     },
     "execution_count": 99,
     "metadata": {},
     "output_type": "execute_result"
    }
   ],
   "source": [
    "analyzer.topic_preds[0]"
   ]
  },
  {
   "cell_type": "code",
   "execution_count": 100,
   "metadata": {},
   "outputs": [
    {
     "data": {
      "text/plain": [
       "array([0.003, 0.101, 0.008, 0.002, 0.   , 0.066, 0.   , 0.   , 0.254,\n",
       "       0.   , 0.   , 0.   , 0.   , 0.   , 0.008, 0.002, 0.   , 0.   ,\n",
       "       0.   , 0.   , 0.   , 0.001, 0.   , 0.   , 0.003, 0.001, 0.   ,\n",
       "       0.002, 0.042, 0.   , 0.   , 0.   , 0.001, 0.016, 0.   , 0.   ,\n",
       "       0.05 , 0.   , 0.11 , 0.322, 0.002, 0.   , 0.   , 0.   , 0.   ,\n",
       "       0.   , 0.001, 0.001, 0.   , 0.001], dtype=float32)"
      ]
     },
     "execution_count": 100,
     "metadata": {},
     "output_type": "execute_result"
    }
   ],
   "source": [
    "analyzer.topic_preds[1].round(3)"
   ]
  },
  {
   "cell_type": "code",
   "execution_count": 101,
   "metadata": {},
   "outputs": [
    {
     "data": {
      "text/plain": [
       "{'mean': 0.245307112418126,\n",
       " 'lower': -0.5353696011568905,\n",
       " 'upper': 1.0259838259931424}"
      ]
     },
     "execution_count": 101,
     "metadata": {},
     "output_type": "execute_result"
    }
   ],
   "source": [
    "analyzer.compute_JS(index_A = [1, 0, 2, 55], index_B = [0, 1, 2, 3])"
   ]
  },
  {
   "cell_type": "code",
   "execution_count": 102,
   "metadata": {},
   "outputs": [
    {
     "data": {
      "text/plain": [
       "0.02396601826013351"
      ]
     },
     "execution_count": 102,
     "metadata": {},
     "output_type": "execute_result"
    }
   ],
   "source": [
    "analyzer.topic_use_RD_js()"
   ]
  },
  {
   "cell_type": "code",
   "execution_count": 103,
   "metadata": {},
   "outputs": [
    {
     "data": {
      "text/plain": [
       "{'n_records': 2347,\n",
       " 'n_records_R': 1382,\n",
       " 'n_records_D': 959,\n",
       " 'n_nan_preds_R': 3,\n",
       " 'n_nan_preds_D': 3,\n",
       " 'js': {'mean': 0.8974244483532509,\n",
       "  'lower': 0.8821201834503916,\n",
       "  'upper': 0.9127287132561104},\n",
       " 'js_R': {'mean': 0.8945284970134967,\n",
       "  'lower': 0.8789208578950092,\n",
       "  'upper': 0.9101361361319842},\n",
       " 'js_D': {'mean': 0.8986361644720359,\n",
       "  'lower': 0.8837740604689276,\n",
       "  'upper': 0.9134982684751437},\n",
       " 'js_RD': {'mean': 0.8976757319342795,\n",
       "  'lower': 0.8822714814192671,\n",
       "  'upper': 0.9130799824492912},\n",
       " 'hh': {'mean': 0.3572431206703186,\n",
       "  'lower': 0.32602880961325076,\n",
       "  'upper': 0.3884574844029912},\n",
       " 'hh_R': {'mean': 0.36144551634788513,\n",
       "  'lower': 0.32829305081360816,\n",
       "  'upper': 0.3945980301050154},\n",
       " 'hh_D': {'mean': 0.36123907566070557,\n",
       "  'lower': 0.32841593191950025,\n",
       "  'upper': 0.3940622190293819},\n",
       " 'hh_topic_use': 0.023090007,\n",
       " 'hh_topic_use_R': 0.023104973,\n",
       " 'hh_topic_use_D': 0.023600442,\n",
       " 'js_topic_use': 0.02396601826013351}"
      ]
     },
     "execution_count": 103,
     "metadata": {},
     "output_type": "execute_result"
    }
   ],
   "source": [
    "analyzer.analyze_subset(conditions={}, n=200)"
   ]
  },
  {
   "cell_type": "code",
   "execution_count": 105,
   "metadata": {},
   "outputs": [
    {
     "data": {
      "text/plain": [
       "6"
      ]
     },
     "execution_count": 105,
     "metadata": {},
     "output_type": "execute_result"
    }
   ],
   "source": [
    "analyzer.n_nan_preds()"
   ]
  },
  {
   "cell_type": "markdown",
   "metadata": {},
   "source": [
    "Testing the RMN"
   ]
  },
  {
   "cell_type": "code",
   "execution_count": 106,
   "metadata": {},
   "outputs": [
    {
     "data": {
      "text/html": [
       "<div>\n",
       "<style scoped>\n",
       "    .dataframe tbody tr th:only-of-type {\n",
       "        vertical-align: middle;\n",
       "    }\n",
       "\n",
       "    .dataframe tbody tr th {\n",
       "        vertical-align: top;\n",
       "    }\n",
       "\n",
       "    .dataframe thead th {\n",
       "        text-align: right;\n",
       "    }\n",
       "</style>\n",
       "<table border=\"1\" class=\"dataframe\">\n",
       "  <thead>\n",
       "    <tr style=\"text-align: right;\">\n",
       "      <th></th>\n",
       "      <th>speakerid</th>\n",
       "      <th>lastname</th>\n",
       "      <th>firstname</th>\n",
       "      <th>chamber</th>\n",
       "      <th>state</th>\n",
       "      <th>gender</th>\n",
       "      <th>party</th>\n",
       "      <th>document</th>\n",
       "      <th>subject</th>\n",
       "      <th>session</th>\n",
       "    </tr>\n",
       "  </thead>\n",
       "  <tbody>\n",
       "    <tr>\n",
       "      <td>31709</td>\n",
       "      <td>66072621</td>\n",
       "      <td>KIRBY</td>\n",
       "      <td>WILLIAM</td>\n",
       "      <td>S</td>\n",
       "      <td>AR</td>\n",
       "      <td>M</td>\n",
       "      <td>D</td>\n",
       "      <td>clearly tile states of the union could not exi...</td>\n",
       "      <td>tax</td>\n",
       "      <td>66</td>\n",
       "    </tr>\n",
       "    <tr>\n",
       "      <td>24750</td>\n",
       "      <td>66075331</td>\n",
       "      <td>BRANDEGEE</td>\n",
       "      <td>FRANK</td>\n",
       "      <td>S</td>\n",
       "      <td>CT</td>\n",
       "      <td>M</td>\n",
       "      <td>R</td>\n",
       "      <td>to the  unemployed in our country for years i ...</td>\n",
       "      <td>immigration</td>\n",
       "      <td>66</td>\n",
       "    </tr>\n",
       "    <tr>\n",
       "      <td>18135</td>\n",
       "      <td>66083070</td>\n",
       "      <td>GARNER</td>\n",
       "      <td>JOHN</td>\n",
       "      <td>H</td>\n",
       "      <td>TX</td>\n",
       "      <td>M</td>\n",
       "      <td>D</td>\n",
       "      <td>known in the american congress i that it is de...</td>\n",
       "      <td>foreign</td>\n",
       "      <td>66</td>\n",
       "    </tr>\n",
       "    <tr>\n",
       "      <td>17577</td>\n",
       "      <td>66079540</td>\n",
       "      <td>DUNBAR</td>\n",
       "      <td>JAMES</td>\n",
       "      <td>H</td>\n",
       "      <td>IN</td>\n",
       "      <td>M</td>\n",
       "      <td>R</td>\n",
       "      <td>present time are matters which the house put i...</td>\n",
       "      <td>foreign</td>\n",
       "      <td>66</td>\n",
       "    </tr>\n",
       "    <tr>\n",
       "      <td>21443</td>\n",
       "      <td>66073781</td>\n",
       "      <td>TOWNSEND</td>\n",
       "      <td>CHARLES</td>\n",
       "      <td>S</td>\n",
       "      <td>MI</td>\n",
       "      <td>M</td>\n",
       "      <td>R</td>\n",
       "      <td>president i offer the following resolution whi...</td>\n",
       "      <td>foreign</td>\n",
       "      <td>66</td>\n",
       "    </tr>\n",
       "    <tr>\n",
       "      <td>...</td>\n",
       "      <td>...</td>\n",
       "      <td>...</td>\n",
       "      <td>...</td>\n",
       "      <td>...</td>\n",
       "      <td>...</td>\n",
       "      <td>...</td>\n",
       "      <td>...</td>\n",
       "      <td>...</td>\n",
       "      <td>...</td>\n",
       "      <td>...</td>\n",
       "    </tr>\n",
       "    <tr>\n",
       "      <td>17678</td>\n",
       "      <td>66091060</td>\n",
       "      <td>CONNALLY</td>\n",
       "      <td>THOMAS</td>\n",
       "      <td>H</td>\n",
       "      <td>TX</td>\n",
       "      <td>M</td>\n",
       "      <td>D</td>\n",
       "      <td>did the court of clains find ihe amount ickey ...</td>\n",
       "      <td>foreign</td>\n",
       "      <td>66</td>\n",
       "    </tr>\n",
       "    <tr>\n",
       "      <td>27234</td>\n",
       "      <td>66075011</td>\n",
       "      <td>STERLING</td>\n",
       "      <td>THOMAS</td>\n",
       "      <td>S</td>\n",
       "      <td>SD</td>\n",
       "      <td>M</td>\n",
       "      <td>R</td>\n",
       "      <td>ratify the treaty of peace they have utterly f...</td>\n",
       "      <td>labor</td>\n",
       "      <td>66</td>\n",
       "    </tr>\n",
       "    <tr>\n",
       "      <td>18050</td>\n",
       "      <td>66075690</td>\n",
       "      <td>GOOD</td>\n",
       "      <td>JAMES</td>\n",
       "      <td>H</td>\n",
       "      <td>IA</td>\n",
       "      <td>M</td>\n",
       "      <td>R</td>\n",
       "      <td>discuss anything except the situation that has...</td>\n",
       "      <td>foreign</td>\n",
       "      <td>66</td>\n",
       "    </tr>\n",
       "    <tr>\n",
       "      <td>12495</td>\n",
       "      <td>66077040</td>\n",
       "      <td>GRAHAM</td>\n",
       "      <td>WILLIAM</td>\n",
       "      <td>H</td>\n",
       "      <td>IL</td>\n",
       "      <td>M</td>\n",
       "      <td>R</td>\n",
       "      <td>prices by bearing down entirely on the cost of...</td>\n",
       "      <td>economy</td>\n",
       "      <td>66</td>\n",
       "    </tr>\n",
       "    <tr>\n",
       "      <td>9732</td>\n",
       "      <td>66078270</td>\n",
       "      <td>TINCHER</td>\n",
       "      <td>JASPER</td>\n",
       "      <td>H</td>\n",
       "      <td>KS</td>\n",
       "      <td>M</td>\n",
       "      <td>R</td>\n",
       "      <td>not take into consideration any possible recei...</td>\n",
       "      <td>defense</td>\n",
       "      <td>66</td>\n",
       "    </tr>\n",
       "  </tbody>\n",
       "</table>\n",
       "<p>2347 rows × 10 columns</p>\n",
       "</div>"
      ],
      "text/plain": [
       "      speakerid   lastname firstname chamber state gender party  \\\n",
       "31709  66072621      KIRBY   WILLIAM       S    AR      M     D   \n",
       "24750  66075331  BRANDEGEE     FRANK       S    CT      M     R   \n",
       "18135  66083070     GARNER      JOHN       H    TX      M     D   \n",
       "17577  66079540     DUNBAR     JAMES       H    IN      M     R   \n",
       "21443  66073781   TOWNSEND   CHARLES       S    MI      M     R   \n",
       "...         ...        ...       ...     ...   ...    ...   ...   \n",
       "17678  66091060   CONNALLY    THOMAS       H    TX      M     D   \n",
       "27234  66075011   STERLING    THOMAS       S    SD      M     R   \n",
       "18050  66075690       GOOD     JAMES       H    IA      M     R   \n",
       "12495  66077040     GRAHAM   WILLIAM       H    IL      M     R   \n",
       "9732   66078270    TINCHER    JASPER       H    KS      M     R   \n",
       "\n",
       "                                                document      subject session  \n",
       "31709  clearly tile states of the union could not exi...          tax      66  \n",
       "24750  to the  unemployed in our country for years i ...  immigration      66  \n",
       "18135  known in the american congress i that it is de...      foreign      66  \n",
       "17577  present time are matters which the house put i...      foreign      66  \n",
       "21443  president i offer the following resolution whi...      foreign      66  \n",
       "...                                                  ...          ...     ...  \n",
       "17678  did the court of clains find ihe amount ickey ...      foreign      66  \n",
       "27234  ratify the treaty of peace they have utterly f...        labor      66  \n",
       "18050  discuss anything except the situation that has...      foreign      66  \n",
       "12495  prices by bearing down entirely on the cost of...      economy      66  \n",
       "9732   not take into consideration any possible recei...      defense      66  \n",
       "\n",
       "[2347 rows x 10 columns]"
      ]
     },
     "execution_count": 106,
     "metadata": {},
     "output_type": "execute_result"
    }
   ],
   "source": [
    "data_df"
   ]
  },
  {
   "cell_type": "code",
   "execution_count": 107,
   "metadata": {},
   "outputs": [
    {
     "data": {
      "text/html": [
       "<div>\n",
       "<style scoped>\n",
       "    .dataframe tbody tr th:only-of-type {\n",
       "        vertical-align: middle;\n",
       "    }\n",
       "\n",
       "    .dataframe tbody tr th {\n",
       "        vertical-align: top;\n",
       "    }\n",
       "\n",
       "    .dataframe thead th {\n",
       "        text-align: right;\n",
       "    }\n",
       "</style>\n",
       "<table border=\"1\" class=\"dataframe\">\n",
       "  <thead>\n",
       "    <tr style=\"text-align: right;\">\n",
       "      <th></th>\n",
       "      <th>speakerid</th>\n",
       "      <th>lastname</th>\n",
       "      <th>firstname</th>\n",
       "      <th>chamber</th>\n",
       "      <th>state</th>\n",
       "      <th>gender</th>\n",
       "      <th>party</th>\n",
       "      <th>document</th>\n",
       "      <th>subject</th>\n",
       "      <th>session</th>\n",
       "    </tr>\n",
       "  </thead>\n",
       "  <tbody>\n",
       "    <tr>\n",
       "      <td>0</td>\n",
       "      <td>66072621</td>\n",
       "      <td>KIRBY</td>\n",
       "      <td>WILLIAM</td>\n",
       "      <td>S</td>\n",
       "      <td>AR</td>\n",
       "      <td>M</td>\n",
       "      <td>D</td>\n",
       "      <td>clearly tile states of the union could not exi...</td>\n",
       "      <td>tax</td>\n",
       "      <td>66</td>\n",
       "    </tr>\n",
       "    <tr>\n",
       "      <td>1</td>\n",
       "      <td>66075331</td>\n",
       "      <td>BRANDEGEE</td>\n",
       "      <td>FRANK</td>\n",
       "      <td>S</td>\n",
       "      <td>CT</td>\n",
       "      <td>M</td>\n",
       "      <td>R</td>\n",
       "      <td>to the  unemployed in our country for years i ...</td>\n",
       "      <td>immigration</td>\n",
       "      <td>66</td>\n",
       "    </tr>\n",
       "    <tr>\n",
       "      <td>2</td>\n",
       "      <td>66083070</td>\n",
       "      <td>GARNER</td>\n",
       "      <td>JOHN</td>\n",
       "      <td>H</td>\n",
       "      <td>TX</td>\n",
       "      <td>M</td>\n",
       "      <td>D</td>\n",
       "      <td>known in the american congress i that it is de...</td>\n",
       "      <td>foreign</td>\n",
       "      <td>66</td>\n",
       "    </tr>\n",
       "    <tr>\n",
       "      <td>3</td>\n",
       "      <td>66079540</td>\n",
       "      <td>DUNBAR</td>\n",
       "      <td>JAMES</td>\n",
       "      <td>H</td>\n",
       "      <td>IN</td>\n",
       "      <td>M</td>\n",
       "      <td>R</td>\n",
       "      <td>present time are matters which the house put i...</td>\n",
       "      <td>foreign</td>\n",
       "      <td>66</td>\n",
       "    </tr>\n",
       "    <tr>\n",
       "      <td>4</td>\n",
       "      <td>66073781</td>\n",
       "      <td>TOWNSEND</td>\n",
       "      <td>CHARLES</td>\n",
       "      <td>S</td>\n",
       "      <td>MI</td>\n",
       "      <td>M</td>\n",
       "      <td>R</td>\n",
       "      <td>president i offer the following resolution whi...</td>\n",
       "      <td>foreign</td>\n",
       "      <td>66</td>\n",
       "    </tr>\n",
       "    <tr>\n",
       "      <td>...</td>\n",
       "      <td>...</td>\n",
       "      <td>...</td>\n",
       "      <td>...</td>\n",
       "      <td>...</td>\n",
       "      <td>...</td>\n",
       "      <td>...</td>\n",
       "      <td>...</td>\n",
       "      <td>...</td>\n",
       "      <td>...</td>\n",
       "      <td>...</td>\n",
       "    </tr>\n",
       "    <tr>\n",
       "      <td>2342</td>\n",
       "      <td>66091060</td>\n",
       "      <td>CONNALLY</td>\n",
       "      <td>THOMAS</td>\n",
       "      <td>H</td>\n",
       "      <td>TX</td>\n",
       "      <td>M</td>\n",
       "      <td>D</td>\n",
       "      <td>did the court of clains find ihe amount ickey ...</td>\n",
       "      <td>foreign</td>\n",
       "      <td>66</td>\n",
       "    </tr>\n",
       "    <tr>\n",
       "      <td>2343</td>\n",
       "      <td>66075011</td>\n",
       "      <td>STERLING</td>\n",
       "      <td>THOMAS</td>\n",
       "      <td>S</td>\n",
       "      <td>SD</td>\n",
       "      <td>M</td>\n",
       "      <td>R</td>\n",
       "      <td>ratify the treaty of peace they have utterly f...</td>\n",
       "      <td>labor</td>\n",
       "      <td>66</td>\n",
       "    </tr>\n",
       "    <tr>\n",
       "      <td>2344</td>\n",
       "      <td>66075690</td>\n",
       "      <td>GOOD</td>\n",
       "      <td>JAMES</td>\n",
       "      <td>H</td>\n",
       "      <td>IA</td>\n",
       "      <td>M</td>\n",
       "      <td>R</td>\n",
       "      <td>discuss anything except the situation that has...</td>\n",
       "      <td>foreign</td>\n",
       "      <td>66</td>\n",
       "    </tr>\n",
       "    <tr>\n",
       "      <td>2345</td>\n",
       "      <td>66077040</td>\n",
       "      <td>GRAHAM</td>\n",
       "      <td>WILLIAM</td>\n",
       "      <td>H</td>\n",
       "      <td>IL</td>\n",
       "      <td>M</td>\n",
       "      <td>R</td>\n",
       "      <td>prices by bearing down entirely on the cost of...</td>\n",
       "      <td>economy</td>\n",
       "      <td>66</td>\n",
       "    </tr>\n",
       "    <tr>\n",
       "      <td>2346</td>\n",
       "      <td>66078270</td>\n",
       "      <td>TINCHER</td>\n",
       "      <td>JASPER</td>\n",
       "      <td>H</td>\n",
       "      <td>KS</td>\n",
       "      <td>M</td>\n",
       "      <td>R</td>\n",
       "      <td>not take into consideration any possible recei...</td>\n",
       "      <td>defense</td>\n",
       "      <td>66</td>\n",
       "    </tr>\n",
       "  </tbody>\n",
       "</table>\n",
       "<p>2347 rows × 10 columns</p>\n",
       "</div>"
      ],
      "text/plain": [
       "     speakerid   lastname firstname chamber state gender party  \\\n",
       "0     66072621      KIRBY   WILLIAM       S    AR      M     D   \n",
       "1     66075331  BRANDEGEE     FRANK       S    CT      M     R   \n",
       "2     66083070     GARNER      JOHN       H    TX      M     D   \n",
       "3     66079540     DUNBAR     JAMES       H    IN      M     R   \n",
       "4     66073781   TOWNSEND   CHARLES       S    MI      M     R   \n",
       "...        ...        ...       ...     ...   ...    ...   ...   \n",
       "2342  66091060   CONNALLY    THOMAS       H    TX      M     D   \n",
       "2343  66075011   STERLING    THOMAS       S    SD      M     R   \n",
       "2344  66075690       GOOD     JAMES       H    IA      M     R   \n",
       "2345  66077040     GRAHAM   WILLIAM       H    IL      M     R   \n",
       "2346  66078270    TINCHER    JASPER       H    KS      M     R   \n",
       "\n",
       "                                               document      subject session  \n",
       "0     clearly tile states of the union could not exi...          tax      66  \n",
       "1     to the  unemployed in our country for years i ...  immigration      66  \n",
       "2     known in the american congress i that it is de...      foreign      66  \n",
       "3     present time are matters which the house put i...      foreign      66  \n",
       "4     president i offer the following resolution whi...      foreign      66  \n",
       "...                                                 ...          ...     ...  \n",
       "2342  did the court of clains find ihe amount ickey ...      foreign      66  \n",
       "2343  ratify the treaty of peace they have utterly f...        labor      66  \n",
       "2344  discuss anything except the situation that has...      foreign      66  \n",
       "2345  prices by bearing down entirely on the cost of...      economy      66  \n",
       "2346  not take into consideration any possible recei...      defense      66  \n",
       "\n",
       "[2347 rows x 10 columns]"
      ]
     },
     "execution_count": 107,
     "metadata": {},
     "output_type": "execute_result"
    }
   ],
   "source": [
    "analyzer.df"
   ]
  },
  {
   "cell_type": "code",
   "execution_count": 17,
   "metadata": {},
   "outputs": [],
   "source": [
    "i = 180"
   ]
  },
  {
   "cell_type": "code",
   "execution_count": 18,
   "metadata": {},
   "outputs": [
    {
     "data": {
      "text/html": [
       "<div>\n",
       "<style scoped>\n",
       "    .dataframe tbody tr th:only-of-type {\n",
       "        vertical-align: middle;\n",
       "    }\n",
       "\n",
       "    .dataframe tbody tr th {\n",
       "        vertical-align: top;\n",
       "    }\n",
       "\n",
       "    .dataframe thead th {\n",
       "        text-align: right;\n",
       "    }\n",
       "</style>\n",
       "<table border=\"1\" class=\"dataframe\">\n",
       "  <thead>\n",
       "    <tr style=\"text-align: right;\">\n",
       "      <th></th>\n",
       "      <th>speakerid</th>\n",
       "      <th>lastname</th>\n",
       "      <th>firstname</th>\n",
       "      <th>chamber</th>\n",
       "      <th>state</th>\n",
       "      <th>gender</th>\n",
       "      <th>party</th>\n",
       "      <th>document</th>\n",
       "      <th>subject</th>\n",
       "      <th>session</th>\n",
       "    </tr>\n",
       "  </thead>\n",
       "  <tbody>\n",
       "    <tr>\n",
       "      <td>180</td>\n",
       "      <td>66074370</td>\n",
       "      <td>GARD</td>\n",
       "      <td>WARREN</td>\n",
       "      <td>H</td>\n",
       "      <td>OH</td>\n",
       "      <td>M</td>\n",
       "      <td>D</td>\n",
       "      <td>president the bill under discussion seeks to p...</td>\n",
       "      <td>defense</td>\n",
       "      <td>66</td>\n",
       "    </tr>\n",
       "  </tbody>\n",
       "</table>\n",
       "</div>"
      ],
      "text/plain": [
       "    speakerid lastname firstname chamber state gender party  \\\n",
       "180  66074370     GARD    WARREN       H    OH      M     D   \n",
       "\n",
       "                                              document  subject session  \n",
       "180  president the bill under discussion seeks to p...  defense      66  "
      ]
     },
     "execution_count": 18,
     "metadata": {},
     "output_type": "execute_result"
    }
   ],
   "source": [
    "analyzer.df.loc[[i]]"
   ]
  },
  {
   "cell_type": "code",
   "execution_count": 19,
   "metadata": {},
   "outputs": [
    {
     "data": {
      "text/plain": [
       "'president the bill under discussion seeks to perpetuate one of the great government boards organized for wartime emergency it seeks to single out one great american industry to place restrictions on it and to give power to a cor poration which for more'"
      ]
     },
     "execution_count": 19,
     "metadata": {},
     "output_type": "execute_result"
    }
   ],
   "source": [
    "analyzer.df.document.values[i]"
   ]
  },
  {
   "cell_type": "code",
   "execution_count": 24,
   "metadata": {},
   "outputs": [
    {
     "data": {
      "text/plain": [
       "array([[21, 32, 15, 17, 23],\n",
       "       [30, 11, 45, 17, 49],\n",
       "       [37, 17, 10, 34, 14],\n",
       "       ...,\n",
       "       [20, 22, 44,  4,  9],\n",
       "       [37, 17, 14, 21, 46],\n",
       "       [ 5,  4, 28, 26, 44]])"
      ]
     },
     "execution_count": 24,
     "metadata": {},
     "output_type": "execute_result"
    }
   ],
   "source": [
    "analyzer.primary_topics()"
   ]
  },
  {
   "cell_type": "code",
   "execution_count": 27,
   "metadata": {},
   "outputs": [],
   "source": [
    "a = [[1,2,3], [4,9,7],[8,0,5]]"
   ]
  },
  {
   "cell_type": "code",
   "execution_count": 29,
   "metadata": {},
   "outputs": [
    {
     "data": {
      "text/plain": [
       "[[1, 2, 3], [4, 9, 7], [8, 0, 5]]"
      ]
     },
     "execution_count": 29,
     "metadata": {},
     "output_type": "execute_result"
    }
   ],
   "source": [
    "a"
   ]
  },
  {
   "cell_type": "code",
   "execution_count": 37,
   "metadata": {},
   "outputs": [
    {
     "data": {
      "text/plain": [
       "array([[3, 2, 1],\n",
       "       [7, 9, 4],\n",
       "       [5, 0, 8]])"
      ]
     },
     "execution_count": 37,
     "metadata": {},
     "output_type": "execute_result"
    }
   ],
   "source": [
    "np.flip(a, axis=-1)"
   ]
  },
  {
   "cell_type": "code",
   "execution_count": 20,
   "metadata": {},
   "outputs": [
    {
     "name": "stderr",
     "output_type": "stream",
     "text": [
      "/home/rocassius/w266_final/scripts/modeling/vector_math.py:34: RuntimeWarning: divide by zero encountered in true_divide\n",
      "  Ds = np.dot(Wv, v) / (np.linalg.norm(v) * np.linalg.norm(Wv, axis = 1))\n",
      "/home/rocassius/w266_final/scripts/modeling/vector_math.py:34: RuntimeWarning: invalid value encountered in true_divide\n",
      "  Ds = np.dot(Wv, v) / (np.linalg.norm(v) * np.linalg.norm(Wv, axis = 1))\n"
     ]
    },
    {
     "name": "stdout",
     "output_type": "stream",
     "text": [
      "====================\n",
      "\n",
      "Topic 34\n",
      "['violate', 'applicable', 'precedent', 'violation', 'applies', 'limitation', 'laws', 'regard', 'unfair', 'certain']\n",
      "====================\n",
      "\n",
      "Topic 21\n",
      "['vote', 'votes', 'democrats', 'candidates', 'election', 'voters', 'candidate', 'democratic', 'republican', 'republicans']\n",
      "====================\n",
      "\n",
      "Topic 25\n",
      "['constitutional', 'amended', 'approved', 'court', 'decree', 'injunction', 'upheld', 'amendment', 'supreme', 'amendments']\n",
      "====================\n",
      "\n",
      "Topic 29\n",
      "['implementing', 'implement', 'implementation', 'blueprint', 'framework', 'proposals', 'compromise', 'agreement', 'accord', 'timetable']\n",
      "====================\n",
      "\n",
      "Topic 37\n",
      "['know', 'maybe', 'everybody', 'really', 'think', 'else', \"'m\", 'nobody', 'anybody', 'thing']\n"
     ]
    },
    {
     "data": {
      "text/plain": [
       "[[('violate', 0.711),\n",
       "  ('applicable', 0.711),\n",
       "  ('precedent', 0.71),\n",
       "  ('violation', 0.709),\n",
       "  ('applies', 0.704),\n",
       "  ('limitation', 0.701),\n",
       "  ('laws', 0.693),\n",
       "  ('regard', 0.689),\n",
       "  ('unfair', 0.686),\n",
       "  ('certain', 0.685)],\n",
       " [('vote', 0.895),\n",
       "  ('votes', 0.868),\n",
       "  ('democrats', 0.86),\n",
       "  ('candidates', 0.852),\n",
       "  ('election', 0.847),\n",
       "  ('voters', 0.84),\n",
       "  ('candidate', 0.836),\n",
       "  ('democratic', 0.833),\n",
       "  ('republican', 0.812),\n",
       "  ('republicans', 0.812)],\n",
       " [('constitutional', 0.765),\n",
       "  ('amended', 0.759),\n",
       "  ('approved', 0.758),\n",
       "  ('court', 0.743),\n",
       "  ('decree', 0.739),\n",
       "  ('injunction', 0.738),\n",
       "  ('upheld', 0.734),\n",
       "  ('amendment', 0.731),\n",
       "  ('supreme', 0.729),\n",
       "  ('amendments', 0.725)],\n",
       " [('implementing', 0.807),\n",
       "  ('implement', 0.805),\n",
       "  ('implementation', 0.795),\n",
       "  ('blueprint', 0.777),\n",
       "  ('framework', 0.754),\n",
       "  ('proposals', 0.742),\n",
       "  ('compromise', 0.742),\n",
       "  ('agreement', 0.733),\n",
       "  ('accord', 0.726),\n",
       "  ('timetable', 0.715)],\n",
       " [('know', 0.904),\n",
       "  ('maybe', 0.903),\n",
       "  ('everybody', 0.901),\n",
       "  ('really', 0.901),\n",
       "  ('think', 0.901),\n",
       "  ('else', 0.89),\n",
       "  (\"'m\", 0.886),\n",
       "  ('nobody', 0.884),\n",
       "  ('anybody', 0.881),\n",
       "  ('thing', 0.88)]]"
      ]
     },
     "execution_count": 20,
     "metadata": {},
     "output_type": "execute_result"
    }
   ],
   "source": [
    "analyzer.rmn.inspect_topics(analyzer.primary_topics()[i])"
   ]
  },
  {
   "cell_type": "code",
   "execution_count": 106,
   "metadata": {},
   "outputs": [],
   "source": [
    "row = analyzer.df.iloc[[1]]"
   ]
  },
  {
   "cell_type": "code",
   "execution_count": 126,
   "metadata": {},
   "outputs": [
    {
     "name": "stderr",
     "output_type": "stream",
     "text": [
      "/home/rocassius/anaconda3/lib/python3.7/site-packages/ipykernel_launcher.py:1: SettingWithCopyWarning: \n",
      "A value is trying to be set on a copy of a slice from a DataFrame.\n",
      "Try using .loc[row_indexer,col_indexer] = value instead\n",
      "\n",
      "See the caveats in the documentation: http://pandas.pydata.org/pandas-docs/stable/user_guide/indexing.html#returning-a-view-versus-a-copy\n",
      "  \"\"\"Entry point for launching an IPython kernel.\n"
     ]
    }
   ],
   "source": [
    "row['document'] = ['covid 19 is a disease that spreads very easily obviously but we dont understand exactly how threfore we mustall behave as if we have it and we are trying to prevent passing it']"
   ]
  },
  {
   "cell_type": "code",
   "execution_count": 127,
   "metadata": {},
   "outputs": [
    {
     "data": {
      "text/html": [
       "<div>\n",
       "<style scoped>\n",
       "    .dataframe tbody tr th:only-of-type {\n",
       "        vertical-align: middle;\n",
       "    }\n",
       "\n",
       "    .dataframe tbody tr th {\n",
       "        vertical-align: top;\n",
       "    }\n",
       "\n",
       "    .dataframe thead th {\n",
       "        text-align: right;\n",
       "    }\n",
       "</style>\n",
       "<table border=\"1\" class=\"dataframe\">\n",
       "  <thead>\n",
       "    <tr style=\"text-align: right;\">\n",
       "      <th></th>\n",
       "      <th>speakerid</th>\n",
       "      <th>lastname</th>\n",
       "      <th>firstname</th>\n",
       "      <th>chamber</th>\n",
       "      <th>state</th>\n",
       "      <th>gender</th>\n",
       "      <th>party</th>\n",
       "      <th>document</th>\n",
       "      <th>subject</th>\n",
       "      <th>session</th>\n",
       "    </tr>\n",
       "  </thead>\n",
       "  <tbody>\n",
       "    <tr>\n",
       "      <td>1</td>\n",
       "      <td>66079101</td>\n",
       "      <td>SMOOT</td>\n",
       "      <td>REED</td>\n",
       "      <td>S</td>\n",
       "      <td>UT</td>\n",
       "      <td>M</td>\n",
       "      <td>R</td>\n",
       "      <td>covid 19 is a disease that spreads very easily...</td>\n",
       "      <td>abortion</td>\n",
       "      <td>66</td>\n",
       "    </tr>\n",
       "  </tbody>\n",
       "</table>\n",
       "</div>"
      ],
      "text/plain": [
       "  speakerid lastname firstname chamber state gender party  \\\n",
       "1  66079101    SMOOT      REED       S    UT      M     R   \n",
       "\n",
       "                                            document   subject session  \n",
       "1  covid 19 is a disease that spreads very easily...  abortion      66  "
      ]
     },
     "execution_count": 127,
     "metadata": {},
     "output_type": "execute_result"
    }
   ],
   "source": [
    "row"
   ]
  },
  {
   "cell_type": "code",
   "execution_count": 128,
   "metadata": {},
   "outputs": [
    {
     "data": {
      "text/plain": [
       "array(['covid 19 is a disease that spreads very easily obviously but we dont understand exactly how threfore we mustall behave as if we have it and we are trying to prevent passing it'],\n",
       "      dtype=object)"
      ]
     },
     "execution_count": 128,
     "metadata": {},
     "output_type": "execute_result"
    }
   ],
   "source": [
    "row.document.values\n"
   ]
  },
  {
   "cell_type": "code",
   "execution_count": 129,
   "metadata": {},
   "outputs": [],
   "source": [
    "analyzer2 = RMN_Analyzer(rmn, row)"
   ]
  },
  {
   "cell_type": "code",
   "execution_count": 130,
   "metadata": {},
   "outputs": [],
   "source": [
    "analyzer2.predict_topics()"
   ]
  },
  {
   "cell_type": "code",
   "execution_count": 131,
   "metadata": {},
   "outputs": [
    {
     "data": {
      "text/plain": [
       "array([[37, 19, 17, 30, 10]])"
      ]
     },
     "execution_count": 131,
     "metadata": {},
     "output_type": "execute_result"
    }
   ],
   "source": [
    "analyzer2.primary_topics()"
   ]
  },
  {
   "cell_type": "code",
   "execution_count": 132,
   "metadata": {},
   "outputs": [
    {
     "name": "stdout",
     "output_type": "stream",
     "text": [
      "====================\n",
      "\n",
      "Topic 37\n",
      "['know', 'maybe', 'everybody', 'really', 'think', 'else', 'nobody', 'anybody', 'thing', 'guess']\n",
      "====================\n",
      "\n",
      "Topic 19\n",
      "['cancer', 'disease', 'patients', 'diseases', 'infection', 'diabetes', 'treatment', 'illness', 'hiv', 'treatments']\n",
      "====================\n",
      "\n",
      "Topic 17\n",
      "['try', 'able', 'let', 'want', 'give', 'take', 'willing', 'make', 'intend', 'decide']\n",
      "====================\n",
      "\n",
      "Topic 30\n",
      "['families', 'parents', 'children', 'youngsters', 'kids', 'mothers', 'living', 'elderly', 'teenagers', 'unemployed']\n",
      "====================\n",
      "\n",
      "Topic 10\n",
      "['importance', 'challenges', 'understand', 'focus', 'situation', 'perspective', 'fundamental', 'understanding', 'important', 'progress']\n"
     ]
    },
    {
     "data": {
      "text/plain": [
       "[[('know', 0.904),\n",
       "  ('maybe', 0.903),\n",
       "  ('everybody', 0.902),\n",
       "  ('really', 0.901),\n",
       "  ('think', 0.901),\n",
       "  ('else', 0.89),\n",
       "  ('nobody', 0.884),\n",
       "  ('anybody', 0.882),\n",
       "  ('thing', 0.88),\n",
       "  ('guess', 0.876)],\n",
       " [('cancer', 0.878),\n",
       "  ('disease', 0.87),\n",
       "  ('patients', 0.844),\n",
       "  ('diseases', 0.832),\n",
       "  ('infection', 0.82),\n",
       "  ('diabetes', 0.812),\n",
       "  ('treatment', 0.802),\n",
       "  ('illness', 0.794),\n",
       "  ('hiv', 0.781),\n",
       "  ('treatments', 0.777)],\n",
       " [('try', 0.857),\n",
       "  ('able', 0.802),\n",
       "  ('let', 0.801),\n",
       "  ('want', 0.801),\n",
       "  ('give', 0.797),\n",
       "  ('take', 0.791),\n",
       "  ('willing', 0.769),\n",
       "  ('make', 0.765),\n",
       "  ('intend', 0.76),\n",
       "  ('decide', 0.76)],\n",
       " [('families', 0.812),\n",
       "  ('parents', 0.773),\n",
       "  ('children', 0.77),\n",
       "  ('youngsters', 0.766),\n",
       "  ('kids', 0.748),\n",
       "  ('mothers', 0.736),\n",
       "  ('living', 0.73),\n",
       "  ('elderly', 0.721),\n",
       "  ('teenagers', 0.714),\n",
       "  ('unemployed', 0.7)],\n",
       " [('importance', 0.764),\n",
       "  ('challenges', 0.747),\n",
       "  ('understand', 0.728),\n",
       "  ('focus', 0.725),\n",
       "  ('situation', 0.724),\n",
       "  ('perspective', 0.721),\n",
       "  ('fundamental', 0.713),\n",
       "  ('understanding', 0.712),\n",
       "  ('important', 0.712),\n",
       "  ('progress', 0.712)]]"
      ]
     },
     "execution_count": 132,
     "metadata": {},
     "output_type": "execute_result"
    }
   ],
   "source": [
    "analyzer2.rmn.inspect_topics(analyzer2.primary_topics()[0])"
   ]
  },
  {
   "cell_type": "code",
   "execution_count": null,
   "metadata": {},
   "outputs": [],
   "source": []
  }
 ],
 "metadata": {
  "kernelspec": {
   "display_name": "Python 3",
   "language": "python",
   "name": "python3"
  },
  "language_info": {
   "codemirror_mode": {
    "name": "ipython",
    "version": 3
   },
   "file_extension": ".py",
   "mimetype": "text/x-python",
   "name": "python",
   "nbconvert_exporter": "python",
   "pygments_lexer": "ipython3",
   "version": "3.7.4"
  }
 },
 "nbformat": 4,
 "nbformat_minor": 2
}
