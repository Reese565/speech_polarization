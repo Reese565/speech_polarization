{
 "cells": [
  {
   "cell_type": "code",
   "execution_count": 1,
   "metadata": {},
   "outputs": [],
   "source": [
    "import os\n",
    "import io\n",
    "import requests\n",
    "\n",
    "import numpy as np\n",
    "import pandas as pd\n",
    "import matplotlib\n",
    "import matplotlib.pyplot as plt\n",
    "%matplotlib inline\n",
    "\n",
    "PROJ_PATH = '/home/reese56/w266_final/'\n",
    "VOTEVIEW = os.path.join(PROJ_PATH, 'data/voteview/')\n",
    "VOTEVIEW_RAW = os.path.join(VOTEVIEW, 'data/voteview/raw/')\n",
    "SAVE_PATH = os.path.join(VOTEVIEW, 'gen/')"
   ]
  },
  {
   "cell_type": "code",
   "execution_count": 2,
   "metadata": {},
   "outputs": [],
   "source": [
    "# import voteview congressional members dw-nominate score data\n",
    "try:\n",
    "    member_ideology = pd.read_csv(os.path.join(VOTEVIEW_RAW, 'raw/member_ideology.csv'))\n",
    "except FileNotFoundError:\n",
    "    url= 'https://voteview.com/static/data/out/members/HSall_members.csv'\n",
    "    r = requests.get(url).content\n",
    "    member_ideology = pd.read_csv(io.StringIO(r.decode('utf-8')))"
   ]
  },
  {
   "cell_type": "code",
   "execution_count": 3,
   "metadata": {},
   "outputs": [],
   "source": [
    "# select major political parties\n",
    "party_codes = member_ideology['party_code'].isin([100,200])\n",
    "\n",
    "# select desired congressional sessions\n",
    "period = member_ideology['congress'] >= 75\n",
    "\n",
    "# select desired attributes\n",
    "attributes = ['congress','chamber','state_icpsr',\n",
    "            'district_code','party_code','nominate_dim1',\n",
    "            'nominate_number_of_votes','nominate_number_of_errors']\n",
    "\n",
    "# select chambers\n",
    "chambers = member_ideology['chamber'].isin(['House','Senate'])\n",
    "\n",
    "# apply selections\n",
    "member_ideology = member_ideology[party_codes & period & chambers].filter(attributes)"
   ]
  },
  {
   "cell_type": "code",
   "execution_count": 4,
   "metadata": {},
   "outputs": [],
   "source": [
    "# party aggregate ideology by congress \n",
    "party_ideology = (member_ideology\n",
    "                  .groupby(['congress','party_code'], as_index= False)\n",
    "                  .agg({'nominate_dim1':np.sum, 'chamber':'count'})\n",
    "                  .rename({'chamber':'count'}, axis = 1))"
   ]
  },
  {
   "cell_type": "code",
   "execution_count": 5,
   "metadata": {},
   "outputs": [],
   "source": [
    "# democrat subset\n",
    "dem_sel = party_ideology[party_ideology['party_code'] == 100].drop('party_code', axis=1)\n",
    "dem_sel.rename({'nominate_dim1':'dem_nom','count':'dem_count'}, axis = 1, inplace = True)\n",
    "\n",
    "# gop subset\n",
    "gop_sel = party_ideology[party_ideology['party_code'] == 200].drop('party_code', axis=1)\n",
    "gop_sel.rename({'nominate_dim1':'gop_nom','count':'gop_count'}, axis = 1, inplace = True)"
   ]
  },
  {
   "cell_type": "code",
   "execution_count": 6,
   "metadata": {},
   "outputs": [],
   "source": [
    "# merge party subsets\n",
    "party_ideo_mu = dem_sel.merge(gop_sel, how = 'inner', on = 'congress')\n",
    "\n",
    "# calculate mean diff ideology\n",
    "party_ideo_mu['mu_diff'] = (\n",
    "    (party_ideo_mu['gop_nom'] - party_ideo_mu['dem_nom'])\n",
    "    /(party_ideo_mu['dem_count'] + party_ideo_mu['gop_count']))\n",
    "\n",
    "# party mean ideology\n",
    "party_ideo_mu['dem_nom'] = party_ideo_mu['dem_nom']/party_ideo_mu['dem_count']\n",
    "party_ideo_mu['gop_nom'] = party_ideo_mu['gop_nom']/party_ideo_mu['gop_count']"
   ]
  },
  {
   "cell_type": "code",
   "execution_count": 8,
   "metadata": {},
   "outputs": [],
   "source": [
    "# save\n",
    "try:\n",
    "    party_ideo_mu.to_csv(os.path.join(SAVE_PATH,'party_ideo_mu.csv'), index = False)\n",
    "except FileNotFoundError:\n",
    "    os.mkdir(SAVE_PATH)\n",
    "    party_ideo_mu.to_csv(os.path.join(SAVE_PATH,'party_ideo_mu.csv'), index = False)"
   ]
  },
  {
   "cell_type": "code",
   "execution_count": 9,
   "metadata": {},
   "outputs": [
    {
     "data": {
      "text/html": [
       "<div>\n",
       "<style scoped>\n",
       "    .dataframe tbody tr th:only-of-type {\n",
       "        vertical-align: middle;\n",
       "    }\n",
       "\n",
       "    .dataframe tbody tr th {\n",
       "        vertical-align: top;\n",
       "    }\n",
       "\n",
       "    .dataframe thead th {\n",
       "        text-align: right;\n",
       "    }\n",
       "</style>\n",
       "<table border=\"1\" class=\"dataframe\">\n",
       "  <thead>\n",
       "    <tr style=\"text-align: right;\">\n",
       "      <th></th>\n",
       "      <th>congress</th>\n",
       "      <th>dem_nom</th>\n",
       "      <th>dem_count</th>\n",
       "      <th>gop_nom</th>\n",
       "      <th>gop_count</th>\n",
       "      <th>mu_diff</th>\n",
       "    </tr>\n",
       "  </thead>\n",
       "  <tbody>\n",
       "    <tr>\n",
       "      <th>0</th>\n",
       "      <td>75</td>\n",
       "      <td>-0.247534</td>\n",
       "      <td>427</td>\n",
       "      <td>0.298195</td>\n",
       "      <td>113</td>\n",
       "      <td>0.258135</td>\n",
       "    </tr>\n",
       "    <tr>\n",
       "      <th>1</th>\n",
       "      <td>76</td>\n",
       "      <td>-0.240994</td>\n",
       "      <td>349</td>\n",
       "      <td>0.301020</td>\n",
       "      <td>205</td>\n",
       "      <td>0.263206</td>\n",
       "    </tr>\n",
       "    <tr>\n",
       "      <th>2</th>\n",
       "      <td>77</td>\n",
       "      <td>-0.245720</td>\n",
       "      <td>354</td>\n",
       "      <td>0.299473</td>\n",
       "      <td>201</td>\n",
       "      <td>0.265187</td>\n",
       "    </tr>\n",
       "  </tbody>\n",
       "</table>\n",
       "</div>"
      ],
      "text/plain": [
       "   congress   dem_nom  dem_count   gop_nom  gop_count   mu_diff\n",
       "0        75 -0.247534        427  0.298195        113  0.258135\n",
       "1        76 -0.240994        349  0.301020        205  0.263206\n",
       "2        77 -0.245720        354  0.299473        201  0.265187"
      ]
     },
     "execution_count": 9,
     "metadata": {},
     "output_type": "execute_result"
    }
   ],
   "source": [
    "party_ideo_mu.head(n=3)"
   ]
  },
  {
   "cell_type": "code",
   "execution_count": 7,
   "metadata": {},
   "outputs": [
    {
     "data": {
      "image/png": "[encoded data removed]",
      "text/plain": [
       "<Figure size 432x288 with 1 Axes>"
      ]
     },
     "metadata": {
      "needs_background": "light"
     },
     "output_type": "display_data"
    }
   ],
   "source": [
    "import seaborn as sns\n",
    "\n",
    "# democrat mean vis\n",
    "sns.lineplot(x = 'congress', y = 'dem_nom', data = party_ideo_mu);"
   ]
  },
  {
   "cell_type": "code",
   "execution_count": 8,
   "metadata": {},
   "outputs": [
    {
     "data": {
      "image/png": "[encoded data removed]",
      "text/plain": [
       "<Figure size 432x288 with 1 Axes>"
      ]
     },
     "metadata": {
      "needs_background": "light"
     },
     "output_type": "display_data"
    }
   ],
   "source": [
    "# gop mean vis\n",
    "sns.lineplot(x = 'congress', y = 'gop_nom', data = party_ideo_mu);"
   ]
  },
  {
   "cell_type": "code",
   "execution_count": 9,
   "metadata": {},
   "outputs": [
    {
     "data": {
      "image/png": "[encoded data removed]",
      "text/plain": [
       "<Figure size 432x288 with 1 Axes>"
      ]
     },
     "metadata": {
      "needs_background": "light"
     },
     "output_type": "display_data"
    }
   ],
   "source": [
    "# party mean diff vis\n",
    "sns.lineplot(x = 'congress', y = 'mu_diff', data = party_ideo_mu);"
   ]
  },
  {
   "cell_type": "code",
   "execution_count": null,
   "metadata": {},
   "outputs": [],
   "source": []
  }
 ],
 "metadata": {
  "kernelspec": {
   "display_name": "Python 3",
   "language": "python",
   "name": "python3"
  },
  "language_info": {
   "codemirror_mode": {
    "name": "ipython",
    "version": 3
   },
   "file_extension": ".py",
   "mimetype": "text/x-python",
   "name": "python",
   "nbconvert_exporter": "python",
   "pygments_lexer": "ipython3",
   "version": "3.7.4"
  }
 },
 "nbformat": 4,
 "nbformat_minor": 4
}
