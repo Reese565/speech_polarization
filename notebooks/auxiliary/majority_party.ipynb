{
 "cells": [
  {
   "cell_type": "code",
   "execution_count": 1,
   "metadata": {},
   "outputs": [],
   "source": [
    "import os\n",
    "import io\n",
    "import requests\n",
    "\n",
    "import numpy as np\n",
    "import pandas as pd\n",
    "import matplotlib\n",
    "import matplotlib.pyplot as plt\n",
    "%matplotlib inline\n",
    "\n",
    "PROJ_PATH = '/home/reese56/w266_final/'\n",
    "VOTEVIEW = os.path.join(PROJ_PATH, 'data/voteview/')\n",
    "VOTEVIEW_RAW = os.path.join(VOTEVIEW, 'data/voteview/raw/')\n",
    "SAVE_PATH = os.path.join(VOTEVIEW, 'gen/')"
   ]
  },
  {
   "cell_type": "code",
   "execution_count": 2,
   "metadata": {},
   "outputs": [],
   "source": [
    "# import voteview congressional members dw-nominate score data\n",
    "try:\n",
    "    member_ideology = pd.read_csv(os.path.join(VOTEVIEW_RAW, 'raw/member_ideology.csv'))\n",
    "except FileNotFoundError:\n",
    "    url= 'https://voteview.com/static/data/out/members/HSall_members.csv'\n",
    "    r = requests.get(url).content\n",
    "    member_ideology = pd.read_csv(io.StringIO(r.decode('utf-8')))"
   ]
  },
  {
   "cell_type": "code",
   "execution_count": 3,
   "metadata": {},
   "outputs": [],
   "source": [
    "# select major political parties\n",
    "party_codes = member_ideology['party_code'].isin([100,200])\n",
    "\n",
    "# select desired congressional sessions\n",
    "period = member_ideology['congress'] >= 75\n",
    "\n",
    "# select desired attributes\n",
    "attributes = ['congress','chamber','state_icpsr','last_means',\n",
    "            'district_code','party_code','nominate_dim1',\n",
    "            'nominate_number_of_votes','nominate_number_of_errors']\n",
    "\n",
    "# select chambers\n",
    "chambers = member_ideology['chamber'].isin(['House','Senate'])\n",
    "\n",
    "# apply selections\n",
    "member_ideology = member_ideology[party_codes & period & chambers].filter(attributes)"
   ]
  },
  {
   "cell_type": "code",
   "execution_count": 4,
   "metadata": {},
   "outputs": [],
   "source": [
    "# aggregate by party and election status\n",
    "member_count = (member_ideology\n",
    "                .groupby(['congress','chamber','party_code','last_means'], as_index= False)\n",
    "                .agg({'district_code':'count'})\n",
    "               )"
   ]
  },
  {
   "cell_type": "code",
   "execution_count": 5,
   "metadata": {},
   "outputs": [],
   "source": [
    "# create party specific data frames\n",
    "dem_count = member_count[member_count['party_code'] == 100].rename({'district_code':'dem_count'}, axis = 1)\n",
    "gop_count = member_count[member_count['party_code'] == 200].rename({'district_code':'gop_count'}, axis = 1)"
   ]
  },
  {
   "cell_type": "code",
   "execution_count": 6,
   "metadata": {},
   "outputs": [],
   "source": [
    "# create party data frames for election status\n",
    "\n",
    "# democrats\n",
    "dem_count_gen = dem_count[dem_count['last_means'] == 1.0].drop(['last_means','party_code'], axis = 1)         \n",
    "dem_count_oth = (dem_count[dem_count['last_means'] != 1.0]\n",
    "                 .groupby(['congress','chamber'], as_index= False)\n",
    "                 .agg({'dem_count':np.sum})\n",
    "                )\n",
    "\n",
    "# republicans\n",
    "gop_count_gen = gop_count[gop_count['last_means'] == 1.0].drop(['last_means','party_code'], axis = 1)\n",
    "gop_count_oth = (gop_count[gop_count['last_means'] != 1.0]\n",
    "                 .groupby(['congress','chamber'], as_index= False)\n",
    "                 .agg({'gop_count':np.sum})\n",
    "                )"
   ]
  },
  {
   "cell_type": "code",
   "execution_count": 7,
   "metadata": {},
   "outputs": [],
   "source": [
    "# merge party data frames for general election status\n",
    "gen_count = dem_count_gen.merge(gop_count_gen, how = 'inner', on =['congress','chamber'])\n",
    "gen_count['majority_gen'] = np.where(gen_count['dem_count'] > gen_count['gop_count'], 100, 200)\n",
    "gen_count['margin'] = np.where(gen_count['majority_gen'] == 100, \n",
    "                              gen_count['dem_count'] - gen_count['gop_count'],\n",
    "                              gen_count['gop_count'] - gen_count['dem_count'])"
   ]
  },
  {
   "cell_type": "code",
   "execution_count": 8,
   "metadata": {},
   "outputs": [
    {
     "name": "stdout",
     "output_type": "stream",
     "text": [
      "dem_count_gen: 77\n",
      "gop_count_gen: 77\n",
      "gen_count: 77\n"
     ]
    }
   ],
   "source": [
    "print('dem_count_gen:',dem_count_gen.shape[0])\n",
    "print('gop_count_gen:',gop_count_gen.shape[0])\n",
    "print('gen_count:',gen_count.shape[0])"
   ]
  },
  {
   "cell_type": "code",
   "execution_count": 9,
   "metadata": {},
   "outputs": [],
   "source": [
    "# other elections missing on megre\n",
    "missing_dem = dem_count_oth[~dem_count_oth['congress'].isin(gop_count_oth['congress'].values)]\n",
    "\n",
    "# construct missing entries\n",
    "missing_dem_comp = missing_dem.copy()\n",
    "missing_dem_comp = missing_dem_comp.rename({'dem_count':'gop_count'}, axis = 1)\n",
    "missing_dem_comp['gop_count'] = 0\n",
    "\n",
    "# add missing entries to complementry data frame\n",
    "gop_count_oth = pd.concat([gop_count_oth,missing_dem_comp], axis = 0)"
   ]
  },
  {
   "cell_type": "code",
   "execution_count": 10,
   "metadata": {},
   "outputs": [],
   "source": [
    "# create other elections df\n",
    "oth_count = dem_count_oth.merge(gop_count_oth, how = 'inner', on =['congress','chamber'])\n",
    "\n",
    "oth_count['majority_oth'] = np.where(oth_count['dem_count'] > oth_count['gop_count'], 100, 200)\n",
    "oth_count['margin'] = np.where(oth_count['majority_oth'] == 100, \n",
    "                              oth_count['dem_count'] - oth_count['gop_count'],\n",
    "                              oth_count['gop_count'] - oth_count['dem_count'])\n",
    "oth_count = (oth_count\n",
    "             .rename({'majority_oth':'gainer', 'margin':'gain'}, axis = 1)\n",
    "             .drop(['dem_count','gop_count'], axis = 1)\n",
    "            )"
   ]
  },
  {
   "cell_type": "code",
   "execution_count": 11,
   "metadata": {},
   "outputs": [
    {
     "data": {
      "text/html": [
       "<div>\n",
       "<style scoped>\n",
       "    .dataframe tbody tr th:only-of-type {\n",
       "        vertical-align: middle;\n",
       "    }\n",
       "\n",
       "    .dataframe tbody tr th {\n",
       "        vertical-align: top;\n",
       "    }\n",
       "\n",
       "    .dataframe thead th {\n",
       "        text-align: right;\n",
       "    }\n",
       "</style>\n",
       "<table border=\"1\" class=\"dataframe\">\n",
       "  <thead>\n",
       "    <tr style=\"text-align: right;\">\n",
       "      <th></th>\n",
       "      <th>congress</th>\n",
       "      <th>chamber</th>\n",
       "      <th>gainer</th>\n",
       "      <th>gain</th>\n",
       "    </tr>\n",
       "  </thead>\n",
       "  <tbody>\n",
       "    <tr>\n",
       "      <th>0</th>\n",
       "      <td>75</td>\n",
       "      <td>House</td>\n",
       "      <td>100</td>\n",
       "      <td>6</td>\n",
       "    </tr>\n",
       "    <tr>\n",
       "      <th>1</th>\n",
       "      <td>75</td>\n",
       "      <td>Senate</td>\n",
       "      <td>100</td>\n",
       "      <td>9</td>\n",
       "    </tr>\n",
       "    <tr>\n",
       "      <th>2</th>\n",
       "      <td>76</td>\n",
       "      <td>House</td>\n",
       "      <td>100</td>\n",
       "      <td>6</td>\n",
       "    </tr>\n",
       "    <tr>\n",
       "      <th>3</th>\n",
       "      <td>76</td>\n",
       "      <td>Senate</td>\n",
       "      <td>100</td>\n",
       "      <td>5</td>\n",
       "    </tr>\n",
       "    <tr>\n",
       "      <th>4</th>\n",
       "      <td>77</td>\n",
       "      <td>House</td>\n",
       "      <td>100</td>\n",
       "      <td>2</td>\n",
       "    </tr>\n",
       "    <tr>\n",
       "      <th>...</th>\n",
       "      <td>...</td>\n",
       "      <td>...</td>\n",
       "      <td>...</td>\n",
       "      <td>...</td>\n",
       "    </tr>\n",
       "    <tr>\n",
       "      <th>64</th>\n",
       "      <td>112</td>\n",
       "      <td>House</td>\n",
       "      <td>100</td>\n",
       "      <td>7</td>\n",
       "    </tr>\n",
       "    <tr>\n",
       "      <th>65</th>\n",
       "      <td>112</td>\n",
       "      <td>Senate</td>\n",
       "      <td>200</td>\n",
       "      <td>0</td>\n",
       "    </tr>\n",
       "    <tr>\n",
       "      <th>66</th>\n",
       "      <td>113</td>\n",
       "      <td>House</td>\n",
       "      <td>200</td>\n",
       "      <td>2</td>\n",
       "    </tr>\n",
       "    <tr>\n",
       "      <th>67</th>\n",
       "      <td>113</td>\n",
       "      <td>Senate</td>\n",
       "      <td>100</td>\n",
       "      <td>3</td>\n",
       "    </tr>\n",
       "    <tr>\n",
       "      <th>68</th>\n",
       "      <td>114</td>\n",
       "      <td>House</td>\n",
       "      <td>200</td>\n",
       "      <td>3</td>\n",
       "    </tr>\n",
       "  </tbody>\n",
       "</table>\n",
       "<p>69 rows × 4 columns</p>\n",
       "</div>"
      ],
      "text/plain": [
       "    congress chamber  gainer  gain\n",
       "0         75   House     100     6\n",
       "1         75  Senate     100     9\n",
       "2         76   House     100     6\n",
       "3         76  Senate     100     5\n",
       "4         77   House     100     2\n",
       "..       ...     ...     ...   ...\n",
       "64       112   House     100     7\n",
       "65       112  Senate     200     0\n",
       "66       113   House     200     2\n",
       "67       113  Senate     100     3\n",
       "68       114   House     200     3\n",
       "\n",
       "[69 rows x 4 columns]"
      ]
     },
     "execution_count": 11,
     "metadata": {},
     "output_type": "execute_result"
    }
   ],
   "source": [
    "oth_count"
   ]
  },
  {
   "cell_type": "code",
   "execution_count": 12,
   "metadata": {},
   "outputs": [
    {
     "name": "stdout",
     "output_type": "stream",
     "text": [
      "dem_count_oth: 74\n",
      "gop_count_oth: 72\n",
      "oth_count: 69\n"
     ]
    }
   ],
   "source": [
    "print('dem_count_oth:',dem_count_oth.shape[0])\n",
    "print('gop_count_oth:',gop_count_oth.shape[0])\n",
    "print('oth_count:',oth_count.shape[0])"
   ]
  },
  {
   "cell_type": "code",
   "execution_count": 13,
   "metadata": {},
   "outputs": [],
   "source": [
    "majority = gen_count.merge(oth_count, how = 'outer', on = ['congress','chamber'])\n",
    "majority['majority_sp'] = np.where(majority['margin'] > majority['gain'],\n",
    "                                majority['majority_gen'], majority['gainer'])\n",
    "majority['flipped'] = majority['majority_gen'] != majority['majority_sp']"
   ]
  },
  {
   "cell_type": "code",
   "execution_count": 14,
   "metadata": {},
   "outputs": [
    {
     "name": "stdout",
     "output_type": "stream",
     "text": [
      "gen_count: 77\n",
      "oth_count: 69\n",
      "majority: 80\n"
     ]
    }
   ],
   "source": [
    "print('gen_count:',gen_count.shape[0])\n",
    "print('oth_count:',oth_count.shape[0])\n",
    "print('majority:',majority.shape[0])"
   ]
  },
  {
   "cell_type": "code",
   "execution_count": 15,
   "metadata": {},
   "outputs": [],
   "source": [
    "majority.to_csv(os.path.join(SAVE_PATH, 'majority.csv'), index = False)"
   ]
  },
  {
   "cell_type": "code",
   "execution_count": 16,
   "metadata": {},
   "outputs": [
    {
     "data": {
      "text/plain": [
       "82"
      ]
     },
     "execution_count": 16,
     "metadata": {},
     "output_type": "execute_result"
    }
   ],
   "source": [
    "(member_ideology['congress'].max() - 75)*2"
   ]
  },
  {
   "cell_type": "code",
   "execution_count": null,
   "metadata": {},
   "outputs": [],
   "source": []
  }
 ],
 "metadata": {
  "kernelspec": {
   "display_name": "Python 3",
   "language": "python",
   "name": "python3"
  },
  "language_info": {
   "codemirror_mode": {
    "name": "ipython",
    "version": 3
   },
   "file_extension": ".py",
   "mimetype": "text/x-python",
   "name": "python",
   "nbconvert_exporter": "python",
   "pygments_lexer": "ipython3",
   "version": "3.7.4"
  }
 },
 "nbformat": 4,
 "nbformat_minor": 4
}
