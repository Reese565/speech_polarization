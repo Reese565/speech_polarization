{
 "cells": [
  {
   "cell_type": "code",
   "execution_count": 1,
   "metadata": {},
   "outputs": [],
   "source": [
    "import os\n",
    "import io\n",
    "import requests\n",
    "\n",
    "import numpy as np\n",
    "import pandas as pd\n",
    "import matplotlib\n",
    "import matplotlib.pyplot as plt\n",
    "%matplotlib inline\n",
    "\n",
    "PROJ_PATH = '/home/reese56/w266_final/'\n",
    "VOTEVIEW = os.path.join(PROJ_PATH, 'data/voteview/')\n",
    "VOTEVIEW_RAW = os.path.join(VOTEVIEW, 'data/voteview/raw/')\n",
    "SAVE_PATH = os.path.join(VOTEVIEW, 'gen/')"
   ]
  },
  {
   "cell_type": "code",
   "execution_count": 2,
   "metadata": {},
   "outputs": [
    {
     "name": "stderr",
     "output_type": "stream",
     "text": [
      "/home/reese56/anaconda3/lib/python3.7/site-packages/IPython/core/interactiveshell.py:3063: DtypeWarning: Columns (14,15,16,17) have mixed types.Specify dtype option on import or set low_memory=False.\n",
      "  interactivity=interactivity, compiler=compiler, result=result)\n"
     ]
    }
   ],
   "source": [
    "# import voteview congressional vote data\n",
    "try:\n",
    "    congress_votes = pd.read_csv(os.path.join(VOTEVIEW, 'raw/congress_votes.csv'))\n",
    "except FileNotFoundError:\n",
    "    url= 'https://voteview.com/static/data/out/rollcalls/HSall_rollcalls.csv'\n",
    "    r = requests.get(url).content\n",
    "    congress_votes = pd.read_csv(io.StringIO(r.decode('utf-8')))\n",
    "\n",
    "# import voteview members votes data\n",
    "try:\n",
    "    member_votes = pd.read_csv(os.path.join(VOTEVIEW, 'raw/member_votes.csv'))\n",
    "except FileNotFoundError:\n",
    "    url= 'https://voteview.com/static/data/out/votes/HSall_votes.csv'\n",
    "    r = requests.get(url).content\n",
    "    member_votes = pd.read_csv(io.StringIO(r.decode('utf-8')))"
   ]
  },
  {
   "cell_type": "code",
   "execution_count": 3,
   "metadata": {},
   "outputs": [],
   "source": [
    "# select desired congressional sessions\n",
    "cv_period = congress_votes['congress'] >= 75\n",
    "cv_period = cv_period & (congress_votes['congress'] <= 114)\n",
    "mv_period = member_votes['congress'] >= 75\n",
    "mv_period = mv_period & (member_votes['congress'] <= 114)\n",
    "\n",
    "\n",
    "# select chamber\n",
    "chambers = ['House', 'Senate']\n",
    "cv_chambers = congress_votes['chamber'].isin(chambers)\n",
    "mv_chambers = member_votes['chamber'].isin(chambers)\n",
    "\n",
    "\n",
    "# selected attributes\n",
    "cv_attributes = ['congress', 'chamber', 'rollnumber','yea_count', 'nay_count','vote_result','bill_number']\n",
    "mv_attributes = ['congress', 'chamber', 'rollnumber', 'icpsr', 'cast_code']\n",
    "\n",
    "# apply selections\n",
    "congress_votes = congress_votes[cv_period & cv_chambers].filter(cv_attributes, axis = 1)\n",
    "member_votes = member_votes[mv_period & mv_chambers].filter(mv_attributes, axis = 1)"
   ]
  },
  {
   "cell_type": "code",
   "execution_count": 4,
   "metadata": {},
   "outputs": [],
   "source": [
    "# import party majority data\n",
    "majority = pd.read_csv(os.path.join(VOTEVIEW, 'gen/majority.csv'))\n",
    "majority = majority[['congress','chamber','majority_gen', 'dem_count','gop_count']]"
   ]
  },
  {
   "cell_type": "code",
   "execution_count": 5,
   "metadata": {},
   "outputs": [],
   "source": [
    "congress_votes['status'] = np.where(congress_votes['yea_count'] > congress_votes['nay_count'], 'passed','failed')\n",
    "congress_votes['status'] = np.where(congress_votes['yea_count'] == congress_votes['nay_count'],\n",
    "                                    'tie_vote',congress_votes['status'])"
   ]
  },
  {
   "cell_type": "code",
   "execution_count": 8,
   "metadata": {},
   "outputs": [
    {
     "name": "stdout",
     "output_type": "stream",
     "text": [
      "proportion of bills passed: 0.564588419633422\n",
      "proportion of bills ties: 0.0033159639981051635\n"
     ]
    }
   ],
   "source": [
    "bills = ~congress_votes['bill_number'].isna()\n",
    "passed = congress_votes['status'] == 'passed'\n",
    "tied = congress_votes['status'] == 'tie_vote'\n",
    "\n",
    "prop_passed = (bills & passed).sum()/congress_votes.shape[0]\n",
    "print('proportion of bills passed:', prop_passed)\n",
    "prop_tied = (bills & tied).sum()/congress_votes.shape[0]\n",
    "print('proportion of bills ties:', prop_tied)"
   ]
  },
  {
   "cell_type": "code",
   "execution_count": 9,
   "metadata": {},
   "outputs": [
    {
     "data": {
      "text/plain": [
       "yea           9496501\n",
       "nay           5171912\n",
       "abstention    1174761\n",
       "Name: cast, dtype: int64"
      ]
     },
     "execution_count": 9,
     "metadata": {},
     "output_type": "execute_result"
    }
   ],
   "source": [
    "member_votes['cast'] = np.where(member_votes['cast_code'].isin([1,2,3]), 'yea','present')\n",
    "member_votes['cast'] = np.where(member_votes['cast_code'].isin([4,5,6]), 'nay', member_votes['cast'])\n",
    "member_votes['cast'] = np.where(member_votes['cast_code'].isin([7,8,9]), 'abstention', member_votes['cast'])\n",
    "member_votes['cast'].value_counts()"
   ]
  },
  {
   "cell_type": "code",
   "execution_count": 10,
   "metadata": {},
   "outputs": [
    {
     "name": "stdout",
     "output_type": "stream",
     "text": [
      "member_votes: 15843174\n",
      "congress_votes: 54886\n",
      "votes_p: 15843174\n"
     ]
    }
   ],
   "source": [
    "votes_p = member_votes.merge(congress_votes, how = 'inner', on = ['congress','chamber','rollnumber'])\n",
    "\n",
    "print('member_votes:',member_votes.shape[0])\n",
    "print('congress_votes:',congress_votes.shape[0])\n",
    "print('votes_p:',votes_p.shape[0])"
   ]
  },
  {
   "cell_type": "code",
   "execution_count": 11,
   "metadata": {},
   "outputs": [],
   "source": [
    "# filter for bills\n",
    "votes_p = votes_p[~votes_p['bill_number'].isna()]"
   ]
  },
  {
   "cell_type": "code",
   "execution_count": 12,
   "metadata": {},
   "outputs": [],
   "source": [
    "house_bool = votes_p['chamber'] == 'House'\n",
    "house_votes = votes_p[house_bool]\n",
    "senate_votes = votes_p[~house_bool]"
   ]
  },
  {
   "cell_type": "code",
   "execution_count": 14,
   "metadata": {},
   "outputs": [
    {
     "data": {
      "text/plain": [
       "0.36786018321672265"
      ]
     },
     "execution_count": 14,
     "metadata": {},
     "output_type": "execute_result"
    }
   ],
   "source": [
    "# passed in house\n",
    "house_votes['bill_number'].isin(senate_votes['bill_number']).sum()/house_votes.shape[0]"
   ]
  },
  {
   "cell_type": "code",
   "execution_count": 13,
   "metadata": {},
   "outputs": [
    {
     "data": {
      "text/plain": [
       "0.6341761038110686"
      ]
     },
     "execution_count": 13,
     "metadata": {},
     "output_type": "execute_result"
    }
   ],
   "source": [
    "# passed in senate\n",
    "senate_votes['bill_number'].isin(house_votes['bill_number']).sum()/senate_votes.shape[0]"
   ]
  },
  {
   "cell_type": "code",
   "execution_count": 15,
   "metadata": {},
   "outputs": [],
   "source": [
    "# import voteview congressional members dw-nominate score data\n",
    "try:\n",
    "    member_ideology = pd.read_csv(os.path.join(VOTEVIEW_RAW, 'raw/member_ideology.csv'))\n",
    "except FileNotFoundError:\n",
    "    url= 'https://voteview.com/static/data/out/members/HSall_members.csv'\n",
    "    r = requests.get(url).content\n",
    "    member_ideology = pd.read_csv(io.StringIO(r.decode('utf-8')))"
   ]
  },
  {
   "cell_type": "code",
   "execution_count": 16,
   "metadata": {},
   "outputs": [],
   "source": [
    "# select major political parties\n",
    "party_codes = member_ideology['party_code'].isin([100,200])\n",
    "\n",
    "# select desired congressional sessions\n",
    "period = member_ideology['congress'] >= 75\n",
    "period = period & (member_ideology['congress'] <= 114)\n",
    "\n",
    "# select desired attributes\n",
    "attributes = ['congress','chamber','party_code','icpsr']\n",
    "\n",
    "# select chambers\n",
    "chambers = member_ideology['chamber'].isin(['House','Senate'])\n",
    "\n",
    "# apply selections\n",
    "member_party = member_ideology[party_codes & period & chambers].filter(attributes)"
   ]
  },
  {
   "cell_type": "code",
   "execution_count": 17,
   "metadata": {},
   "outputs": [],
   "source": [
    "member_majority = member_party.merge(majority, how = 'inner', on = ['congress','chamber'])"
   ]
  },
  {
   "cell_type": "code",
   "execution_count": 18,
   "metadata": {},
   "outputs": [
    {
     "name": "stdout",
     "output_type": "stream",
     "text": [
      "member_party: 21806\n",
      "majority: 80\n",
      "member_majority: 21806\n"
     ]
    }
   ],
   "source": [
    "print('member_party:',member_party.shape[0])\n",
    "print('majority:',majority.shape[0])\n",
    "print('member_majority:',member_majority.shape[0])"
   ]
  },
  {
   "cell_type": "code",
   "execution_count": 19,
   "metadata": {},
   "outputs": [
    {
     "data": {
      "text/html": [
       "<div>\n",
       "<style scoped>\n",
       "    .dataframe tbody tr th:only-of-type {\n",
       "        vertical-align: middle;\n",
       "    }\n",
       "\n",
       "    .dataframe tbody tr th {\n",
       "        vertical-align: top;\n",
       "    }\n",
       "\n",
       "    .dataframe thead th {\n",
       "        text-align: right;\n",
       "    }\n",
       "</style>\n",
       "<table border=\"1\" class=\"dataframe\">\n",
       "  <thead>\n",
       "    <tr style=\"text-align: right;\">\n",
       "      <th></th>\n",
       "      <th>congress</th>\n",
       "      <th>chamber</th>\n",
       "      <th>rollnumber</th>\n",
       "      <th>icpsr</th>\n",
       "      <th>cast</th>\n",
       "      <th>bill_number</th>\n",
       "      <th>status</th>\n",
       "      <th>party_code</th>\n",
       "      <th>majority_gen</th>\n",
       "      <th>dem_count</th>\n",
       "      <th>gop_count</th>\n",
       "    </tr>\n",
       "  </thead>\n",
       "  <tbody>\n",
       "    <tr>\n",
       "      <th>0</th>\n",
       "      <td>75</td>\n",
       "      <td>House</td>\n",
       "      <td>2</td>\n",
       "      <td>76</td>\n",
       "      <td>yea</td>\n",
       "      <td>SJR3</td>\n",
       "      <td>passed</td>\n",
       "      <td>100</td>\n",
       "      <td>100.0</td>\n",
       "      <td>332.0</td>\n",
       "      <td>89.0</td>\n",
       "    </tr>\n",
       "    <tr>\n",
       "      <th>1</th>\n",
       "      <td>75</td>\n",
       "      <td>House</td>\n",
       "      <td>3</td>\n",
       "      <td>76</td>\n",
       "      <td>nay</td>\n",
       "      <td>S416</td>\n",
       "      <td>failed</td>\n",
       "      <td>100</td>\n",
       "      <td>100.0</td>\n",
       "      <td>332.0</td>\n",
       "      <td>89.0</td>\n",
       "    </tr>\n",
       "    <tr>\n",
       "      <th>2</th>\n",
       "      <td>75</td>\n",
       "      <td>House</td>\n",
       "      <td>4</td>\n",
       "      <td>76</td>\n",
       "      <td>nay</td>\n",
       "      <td>HR1531</td>\n",
       "      <td>failed</td>\n",
       "      <td>100</td>\n",
       "      <td>100.0</td>\n",
       "      <td>332.0</td>\n",
       "      <td>89.0</td>\n",
       "    </tr>\n",
       "    <tr>\n",
       "      <th>3</th>\n",
       "      <td>75</td>\n",
       "      <td>House</td>\n",
       "      <td>5</td>\n",
       "      <td>76</td>\n",
       "      <td>nay</td>\n",
       "      <td>HR1531</td>\n",
       "      <td>failed</td>\n",
       "      <td>100</td>\n",
       "      <td>100.0</td>\n",
       "      <td>332.0</td>\n",
       "      <td>89.0</td>\n",
       "    </tr>\n",
       "    <tr>\n",
       "      <th>4</th>\n",
       "      <td>75</td>\n",
       "      <td>House</td>\n",
       "      <td>6</td>\n",
       "      <td>76</td>\n",
       "      <td>yea</td>\n",
       "      <td>HR3587</td>\n",
       "      <td>passed</td>\n",
       "      <td>100</td>\n",
       "      <td>100.0</td>\n",
       "      <td>332.0</td>\n",
       "      <td>89.0</td>\n",
       "    </tr>\n",
       "    <tr>\n",
       "      <th>...</th>\n",
       "      <td>...</td>\n",
       "      <td>...</td>\n",
       "      <td>...</td>\n",
       "      <td>...</td>\n",
       "      <td>...</td>\n",
       "      <td>...</td>\n",
       "      <td>...</td>\n",
       "      <td>...</td>\n",
       "      <td>...</td>\n",
       "      <td>...</td>\n",
       "      <td>...</td>\n",
       "    </tr>\n",
       "    <tr>\n",
       "      <th>13699198</th>\n",
       "      <td>114</td>\n",
       "      <td>Senate</td>\n",
       "      <td>498</td>\n",
       "      <td>94659</td>\n",
       "      <td>yea</td>\n",
       "      <td>S2943</td>\n",
       "      <td>passed</td>\n",
       "      <td>200</td>\n",
       "      <td>200.0</td>\n",
       "      <td>44.0</td>\n",
       "      <td>54.0</td>\n",
       "    </tr>\n",
       "    <tr>\n",
       "      <th>13699199</th>\n",
       "      <td>114</td>\n",
       "      <td>Senate</td>\n",
       "      <td>499</td>\n",
       "      <td>94659</td>\n",
       "      <td>yea</td>\n",
       "      <td>HR2028</td>\n",
       "      <td>passed</td>\n",
       "      <td>200</td>\n",
       "      <td>200.0</td>\n",
       "      <td>44.0</td>\n",
       "      <td>54.0</td>\n",
       "    </tr>\n",
       "    <tr>\n",
       "      <th>13699200</th>\n",
       "      <td>114</td>\n",
       "      <td>Senate</td>\n",
       "      <td>500</td>\n",
       "      <td>94659</td>\n",
       "      <td>yea</td>\n",
       "      <td>HR2028</td>\n",
       "      <td>passed</td>\n",
       "      <td>200</td>\n",
       "      <td>200.0</td>\n",
       "      <td>44.0</td>\n",
       "      <td>54.0</td>\n",
       "    </tr>\n",
       "    <tr>\n",
       "      <th>13699201</th>\n",
       "      <td>114</td>\n",
       "      <td>Senate</td>\n",
       "      <td>501</td>\n",
       "      <td>94659</td>\n",
       "      <td>nay</td>\n",
       "      <td>S612</td>\n",
       "      <td>passed</td>\n",
       "      <td>200</td>\n",
       "      <td>200.0</td>\n",
       "      <td>44.0</td>\n",
       "      <td>54.0</td>\n",
       "    </tr>\n",
       "    <tr>\n",
       "      <th>13699202</th>\n",
       "      <td>114</td>\n",
       "      <td>Senate</td>\n",
       "      <td>502</td>\n",
       "      <td>94659</td>\n",
       "      <td>nay</td>\n",
       "      <td>S612</td>\n",
       "      <td>passed</td>\n",
       "      <td>200</td>\n",
       "      <td>200.0</td>\n",
       "      <td>44.0</td>\n",
       "      <td>54.0</td>\n",
       "    </tr>\n",
       "  </tbody>\n",
       "</table>\n",
       "<p>13699203 rows × 11 columns</p>\n",
       "</div>"
      ],
      "text/plain": [
       "          congress chamber  rollnumber  icpsr cast bill_number  status  \\\n",
       "0               75   House           2     76  yea        SJR3  passed   \n",
       "1               75   House           3     76  nay        S416  failed   \n",
       "2               75   House           4     76  nay      HR1531  failed   \n",
       "3               75   House           5     76  nay      HR1531  failed   \n",
       "4               75   House           6     76  yea      HR3587  passed   \n",
       "...            ...     ...         ...    ...  ...         ...     ...   \n",
       "13699198       114  Senate         498  94659  yea       S2943  passed   \n",
       "13699199       114  Senate         499  94659  yea      HR2028  passed   \n",
       "13699200       114  Senate         500  94659  yea      HR2028  passed   \n",
       "13699201       114  Senate         501  94659  nay        S612  passed   \n",
       "13699202       114  Senate         502  94659  nay        S612  passed   \n",
       "\n",
       "          party_code  majority_gen  dem_count  gop_count  \n",
       "0                100         100.0      332.0       89.0  \n",
       "1                100         100.0      332.0       89.0  \n",
       "2                100         100.0      332.0       89.0  \n",
       "3                100         100.0      332.0       89.0  \n",
       "4                100         100.0      332.0       89.0  \n",
       "...              ...           ...        ...        ...  \n",
       "13699198         200         200.0       44.0       54.0  \n",
       "13699199         200         200.0       44.0       54.0  \n",
       "13699200         200         200.0       44.0       54.0  \n",
       "13699201         200         200.0       44.0       54.0  \n",
       "13699202         200         200.0       44.0       54.0  \n",
       "\n",
       "[13699203 rows x 11 columns]"
      ]
     },
     "execution_count": 19,
     "metadata": {},
     "output_type": "execute_result"
    }
   ],
   "source": [
    "combined_votes = votes_p.merge(member_majority, how = 'inner', on = ['congress','chamber','icpsr'])\n",
    "combined_votes.drop(['yea_count','nay_count','vote_result','cast_code'], axis = 1, inplace = True)\n",
    "combined_votes"
   ]
  },
  {
   "cell_type": "code",
   "execution_count": 20,
   "metadata": {},
   "outputs": [
    {
     "name": "stdout",
     "output_type": "stream",
     "text": [
      "votes_p: 13775137\n",
      "member_majority: 21806\n",
      "combined_votes: 13699203\n"
     ]
    }
   ],
   "source": [
    "print('votes_p:',votes_p.shape[0])\n",
    "print('member_majority:',member_majority.shape[0])\n",
    "print('combined_votes:',combined_votes.shape[0])"
   ]
  },
  {
   "cell_type": "code",
   "execution_count": null,
   "metadata": {},
   "outputs": [],
   "source": []
  },
  {
   "cell_type": "code",
   "execution_count": 21,
   "metadata": {},
   "outputs": [],
   "source": [
    "combined_votes.to_csv(os.path.join(SAVE_PATH, 'combined_votes.csv'), index = False)"
   ]
  },
  {
   "cell_type": "code",
   "execution_count": 22,
   "metadata": {},
   "outputs": [
    {
     "data": {
      "text/plain": [
       "75934"
      ]
     },
     "execution_count": 22,
     "metadata": {},
     "output_type": "execute_result"
    }
   ],
   "source": [
    "votes_p.shape[0] - combined_votes.shape[0]"
   ]
  },
  {
   "cell_type": "code",
   "execution_count": null,
   "metadata": {},
   "outputs": [],
   "source": []
  }
 ],
 "metadata": {
  "kernelspec": {
   "display_name": "Python 3",
   "language": "python",
   "name": "python3"
  },
  "language_info": {
   "codemirror_mode": {
    "name": "ipython",
    "version": 3
   },
   "file_extension": ".py",
   "mimetype": "text/x-python",
   "name": "python",
   "nbconvert_exporter": "python",
   "pygments_lexer": "ipython3",
   "version": "3.7.4"
  }
 },
 "nbformat": 4,
 "nbformat_minor": 4
}
