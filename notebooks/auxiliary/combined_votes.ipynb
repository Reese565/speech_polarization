{
 "cells": [
  {
   "cell_type": "code",
   "execution_count": 1,
   "metadata": {},
   "outputs": [],
   "source": [
    "import os\n",
    "import io\n",
    "import requests\n",
    "\n",
    "import numpy as np\n",
    "import pandas as pd\n",
    "import matplotlib\n",
    "import matplotlib.pyplot as plt\n",
    "%matplotlib inline\n",
    "\n",
    "PROJ_PATH = '/home/reese56/w266_final/'\n",
    "VOTEVIEW = os.path.join(PROJ_PATH, 'data/voteview/')\n",
    "VOTEVIEW_RAW = os.path.join(VOTEVIEW, 'data/voteview/raw/')\n",
    "SAVE_PATH = os.path.join(VOTEVIEW, 'gen/')"
   ]
  },
  {
   "cell_type": "code",
   "execution_count": 2,
   "metadata": {},
   "outputs": [
    {
     "name": "stderr",
     "output_type": "stream",
     "text": [
      "/home/reese56/anaconda3/lib/python3.7/site-packages/IPython/core/interactiveshell.py:3063: DtypeWarning: Columns (14,15,16,17) have mixed types.Specify dtype option on import or set low_memory=False.\n",
      "  interactivity=interactivity, compiler=compiler, result=result)\n"
     ]
    }
   ],
   "source": [
    "# import voteview congressional vote data\n",
    "try:\n",
    "    congress_votes = pd.read_csv(os.path.join(VOTEVIEW, 'raw/congress_votes.csv'))\n",
    "except FileNotFoundError:\n",
    "    url= 'https://voteview.com/static/data/out/rollcalls/HSall_rollcalls.csv'\n",
    "    r = requests.get(url).content\n",
    "    congress_votes = pd.read_csv(io.StringIO(r.decode('utf-8')))\n",
    "\n",
    "# import voteview members votes data\n",
    "try:\n",
    "    member_votes = pd.read_csv(os.path.join(VOTEVIEW, 'raw/member_votes.csv'))\n",
    "except FileNotFoundError:\n",
    "    url= 'https://voteview.com/static/data/out/votes/HSall_votes.csv'\n",
    "    r = requests.get(url).content\n",
    "    member_votes = pd.read_csv(io.StringIO(r.decode('utf-8')))"
   ]
  },
  {
   "cell_type": "code",
   "execution_count": 3,
   "metadata": {},
   "outputs": [],
   "source": [
    "# select desired congressional sessions\n",
    "cv_period = congress_votes['congress'] >= 75\n",
    "cv_period = cv_period & (congress_votes['congress'] <= 114)\n",
    "mv_period = member_votes['congress'] >= 75\n",
    "mv_period = mv_period & (member_votes['congress'] <= 114)\n",
    "\n",
    "\n",
    "# select chamber\n",
    "chambers = ['House', 'Senate']\n",
    "cv_chambers = congress_votes['chamber'].isin(chambers)\n",
    "mv_chambers = member_votes['chamber'].isin(chambers)\n",
    "\n",
    "\n",
    "# selected attributes\n",
    "cv_attributes = ['congress', 'chamber', 'rollnumber','yea_count', 'nay_count','vote_result','bill_number']\n",
    "mv_attributes = ['congress', 'chamber', 'rollnumber', 'icpsr', 'cast_code']\n",
    "\n",
    "# apply selections\n",
    "congress_votes = congress_votes[cv_period & cv_chambers].filter(cv_attributes, axis = 1)\n",
    "member_votes = member_votes[mv_period & mv_chambers].filter(mv_attributes, axis = 1)"
   ]
  },
  {
   "cell_type": "code",
   "execution_count": 4,
   "metadata": {},
   "outputs": [],
   "source": [
    "# import party majority data\n",
    "majority = pd.read_csv(os.path.join(VOTEVIEW, 'gen/majority.csv'))\n",
    "majority = majority[['congress','chamber','majority_gen', 'dem_count','gop_count']]"
   ]
  },
  {
   "cell_type": "code",
   "execution_count": 5,
   "metadata": {},
   "outputs": [],
   "source": [
    "# creating simple majority vote categorical from yea nay vote counts\n",
    "congress_votes['status'] = np.where(congress_votes['yea_count'] > congress_votes['nay_count'], 'passed','failed')\n",
    "congress_votes['status'] = np.where(congress_votes['yea_count'] == congress_votes['nay_count'],\n",
    "                                    'tie_vote',congress_votes['status'])"
   ]
  },
  {
   "cell_type": "code",
   "execution_count": 6,
   "metadata": {},
   "outputs": [
    {
     "name": "stdout",
     "output_type": "stream",
     "text": [
      "proportion of bills passed: 0.564588419633422\n",
      "proportion of bills ties: 0.0033159639981051635\n"
     ]
    }
   ],
   "source": [
    "# examinig the proportion of votes designated as a bill in all sessions for both chambers combined\n",
    "bills = ~congress_votes['bill_number'].isna()\n",
    "passed = congress_votes['status'] == 'passed'\n",
    "tied = congress_votes['status'] == 'tie_vote'\n",
    "\n",
    "prop_passed = (bills & passed).sum()/congress_votes.shape[0]\n",
    "print('proportion of bills passed:', prop_passed)\n",
    "prop_tied = (bills & tied).sum()/congress_votes.shape[0]\n",
    "print('proportion of bills ties:', prop_tied)"
   ]
  },
  {
   "cell_type": "code",
   "execution_count": 7,
   "metadata": {},
   "outputs": [
    {
     "data": {
      "text/plain": [
       "yea          9496501\n",
       "nay          5171912\n",
       "abstained    1174761\n",
       "Name: cast, dtype: int64"
      ]
     },
     "execution_count": 7,
     "metadata": {},
     "output_type": "execute_result"
    }
   ],
   "source": [
    "# creating simple yea, nay, abstained vote cast categorical\n",
    "member_votes['cast'] = np.where(member_votes['cast_code'].isin([1,2,3]), 'yea','present')\n",
    "member_votes['cast'] = np.where(member_votes['cast_code'].isin([4,5,6]), 'nay', member_votes['cast'])\n",
    "member_votes['cast'] = np.where(member_votes['cast_code'].isin([7,8,9]), 'abstained', member_votes['cast'])\n",
    "member_votes['cast'].value_counts()"
   ]
  },
  {
   "cell_type": "code",
   "execution_count": 8,
   "metadata": {},
   "outputs": [
    {
     "name": "stdout",
     "output_type": "stream",
     "text": [
      "member_votes: 15843174\n",
      "congress_votes: 54886\n",
      "votes_p: 15843174\n"
     ]
    }
   ],
   "source": [
    "votes_p = member_votes.merge(congress_votes, how = 'inner', on = ['congress','chamber','rollnumber'])\n",
    "\n",
    "# checking megre\n",
    "print('member_votes:',member_votes.shape[0])\n",
    "print('congress_votes:',congress_votes.shape[0])\n",
    "print('votes_p:',votes_p.shape[0])"
   ]
  },
  {
   "cell_type": "code",
   "execution_count": 9,
   "metadata": {},
   "outputs": [],
   "source": [
    "# filter for bills\n",
    "votes_p = votes_p[~votes_p['bill_number'].isna()]"
   ]
  },
  {
   "cell_type": "code",
   "execution_count": 10,
   "metadata": {},
   "outputs": [
    {
     "name": "stdout",
     "output_type": "stream",
     "text": [
      "Proportion votes in House: 0.36786018321672265\n",
      "Proportion votes in Senate: 0.6341761038110686\n"
     ]
    }
   ],
   "source": [
    "# temporary chamber dataframes\n",
    "house_bool = votes_p['chamber'] == 'House'\n",
    "house_votes = votes_p[house_bool]\n",
    "senate_votes = votes_p[~house_bool]\n",
    "\n",
    "# passed in house\n",
    "hp = house_votes['bill_number'].isin(senate_votes['bill_number']).sum()/house_votes.shape[0]\n",
    "\n",
    "# passed in senate\n",
    "sp = senate_votes['bill_number'].isin(house_votes['bill_number']).sum()/senate_votes.shape[0]\n",
    "\n",
    "print('Proportion votes in House:',hp)\n",
    "print('Proportion votes in Senate:',sp)"
   ]
  },
  {
   "cell_type": "code",
   "execution_count": 11,
   "metadata": {},
   "outputs": [],
   "source": [
    "# import voteview congressional members dw-nominate score data\n",
    "try:\n",
    "    member_ideology = pd.read_csv(os.path.join(VOTEVIEW_RAW, 'raw/member_ideology.csv'))\n",
    "except FileNotFoundError:\n",
    "    url= 'https://voteview.com/static/data/out/members/HSall_members.csv'\n",
    "    r = requests.get(url).content\n",
    "    member_ideology = pd.read_csv(io.StringIO(r.decode('utf-8')))"
   ]
  },
  {
   "cell_type": "code",
   "execution_count": 12,
   "metadata": {},
   "outputs": [],
   "source": [
    "# select major political parties\n",
    "party_codes = member_ideology['party_code'].isin([100,200])\n",
    "\n",
    "# select desired congressional sessions\n",
    "period = member_ideology['congress'] >= 75\n",
    "period = period & (member_ideology['congress'] <= 114)\n",
    "\n",
    "# select desired attributes\n",
    "attributes = ['congress','chamber','party_code','icpsr']\n",
    "\n",
    "# select chambers\n",
    "chambers = member_ideology['chamber'].isin(['House','Senate'])\n",
    "\n",
    "# apply selections\n",
    "member_party = member_ideology[party_codes & period & chambers].filter(attributes)"
   ]
  },
  {
   "cell_type": "code",
   "execution_count": 13,
   "metadata": {},
   "outputs": [
    {
     "name": "stdout",
     "output_type": "stream",
     "text": [
      "member_party: 21806\n",
      "majority: 80\n",
      "member_majority: 21806\n"
     ]
    }
   ],
   "source": [
    "# merge member party information with congressional majority information\n",
    "member_majority = member_party.merge(majority, how = 'inner', on = ['congress','chamber'])\n",
    "\n",
    "# post merge examination\n",
    "print('member_party:',member_party.shape[0])\n",
    "print('majority:',majority.shape[0])\n",
    "print('member_majority:',member_majority.shape[0])"
   ]
  },
  {
   "cell_type": "code",
   "execution_count": 14,
   "metadata": {},
   "outputs": [
    {
     "name": "stdout",
     "output_type": "stream",
     "text": [
      "votes_p: 13775137\n",
      "member_majority: 21806\n",
      "combined_votes: 13699203\n",
      "entries lost: 75934\n"
     ]
    }
   ],
   "source": [
    "# combining member party and party count information with member and congressional votes taken\n",
    "combined_votes = votes_p.merge(member_majority, how = 'inner', on = ['congress','chamber','icpsr'])\n",
    "combined_votes.drop(['yea_count','nay_count','vote_result','cast_code'], axis = 1, inplace = True)\n",
    "\n",
    "# merege examination\n",
    "print('votes_p:',votes_p.shape[0])\n",
    "print('member_majority:',member_majority.shape[0])\n",
    "print('combined_votes:',combined_votes.shape[0])\n",
    "print('entries lost:', votes_p.shape[0] - combined_votes.shape[0])"
   ]
  },
  {
   "cell_type": "code",
   "execution_count": 15,
   "metadata": {},
   "outputs": [
    {
     "data": {
      "text/plain": [
       "0"
      ]
     },
     "execution_count": 15,
     "metadata": {},
     "output_type": "execute_result"
    }
   ],
   "source": [
    "# missing congressional sessions from member_majority data frame\n",
    "len(votes_p[~votes_p['congress'].isin(member_majority['congress'].values)]['congress'].unique())"
   ]
  },
  {
   "cell_type": "code",
   "execution_count": 16,
   "metadata": {},
   "outputs": [
    {
     "data": {
      "text/plain": [
       "array([ 99, 100])"
      ]
     },
     "execution_count": 16,
     "metadata": {},
     "output_type": "execute_result"
    }
   ],
   "source": [
    "# missing congressional sessions from vote_p data frame\n",
    "member_majority[~member_majority['congress'].isin(votes_p['congress'].values)]['congress'].unique()"
   ]
  },
  {
   "cell_type": "code",
   "execution_count": 17,
   "metadata": {},
   "outputs": [
    {
     "data": {
      "text/plain": [
       "34"
      ]
     },
     "execution_count": 17,
     "metadata": {},
     "output_type": "execute_result"
    }
   ],
   "source": [
    "# count of members missing from vote_p dataframe\n",
    "len(member_majority[~member_majority['icpsr'].isin(votes_p['icpsr'].values)]['icpsr'].unique())"
   ]
  },
  {
   "cell_type": "code",
   "execution_count": 18,
   "metadata": {},
   "outputs": [
    {
     "data": {
      "text/plain": [
       "35"
      ]
     },
     "execution_count": 18,
     "metadata": {},
     "output_type": "execute_result"
    }
   ],
   "source": [
    "# count of members missing from member_majority dataframe\n",
    "len(votes_p[~votes_p['icpsr'].isin(member_majority['icpsr'].values)]['icpsr'].unique())"
   ]
  },
  {
   "cell_type": "markdown",
   "metadata": {},
   "source": [
    "So far as I can tell, the entries lost here come from a missing the 99th and 100th sessions, and 34 members in the `votes_p` data frame. The casuse has yet to be identified."
   ]
  },
  {
   "cell_type": "code",
   "execution_count": 19,
   "metadata": {},
   "outputs": [],
   "source": [
    "combined_votes.to_csv(os.path.join(SAVE_PATH, 'combined_votes.csv'), index = False)"
   ]
  },
  {
   "cell_type": "code",
   "execution_count": null,
   "metadata": {},
   "outputs": [],
   "source": []
  }
 ],
 "metadata": {
  "kernelspec": {
   "display_name": "Python 3",
   "language": "python",
   "name": "python3"
  },
  "language_info": {
   "codemirror_mode": {
    "name": "ipython",
    "version": 3
   },
   "file_extension": ".py",
   "mimetype": "text/x-python",
   "name": "python",
   "nbconvert_exporter": "python",
   "pygments_lexer": "ipython3",
   "version": "3.7.4"
  }
 },
 "nbformat": 4,
 "nbformat_minor": 4
}
