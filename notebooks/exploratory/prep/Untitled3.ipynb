{
 "cells": [
  {
   "cell_type": "code",
   "execution_count": 1,
   "metadata": {},
   "outputs": [],
   "source": [
    "import pandas as pd\n",
    "import numpy as np\n",
    "import sys\n"
   ]
  },
  {
   "cell_type": "code",
   "execution_count": 2,
   "metadata": {},
   "outputs": [],
   "source": [
    "sys.path.append(\"/home/rocassius/w266_final/scripts/assembly\")\n",
    "sys.path.append(\"/home/rocassius/w266_final/scripts/modeling\")"
   ]
  },
  {
   "cell_type": "code",
   "execution_count": 3,
   "metadata": {},
   "outputs": [],
   "source": [
    "from constant import GEN_HB_PATH_2, MIN_SESSION, MAX_SESSION\n",
    "from subject import subject_keywords\n",
    "from document import *\n",
    "from constant import SPEECHES"
   ]
  },
  {
   "cell_type": "code",
   "execution_count": 4,
   "metadata": {},
   "outputs": [],
   "source": [
    "speeches_df = pd.read_csv(os.path.join(GEN_HB_PATH_2, SPEECHES % '111'), sep = \"|\")"
   ]
  },
  {
   "cell_type": "code",
   "execution_count": 9,
   "metadata": {},
   "outputs": [
    {
     "data": {
      "text/html": [
       "<div>\n",
       "<style scoped>\n",
       "    .dataframe tbody tr th:only-of-type {\n",
       "        vertical-align: middle;\n",
       "    }\n",
       "\n",
       "    .dataframe tbody tr th {\n",
       "        vertical-align: top;\n",
       "    }\n",
       "\n",
       "    .dataframe thead th {\n",
       "        text-align: right;\n",
       "    }\n",
       "</style>\n",
       "<table border=\"1\" class=\"dataframe\">\n",
       "  <thead>\n",
       "    <tr style=\"text-align: right;\">\n",
       "      <th></th>\n",
       "      <th>speech_id</th>\n",
       "      <th>speech</th>\n",
       "    </tr>\n",
       "  </thead>\n",
       "  <tbody>\n",
       "    <tr>\n",
       "      <td>0</td>\n",
       "      <td>1110000001</td>\n",
       "      <td>the representativeselect and their guests plea...</td>\n",
       "    </tr>\n",
       "    <tr>\n",
       "      <td>1</td>\n",
       "      <td>1110000002</td>\n",
       "      <td>is there objection to the request of the from</td>\n",
       "    </tr>\n",
       "    <tr>\n",
       "      <td>2</td>\n",
       "      <td>1110000003</td>\n",
       "      <td>president i suggest the absence of a quorum</td>\n",
       "    </tr>\n",
       "    <tr>\n",
       "      <td>3</td>\n",
       "      <td>1110000004</td>\n",
       "      <td>president i rise to in support of the commissi...</td>\n",
       "    </tr>\n",
       "    <tr>\n",
       "      <td>4</td>\n",
       "      <td>1110000005</td>\n",
       "      <td>i rise to honor barbara kujawa of hernando cou...</td>\n",
       "    </tr>\n",
       "    <tr>\n",
       "      <td>...</td>\n",
       "      <td>...</td>\n",
       "      <td>...</td>\n",
       "    </tr>\n",
       "    <tr>\n",
       "      <td>179263</td>\n",
       "      <td>1110179264</td>\n",
       "      <td>president i rise to support ratification of th...</td>\n",
       "    </tr>\n",
       "    <tr>\n",
       "      <td>179264</td>\n",
       "      <td>1110179265</td>\n",
       "      <td>has my friend completed his statement</td>\n",
       "    </tr>\n",
       "    <tr>\n",
       "      <td>179265</td>\n",
       "      <td>1110179266</td>\n",
       "      <td>without objection it is so ordered</td>\n",
       "    </tr>\n",
       "    <tr>\n",
       "      <td>179266</td>\n",
       "      <td>1110179267</td>\n",
       "      <td>the chair repeat that a member asking to inser...</td>\n",
       "    </tr>\n",
       "    <tr>\n",
       "      <td>179267</td>\n",
       "      <td>1110179268</td>\n",
       "      <td>pursuant to section a of the vietnam education...</td>\n",
       "    </tr>\n",
       "  </tbody>\n",
       "</table>\n",
       "<p>179268 rows × 2 columns</p>\n",
       "</div>"
      ],
      "text/plain": [
       "         speech_id                                             speech\n",
       "0       1110000001  the representativeselect and their guests plea...\n",
       "1       1110000002      is there objection to the request of the from\n",
       "2       1110000003        president i suggest the absence of a quorum\n",
       "3       1110000004  president i rise to in support of the commissi...\n",
       "4       1110000005  i rise to honor barbara kujawa of hernando cou...\n",
       "...            ...                                                ...\n",
       "179263  1110179264  president i rise to support ratification of th...\n",
       "179264  1110179265              has my friend completed his statement\n",
       "179265  1110179266                 without objection it is so ordered\n",
       "179266  1110179267  the chair repeat that a member asking to inser...\n",
       "179267  1110179268  pursuant to section a of the vietnam education...\n",
       "\n",
       "[179268 rows x 2 columns]"
      ]
     },
     "execution_count": 9,
     "metadata": {},
     "output_type": "execute_result"
    }
   ],
   "source": [
    "speeches_df"
   ]
  },
  {
   "cell_type": "code",
   "execution_count": 10,
   "metadata": {},
   "outputs": [
    {
     "data": {
      "text/plain": [
       "203.819455"
      ]
     },
     "execution_count": 10,
     "metadata": {},
     "output_type": "execute_result"
    }
   ],
   "source": [
    "sys.getsizeof(speeches_df) * 1e-6"
   ]
  },
  {
   "cell_type": "code",
   "execution_count": 11,
   "metadata": {},
   "outputs": [],
   "source": [
    "speeches = list(speeches_df.dropna().to_numpy()[:,1])"
   ]
  },
  {
   "cell_type": "code",
   "execution_count": 20,
   "metadata": {},
   "outputs": [],
   "source": [
    "lengths = np.array([len(speech.split()) for speech in speeches])"
   ]
  },
  {
   "cell_type": "code",
   "execution_count": 14,
   "metadata": {},
   "outputs": [],
   "source": [
    "import matplotlib.pyplot as plt"
   ]
  },
  {
   "cell_type": "code",
   "execution_count": 13,
   "metadata": {},
   "outputs": [],
   "source": [
    "l = np.random.choice(lengths, 1000)"
   ]
  },
  {
   "cell_type": "code",
   "execution_count": 19,
   "metadata": {},
   "outputs": [
    {
     "data": {
      "text/plain": [
       "(0, 2000)"
      ]
     },
     "execution_count": 19,
     "metadata": {},
     "output_type": "execute_result"
    },
    {
     "data": {
      "image/png": "[encoded data removed]",
      "text/plain": [
       "<Figure size 432x288 with 1 Axes>"
      ]
     },
     "metadata": {
      "needs_background": "light"
     },
     "output_type": "display_data"
    }
   ],
   "source": [
    "plt.hist(lengths, bins=100)\n",
    "plt.xlim((0, 2000))"
   ]
  },
  {
   "cell_type": "code",
   "execution_count": 60,
   "metadata": {},
   "outputs": [
    {
     "data": {
      "text/plain": [
       "0.55554968041082"
      ]
     },
     "execution_count": 60,
     "metadata": {},
     "output_type": "execute_result"
    }
   ],
   "source": [
    "(lengths > 200).sum()*400 / lengths.sum()"
   ]
  },
  {
   "cell_type": "code",
   "execution_count": null,
   "metadata": {},
   "outputs": [],
   "source": [
    "for d in speeches_df.sample(100).itertuples():\n",
    "    print"
   ]
  },
  {
   "cell_type": "code",
   "execution_count": 28,
   "metadata": {},
   "outputs": [],
   "source": [
    "s = \"Madam Speaker. Leader HOYER. fellow Members. and a special welcome to our new Members and their families and friends who are here today. We begin this new Congress at a great time of challenge for the American people. This winter. working families are struggling to pay their bills and keep their homes. small businesses are being forced to choose between cutting jobs and closing their doors. health costs are rising. college savings funds and 401(k)s have declined in value substantially. parents are deeply worried about their childrens future. I think its a time of anxiety for millions of Americans. some of whom face economic challenges not seen in this country for generations. When things are at their worst for the American people. we owe them our best. This Congress must rise to the occasion. Two weeks from today. we will inaugurate a new President. Presidentelect Obama has expressed a desire to govern from the center and put the needs of our country first. I think all of you know Washington is a difficult town. and it wont always be easy for him to do these things. But when our new President extends his hand across the aisle to do what is right for our country. Republicans will extend ours in return. During the 111th Congress. Republicans will strive not to be the party of opposition. but the party of better solutions. Presidentelect Obamas calls for inclusiveness are already being put to the test. Hes called on Congress to move quickly and in a bipartisan fashion on legislation to help our economy. And at this time of economic anxiety. the American people deserve open debate and transparency in their Congressa key ingredient needed to produce good legislation. And my hope is we will adopt a Rules package for the new Congress that encourages transparency and debate and helps ensure our institution is accountable to the people it serves. Our Nation has faced adversity before. and we have never failed to meet the challenge. This is because America is a land of limitless potential. and when we harness the will of the American people. commit ourselves to making the most of the blessings God has bestowed on this great country. and bring all of these gifts to bear on a common goal. there is no obstacle that we cannot overcome. Americas potential is unlimited. but governments potential is not. And we must not confuse the two. We cant simply spend our way back to prosperity. Our responsibilities as elected leaders in a flagging economy is to craft policies that allow our countrys potential to be unleashed. America runs on freedom. Its the fuel of our economy. and it is the fuel of our democracy. The more we spend and the more we tax. the less freedom we will have left. So we need to take responsible action together to help put our economy back on a path toward prosperity. The months ahead can be a time of hope and renewal in America. The American people are giving their best. Here in Congress. we need to do the same. Madam Speaker. as we start the new Congress. we stand ready to work with you and your fellow Democrats for genuine solutions. for real reforms that put the needs of our country first and bring the blessings of liberty fully to bear on the challenges the American people face. In that spirit. it is my privilege to present to you the gavel of the 111th Congress.\""
   ]
  },
  {
   "cell_type": "code",
   "execution_count": 29,
   "metadata": {},
   "outputs": [
    {
     "data": {
      "text/plain": [
       "582"
      ]
     },
     "execution_count": 29,
     "metadata": {},
     "output_type": "execute_result"
    }
   ],
   "source": [
    "len(s.split())"
   ]
  },
  {
   "cell_type": "code",
   "execution_count": 30,
   "metadata": {},
   "outputs": [],
   "source": [
    "t = \"Mr. Speaker. I rise today in opposition to this rules package and. instead. to speak in favor of bipartisanship. We are living in challenging times. and the American people have grown tired of all the partisan bickering that has plagued our body for far too long. Our citizens want us to work together to achieve practical and realistic solutions for all Americans. Unfortunately. weve wasted energy with excessive partisanship in the legislative process that. in turn. has led to an inability to achieve fundamental reforms and legislative successes. Weve just witnessed an historic election where the overarching message was the message of change. We need to listen to our citizens. for they have spoken. But the real change that we need is for Democrats and Republicans to roll up their sleeves and work together on important legislation such as creating jobs. stimulating the economy and increasing the supply of Americanmade energy. This week I intend to introduce a resolution that would encourage and support bipartisanship in the House. Specifically. the resolution would amend House rules to allow for any amendment to be considered on the floor that has at least one Democrat and one Republican sponsor. is submitted to the House Rules Committee according to the committees amendment submission deadline. and does not violate any other House rule. By the simple fact that it is a joint Democrat and Republican amendment makes it bipartisan and. therefore. worthy of floor consideration. I am hopeful that our leadership will not only offer support for this resolution. but will bring it to the floor of the House. giving all of our colleagues the opportunity to debate and discuss its merits. While this resolution will not completely solve our problem of partisanship. I believe it will be the start of a process to allow us. regardless of party. to work together for real legislative successes.\""
   ]
  },
  {
   "cell_type": "code",
   "execution_count": 31,
   "metadata": {},
   "outputs": [
    {
     "data": {
      "text/plain": [
       "311"
      ]
     },
     "execution_count": 31,
     "metadata": {},
     "output_type": "execute_result"
    }
   ],
   "source": [
    "len(t.split())"
   ]
  },
  {
   "cell_type": "code",
   "execution_count": 32,
   "metadata": {},
   "outputs": [],
   "source": [
    "r = \"Mr. Speaker. I rise today in opposition to this rules package and. instead. to speak in favor of bipartisanship. We are living in challenging times. and the American people have grown tired of all the partisan bickering that has plagued our body for far too long. Our citizens want us to work together to achieve practical and realistic solutions for all Americans. Unfortunately. weve wasted energy with excessive partisanship in the legislative process that. in turn. has led to an inability to achieve fundamental reforms and legislative successes. Weve just witnessed an historic election where the overarching message was the message of change. We need to listen to our citizens. for they have spoken. But the real change that we need is for Democrats and Republicans to roll up their sleeves and work together on important legislation such as creating jobs. stimulating the economy and increasing the supply of Americanmade energy. This week I intend to introduce a resolution that would encourage and support bipartisanship in the House. Specifically. the resolution would amend House rules to allow for any amendment to be considered on the floor that has at least one Democrat and one Republican sponsor. is submitted to the House Rules Committee according to the committees amendment submission deadline. and does not violate any other House rule. By the simple fact that it is a joint Democrat and Republican amendment makes it bipartisan and. therefore. worthy of floor consideration. I am hopeful that our leadership will not only offer support for this resolution. but will bring it to the floor of the House. giving all of our colleagues the opportunity to debate and discuss its merits. While this resolution will not completely solve our problem of partisanship. I believe it will be the start of a process to allow us. regardless of party. to work together for real legislative successes.\""
   ]
  },
  {
   "cell_type": "code",
   "execution_count": 33,
   "metadata": {},
   "outputs": [
    {
     "data": {
      "text/plain": [
       "311"
      ]
     },
     "execution_count": 33,
     "metadata": {},
     "output_type": "execute_result"
    }
   ],
   "source": [
    "len(r.split())"
   ]
  },
  {
   "cell_type": "code",
   "execution_count": 34,
   "metadata": {},
   "outputs": [],
   "source": [
    "u = \"Let me just summarize by saying that we need a plan. a comprehensive plan. that involves not only spending this $350 billion but also a plan that will involve tax cuts across the board and incentives for business to invest. such as a cut in the capital gains tax rate and cuts in business taxes across the board. If we do that and come up with a comprehensive plan. maybe we could work our way out of this. but we certainly cannot do it by just throwing more money at the problem.\""
   ]
  },
  {
   "cell_type": "code",
   "execution_count": 35,
   "metadata": {},
   "outputs": [
    {
     "data": {
      "text/plain": [
       "92"
      ]
     },
     "execution_count": 35,
     "metadata": {},
     "output_type": "execute_result"
    }
   ],
   "source": [
    "len(u.split())"
   ]
  },
  {
   "cell_type": "code",
   "execution_count": 37,
   "metadata": {},
   "outputs": [
    {
     "data": {
      "text/plain": [
       "47"
      ]
     },
     "execution_count": 37,
     "metadata": {},
     "output_type": "execute_result"
    }
   ],
   "source": [
    "o = \"but if this particular issue is not addressed. it could lead to a contraction of the national economy to the tune of hundreds of billions of dollars at precisely the time we are trying to stimulate it. I would ask the distinguished chairman of the Financial Services \"\n",
    "len(o.split())"
   ]
  },
  {
   "cell_type": "code",
   "execution_count": 39,
   "metadata": {},
   "outputs": [
    {
     "data": {
      "text/plain": [
       "70"
      ]
     },
     "execution_count": 39,
     "metadata": {},
     "output_type": "execute_result"
    }
   ],
   "source": [
    "len(\"In that poll it says that 5 percent of the American people--only 5 percent of the American peoplebelieve and have a great deal of trust that the Federal Government will handle its financial responsibilities responsibly. This measure goes right to the heart of that and makes sure that we put in place a way in which we guarantee that we will make sure that this $350 billion is handled responsibly.\".split())"
   ]
  },
  {
   "cell_type": "code",
   "execution_count": 45,
   "metadata": {},
   "outputs": [
    {
     "ename": "SyntaxError",
     "evalue": "invalid syntax (<ipython-input-45-9ab350eedd69>, line 1)",
     "output_type": "error",
     "traceback": [
      "\u001b[0;36m  File \u001b[0;32m\"<ipython-input-45-9ab350eedd69>\"\u001b[0;36m, line \u001b[0;32m1\u001b[0m\n\u001b[0;31m    \"Mr. Speaker. on last Sunday it was my privilege and pleasure to address the opening meeting of the 43d annual session of the Imperial Court. Daughters of Isis. as this group began an outstanding convention in my city of Philadelphia. A number of the Members have inquired of me about the speech I made at that affair and indicated that there was some interest in my remarks among the membership of the House. I am flattered to think that is so. In any event. and in view of the inquiries. I am including the text of my talk under unanimous consent in the CONGRESSIONAL RECORD. as follows: To the imperial commandress and to all the members of the Daughters of Isis. I bring you greetings from Philadelphiaand a warm welcome to each and every one of you. We are pleased and delighted to have this wonderful group meeting in our convention hall. I bid you welcome on behalf of everyone in this great city. Believe me when I say that I am deeply flatteredand that is the only word for itto be invited to address this great gathering. The letter which came to me from my fellow Philadelphian. your imperial publicist. Mrs. Louise Stewart Jones. was so complimentary that the moment I received it I immediately accepted and Said I would come. Congresswomen are not immune from flattery. and a comparatively new Member of Congress such as I am is still at the stage of being a little surprised to be singled out for attention. But it was not just the nice invitation. addressed in such flattering terms by Mrs. .Jones. which convinced me I should quickly accept the invitation. It was. rather. some of the information which I received about this organization. and the work you do. which convinced me I wanted to come and speak to you and meet with you and join you in this affair honoring your Imperial commandress. The world is full of a lot of things. and everyone is so busy that frequently we neglect to stop and look at the things of real value all around us. Each day we have problems in the operation of our households. or problems on the job of one sort or another. or problems in finding the right shoes to go with the new dress or hat. or problems in paying off debts or buying a car or a million and one other things. The day ends and we are exhausted and we wonder where all of our efforts have goneand what we have accomplished. As individuals. I am sure all of us have had that experience from time to time. There are never enough hours in the day. never enough days in the week. for us to be able to do the things we plan for and intend to do. We just never seem to have enough energy to carry out our good intentions. But through your organization. I note that you have found the time and found the energy and found the leadership and found the will to do many fine things as a group. And for that I salute you and congratulate you. You seek. through this organization. to achieve as your goals the virtues ascribed to the goddess from whom your organizations name is derivedthe ability to change evil to good. to change sorrow to joy. to change poverty to plenty. to change Ignorance to shining light. You could have no greater goals. no finer goals. And I will say this. too: If we are. in fact. to carry out the theme of your conventionBuilding for Tomorrows Worldthen not only your organization. but all Americans must endeavor to change evil to good. to change sorrow to joy. to change poverty to plenty. and to change Ignorance to shining light. And the people in every land must join us in that endeavor. We have in our powerin our countrythe ability. just by a push of a button. to turn darkness to daylight. and life to death just by pushing a button. or throwing a switch. And in other countriesfor instance. in the Soviet Union science has reached a similar pinnacle=it can also accomplish the same miracle of brightening the sky with a brilliance which outdoes the brillance of the sunat the same time plunging mankind to destruction. That is a great scientific accomplishmentthere is no doubt about it. Scientists have used their Godkiven brains and reasoning power to unlock the secrets of nature. to give them the power of destroying whole nations. whole continents. and. in fact. the whole human race. and everything which lives or breathes on this earth. \"Give us time.\" the scientists might well be saying to us. \"and we will figure out how to blow up not only a continent but the entire earth. the moon and the nearer planets. and perhaps the entire universe.\" That is one way that mankind can be raid to be building for tomorrows world. But it is building to a sorry goal if all effort goes toward mass destruction. Who builds for a better world of tomorrow? Who organizes the brains of man to seek the end of suffering. the elimination of cancar. the destruction of poverty. the opening of new opportuniies for every personfor every man. woman. and child on this earth? Well. for one. I think this group the Daughters of Isis. is building in the right direction. You may or may not have in your membership the genius the world needs who will find the solution to cancer. But that does not deter you from doing your part. There is a role for everyone in the fight on cancer. and you are making your contribution by the funds you provide in the fight. Jonas Salk developed the polio vaccine. and we honor him for it. But one man alone cannot eliminate polio. Everyone must help. You are helping. and I know will continue your efforts to see to it that every child and eventually every adult in the vulnerable age groups is vaccinated against polio. These are just some of the things you do in behalf of a better tomorrow through the activities of this organization. You have proved how an organization set up primarily for social fellowship can be utilized also for great good for your fellow citizens. To me. that is the reason for life. and the reason for organizations of people. and yes. even for governments. The test of our worthiness on earth is what we do for each othernot what we can grab for ourselves. We learn that in our churches. and we learn it In the closeness of our families as we grow from childhood. and we learn it in our schoolsor we should. But how often we forget. And how easy it often is to forget. In cur country. and even in Washington. there are frequently voices raised to appeal not to the greatness in men. but to the weaknesses in the character of human beings. The process of government is sometimes used not to help but to harmto harm the great majority of the population in order to grant special privilege or special treatment to a few. It is a great tribute to the essential goodness and rightness of the American form of government that these raids on the public interest are getting harder and harder to accomplish. but that does not prevent many groups and individuals from making the attempt nevertheless. I think there is a greater alertness these days on the part of the newspapers. joined by radio and television. in trying to keep the people informed on these selfseeking and selfserving efforts. but nevertheless. I know it is hardit is extremely hardfor the average citizen to keep up with each new development. Even for those of us in the Congress. it is difficult to keep track of each step and each development on the major legislative issues which arise in one House or another. and are shuttled back and forth In committee. on the House or Senate floor. in conference committees. and so on. I know you are interested in the subject matter of the civilrights bill which has so dramatically dominated the Washington scene these past few months. and yet I will tell you right now. as one who is intensely interested in that bill and who is deeply concerned about the attempts which have been made to water it down or kill it. that no one can yet really tell you what is going to happen on it. Those of us who are sincerely concerned and want a good bill are deeply anxious. We have argued among ourselves hour after hour in the cloakroom of the House and in the Chamber and in our offices over the best policy to follow at this point. We want a bill which is meaningful and which will do some real good. We do not want to kill off the possibility of having any progress at all by insisting on the unobtainable perfect bill. On the other hand. I do not want to settle for the milktoast bill which passed the Senate. Is there a real possibility of compromiseor is this issue once again going to be shaped and decided and determined by those who want no effective civilrights legislation? I just dont know at this moment. I wish I could bring you a final and decisive word on this. All I can do is assert to you my own sincere conviction that we must not surrender to those who would deny qualified Americans the full rights of citizenship. includingand especiallythe full rights of voting in our elections. It Is not my intention to be political at this fine gathering. because I know that you have in your membership the same diversity of political views as one would find in any large gathering of Americans. But I must speak what is in my heart in connection with this great issue which we have been debating in the Congress. And this fact strikes me and worries me deeply: Why was the Attorney General of the United States. the man who drafted the civilrights bill. not on hand to defend it and fight for it and explain any unclear features of it when the fight was hot and heavy In the Senate? Why did he pick that particular time to go to London to make a political speech attacking former President Harry Trumans administration? It seems to meand I make no apology for this statementthat if Mr. Truman were in the White House during this bitter struggle he would not have allowed his Attorney General to be off somewhere abroad making political speeches attacking the Hoover administration. but would have insisted on his chief lawyer being right on hand every moment of the debate to fight for his handiwork. and to go down the line for the principles of civil rights and decency. And thats where the present Attorney General should have been. If he could not have explained his bill better than he did to the President. so that the President would feel he knew what was in the legislation he was recommending. the Attorney General could at least have been on hand to explain it to critical Senators who were intent on tearing it to shreds. If this bill had in it some of the things the President admitted he feared might be in it. then what sort of relationship is there between the President and the Attorney General? Was the Attorney General guilty of deliberately misleading the President about this bill? If so. then I would say the Attorney General should either be asked by the President to resign or should be impeached. That is a strong statement to make. and I do not make it without a great deal of thought. The developments over this civilrights bill have been little short of scandalousthe way the President supported it and then backed away from it and expressed doubts about it and allowed its enemies to use his own doubts to help shred the bill. If the President was misled. or not properly informed on this legislation. the fault lies in his Attorney Generalan official who could not even be bothered to be on hand in Washington when the bill was under its most damaging fire. If we are going to build for a better tomorrowand if we are to try to enlist all of the other nations of the world to join us in the hard tasks which must be accomplished if we are to achieve a better worldthen we. in this country. at least. have got to stop fooling each other. We have to stop trying to trick each other for possible political advantage or other purposes. We have got to stop misleading each otheror trying to mislead each other. Facts are sometimes elusive. We must search for them. We must think about their meaning. their significance. We must seek out the divine guidance we need to understand the facts. It is a hard and difficult process. but in a democracy it is a process which must take place among all citizens. We must be encouraged and stimulated to think our problems out together. But we cannot think out the issues if we are being deliberately mislead or unlead. In that connection. our President must show real leadership and understanding nct just of the overall alms or objectives but of the daytoday details of achieving those goals. He must work terribly hard at the job if the job is to be done. He cannot assign this responsibility to underlings. Under the Constitution it is his job. and under our way of doing things. he alone can execute its responsibilities. Now I hope what I have said is not taken to be partisan. for I do not mean it that way at all. We must look at these problems objectively. Neither party is ever completely right on any issue. Neither party is ever completely wrong on any issue. We must weigh the facts in each case. On the question of human rights or human dignity the protection of the Individual from violence or discrimination or persecution based on unAmerican concepts of race or creed or color the question is not partisan in that both political parties have In their membership high officials who oppose civilrights legislation. Largely. this is a sectional issue. Republicans and Democrats alike from the South joined to try to kill this legislation. This is often lost sIght of. in view of the fact that the South is so often regarded as a oneparty area. But there are Republican Congressmen from the South and they were just as vehemently against civilrights legislation as Democratic Congressmen from the South. So we cannot win this battle by ascribing partisan political praise or blame. But win it we must. The Supreme Court and the lower Federal courts have led the way in recent years. in contrast to the experience of only 20 years or so ago when the Supreme Court was standing squarely in the way of progress. Now it leads the way. And to me the most remarkable and encouraging and heartwarming feature of this great advance in human decency. as represented by the Supreme Court. is that the southerners on that Court were in agreement with the northerners on the need. for Instance. of Integration of the schoolson the unconstitutionality of segregation in the schoolsthe most significant single forward step in civil rights. I believe. since the report of the Truman Commission on civil rights of 10 years ago. This means to me that the fight for civil rights In the South is certain to be won. Politicians who play the theme song of divisiveness and segregation and hate are going to learn that this issue has gradually lost its appeal to thinking people. They are going to find that it is poor politics. and is no longer the surefire road to votes and election. I look forward confidently to that day. It will be part of the better world of tomorrow which you and I and all of us here today look to and pray for and are going to work for. And that is the kind of work which brings joy in the doing.\"\u001b[0m\n\u001b[0m                                                                                                                                                                                                                                                                                                                                                                                                                                                                                                                                                                                                                                                                                                                                                                                                                                                                                                                                                                                                                                                                                                                                                                                                                                                                                                                                                                                                                                                                                                                                                                                                                                                                                                                                                                                                                                                                                                                                                                                                                                                                                                                                                                                                                                                                                                                                                                                                                                                                                                                                                                                                                                                                                                                                                                                                                                                                                                                                                                                                                                                                                                                                                                                                                                                                                                                                                                                                                                                                                                                                                                                                                                                                                                                                                                                                                                                                                                                                                                                                                                                                                                                                                                                                                                                                                                                                                                                                                                                                   ^\u001b[0m\n\u001b[0;31mSyntaxError\u001b[0m\u001b[0;31m:\u001b[0m invalid syntax\n"
     ]
    }
   ],
   "source": [
    "\"Mr. Speaker. on last Sunday it was my privilege and pleasure to address the opening meeting of the 43d annual session of the Imperial Court. Daughters of Isis. as this group began an outstanding convention in my city of Philadelphia. A number of the Members have inquired of me about the speech I made at that affair and indicated that there was some interest in my remarks among the membership of the House. I am flattered to think that is so. In any event. and in view of the inquiries. I am including the text of my talk under unanimous consent in the CONGRESSIONAL RECORD. as follows: To the imperial commandress and to all the members of the Daughters of Isis. I bring you greetings from Philadelphiaand a warm welcome to each and every one of you. We are pleased and delighted to have this wonderful group meeting in our convention hall. I bid you welcome on behalf of everyone in this great city. Believe me when I say that I am deeply flatteredand that is the only word for itto be invited to address this great gathering. The letter which came to me from my fellow Philadelphian. your imperial publicist. Mrs. Louise Stewart Jones. was so complimentary that the moment I received it I immediately accepted and Said I would come. Congresswomen are not immune from flattery. and a comparatively new Member of Congress such as I am is still at the stage of being a little surprised to be singled out for attention. But it was not just the nice invitation. addressed in such flattering terms by Mrs. .Jones. which convinced me I should quickly accept the invitation. It was. rather. some of the information which I received about this organization. and the work you do. which convinced me I wanted to come and speak to you and meet with you and join you in this affair honoring your Imperial commandress. The world is full of a lot of things. and everyone is so busy that frequently we neglect to stop and look at the things of real value all around us. Each day we have problems in the operation of our households. or problems on the job of one sort or another. or problems in finding the right shoes to go with the new dress or hat. or problems in paying off debts or buying a car or a million and one other things. The day ends and we are exhausted and we wonder where all of our efforts have goneand what we have accomplished. As individuals. I am sure all of us have had that experience from time to time. There are never enough hours in the day. never enough days in the week. for us to be able to do the things we plan for and intend to do. We just never seem to have enough energy to carry out our good intentions. But through your organization. I note that you have found the time and found the energy and found the leadership and found the will to do many fine things as a group. And for that I salute you and congratulate you. You seek. through this organization. to achieve as your goals the virtues ascribed to the goddess from whom your organizations name is derivedthe ability to change evil to good. to change sorrow to joy. to change poverty to plenty. to change Ignorance to shining light. You could have no greater goals. no finer goals. And I will say this. too: If we are. in fact. to carry out the theme of your conventionBuilding for Tomorrows Worldthen not only your organization. but all Americans must endeavor to change evil to good. to change sorrow to joy. to change poverty to plenty. and to change Ignorance to shining light. And the people in every land must join us in that endeavor. We have in our powerin our countrythe ability. just by a push of a button. to turn darkness to daylight. and life to death just by pushing a button. or throwing a switch. And in other countriesfor instance. in the Soviet Union science has reached a similar pinnacle=it can also accomplish the same miracle of brightening the sky with a brilliance which outdoes the brillance of the sunat the same time plunging mankind to destruction. That is a great scientific accomplishmentthere is no doubt about it. Scientists have used their Godkiven brains and reasoning power to unlock the secrets of nature. to give them the power of destroying whole nations. whole continents. and. in fact. the whole human race. and everything which lives or breathes on this earth. \"Give us time.\" the scientists might well be saying to us. \"and we will figure out how to blow up not only a continent but the entire earth. the moon and the nearer planets. and perhaps the entire universe.\" That is one way that mankind can be raid to be building for tomorrows world. But it is building to a sorry goal if all effort goes toward mass destruction. Who builds for a better world of tomorrow? Who organizes the brains of man to seek the end of suffering. the elimination of cancar. the destruction of poverty. the opening of new opportuniies for every personfor every man. woman. and child on this earth? Well. for one. I think this group the Daughters of Isis. is building in the right direction. You may or may not have in your membership the genius the world needs who will find the solution to cancer. But that does not deter you from doing your part. There is a role for everyone in the fight on cancer. and you are making your contribution by the funds you provide in the fight. Jonas Salk developed the polio vaccine. and we honor him for it. But one man alone cannot eliminate polio. Everyone must help. You are helping. and I know will continue your efforts to see to it that every child and eventually every adult in the vulnerable age groups is vaccinated against polio. These are just some of the things you do in behalf of a better tomorrow through the activities of this organization. You have proved how an organization set up primarily for social fellowship can be utilized also for great good for your fellow citizens. To me. that is the reason for life. and the reason for organizations of people. and yes. even for governments. The test of our worthiness on earth is what we do for each othernot what we can grab for ourselves. We learn that in our churches. and we learn it In the closeness of our families as we grow from childhood. and we learn it in our schoolsor we should. But how often we forget. And how easy it often is to forget. In cur country. and even in Washington. there are frequently voices raised to appeal not to the greatness in men. but to the weaknesses in the character of human beings. The process of government is sometimes used not to help but to harmto harm the great majority of the population in order to grant special privilege or special treatment to a few. It is a great tribute to the essential goodness and rightness of the American form of government that these raids on the public interest are getting harder and harder to accomplish. but that does not prevent many groups and individuals from making the attempt nevertheless. I think there is a greater alertness these days on the part of the newspapers. joined by radio and television. in trying to keep the people informed on these selfseeking and selfserving efforts. but nevertheless. I know it is hardit is extremely hardfor the average citizen to keep up with each new development. Even for those of us in the Congress. it is difficult to keep track of each step and each development on the major legislative issues which arise in one House or another. and are shuttled back and forth In committee. on the House or Senate floor. in conference committees. and so on. I know you are interested in the subject matter of the civilrights bill which has so dramatically dominated the Washington scene these past few months. and yet I will tell you right now. as one who is intensely interested in that bill and who is deeply concerned about the attempts which have been made to water it down or kill it. that no one can yet really tell you what is going to happen on it. Those of us who are sincerely concerned and want a good bill are deeply anxious. We have argued among ourselves hour after hour in the cloakroom of the House and in the Chamber and in our offices over the best policy to follow at this point. We want a bill which is meaningful and which will do some real good. We do not want to kill off the possibility of having any progress at all by insisting on the unobtainable perfect bill. On the other hand. I do not want to settle for the milktoast bill which passed the Senate. Is there a real possibility of compromiseor is this issue once again going to be shaped and decided and determined by those who want no effective civilrights legislation? I just dont know at this moment. I wish I could bring you a final and decisive word on this. All I can do is assert to you my own sincere conviction that we must not surrender to those who would deny qualified Americans the full rights of citizenship. includingand especiallythe full rights of voting in our elections. It Is not my intention to be political at this fine gathering. because I know that you have in your membership the same diversity of political views as one would find in any large gathering of Americans. But I must speak what is in my heart in connection with this great issue which we have been debating in the Congress. And this fact strikes me and worries me deeply: Why was the Attorney General of the United States. the man who drafted the civilrights bill. not on hand to defend it and fight for it and explain any unclear features of it when the fight was hot and heavy In the Senate? Why did he pick that particular time to go to London to make a political speech attacking former President Harry Trumans administration? It seems to meand I make no apology for this statementthat if Mr. Truman were in the White House during this bitter struggle he would not have allowed his Attorney General to be off somewhere abroad making political speeches attacking the Hoover administration. but would have insisted on his chief lawyer being right on hand every moment of the debate to fight for his handiwork. and to go down the line for the principles of civil rights and decency. And thats where the present Attorney General should have been. If he could not have explained his bill better than he did to the President. so that the President would feel he knew what was in the legislation he was recommending. the Attorney General could at least have been on hand to explain it to critical Senators who were intent on tearing it to shreds. If this bill had in it some of the things the President admitted he feared might be in it. then what sort of relationship is there between the President and the Attorney General? Was the Attorney General guilty of deliberately misleading the President about this bill? If so. then I would say the Attorney General should either be asked by the President to resign or should be impeached. That is a strong statement to make. and I do not make it without a great deal of thought. The developments over this civilrights bill have been little short of scandalousthe way the President supported it and then backed away from it and expressed doubts about it and allowed its enemies to use his own doubts to help shred the bill. If the President was misled. or not properly informed on this legislation. the fault lies in his Attorney Generalan official who could not even be bothered to be on hand in Washington when the bill was under its most damaging fire. If we are going to build for a better tomorrowand if we are to try to enlist all of the other nations of the world to join us in the hard tasks which must be accomplished if we are to achieve a better worldthen we. in this country. at least. have got to stop fooling each other. We have to stop trying to trick each other for possible political advantage or other purposes. We have got to stop misleading each otheror trying to mislead each other. Facts are sometimes elusive. We must search for them. We must think about their meaning. their significance. We must seek out the divine guidance we need to understand the facts. It is a hard and difficult process. but in a democracy it is a process which must take place among all citizens. We must be encouraged and stimulated to think our problems out together. But we cannot think out the issues if we are being deliberately mislead or unlead. In that connection. our President must show real leadership and understanding nct just of the overall alms or objectives but of the daytoday details of achieving those goals. He must work terribly hard at the job if the job is to be done. He cannot assign this responsibility to underlings. Under the Constitution it is his job. and under our way of doing things. he alone can execute its responsibilities. Now I hope what I have said is not taken to be partisan. for I do not mean it that way at all. We must look at these problems objectively. Neither party is ever completely right on any issue. Neither party is ever completely wrong on any issue. We must weigh the facts in each case. On the question of human rights or human dignity the protection of the Individual from violence or discrimination or persecution based on unAmerican concepts of race or creed or color the question is not partisan in that both political parties have In their membership high officials who oppose civilrights legislation. Largely. this is a sectional issue. Republicans and Democrats alike from the South joined to try to kill this legislation. This is often lost sIght of. in view of the fact that the South is so often regarded as a oneparty area. But there are Republican Congressmen from the South and they were just as vehemently against civilrights legislation as Democratic Congressmen from the South. So we cannot win this battle by ascribing partisan political praise or blame. But win it we must. The Supreme Court and the lower Federal courts have led the way in recent years. in contrast to the experience of only 20 years or so ago when the Supreme Court was standing squarely in the way of progress. Now it leads the way. And to me the most remarkable and encouraging and heartwarming feature of this great advance in human decency. as represented by the Supreme Court. is that the southerners on that Court were in agreement with the northerners on the need. for Instance. of Integration of the schoolson the unconstitutionality of segregation in the schoolsthe most significant single forward step in civil rights. I believe. since the report of the Truman Commission on civil rights of 10 years ago. This means to me that the fight for civil rights In the South is certain to be won. Politicians who play the theme song of divisiveness and segregation and hate are going to learn that this issue has gradually lost its appeal to thinking people. They are going to find that it is poor politics. and is no longer the surefire road to votes and election. I look forward confidently to that day. It will be part of the better world of tomorrow which you and I and all of us here today look to and pray for and are going to work for. And that is the kind of work which brings joy in the doing.\""
   ]
  },
  {
   "cell_type": "code",
   "execution_count": 47,
   "metadata": {},
   "outputs": [],
   "source": [
    "q = \"Mr. President. as we know. yesterday was National Aviation Day. All of us. of course. are deeply aware that our country is safer. stronger. and greatly advanced because of the great contributions of the aeronautical industry to our development and progress. In its brief lifetime. aviation has changed the complexion of communication. commerce. warfare. and. generally. world affairs. Behind this conquest of the air. of course. are the brains. brawn. foresight. imagination. and sweat of millions of men. Lest we forget. there are also the graves of those who risked their necks in experimenting and testing. During the years. aviation has been confronted with a multitude of challengesfrom the problem of just getting off the ground to development of supersonic jets. launching of space satellites. and other advancements that. only yesterday. were the subject of science fiction. Now our task is to increase our efforts for ever greater air progress. including resolving its problems and supporting programs to meet our air needs of the future.\""
   ]
  },
  {
   "cell_type": "code",
   "execution_count": 48,
   "metadata": {},
   "outputs": [
    {
     "data": {
      "text/plain": [
       "165"
      ]
     },
     "execution_count": 48,
     "metadata": {},
     "output_type": "execute_result"
    }
   ],
   "source": [
    "len(q.split())"
   ]
  },
  {
   "cell_type": "code",
   "execution_count": 49,
   "metadata": {},
   "outputs": [],
   "source": [
    "q = \"Mr. President. as we know. yesterday was National Aviation Day. All of us. of course. are deeply aware that our country is safer. stronger. and greatly advanced because of the great contributions of the aeronautical industry to our development and progress. In its brief lifetime. aviation has changed the complexion of communication. commerce. warfare. and. generally. world affairs. Behind this conquest of the air. of course. are the brains. brawn. foresight. imagination. and sweat of millions of men. Lest we forget. there are also the graves of those who risked their necks in experimenting and testing. During the years. aviation has been confronted with a multitude of challengesfrom the problem of just getting off the ground to development of supersonic jets. launching of space satellites. and other advancements that. only yesterday. were the subject of science fiction. Now our task is to increase our efforts for ever greater air progress. including resolving its problems and supporting programs to meet our air needs of the future.\""
   ]
  },
  {
   "cell_type": "code",
   "execution_count": 52,
   "metadata": {},
   "outputs": [],
   "source": [
    "q = \"Senator. may I take you to perhaps an easier area. back to foreign relations? When President Eisenhower proposed aerial inspection at the summit conference. it is my recollection that you were something less than enthusiastic. Now the aerial inspection idea seems to be basic in the present disarmament discussion. Do you think now that that proposal or the policy is useful. desirable. or mistaken? Senator KNOWLAND. When the original proposal was made. Mr. Wilson. it is true that I was less than enthusiastic until we had some of the details develop. For instance. on the first announcement I could personally not picture a situation where Soviet planes would be allowed to fly over the United States and maybe fly over six times and on the seventh time come over containing atomic or other weapons and I wanted to be sure how we were to be safeguarded in that regard. I think that has been satisfactorily explained that either the planes. if they were Soviet planes. would have to land at an American airport. we will say in Alaska or elsewhere. be searched. take on an American observer before they could proceed. or American planes would be furnished to Soviet observers and they would make the trip in that way. so we would be safeguarded against maybe on the sixth or seventh trip. having a sting in the tall of the plane. so to speak. The next thing was. personally I could not accept the idea that we would merely inspect the frozen wastes of Siberia while they were inspecting all of the United States including my own State of California. and the United States west of the Mississippi River. I thought this was trading 1 horse for 1 rabbit and that did not appeal to me. But that is not the proposal. If they are only willing to allow arctic areas to be inspected. I now understand our position that we will only allow arctic areas in Alaska and northern Canada to be inspected. If they will allow all of their country to be inspected. we would then consider allowing all of our country to be inspected but I think it is a more equitable arrangement than some of the Soviet proposals that have heretofore been made.\""
   ]
  },
  {
   "cell_type": "code",
   "execution_count": 53,
   "metadata": {},
   "outputs": [
    {
     "data": {
      "text/plain": [
       "377"
      ]
     },
     "execution_count": 53,
     "metadata": {},
     "output_type": "execute_result"
    }
   ],
   "source": [
    "len(q.split())"
   ]
  },
  {
   "cell_type": "code",
   "execution_count": 143,
   "metadata": {},
   "outputs": [],
   "source": [
    "q = \"who reflected the majority opinIon. had seen. quite correctly. that this years proposals were designed to establish foreign aid as a cofitinuing activity of the Government. Military aid was to be put under the Department of Defense. Economic aid was to take the form of a banking operation which. it was hoped. would not need to be examined and voted upon by Congress each year. The House would have none of this. at bottom because. as Mr. NEAL said. it wants to wind up and not to perpetuate the basic policy. As a rough measure of the size of the cut by the House. we can say that it is about equal to last years total military and economic aid to South Korea and Formosa combined. That does not mean. of course. that there will now be no money for South Korea and Formosa. But it does mean that in order to subsidize them at something like the level to which their civil and military officials have become accustomed. money will have to be squeezed out of our contributions to the NATO alliance. to Iran. Pakistan. and South Vietnam. and to others among the fiftyodd nations. This will. asserts the President. seriously delay the modernization of their military forces. It will compel them to reduce the size and effectiveness of their forces. It will make impossible important capital assistance through loans for development. In substance what the House has said to this argument is that it is probably not a vital interest of the United States that our military allies should have modernized forces that are larger than they themselves can afford to pay forand that even if it is a vital interest of the United States. they are not willing to accept the Presidents judgment of how much money is needed. After all. how modern would be a modernized force in South Korea or in Iran? What is the size of the forces that would be effective in each of the free nations bordering on the Communist powers? Nobody can answer these questions with any assurance. certainly not the President himself who has made two sharply different estimates of the money needed. In view of the state of mind in Congress and in the country. the President would be very badly advised if. in the casual manner of last weeks impromptu press conference. he called a special session of Congress. The chances are now very great that he would be inviting an even more resounding defeat than he has already suffered. For a special session. called without his having first recovered his leadership of the Nation. would be asking for a showdown on whether his foreign policy is still the national policy. If he were rebuffed by Congress. the policy of our alliances would be gravely Injured. No doubt it is our duty to hope for the best. in this case to hope that the President will learn from his bitter experiences during this session of Congress. But he will have to do more than read speeches and statements that are written for him. and to plead at the last moment with the leaders of Congress. He must leaik to believe in his own recommendations to Congresswhich means. to recommend to Congress only what he himself understands and believes in. The collapse of his leadership in this Congress stems from his failure tp take sufficient trouble to understand and then to defend his own great measures: The budget. civil rights. and foreign aid. No doubt the country is big and strong. and we shall somehow muddle through. But there is no use trying to pretend that the indecision and the vacillation. the ambiguities and the moral generalities. are an inspiring spectacle for the world to watch. Texan Protests Proposed Revisions in Regulations for Control of Interstate Traffic in Firearms and Ammunition\""
   ]
  },
  {
   "cell_type": "code",
   "execution_count": 55,
   "metadata": {},
   "outputs": [
    {
     "data": {
      "text/plain": [
       "642"
      ]
     },
     "execution_count": 55,
     "metadata": {},
     "output_type": "execute_result"
    }
   ],
   "source": [
    "len(q.split())"
   ]
  },
  {
   "cell_type": "code",
   "execution_count": 56,
   "metadata": {},
   "outputs": [],
   "source": [
    "q = \"This is the theme of the Weyerhaeuser Timber Co. in its national advertising program and its efforts to create and maintain a market for wood for building homes. In California and in other places where there has been a mass production of housing. even the window and door frames have been made of steel and practically no wood is used. Adequate Financial Support for Our Ambassadors\""
   ]
  },
  {
   "cell_type": "code",
   "execution_count": 62,
   "metadata": {},
   "outputs": [
    {
     "data": {
      "text/plain": [
       "5.787878787878788"
      ]
     },
     "execution_count": 62,
     "metadata": {},
     "output_type": "execute_result"
    }
   ],
   "source": [
    "len(q) /66"
   ]
  },
  {
   "cell_type": "code",
   "execution_count": 57,
   "metadata": {},
   "outputs": [
    {
     "data": {
      "text/plain": [
       "66"
      ]
     },
     "execution_count": 57,
     "metadata": {},
     "output_type": "execute_result"
    }
   ],
   "source": [
    "len(q.split())"
   ]
  },
  {
   "cell_type": "markdown",
   "metadata": {},
   "source": [
    "Algorithm:\n",
    "filter documents for length between 200 and 500.\n",
    "\n",
    "for document d, collect the 200 words before the last 100.\n",
    "backwards to the last period?"
   ]
  },
  {
   "cell_type": "code",
   "execution_count": 197,
   "metadata": {},
   "outputs": [],
   "source": [
    "def docs_from_speech(speech, min_length, doc_length, edge_size):\n",
    "    \n",
    "    words = speech.split()[:-edge_size]\n",
    "    if len(words) < min_length:\n",
    "        return []\n",
    "    \n",
    "    docs = [\" \".join(words[i*doc_length:(i+1)*doc_length]) \n",
    "            for i in range(len(words) // doc_length)]\n",
    "    \n",
    "    return docs\n",
    "    "
   ]
  },
  {
   "cell_type": "code",
   "execution_count": 200,
   "metadata": {},
   "outputs": [],
   "source": [
    "def documents_from_session(\n",
    "    session, \n",
    "    speech_path, \n",
    "    min_length = 200, \n",
    "    doc_length = 200, \n",
    "    edge_size = 100):\n",
    "    \n",
    "    # load session\n",
    "    session_str = format(session, '03d') \n",
    "    speeches = pd.read_csv(os.path.join(speech_path, SPEECHES % session_str), sep = \"|\")\n",
    "    speaker_map = pd.read_csv(os.path.join(HB_PATH, SPEAKER_MAP % session_str), sep = \"|\")\n",
    "    \n",
    "    # func: speech -> List(str)\n",
    "    doc_list = partial(docs_from_speech, \n",
    "                       min_length=min_length,\n",
    "                       doc_length=doc_length, \n",
    "                       edge_size=edge_size)\n",
    "    \n",
    "    # make documents\n",
    "    speeches['speech'] = speeches['speech'].map(doc_list)\n",
    "    speeches.rename(columns={'speech':'document'}, inplace=True)\n",
    "    \n",
    "    # merge with speaker metadata\n",
    "    documents = (speaker_map[speaker_info_cols + [\"speech_id\"]]\n",
    "                 .merge(speeches, on='speech_id', how='right')\n",
    "                 .drop('speech_id', axis=1)\n",
    "                 .explode('document')\n",
    "                 .dropna())\n",
    "    \n",
    "    # correct type\n",
    "    documents['speakerid'] = documents['speakerid'].astype(int)\n",
    "      \n",
    "\n",
    "    return documents\n",
    "\n"
   ]
  },
  {
   "cell_type": "code",
   "execution_count": null,
   "metadata": {},
   "outputs": [],
   "source": [
    "def save_generic_documents(\n",
    "    session,  \n",
    "    speech_path, \n",
    "    write_path):\n",
    "    \n",
    "    # get documents\n",
    "    df = documents_from_sesssion(session, speech_path)\n",
    "    \n",
    "    # write\n",
    "    session_str = format(session, '03d')\n",
    "    df.to_csv(os.path.join(write_path, DOCUMENT % session_str), sep=\"|\", index=False)\n",
    "    \n",
    "    # report\n",
    "    print(\"DOCUMENTS MADE for session %s \" % session)"
   ]
  }
 ],
 "metadata": {
  "kernelspec": {
   "display_name": "Python 3",
   "language": "python",
   "name": "python3"
  },
  "language_info": {
   "codemirror_mode": {
    "name": "ipython",
    "version": 3
   },
   "file_extension": ".py",
   "mimetype": "text/x-python",
   "name": "python",
   "nbconvert_exporter": "python",
   "pygments_lexer": "ipython3",
   "version": "3.7.4"
  }
 },
 "nbformat": 4,
 "nbformat_minor": 2
}
