{
 "cells": [
  {
   "cell_type": "code",
   "execution_count": 1,
   "metadata": {},
   "outputs": [],
   "source": [
    "import os\n",
    "import re\n",
    "\n",
    "import numpy as np\n",
    "import pandas as pd\n",
    "\n",
    "from collections import defaultdict\n",
    "\n",
    "os.chdir('/home/reese56/w266_final/scripts/assembly/')\n",
    "from subject import subject_keywords\n",
    "\n",
    "from constant import DOC_SAMPLE_PATH, DOCUMENT, DOC_ALL_PATH\n",
    "from document import load_documents\n",
    "from evaluate_docs import *"
   ]
  },
  {
   "cell_type": "code",
   "execution_count": 2,
   "metadata": {},
   "outputs": [],
   "source": [
    "os.chdir('/home/reese56/w266_final/scripts/modeling/')\n",
    "from helper import pickle_object, load_pickled_object"
   ]
  },
  {
   "cell_type": "code",
   "execution_count": 3,
   "metadata": {},
   "outputs": [],
   "source": [
    "PROJ_PATH_REESE = '/home/reese56/w266_final/'\n",
    "PROJ_PATH_ROWAN = '/home/rowan/w266_final/'"
   ]
  },
  {
   "cell_type": "code",
   "execution_count": 4,
   "metadata": {},
   "outputs": [],
   "source": [
    "subjects = list(subject_keywords.keys())\n",
    "sessions = np.arange(43,112)"
   ]
  },
  {
   "cell_type": "code",
   "execution_count": 5,
   "metadata": {},
   "outputs": [],
   "source": [
    "documents_df = load_documents(sessions, DOC_ALL_PATH)"
   ]
  },
  {
   "cell_type": "code",
   "execution_count": 6,
   "metadata": {},
   "outputs": [
    {
     "data": {
      "text/plain": [
       "government     0.122228\n",
       "defense        0.105010\n",
       "foreign        0.099491\n",
       "labor          0.087748\n",
       "trade          0.080662\n",
       "economy        0.060969\n",
       "tax            0.053612\n",
       "business       0.050992\n",
       "justice        0.046421\n",
       "education      0.046008\n",
       "money          0.041900\n",
       "elections      0.027099\n",
       "budget         0.025357\n",
       "health         0.021932\n",
       "drugs          0.021696\n",
       "minorities     0.019230\n",
       "environment    0.017343\n",
       "crime          0.015762\n",
       "guns           0.011896\n",
       "immigration    0.011603\n",
       "religion       0.009562\n",
       "mail           0.008194\n",
       "federalism     0.008061\n",
       "abortion       0.003292\n",
       "alcohol        0.002704\n",
       "women          0.001229\n",
       "Name: subject, dtype: float64"
      ]
     },
     "execution_count": 6,
     "metadata": {},
     "output_type": "execute_result"
    }
   ],
   "source": [
    "documents_df['subject'].value_counts()/documents_df.shape[0]"
   ]
  },
  {
   "cell_type": "code",
   "execution_count": 7,
   "metadata": {},
   "outputs": [],
   "source": [
    "np.random.seed(565)\n",
    "rand_sample_l = {s:documents_df[documents_df['subject'] == s].sample(10, axis = 0) for s in subjects}\n",
    "rand_sample_df = pd.concat(rand_sample_l.values(), ignore_index=True)"
   ]
  },
  {
   "cell_type": "code",
   "execution_count": null,
   "metadata": {},
   "outputs": [],
   "source": [
    "try:\n",
    "    dev = DocumentEvaluator(rand_sample_df)\n",
    "    dev.load_eval('second', '/home/reese56/w266_final/data/evals/eval_1/')\n",
    "except FileNoteFound:\n",
    "    dev = DocumentEvaluator(rand_sample_df)\n",
    "\n",
    "print('Last Saved Index:', dev.saved_index)"
   ]
  },
  {
   "cell_type": "code",
   "execution_count": 22,
   "metadata": {},
   "outputs": [
    {
     "name": "stdout",
     "output_type": "stream",
     "text": [
      "==================================================================================================== \n",
      "\n",
      "Example 0 of 260\n",
      "\n",
      "SUBJECT: abortion\n",
      "SESSION: 111\n",
      "CHAMBER: H\n",
      "PARTY: R\n",
      "STATE: TX\n",
      "GENDER: M \n",
      "\n",
      "KEYWORDS:\n",
      "   business - busi\n",
      "   defense - force\n",
      "   health - health care, health coverag\n",
      "\n",
      "\n",
      "trends continue hospitals and clinics are also providing an estimated  billion in uncompensated care meanwhile businesses are squeezed on the bottom line forced to reduce or drop health coverage for their employees without action costs continue to rise and waste proliferate we need to make health care affordable for everyone and we need to reduce the waste and fraud that plagues the current system to my colleagues who are conjuring up reasons not to pass reform this year using scare tactics about nationalized health care and engaging\n",
      "\n",
      "\n",
      "\n",
      "--- CROSS SUBJECT KEYWORDS ---\n",
      "Germaness of phrase \"busi\" in Subject \"business\" (True/1 or False/0):0\n",
      "Germaness of phrase \"force\" in Subject \"defense\" (True/1 or False/0):0\n",
      "Germaness of phrase \"health care\" in Subject \"health\" (True/1 or False/0):\n",
      "\n",
      "ERROR: Entry must be True/1 or False/0\n",
      "Germaness of phrase \"health care\" in Subject \"health\" (True/1 or False/0):0\n",
      "Germaness of phrase \"health coverag\" in Subject \"health\" (True/1 or False/0):0\n",
      "Save? (y/n):y\n",
      "Filename:third\n",
      "Save path:/home/reese56/w266_final/data/evals/eval_1/\n",
      "==================================================================================================== \n",
      "\n",
      "\n",
      "Progress Saved and Stored\n",
      "Completed 0 of 260 examples\n",
      "Last Index: 1 \n",
      "\n",
      "==================================================================================================== \n",
      "\n",
      "Total Evaluated: 4\n",
      "\n",
      "Total Comprehension Rate: 0.0 \n",
      "\n",
      "Comprehension Rate \"business\": 0.0\n",
      "  Comprehension Rate keword \"busi\" in subject business: 0.0\n",
      "Comprehension Rate \"defense\": 0.0\n",
      "  Comprehension Rate keword \"force\" in subject defense: 0.0\n",
      "Comprehension Rate \"health\": 0.0\n",
      "  Comprehension Rate keword \"health care\" in subject health: 0.0\n",
      "  Comprehension Rate keword \"health coverag\" in subject health: 0.0\n"
     ]
    }
   ],
   "source": [
    "dev.evaluate_documents()"
   ]
  },
  {
   "cell_type": "code",
   "execution_count": 21,
   "metadata": {},
   "outputs": [
    {
     "ename": "ZeroDivisionError",
     "evalue": "division by zero",
     "output_type": "error",
     "traceback": [
      "\u001b[0;31m---------------------------------------------------------------------------\u001b[0m",
      "\u001b[0;31mZeroDivisionError\u001b[0m                         Traceback (most recent call last)",
      "\u001b[0;32m<ipython-input-21-88a242834c0c>\u001b[0m in \u001b[0;36m<module>\u001b[0;34m\u001b[0m\n\u001b[0;32m----> 1\u001b[0;31m \u001b[0mdev\u001b[0m\u001b[0;34m.\u001b[0m\u001b[0mresults\u001b[0m\u001b[0;34m(\u001b[0m\u001b[0;34m)\u001b[0m\u001b[0;34m\u001b[0m\u001b[0;34m\u001b[0m\u001b[0m\n\u001b[0m",
      "\u001b[0;32m~/w266_final/scripts/assembly/evaluate_docs.py\u001b[0m in \u001b[0;36mresults\u001b[0;34m(self)\u001b[0m\n\u001b[1;32m     41\u001b[0m         \u001b[0;34m\"\"\"\"\"\"\u001b[0m\u001b[0;34m\u001b[0m\u001b[0;34m\u001b[0m\u001b[0m\n\u001b[1;32m     42\u001b[0m \u001b[0;34m\u001b[0m\u001b[0m\n\u001b[0;32m---> 43\u001b[0;31m         \u001b[0mself\u001b[0m\u001b[0;34m.\u001b[0m\u001b[0mfound_keywords\u001b[0m\u001b[0;34m[\u001b[0m\u001b[0;34m'results'\u001b[0m\u001b[0;34m]\u001b[0m\u001b[0;34m[\u001b[0m\u001b[0;36m0\u001b[0m\u001b[0;34m]\u001b[0m \u001b[0;34m=\u001b[0m \u001b[0mself\u001b[0m\u001b[0;34m.\u001b[0m\u001b[0mfound_keywords\u001b[0m\u001b[0;34m[\u001b[0m\u001b[0;34m'results'\u001b[0m\u001b[0;34m]\u001b[0m\u001b[0;34m[\u001b[0m\u001b[0;36m1\u001b[0m\u001b[0;34m]\u001b[0m\u001b[0;34m/\u001b[0m\u001b[0mself\u001b[0m\u001b[0;34m.\u001b[0m\u001b[0mfound_keywords\u001b[0m\u001b[0;34m[\u001b[0m\u001b[0;34m'results'\u001b[0m\u001b[0;34m]\u001b[0m\u001b[0;34m[\u001b[0m\u001b[0;36m2\u001b[0m\u001b[0;34m]\u001b[0m\u001b[0;34m\u001b[0m\u001b[0;34m\u001b[0m\u001b[0m\n\u001b[0m\u001b[1;32m     44\u001b[0m         \u001b[0mprint\u001b[0m\u001b[0;34m(\u001b[0m\u001b[0;34m'Total Evaluated:'\u001b[0m\u001b[0;34m,\u001b[0m \u001b[0mself\u001b[0m\u001b[0;34m.\u001b[0m\u001b[0mfound_keywords\u001b[0m\u001b[0;34m[\u001b[0m\u001b[0;34m'results'\u001b[0m\u001b[0;34m]\u001b[0m\u001b[0;34m[\u001b[0m\u001b[0;36m2\u001b[0m\u001b[0;34m]\u001b[0m\u001b[0;34m)\u001b[0m\u001b[0;34m\u001b[0m\u001b[0;34m\u001b[0m\u001b[0m\n\u001b[1;32m     45\u001b[0m         \u001b[0mprint\u001b[0m\u001b[0;34m(\u001b[0m\u001b[0;34m\"\\nTotal Comprehension Rate:\"\u001b[0m\u001b[0;34m,\u001b[0m \u001b[0mself\u001b[0m\u001b[0;34m.\u001b[0m\u001b[0mfound_keywords\u001b[0m\u001b[0;34m[\u001b[0m\u001b[0;34m'results'\u001b[0m\u001b[0;34m]\u001b[0m\u001b[0;34m[\u001b[0m\u001b[0;36m0\u001b[0m\u001b[0;34m]\u001b[0m\u001b[0;34m,\u001b[0m\u001b[0;34m'\\n'\u001b[0m\u001b[0;34m)\u001b[0m\u001b[0;34m\u001b[0m\u001b[0;34m\u001b[0m\u001b[0m\n",
      "\u001b[0;31mZeroDivisionError\u001b[0m: division by zero"
     ]
    }
   ],
   "source": []
  },
  {
   "cell_type": "code",
   "execution_count": null,
   "metadata": {},
   "outputs": [],
   "source": [
    "dev.saved_index"
   ]
  },
  {
   "cell_type": "markdown",
   "metadata": {},
   "source": [
    "save_path = /home/reese56/w266_final/data/evals/eval_1/\n",
    "\n",
    "Notes:\n",
    "    \"aid\" often maps tot \"aids\"\n",
    "\n",
    "What do we mean?\n",
    "    alcohol - Do we mean the regulation of, or social issues arising from it's consumption?\n",
    "    justice - Do we mean the justice system, how the courts work and laws, or do we mean justice for a cause like the enviornment?\n",
    "    \n",
    "\n",
    "tax should be tax & spend\n",
    "\n",
    "trade is both domestic and international\n",
    "\n",
    "opportubity may be in the mixing of subjects between parties?\n",
    "\n",
    "Politicians often make arguments by telling stories. This means \n",
    "    \n",
    "\n",
    "Noteabl Misses:\n",
    "    \n",
    "    drug - \"meth\": \"methanolor\" in discussion of oil and ethenol production\n",
    "    \n",
    "    \n",
    "    \n",
    "bankrupt is sometimes used to talk about consequences of federal spending\n",
    "\n",
    "\"income\" -> \"income tax\"\n",
    "\n",
    "\"import\" is mapping to \"important\"\n",
    "\n",
    "\"meth\" is mapping to method\n",
    "\n",
    "\n",
    "\n",
    "guns - \"arms\",\n"
   ]
  },
  {
   "cell_type": "markdown",
   "metadata": {},
   "source": [
    "    1. We need to filter out non Democratic or Republican party speeches\n",
    "    2. Drugs and alcohol tend to come together, suggesting they should be one subject"
   ]
  },
  {
   "cell_type": "code",
   "execution_count": null,
   "metadata": {},
   "outputs": [],
   "source": []
  }
 ],
 "metadata": {
  "kernelspec": {
   "display_name": "Python 3",
   "language": "python",
   "name": "python3"
  },
  "language_info": {
   "codemirror_mode": {
    "name": "ipython",
    "version": 3
   },
   "file_extension": ".py",
   "mimetype": "text/x-python",
   "name": "python",
   "nbconvert_exporter": "python",
   "pygments_lexer": "ipython3",
   "version": "3.7.4"
  }
 },
 "nbformat": 4,
 "nbformat_minor": 4
}
