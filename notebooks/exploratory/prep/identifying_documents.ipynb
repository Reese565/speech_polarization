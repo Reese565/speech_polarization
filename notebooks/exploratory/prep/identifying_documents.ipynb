{
 "cells": [
  {
   "cell_type": "markdown",
   "metadata": {},
   "source": [
    "### Identifying document spans for use in the topic models."
   ]
  },
  {
   "cell_type": "code",
   "execution_count": 1,
   "metadata": {},
   "outputs": [],
   "source": [
    "import os"
   ]
  },
  {
   "cell_type": "code",
   "execution_count": 2,
   "metadata": {},
   "outputs": [],
   "source": [
    "os.chdir(\"../../../scripts/assembly\")"
   ]
  },
  {
   "cell_type": "code",
   "execution_count": 3,
   "metadata": {},
   "outputs": [],
   "source": [
    "from constant import HB_PATH\n",
    "from document import *"
   ]
  },
  {
   "cell_type": "code",
   "execution_count": 4,
   "metadata": {},
   "outputs": [],
   "source": [
    "docs = subject_docs(\n",
    "    session = 111,\n",
    "    subject = \"health care\",\n",
    "    path = HB_PATH\n",
    ")"
   ]
  },
  {
   "cell_type": "code",
   "execution_count": 5,
   "metadata": {},
   "outputs": [
    {
     "data": {
      "text/plain": [
       "array(['honest and fair prosperity for the many. not just the few. We need action. and we need action now. Families and children without health care. and millions more who fear losing coverage or who are facing rising costs. cannot afford to wait any longer. We need action.',\n",
       "       'put Americans back to work by investing in job creation initiatives. strengthening our economy. We are ready to fix our broken health care system so that every citizen can get quality. affordable health care that they desperately need and are entitled to. We are ready',\n",
       "       'together. With the middle class struggling to make one paycheck last until the next one. we are in the middle of this together. With health care. college tuition. and retirement more expensive and harder to reach than ever. we are in this together. With our climate in crisis',\n",
       "       ...,\n",
       "       'expands Head Start. The Presidents budget calls for improving and expanding access to health insurance and lowering the cost of health care for every American. The Presidents budget includes several provisions to improve quality and efficiency in the health care system.',\n",
       "       'a more prosperous future for every American. Above the committee bill. the CBC budget provides an additional $18 billion for health care. $17 billion for education. job training. and social services. $8 billion for transportation and infrastructure. an additional',\n",
       "       'the American people that there are people here on the Republican side that are fighting against this government takeover of the health care system. Mr. Speaker. the American people have spoken very loudly. A recent poll showed that 70 percent of Americans either want'],\n",
       "      dtype=object)"
      ]
     },
     "execution_count": 5,
     "metadata": {},
     "output_type": "execute_result"
    }
   ],
   "source": [
    "docs.speech.values"
   ]
  },
  {
   "cell_type": "code",
   "execution_count": 6,
   "metadata": {},
   "outputs": [
    {
     "data": {
      "text/plain": [
       "7383"
      ]
     },
     "execution_count": 6,
     "metadata": {},
     "output_type": "execute_result"
    }
   ],
   "source": [
    "len(docs.speech.values)"
   ]
  },
  {
   "cell_type": "code",
   "execution_count": null,
   "metadata": {},
   "outputs": [],
   "source": []
  }
 ],
 "metadata": {
  "kernelspec": {
   "display_name": "Python 3",
   "language": "python",
   "name": "python3"
  },
  "language_info": {
   "codemirror_mode": {
    "name": "ipython",
    "version": 3
   },
   "file_extension": ".py",
   "mimetype": "text/x-python",
   "name": "python",
   "nbconvert_exporter": "python",
   "pygments_lexer": "ipython3",
   "version": "3.7.4"
  }
 },
 "nbformat": 4,
 "nbformat_minor": 2
}
