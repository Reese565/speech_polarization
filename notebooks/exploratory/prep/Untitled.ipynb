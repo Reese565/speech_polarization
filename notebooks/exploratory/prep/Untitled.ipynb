{
 "cells": [
  {
   "cell_type": "code",
   "execution_count": 3,
   "metadata": {},
   "outputs": [],
   "source": [
    "import os\n",
    "os.chdir(\"/home/rocassius/w266_final/scripts/assembly\")"
   ]
  },
  {
   "cell_type": "code",
   "execution_count": 4,
   "metadata": {},
   "outputs": [],
   "source": [
    "#========================#\n",
    "#=*= Making Documents =*=#\n",
    "#========================#\n",
    "\n",
    "# makes and saves document dataframes\n",
    "\n",
    "\n",
    "import pandas as pd\n",
    "\n",
    "from multiprocessing import cpu_count, Process\n",
    "from concurrent.futures import ThreadPoolExecutor\n",
    "from concurrent.futures import ProcessPoolExecutor \n",
    "from functools import partial\n",
    "    \n",
    "from constant import GEN_HB_PATH, MIN_SESSION, MAX_SESSION\n",
    "from subject import subject_keywords\n",
    "from document import *\n",
    "\n",
    "\n",
    "# constants\n",
    "N_CORES = cpu_count()\n",
    "SAVE_PATH = \"/home/rocassius/gen-data/doc/\"\n",
    "sessions = list(range(MIN_SESSION, MAX_SESSION+1))\n",
    "sessions = [100,101]\n"
   ]
  },
  {
   "cell_type": "code",
   "execution_count": 5,
   "metadata": {},
   "outputs": [],
   "source": [
    "\n",
    "\n",
    "# create assemble func which gets the dataframe of documents\n",
    "assemble_func = partial(assemble_subject_docs, sessions=sessions, speech_path=GEN_HB_PATH)\n",
    "\n",
    "# create function which applies assemble func and saves the result\n",
    "assemble_save_documents = partial(save_subject_documents, \n",
    "                                  assemble_func=assemble_func, \n",
    "                                  write_path=SAVE_PATH)"
   ]
  },
  {
   "cell_type": "code",
   "execution_count": 6,
   "metadata": {},
   "outputs": [],
   "source": [
    "from multiprocessing import Pool"
   ]
  },
  {
   "cell_type": "code",
   "execution_count": 13,
   "metadata": {},
   "outputs": [
    {
     "name": "stdout",
     "output_type": "stream",
     "text": [
      "crime DOCUMENTS MADE\n",
      "budget DOCUMENTS MADE\n",
      "business DOCUMENTS MADE\n",
      "alcohol DOCUMENTS MADE\n",
      "guns DOCUMENTS MADE\n",
      "economy DOCUMENTS MADE\n",
      "drugs DOCUMENTS MADE\n",
      "defense DOCUMENTS MADE\n",
      "elections DOCUMENTS MADE\n",
      "environment DOCUMENTS MADE\n",
      "federalism DOCUMENTS MADE\n",
      "health DOCUMENTS MADE\n",
      "government DOCUMENTS MADE\n",
      "education DOCUMENTS MADE\n",
      "foreign DOCUMENTS MADE\n",
      "immigration DOCUMENTS MADE\n",
      "justice DOCUMENTS MADE\n",
      "mail DOCUMENTS MADE\n",
      "labor DOCUMENTS MADE\n",
      "money DOCUMENTS MADE\n",
      "women DOCUMENTS MADE\n",
      "religion DOCUMENTS MADE\n",
      "minorities DOCUMENTS MADE\n",
      "tax DOCUMENTS MADE\n",
      "trade DOCUMENTS MADE\n"
     ]
    }
   ],
   "source": [
    "pool = Pool(cpu_count())\n",
    "pool.map(assemble_save_documents, subject_keywords.keys())\n",
    "pool.close()\n",
    "pool.join()"
   ]
  },
  {
   "cell_type": "code",
   "execution_count": 31,
   "metadata": {},
   "outputs": [
    {
     "name": "stdout",
     "output_type": "stream",
     "text": [
      "crime DOCUMENTS MADE\n",
      "elections DOCUMENTS MADE\n",
      "alcohol DOCUMENTS MADE\n",
      "mail DOCUMENTS MADE\n",
      "budget DOCUMENTS MADE\n",
      "business DOCUMENTS MADE\n",
      "guns DOCUMENTS MADE\n",
      "economy DOCUMENTS MADE\n",
      "federalism DOCUMENTS MADE\n",
      "immigration DOCUMENTS MADE\n",
      "justice DOCUMENTS MADE\n",
      "health DOCUMENTS MADE\n",
      "environment DOCUMENTS MADE\n",
      "drugs DOCUMENTS MADE\n",
      "government DOCUMENTS MADE\n",
      "women DOCUMENTS MADE\n",
      "money DOCUMENTS MADE\n",
      "labor DOCUMENTS MADE\n",
      "tax DOCUMENTS MADE\n",
      "religion DOCUMENTS MADE\n",
      "trade DOCUMENTS MADE\n",
      "education DOCUMENTS MADE\n",
      "minorities DOCUMENTS MADE\n",
      "foreign DOCUMENTS MADE\n",
      "defense DOCUMENTS MADE\n"
     ]
    }
   ],
   "source": [
    "processes = [Process(target=assemble_save_documents, args=(s,)) \n",
    "             for s in subject_keywords.keys()]\n",
    "\n",
    "for p in processes: p.start()\n",
    "for p in processes: p.join()"
   ]
  },
  {
   "cell_type": "code",
   "execution_count": 30,
   "metadata": {},
   "outputs": [
    {
     "name": "stdout",
     "output_type": "stream",
     "text": [
      "mail DOCUMENTS MADE\n",
      "alcohol DOCUMENTS MADE\n",
      "crime DOCUMENTS MADE\n",
      "budget DOCUMENTS MADE\n",
      "elections DOCUMENTS MADE\n",
      "business DOCUMENTS MADE\n",
      "guns DOCUMENTS MADE\n",
      "environment DOCUMENTS MADE\n",
      "federalism DOCUMENTS MADE\n",
      "drugs DOCUMENTS MADE\n",
      "immigration DOCUMENTS MADE\n",
      "justice DOCUMENTS MADE\n",
      "economy DOCUMENTS MADE\n",
      "health DOCUMENTS MADE\n",
      "money DOCUMENTS MADE\n",
      "religion DOCUMENTS MADE\n",
      "women DOCUMENTS MADE\n",
      "tax DOCUMENTS MADE\n",
      "government DOCUMENTS MADE\n",
      "labor DOCUMENTS MADE\n",
      "trade DOCUMENTS MADE\n",
      "education DOCUMENTS MADE\n",
      "foreign DOCUMENTS MADE\n",
      "minorities DOCUMENTS MADE\n",
      "defense DOCUMENTS MADE\n"
     ]
    }
   ],
   "source": [
    "for s in subject_keywords.keys():\n",
    "    p = Process(target=assemble_save_documents, args=(s,))\n",
    "    p.start()\n",
    "    \n",
    "for s in subject_keywords.keys():\n",
    "    p.join()"
   ]
  },
  {
   "cell_type": "code",
   "execution_count": 25,
   "metadata": {},
   "outputs": [
    {
     "name": "stdout",
     "output_type": "stream",
     "text": [
      "Worker: 0\n",
      "Worker: 1\n",
      "Worker: 2\n",
      "Worker: 3\n",
      "Worker: 4\n"
     ]
    }
   ],
   "source": [
    "import multiprocessing\n",
    "\n",
    "def worker(num):\n",
    "    \"\"\"thread worker function\"\"\"\n",
    "    print('Worker:', num)\n",
    "    return\n",
    "\n",
    "if __name__ == '__main__':\n",
    "    jobs = []\n",
    "    for i in range(5):\n",
    "        p = multiprocessing.Process(target=worker, args=(i,))\n",
    "        jobs.append(p)\n",
    "        p.start()"
   ]
  },
  {
   "cell_type": "code",
   "execution_count": 35,
   "metadata": {},
   "outputs": [
    {
     "name": "stdout",
     "output_type": "stream",
     "text": [
      "hello bob\n"
     ]
    }
   ],
   "source": [
    " from multiprocessing import Process\n",
    "\n",
    "def f(name):\n",
    "    print('hello', name)\n",
    "\n",
    "if __name__ == '__main__':\n",
    "    for \n",
    "    p = Process(target=f, args=('bob',))\n",
    "    p.start()\n",
    "    p.join()"
   ]
  },
  {
   "cell_type": "code",
   "execution_count": 42,
   "metadata": {},
   "outputs": [
    {
     "name": "stdout",
     "output_type": "stream",
     "text": [
      "SUCCESS\n"
     ]
    }
   ],
   "source": [
    "exec(open(\"make_documents.py\").read())"
   ]
  },
  {
   "cell_type": "code",
   "execution_count": 40,
   "metadata": {},
   "outputs": [
    {
     "data": {
      "text/plain": [
       "range"
      ]
     },
     "execution_count": 40,
     "metadata": {},
     "output_type": "execute_result"
    }
   ],
   "source": [
    "type(range(43,112))\n"
   ]
  },
  {
   "cell_type": "code",
   "execution_count": null,
   "metadata": {},
   "outputs": [],
   "source": []
  }
 ],
 "metadata": {
  "kernelspec": {
   "display_name": "Python 3",
   "language": "python",
   "name": "python3"
  },
  "language_info": {
   "codemirror_mode": {
    "name": "ipython",
    "version": 3
   },
   "file_extension": ".py",
   "mimetype": "text/x-python",
   "name": "python",
   "nbconvert_exporter": "python",
   "pygments_lexer": "ipython3",
   "version": "3.7.4"
  }
 },
 "nbformat": 4,
 "nbformat_minor": 2
}
