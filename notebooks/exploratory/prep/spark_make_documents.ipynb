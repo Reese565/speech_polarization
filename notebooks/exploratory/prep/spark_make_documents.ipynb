{
 "cells": [
  {
   "cell_type": "code",
   "execution_count": 1,
   "metadata": {},
   "outputs": [
    {
     "data": {
      "text/html": [
       "\n",
       "            <div>\n",
       "                <p><b>SparkSession - hive</b></p>\n",
       "                \n",
       "        <div>\n",
       "            <p><b>SparkContext</b></p>\n",
       "\n",
       "            <p><a href=\"http://w266.c.prefab-atlas-264718.internal:4040\">Spark UI</a></p>\n",
       "\n",
       "            <dl>\n",
       "              <dt>Version</dt>\n",
       "                <dd><code>v2.3.0</code></dd>\n",
       "              <dt>Master</dt>\n",
       "                <dd><code>local[*]</code></dd>\n",
       "              <dt>AppName</dt>\n",
       "                <dd><code>PySparkShell</code></dd>\n",
       "            </dl>\n",
       "        </div>\n",
       "        \n",
       "            </div>\n",
       "        "
      ],
      "text/plain": [
       "<pyspark.sql.session.SparkSession at 0x7fc4687a8850>"
      ]
     },
     "execution_count": 1,
     "metadata": {},
     "output_type": "execute_result"
    }
   ],
   "source": [
    "spark"
   ]
  },
  {
   "cell_type": "code",
   "execution_count": 2,
   "metadata": {},
   "outputs": [
    {
     "data": {
      "text/html": [
       "\n",
       "        <div>\n",
       "            <p><b>SparkContext</b></p>\n",
       "\n",
       "            <p><a href=\"http://w266.c.prefab-atlas-264718.internal:4040\">Spark UI</a></p>\n",
       "\n",
       "            <dl>\n",
       "              <dt>Version</dt>\n",
       "                <dd><code>v2.3.0</code></dd>\n",
       "              <dt>Master</dt>\n",
       "                <dd><code>local[*]</code></dd>\n",
       "              <dt>AppName</dt>\n",
       "                <dd><code>PySparkShell</code></dd>\n",
       "            </dl>\n",
       "        </div>\n",
       "        "
      ],
      "text/plain": [
       "<SparkContext master=local[*] appName=PySparkShell>"
      ]
     },
     "execution_count": 2,
     "metadata": {},
     "output_type": "execute_result"
    }
   ],
   "source": [
    "sc"
   ]
  },
  {
   "cell_type": "code",
   "execution_count": 3,
   "metadata": {},
   "outputs": [],
   "source": [
    "import pandas as pd\n",
    "import numpy as np\n",
    "import os"
   ]
  },
  {
   "cell_type": "code",
   "execution_count": 4,
   "metadata": {},
   "outputs": [],
   "source": [
    "os.chdir(\"/home/rocassius/w266_final/scripts/assembly\")"
   ]
  },
  {
   "cell_type": "code",
   "execution_count": 5,
   "metadata": {},
   "outputs": [],
   "source": [
    "from preprocess import *\n",
    "from constant import HB_PATH, SPEECHES, "
   ]
  },
  {
   "cell_type": "code",
   "execution_count": 6,
   "metadata": {},
   "outputs": [],
   "source": [
    "df = pd.read_csv(os.path.join(HB_PATH, SPEECHES % 111))"
   ]
  },
  {
   "cell_type": "code",
   "execution_count": 14,
   "metadata": {},
   "outputs": [],
   "source": [
    "samp_df = df.sample(10)"
   ]
  },
  {
   "cell_type": "code",
   "execution_count": null,
   "metadata": {},
   "outputs": [],
   "source": []
  },
  {
   "cell_type": "code",
   "execution_count": 37,
   "metadata": {},
   "outputs": [
    {
     "data": {
      "text/plain": [
       "'We would be happy to see it. We were not able to find this project. But reclaiming my time. Mr. Chairman. it subsidizes $100.000 it would borrow for the Chamber of Commerce in Jamaica. New York. The Chamber of Commerce In Jamaica. New York. is a private entity funded by private businesses. So we are using $100.000 of taxpayer money to subsidize private businesses here at a time when we dont have the money. And if were going to do it for the Chamber of Commerce in Jamaica. why not do it for the Chamber of Commerce in Irvine. where I live. or the thousands of Chambers of Commerce that exist all over the country. E 2030 Mr. Chairman. I would ask for a \"yes\" vote on this amendment to remove this $100.000 and save a little bit. and start now by not doing this sort of thing anymore that is just not of a critical nature. given the debt and deficits we have.'"
      ]
     },
     "execution_count": 37,
     "metadata": {},
     "output_type": "execute_result"
    }
   ],
   "source": [
    "samp_df.iloc[1].speech"
   ]
  },
  {
   "cell_type": "code",
   "execution_count": 34,
   "metadata": {},
   "outputs": [
    {
     "data": {
      "text/plain": [
       "'we would be happy to see it we were not able to find this project but reclaiming my time it subsidizes  it would borrow for the chamber of commerce in jamaica the chamber of commerce in jamaica is a private entity funded by private businesses so we are using  of taxpayer to subsidize private businesses here at a time when we dont have the and if were going to do it for the chamber of commerce in jamaica why not do it for the chamber of commerce in irvine where i live or the thousands of of commerce that exist all over the country e  i would for a vote on this amendment to remove this  and save a bit and start by not doing this sort of thing anymore that is just not of a critical nature given the debt and deficits we have'"
      ]
     },
     "execution_count": 34,
     "metadata": {},
     "output_type": "execute_result"
    }
   ],
   "source": [
    "a = list(map(partial(dense_preprocess, stopword=STOPWORDS), samp_df['speech']))\n",
    "len(a[1])\n",
    "a[1]"
   ]
  },
  {
   "cell_type": "code",
   "execution_count": 35,
   "metadata": {},
   "outputs": [
    {
     "data": {
      "text/plain": [
       "'would happy see able find project reclaiming time subsidizes  would borrow chamber commerce jamaica chamber commerce jamaica private entity funded private businesses using  taxpayer subsidize private businesses time going chamber commerce jamaica chamber commerce irvine live thousands commerce exist country e  would vote amendment remove save bit start sort thing anymore critical nature given debt deficits'"
      ]
     },
     "execution_count": 35,
     "metadata": {},
     "output_type": "execute_result"
    }
   ],
   "source": [
    "b = list(map(dense_preprocess, samp_df['speech']))\n",
    "len(b[1])\n",
    "b[1]"
   ]
  },
  {
   "cell_type": "code",
   "execution_count": null,
   "metadata": {},
   "outputs": [],
   "source": []
  }
 ],
 "metadata": {
  "kernelspec": {
   "display_name": "Python 3",
   "language": "python",
   "name": "python3"
  },
  "language_info": {
   "codemirror_mode": {
    "name": "ipython",
    "version": 3
   },
   "file_extension": ".py",
   "mimetype": "text/x-python",
   "name": "python",
   "nbconvert_exporter": "python",
   "pygments_lexer": "ipython3",
   "version": "3.7.4"
  }
 },
 "nbformat": 4,
 "nbformat_minor": 2
}
