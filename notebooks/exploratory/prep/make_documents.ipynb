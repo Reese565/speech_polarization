{
 "cells": [
  {
   "cell_type": "markdown",
   "metadata": {},
   "source": [
    "# Making Documents\n",
    "\n",
    "The notebook environment is somehow favorable to manually making documents."
   ]
  },
  {
   "cell_type": "code",
   "execution_count": 3,
   "metadata": {},
   "outputs": [],
   "source": [
    "import os\n",
    "os.chdir(\"/home/rocassius/w266_final/scripts/assembly\")"
   ]
  },
  {
   "cell_type": "code",
   "execution_count": 8,
   "metadata": {},
   "outputs": [],
   "source": [
    "#========================#\n",
    "#=*= Making Documents =*=#\n",
    "#========================#\n",
    "\n",
    "# makes and saves document dataframes\n",
    "\n",
    "import pandas as pd\n",
    "\n",
    "from multiprocessing import cpu_count, Process, Pool\n",
    "from concurrent.futures import ThreadPoolExecutor\n",
    "from concurrent.futures import ProcessPoolExecutor \n",
    "from functools import partial\n",
    "    \n",
    "from constant import GEN_HB_PATH, MIN_SESSION, MAX_SESSION\n",
    "from subject import subject_keywords\n",
    "from document import *\n",
    "\n",
    "\n",
    "# constants\n",
    "N_CORES = cpu_count()\n",
    "SAVE_PATH = \"/home/rocassius/gen-data/doc/doc1\"\n",
    "sessions = list(range(MIN_SESSION, MAX_SESSION+1))\n",
    "\n",
    "\n",
    "sessions = range(105, 112)"
   ]
  },
  {
   "cell_type": "code",
   "execution_count": 9,
   "metadata": {},
   "outputs": [
    {
     "name": "stdout",
     "output_type": "stream",
     "text": [
      "crime DOCUMENTS MADE\n",
      "alcohol DOCUMENTS MADE\n",
      "elections DOCUMENTS MADE\n",
      "budget DOCUMENTS MADE\n",
      "health DOCUMENTS MADE\n",
      "guns DOCUMENTS MADE\n",
      "federalism DOCUMENTS MADE\n",
      "environment DOCUMENTS MADE\n",
      "drugs DOCUMENTS MADE\n",
      "business DOCUMENTS MADE\n",
      "economy DOCUMENTS MADE\n",
      "education DOCUMENTS MADE\n",
      "government DOCUMENTS MADE\n",
      "defense DOCUMENTS MADE\n",
      "foreign DOCUMENTS MADE\n",
      "mail DOCUMENTS MADE\n",
      "justice DOCUMENTS MADE\n",
      "immigration DOCUMENTS MADE\n",
      "money DOCUMENTS MADE\n",
      "women DOCUMENTS MADE\n",
      "religion DOCUMENTS MADE\n",
      "tax DOCUMENTS MADE\n",
      "trade DOCUMENTS MADE\n",
      "labor DOCUMENTS MADE\n",
      "minorities DOCUMENTS MADE\n",
      "SUCCESS\n"
     ]
    }
   ],
   "source": [
    "# create assemble func which gets the dataframe of documents\n",
    "assemble_func = partial(assemble_subject_docs, sessions=sessions, speech_path=GEN_HB_PATH)\n",
    "\n",
    "# create function which applies assemble func and saves the result\n",
    "assemble_save_documents = partial(save_subject_documents, \n",
    "                                  assemble_func=assemble_func, \n",
    "                                  write_path=SAVE_PATH)\n",
    "\n",
    "\n",
    "# execute in parallel\n",
    "with ProcessPoolExecutor(max_workers = N_CORES - 1) as executor:\n",
    "    executor.map(assemble_save_documents, subject_keywords.keys())  \n",
    "\n",
    "# report\n",
    "print(\"SUCCESS\")"
   ]
  },
  {
   "cell_type": "code",
   "execution_count": null,
   "metadata": {},
   "outputs": [],
   "source": []
  }
 ],
 "metadata": {
  "kernelspec": {
   "display_name": "Python 3",
   "language": "python",
   "name": "python3"
  },
  "language_info": {
   "codemirror_mode": {
    "name": "ipython",
    "version": 3
   },
   "file_extension": ".py",
   "mimetype": "text/x-python",
   "name": "python",
   "nbconvert_exporter": "python",
   "pygments_lexer": "ipython3",
   "version": "3.7.4"
  }
 },
 "nbformat": 4,
 "nbformat_minor": 2
}
