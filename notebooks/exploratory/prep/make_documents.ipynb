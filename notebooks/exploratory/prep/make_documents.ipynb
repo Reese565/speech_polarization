{
 "cells": [
  {
   "cell_type": "code",
   "execution_count": 2,
   "metadata": {},
   "outputs": [],
   "source": [
    "import os\n",
    "os.chdir(\"/home/rocassius/w266_final/scripts/assembly\")"
   ]
  },
  {
   "cell_type": "code",
   "execution_count": 3,
   "metadata": {},
   "outputs": [
    {
     "name": "stdout",
     "output_type": "stream",
     "text": [
      "DOCUMENTS MADE for session 98 \n",
      "DOCUMENTS MADE for session 99 \n",
      "DOCUMENTS MADE for session 101 \n",
      "DOCUMENTS MADE for session 102 \n",
      "DOCUMENTS MADE for session 105 \n",
      "DOCUMENTS MADE for session 100 \n",
      "DOCUMENTS MADE for session 103 \n",
      "DOCUMENTS MADE for session 104 \n",
      "DOCUMENTS MADE for session 111 \n",
      "DOCUMENTS MADE for session 107 \n",
      "DOCUMENTS MADE for session 109 \n",
      "DOCUMENTS MADE for session 108 \n",
      "DOCUMENTS MADE for session 106 \n",
      "DOCUMENTS MADE for session 110 \n",
      "DOCUMENTS MADE for session 111 \n",
      "SUCCESS, took 16.02 minutes\n"
     ]
    }
   ],
   "source": [
    "#========================#\n",
    "#=*= Making Documents =*=#\n",
    "#========================#\n",
    "\n",
    "# makes and saves document dataframes\n",
    "\n",
    "import time\n",
    "import pandas as pd\n",
    "\n",
    "from multiprocessing import cpu_count, Process, Pool\n",
    "from concurrent.futures import ThreadPoolExecutor\n",
    "from concurrent.futures import ProcessPoolExecutor \n",
    "from functools import partial\n",
    "    \n",
    "from constant import GEN_HB_PATH_2, MIN_SESSION, MAX_SESSION\n",
    "from subject import subject_keywords\n",
    "from document import *\n",
    "\n",
    "\n",
    "# constants\n",
    "N_CORES = cpu_count()\n",
    "SAVE_PATH = \"/home/rocassius/gen-data/doc/doc-prayer\"\n",
    "sessions = list(range(MIN_SESSION, MAX_SESSION+1))\n",
    "sessions = list(range(98, MAX_SESSION+1))\n",
    "\n",
    "WINDOW_TOKENS = 40\n",
    "\n",
    "def main():\n",
    "    \n",
    "    # time it\n",
    "    start = time.time()\n",
    "    \n",
    "    document_maker = partial(\n",
    "        save_session_documents,\n",
    "        subjects=subject_keywords.keys(), \n",
    "        speech_path=GEN_HB_PATH_2, \n",
    "        write_path=SAVE_PATH,  \n",
    "        window_tokens=WINDOW_TOKENS)\n",
    "    \n",
    "    #execute in parallel\n",
    "    with ThreadPoolExecutor(max_workers = N_CORES) as executor:\n",
    "        executor.map(document_maker, sessions)  \n",
    "\n",
    "    document_maker(111)\n",
    "\n",
    "    end = time.time()\n",
    "    elapsed = end - start\n",
    "\n",
    "    # report\n",
    "    print(\"SUCCESS, took\", round(elapsed / 60, 2), \"minutes\")\n",
    "     \n",
    "        \n",
    "if __name__ == \"__main__\":\n",
    "    main()\n"
   ]
  },
  {
   "cell_type": "code",
   "execution_count": null,
   "metadata": {},
   "outputs": [],
   "source": []
  }
 ],
 "metadata": {
  "kernelspec": {
   "display_name": "Python 3",
   "language": "python",
   "name": "python3"
  },
  "language_info": {
   "codemirror_mode": {
    "name": "ipython",
    "version": 3
   },
   "file_extension": ".py",
   "mimetype": "text/x-python",
   "name": "python",
   "nbconvert_exporter": "python",
   "pygments_lexer": "ipython3",
   "version": "3.7.4"
  }
 },
 "nbformat": 4,
 "nbformat_minor": 2
}
