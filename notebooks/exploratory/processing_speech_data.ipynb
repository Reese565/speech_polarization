{
 "cells": [
  {
   "cell_type": "markdown",
   "metadata": {},
   "source": [
    "## Exploring Speech Data\n"
   ]
  },
  {
   "cell_type": "code",
   "execution_count": 1,
   "metadata": {},
   "outputs": [],
   "source": [
    "import numpy as np\n",
    "import pandas as pd\n",
    "import os\n",
    "import re"
   ]
  },
  {
   "cell_type": "code",
   "execution_count": 2,
   "metadata": {},
   "outputs": [],
   "source": [
    "os.chdir(\"../../scripts/assembly\")\n",
    "from session_speaker_assembly import *"
   ]
  },
  {
   "cell_type": "code",
   "execution_count": 3,
   "metadata": {},
   "outputs": [],
   "source": [
    "SPEECHES = \"speeches_%s.txt\""
   ]
  },
  {
   "cell_type": "code",
   "execution_count": 17,
   "metadata": {},
   "outputs": [],
   "source": [
    "# finally, it works.\n",
    "speeches = pd.read_csv(os.path.join(HB_PATH, SPEECHES % '111'), sep = \"|\")"
   ]
  },
  {
   "cell_type": "code",
   "execution_count": 22,
   "metadata": {},
   "outputs": [
    {
     "data": {
      "text/html": [
       "<div>\n",
       "<style scoped>\n",
       "    .dataframe tbody tr th:only-of-type {\n",
       "        vertical-align: middle;\n",
       "    }\n",
       "\n",
       "    .dataframe tbody tr th {\n",
       "        vertical-align: top;\n",
       "    }\n",
       "\n",
       "    .dataframe thead th {\n",
       "        text-align: right;\n",
       "    }\n",
       "</style>\n",
       "<table border=\"1\" class=\"dataframe\">\n",
       "  <thead>\n",
       "    <tr style=\"text-align: right;\">\n",
       "      <th></th>\n",
       "      <th>speech_id</th>\n",
       "      <th>speech</th>\n",
       "    </tr>\n",
       "  </thead>\n",
       "  <tbody>\n",
       "    <tr>\n",
       "      <td>0</td>\n",
       "      <td>1110000001</td>\n",
       "      <td>The Representativeselect and their guests will...</td>\n",
       "    </tr>\n",
       "    <tr>\n",
       "      <td>1</td>\n",
       "      <td>1110000002</td>\n",
       "      <td>As directed by law. the Clerk of the House has...</td>\n",
       "    </tr>\n",
       "    <tr>\n",
       "      <td>2</td>\n",
       "      <td>1110000003</td>\n",
       "      <td>The quor closes that 428 Represer have respond...</td>\n",
       "    </tr>\n",
       "    <tr>\n",
       "      <td>3</td>\n",
       "      <td>1110000004</td>\n",
       "      <td>Credentials. regular in form. have been receiv...</td>\n",
       "    </tr>\n",
       "    <tr>\n",
       "      <td>4</td>\n",
       "      <td>1110000005</td>\n",
       "      <td>The Clerk is in receipt of a letter of resigna...</td>\n",
       "    </tr>\n",
       "    <tr>\n",
       "      <td>...</td>\n",
       "      <td>...</td>\n",
       "      <td>...</td>\n",
       "    </tr>\n",
       "    <tr>\n",
       "      <td>179263</td>\n",
       "      <td>1110179264</td>\n",
       "      <td>Madam Speaker. on rollcall Nos. 662 and 661. I...</td>\n",
       "    </tr>\n",
       "    <tr>\n",
       "      <td>179264</td>\n",
       "      <td>1110179265</td>\n",
       "      <td>Madam Speaker. as I leave Congress as the peop...</td>\n",
       "    </tr>\n",
       "    <tr>\n",
       "      <td>179265</td>\n",
       "      <td>1110179266</td>\n",
       "      <td>Madam Speaker. on rolicall No. 658. I was unav...</td>\n",
       "    </tr>\n",
       "    <tr>\n",
       "      <td>179266</td>\n",
       "      <td>1110179267</td>\n",
       "      <td>Madam Speaker. on rollcall No. 658 my flight w...</td>\n",
       "    </tr>\n",
       "    <tr>\n",
       "      <td>179267</td>\n",
       "      <td>1110179268</td>\n",
       "      <td>Madam Speaker. I wold like to submit the follo...</td>\n",
       "    </tr>\n",
       "  </tbody>\n",
       "</table>\n",
       "<p>179268 rows × 2 columns</p>\n",
       "</div>"
      ],
      "text/plain": [
       "         speech_id                                             speech\n",
       "0       1110000001  The Representativeselect and their guests will...\n",
       "1       1110000002  As directed by law. the Clerk of the House has...\n",
       "2       1110000003  The quor closes that 428 Represer have respond...\n",
       "3       1110000004  Credentials. regular in form. have been receiv...\n",
       "4       1110000005  The Clerk is in receipt of a letter of resigna...\n",
       "...            ...                                                ...\n",
       "179263  1110179264  Madam Speaker. on rollcall Nos. 662 and 661. I...\n",
       "179264  1110179265  Madam Speaker. as I leave Congress as the peop...\n",
       "179265  1110179266  Madam Speaker. on rolicall No. 658. I was unav...\n",
       "179266  1110179267  Madam Speaker. on rollcall No. 658 my flight w...\n",
       "179267  1110179268  Madam Speaker. I wold like to submit the follo...\n",
       "\n",
       "[179268 rows x 2 columns]"
      ]
     },
     "execution_count": 22,
     "metadata": {},
     "output_type": "execute_result"
    }
   ],
   "source": [
    "speeches"
   ]
  },
  {
   "cell_type": "code",
   "execution_count": 23,
   "metadata": {},
   "outputs": [],
   "source": [
    "speech_dict = speeches.to_dict()"
   ]
  },
  {
   "cell_type": "markdown",
   "metadata": {},
   "source": [
    "## Preprocessing\n",
    "\n",
    "### What did Gentzgow et al. do?\n",
    "\n",
    "#### How the speech data came to be:\n",
    "\n",
    "Text of the speech is processed by \n",
    "1. removing non-speech text\n",
    "2. removing apostrophes and replacing commas and semicolons with periods,\n",
    "3. replacing repeated whitespace characters with a single space\n",
    "4. removing punctuation—hyphens, periods, and asterisks—that separate the speaker’s demarcation from the speech(v) \n",
    "5. removing whitespace leading and trailing the speech\n",
    "\n",
    "#### Processing steps for the bigram files:\n",
    "\n",
    "1. the number of characters and space-delimited wordsare computed. \n",
    "2. the speech is coerced to lowercase. \n",
    "3. the speech is broken into separatewords, treating all non-alphanumeric characters as delimiters\n",
    "4. general English-language stopwords are removed\n",
    "5. remaining words are reduced to their stems using the Porter2 (English) stemmingalgorithm \n",
    "6. the stemmed words are converted to bigrams following their order in the speech. \n",
    "7. the bigrams of the speech are converted into counts of bigrams, which undoes the ordering\n",
    "\n",
    "#### Processing the Vocabulary:\n",
    "...\n",
    "\n",
    "\n",
    "### What should we do?\n",
    "\n",
    "Steps processing step for DL:\n",
    "* lowercasing\n",
    "* punctuation removal (already done)\n",
    "* normalization\n",
    "    * dates\n",
    "    * numbers\n",
    "    * Currency/Percent signs\n",
    "    * Expanding of abbreviations \n",
    "    * Spelling mistakes correction\n",
    "* Tokenization\n",
    "\n",
    "Choices:\n",
    "* keep speaker names?\n",
    "    * canonicalize these as MEMBER_NAME\n",
    "    * canonicalize with party affiliation, MEMBER_NAME_REPUB, MEMBBER_NAME_DEM\n",
    "* keep stop words?\n",
    "* do some name entity recognition?\n",
    "\n",
    "\n",
    "Tools:\n",
    "* nltk\n",
    "* keras preprocessing (https://keras.io/preprocessing/text/)\n",
    "* "
   ]
  },
  {
   "cell_type": "markdown",
   "metadata": {},
   "source": [
    "Resources:\n",
    "* text preprocessing for ML: https://towardsdatascience.com/text-preprocessing-steps-and-universal-pipeline-94233cb6725a\n",
    "* text preprocessing for DL: https://towardsdatascience.com/nlp-learning-series-part-1-text-preprocessing-methods-for-deep-learning-20085601684b\n",
    "    "
   ]
  },
  {
   "cell_type": "code",
   "execution_count": 70,
   "metadata": {},
   "outputs": [
    {
     "data": {
      "text/plain": [
       "list"
      ]
     },
     "execution_count": 70,
     "metadata": {},
     "output_type": "execute_result"
    }
   ],
   "source": [
    "type(list(speech_dict[\"speech\"].values()))"
   ]
  },
  {
   "cell_type": "code",
   "execution_count": 71,
   "metadata": {},
   "outputs": [],
   "source": [
    "speech_values = list(speech_dict[\"speech\"].values())"
   ]
  },
  {
   "cell_type": "markdown",
   "metadata": {},
   "source": [
    "Baseline preprocessor:\n",
    "* lowercase\n",
    "* remove punctuation\n",
    "* normalize:\n",
    "    * dates\n",
    "    * numbers\n",
    "    * Currency/Percent signs\n",
    "    * Expanding of abbreviations \n",
    "    * Spelling mistakes correction\n",
    "* tokenize"
   ]
  },
  {
   "cell_type": "code",
   "execution_count": 29,
   "metadata": {},
   "outputs": [],
   "source": [
    "import nltk"
   ]
  },
  {
   "cell_type": "code",
   "execution_count": 38,
   "metadata": {},
   "outputs": [],
   "source": [
    "d = {0: 'The Representativeselect and their guests will please remain standing and join in the Pledge of Allegiance.',\n",
    " 1: 'As directed by law. the Clerk of the House has prepared the official roll of the Representativeselect. Certificates of election covering 435 seats in the 111th Congress have been received by the Clerk of the House. and the names of those persons whose credentials show that they were regularly elected as Representatives in accordance with the laws of their respective States or of the United States will be called. The Representativeselect will record their presence by electronic device and their names will be recorded in alphabetical order by State. beginning with the State of Alabama. to determine whether a quorum is present. Representativeselect will have a minimum of 15 minutes to record their presence by electronic device. Representativeselect who have not obtained their voting ID cards may do so now in the Speakers lobby.',\n",
    " 2: 'The quor closes that 428 Represer have responded to the quorum is present. Roe Tanner Wamp Neugebauer Olson Ortiz Paul Poe Reyes Rodriguez Sessions Smith Thornberry Matheson Scott Wittma Wolf n 55. Pt. 1 January 6. 2009',\n",
    " 3: 'Credentials. regular in form. have been received showing the election of: The Honorable PEDRO R. PIERLUISI as Resident Commissioner from the Commonwealth of Puerto Rico for a term of 4 years beginning January 3. 2009. The Honorable ELEANOR HOLMES NORTON as Delegate from the District of Columbia. The Honorable MADELEINE Z. BORDALLO as Delegate from Guam. The Honorable DONNA M. CHRISTENSEN as Delegate from the Virgin Islands. The Honorable ENI F. H. FALEOMAVAEGA as Delegate from American Samoa. and The Honorable GREGORIO SABLAN. Delegate from the Commonwealth of the Northern Mariana Islands.',}\n",
    "\n",
    "d_vals = list(d.values())"
   ]
  },
  {
   "cell_type": "code",
   "execution_count": 61,
   "metadata": {},
   "outputs": [],
   "source": [
    "ALPHA_NUM = \"[^a-zA-z0-9\\s]\"\n",
    "DIGIT = \"\\d\"\n",
    "NUM = \"\\d+\"\n",
    "\n",
    "def basic_preprocess(text):\n",
    "    text = text.lower()\n",
    "    text = re.sub(ALPHA_NUM, '', text)\n",
    "    \n",
    "    if bool(re.search(DIGIT, text)):\n",
    "        text = re.sub(NUM, \"number\", text)\n",
    "\n",
    "    return text"
   ]
  },
  {
   "cell_type": "code",
   "execution_count": 128,
   "metadata": {},
   "outputs": [
    {
     "name": "stdout",
     "output_type": "stream",
     "text": [
      "9.158  seconds\n"
     ]
    }
   ],
   "source": [
    "import time\n",
    "start = time.time()\n",
    "\n",
    "clean_speeches = list(map(lambda s: basic_preprocess(s), speech_values))\n",
    "\n",
    "end = time.time()\n",
    "elapsed = end - start\n",
    "print(round(elapsed, 3), \" seconds\")"
   ]
  },
  {
   "cell_type": "code",
   "execution_count": 129,
   "metadata": {},
   "outputs": [
    {
     "data": {
      "text/plain": [
       "['the representativeselect and their guests will please remain standing and join in the pledge of allegiance',\n",
       " 'as directed by law the clerk of the house has prepared the official roll of the representativeselect certificates of election covering number seats in the numberth congress have been received by the clerk of the house and the names of those persons whose credentials show that they were regularly elected as representatives in accordance with the laws of their respective states or of the united states will be called the representativeselect will record their presence by electronic device and their names will be recorded in alphabetical order by state beginning with the state of alabama to determine whether a quorum is present representativeselect will have a minimum of number minutes to record their presence by electronic device representativeselect who have not obtained their voting id cards may do so now in the speakers lobby',\n",
       " 'the quor closes that number represer have responded to the quorum is present roe tanner wamp neugebauer olson ortiz paul poe reyes rodriguez sessions smith thornberry matheson scott wittma wolf n number pt number january number number',\n",
       " 'credentials regular in form have been received showing the election of the honorable pedro r pierluisi as resident commissioner from the commonwealth of puerto rico for a term of number years beginning january number number the honorable eleanor holmes norton as delegate from the district of columbia the honorable madeleine z bordallo as delegate from guam the honorable donna m christensen as delegate from the virgin islands the honorable eni f h faleomavaega as delegate from american samoa and the honorable gregorio sablan delegate from the commonwealth of the northern mariana islands',\n",
       " 'the clerk is in receipt of a letter of resignation from the honorable rahm emanuel from the state of illinois without objection the letters relating to his resignation will be printed in the record',\n",
       " 'pursuant to law and precedent the next order of business is the election of the speaker of the house of representatives for the numberth congress nominations are now in order the clerk recognizes the gentleman from connecticut ',\n",
       " 'our democracy renews itself every number years as members gather with their family members eager to fulfill the aspirations of our great nation while america watches with anticipation they know that hope and help are on their way the democratic caucus has met and unanimously endorsed nancy dalesandro pelosi for speaker two years ago the speaker took the gavel historically on behalf of americas children she has taken this congress and the country in a new direction and provided the foundation for change that america yearns for and needs how fitting on the birthday of sam rayburn legendary speaker of the house from texas that i as chairman of the democratic caucus have been directed by the unanimous vote of the caucus to present for election to the office of the speaker of the house of representatives for the numberth congress the name of the honorable nancy dalesandro pelosi a representativeelect from the great state of california',\n",
       " 'the clerk now recognizes the gentleman from indiana ',\n",
       " 'madam clerk as chairman of the republican conference i am also directed by unanimous consent of that conference to present for election an individual today but let me say also from my heart it is one of the great privileges of my life to do so to present for election to the office of speaker of the house for the numberth congress the name of a man from the heartland of america a man of humble beginnings who came to washington during a time of reform and led and is prepared starting this day to lead this congress back to the aspirations and ideals of the american people the name of the honorable john a boehner a representativeelect from the state of ohio',\n",
       " 'the names of the honorable nancy pelosi a representativeelect from the state of california and the honorable john a boehner a representativeelect from the state of ohio have been placed in nomination are there further nominations there being no further nominations the clerk appoints the following tellers the gentleman from pennsylvania']"
      ]
     },
     "execution_count": 129,
     "metadata": {},
     "output_type": "execute_result"
    }
   ],
   "source": [
    "# Clean Speeches after basic preprocessing\n",
    "clean_speeches[:10]"
   ]
  },
  {
   "cell_type": "code",
   "execution_count": 78,
   "metadata": {},
   "outputs": [
    {
     "data": {
      "text/plain": [
       "179268"
      ]
     },
     "execution_count": 78,
     "metadata": {},
     "output_type": "execute_result"
    }
   ],
   "source": [
    "len(clean_speeches)"
   ]
  },
  {
   "cell_type": "markdown",
   "metadata": {},
   "source": [
    "Further preprocessing for LDA\n",
    "\n",
    "* stopword removal\n",
    "* order 2 stemming"
   ]
  },
  {
   "cell_type": "code",
   "execution_count": 121,
   "metadata": {},
   "outputs": [
    {
     "name": "stderr",
     "output_type": "stream",
     "text": [
      "Using TensorFlow backend.\n"
     ]
    }
   ],
   "source": [
    "from gensim.parsing.preprocessing import STOPWORDS\n",
    "from nltk.stem import WordNetLemmatizer, SnowballStemmer\n",
    "from keras.preprocessing.text import Tokenizer"
   ]
  },
  {
   "cell_type": "code",
   "execution_count": 122,
   "metadata": {},
   "outputs": [],
   "source": [
    "# create stemmer\n",
    "stemmer = SnowballStemmer(\"english\")\n",
    "# create tokenizer\n",
    "tokenizer = Tokenizer()"
   ]
  },
  {
   "cell_type": "code",
   "execution_count": 117,
   "metadata": {},
   "outputs": [
    {
     "name": "stderr",
     "output_type": "stream",
     "text": [
      "[nltk_data] Downloading package stopwords to\n",
      "[nltk_data]     /home/rocassius/nltk_data...\n",
      "[nltk_data]   Package stopwords is already up-to-date!\n"
     ]
    }
   ],
   "source": [
    "# nltk.download('stopwords')\n",
    "stop_words = stopwords.words('english')"
   ]
  },
  {
   "cell_type": "code",
   "execution_count": 135,
   "metadata": {},
   "outputs": [],
   "source": [
    "def lda_preprocess(text):\n",
    "    \"\"\"basic preprocessing, and then stemming, tokenizing and stopword removal\"\"\"\n",
    "    \n",
    "    text = basic_preprocess(text)\n",
    "    text = stemmer.stem(text)\n",
    "    text = text.split()\n",
    "    text = list(filter(lambda w: w not in stop_words, text))\n",
    "    \n",
    "    return text\n"
   ]
  },
  {
   "cell_type": "code",
   "execution_count": 136,
   "metadata": {},
   "outputs": [
    {
     "name": "stdout",
     "output_type": "stream",
     "text": [
      "117.679  seconds\n"
     ]
    }
   ],
   "source": [
    "import time\n",
    "start = time.time()\n",
    "\n",
    "lda_speeches = list(map(lambda s: lda_preprocess(s), speech_values))\n",
    "\n",
    "end = time.time()\n",
    "elapsed = end - start\n",
    "print(round(elapsed, 3), \" seconds\")"
   ]
  },
  {
   "cell_type": "code",
   "execution_count": 137,
   "metadata": {},
   "outputs": [
    {
     "data": {
      "text/plain": [
       "[['representativeselect',\n",
       "  'guests',\n",
       "  'please',\n",
       "  'remain',\n",
       "  'standing',\n",
       "  'join',\n",
       "  'pledge',\n",
       "  'allegi'],\n",
       " ['directed',\n",
       "  'law',\n",
       "  'clerk',\n",
       "  'house',\n",
       "  'prepared',\n",
       "  'official',\n",
       "  'roll',\n",
       "  'representativeselect',\n",
       "  'certificates',\n",
       "  'election',\n",
       "  'covering',\n",
       "  'number',\n",
       "  'seats',\n",
       "  'numberth',\n",
       "  'congress',\n",
       "  'received',\n",
       "  'clerk',\n",
       "  'house',\n",
       "  'names',\n",
       "  'persons',\n",
       "  'whose',\n",
       "  'credentials',\n",
       "  'show',\n",
       "  'regularly',\n",
       "  'elected',\n",
       "  'representatives',\n",
       "  'accordance',\n",
       "  'laws',\n",
       "  'respective',\n",
       "  'states',\n",
       "  'united',\n",
       "  'states',\n",
       "  'called',\n",
       "  'representativeselect',\n",
       "  'record',\n",
       "  'presence',\n",
       "  'electronic',\n",
       "  'device',\n",
       "  'names',\n",
       "  'recorded',\n",
       "  'alphabetical',\n",
       "  'order',\n",
       "  'state',\n",
       "  'beginning',\n",
       "  'state',\n",
       "  'alabama',\n",
       "  'determine',\n",
       "  'whether',\n",
       "  'quorum',\n",
       "  'present',\n",
       "  'representativeselect',\n",
       "  'minimum',\n",
       "  'number',\n",
       "  'minutes',\n",
       "  'record',\n",
       "  'presence',\n",
       "  'electronic',\n",
       "  'device',\n",
       "  'representativeselect',\n",
       "  'obtained',\n",
       "  'voting',\n",
       "  'id',\n",
       "  'cards',\n",
       "  'may',\n",
       "  'speakers',\n",
       "  'lobbi'],\n",
       " ['quor',\n",
       "  'closes',\n",
       "  'number',\n",
       "  'represer',\n",
       "  'responded',\n",
       "  'quorum',\n",
       "  'present',\n",
       "  'roe',\n",
       "  'tanner',\n",
       "  'wamp',\n",
       "  'neugebauer',\n",
       "  'olson',\n",
       "  'ortiz',\n",
       "  'paul',\n",
       "  'poe',\n",
       "  'reyes',\n",
       "  'rodriguez',\n",
       "  'sessions',\n",
       "  'smith',\n",
       "  'thornberry',\n",
       "  'matheson',\n",
       "  'scott',\n",
       "  'wittma',\n",
       "  'wolf',\n",
       "  'n',\n",
       "  'number',\n",
       "  'pt',\n",
       "  'number',\n",
       "  'january',\n",
       "  'number',\n",
       "  'numb'],\n",
       " ['credentials',\n",
       "  'regular',\n",
       "  'form',\n",
       "  'received',\n",
       "  'showing',\n",
       "  'election',\n",
       "  'honorable',\n",
       "  'pedro',\n",
       "  'r',\n",
       "  'pierluisi',\n",
       "  'resident',\n",
       "  'commissioner',\n",
       "  'commonwealth',\n",
       "  'puerto',\n",
       "  'rico',\n",
       "  'term',\n",
       "  'number',\n",
       "  'years',\n",
       "  'beginning',\n",
       "  'january',\n",
       "  'number',\n",
       "  'number',\n",
       "  'honorable',\n",
       "  'eleanor',\n",
       "  'holmes',\n",
       "  'norton',\n",
       "  'delegate',\n",
       "  'district',\n",
       "  'columbia',\n",
       "  'honorable',\n",
       "  'madeleine',\n",
       "  'z',\n",
       "  'bordallo',\n",
       "  'delegate',\n",
       "  'guam',\n",
       "  'honorable',\n",
       "  'donna',\n",
       "  'christensen',\n",
       "  'delegate',\n",
       "  'virgin',\n",
       "  'islands',\n",
       "  'honorable',\n",
       "  'eni',\n",
       "  'f',\n",
       "  'h',\n",
       "  'faleomavaega',\n",
       "  'delegate',\n",
       "  'american',\n",
       "  'samoa',\n",
       "  'honorable',\n",
       "  'gregorio',\n",
       "  'sablan',\n",
       "  'delegate',\n",
       "  'commonwealth',\n",
       "  'northern',\n",
       "  'mariana',\n",
       "  'island'],\n",
       " ['clerk',\n",
       "  'receipt',\n",
       "  'letter',\n",
       "  'resignation',\n",
       "  'honorable',\n",
       "  'rahm',\n",
       "  'emanuel',\n",
       "  'state',\n",
       "  'illinois',\n",
       "  'without',\n",
       "  'objection',\n",
       "  'letters',\n",
       "  'relating',\n",
       "  'resignation',\n",
       "  'printed',\n",
       "  'record'],\n",
       " ['pursuant',\n",
       "  'law',\n",
       "  'precedent',\n",
       "  'next',\n",
       "  'order',\n",
       "  'business',\n",
       "  'election',\n",
       "  'speaker',\n",
       "  'house',\n",
       "  'representatives',\n",
       "  'numberth',\n",
       "  'congress',\n",
       "  'nominations',\n",
       "  'order',\n",
       "  'clerk',\n",
       "  'recognizes',\n",
       "  'gentleman',\n",
       "  'connecticut'],\n",
       " ['democracy',\n",
       "  'renews',\n",
       "  'every',\n",
       "  'number',\n",
       "  'years',\n",
       "  'members',\n",
       "  'gather',\n",
       "  'family',\n",
       "  'members',\n",
       "  'eager',\n",
       "  'fulfill',\n",
       "  'aspirations',\n",
       "  'great',\n",
       "  'nation',\n",
       "  'america',\n",
       "  'watches',\n",
       "  'anticipation',\n",
       "  'know',\n",
       "  'hope',\n",
       "  'help',\n",
       "  'way',\n",
       "  'democratic',\n",
       "  'caucus',\n",
       "  'met',\n",
       "  'unanimously',\n",
       "  'endorsed',\n",
       "  'nancy',\n",
       "  'dalesandro',\n",
       "  'pelosi',\n",
       "  'speaker',\n",
       "  'two',\n",
       "  'years',\n",
       "  'ago',\n",
       "  'speaker',\n",
       "  'took',\n",
       "  'gavel',\n",
       "  'historically',\n",
       "  'behalf',\n",
       "  'americas',\n",
       "  'children',\n",
       "  'taken',\n",
       "  'congress',\n",
       "  'country',\n",
       "  'new',\n",
       "  'direction',\n",
       "  'provided',\n",
       "  'foundation',\n",
       "  'change',\n",
       "  'america',\n",
       "  'yearns',\n",
       "  'needs',\n",
       "  'fitting',\n",
       "  'birthday',\n",
       "  'sam',\n",
       "  'rayburn',\n",
       "  'legendary',\n",
       "  'speaker',\n",
       "  'house',\n",
       "  'texas',\n",
       "  'chairman',\n",
       "  'democratic',\n",
       "  'caucus',\n",
       "  'directed',\n",
       "  'unanimous',\n",
       "  'vote',\n",
       "  'caucus',\n",
       "  'present',\n",
       "  'election',\n",
       "  'office',\n",
       "  'speaker',\n",
       "  'house',\n",
       "  'representatives',\n",
       "  'numberth',\n",
       "  'congress',\n",
       "  'name',\n",
       "  'honorable',\n",
       "  'nancy',\n",
       "  'dalesandro',\n",
       "  'pelosi',\n",
       "  'representativeelect',\n",
       "  'great',\n",
       "  'state',\n",
       "  'california'],\n",
       " ['clerk', 'recognizes', 'gentleman', 'indiana'],\n",
       " ['madam',\n",
       "  'clerk',\n",
       "  'chairman',\n",
       "  'republican',\n",
       "  'conference',\n",
       "  'also',\n",
       "  'directed',\n",
       "  'unanimous',\n",
       "  'consent',\n",
       "  'conference',\n",
       "  'present',\n",
       "  'election',\n",
       "  'individual',\n",
       "  'today',\n",
       "  'let',\n",
       "  'say',\n",
       "  'also',\n",
       "  'heart',\n",
       "  'one',\n",
       "  'great',\n",
       "  'privileges',\n",
       "  'life',\n",
       "  'present',\n",
       "  'election',\n",
       "  'office',\n",
       "  'speaker',\n",
       "  'house',\n",
       "  'numberth',\n",
       "  'congress',\n",
       "  'name',\n",
       "  'man',\n",
       "  'heartland',\n",
       "  'america',\n",
       "  'man',\n",
       "  'humble',\n",
       "  'beginnings',\n",
       "  'came',\n",
       "  'washington',\n",
       "  'time',\n",
       "  'reform',\n",
       "  'led',\n",
       "  'prepared',\n",
       "  'starting',\n",
       "  'day',\n",
       "  'lead',\n",
       "  'congress',\n",
       "  'back',\n",
       "  'aspirations',\n",
       "  'ideals',\n",
       "  'american',\n",
       "  'people',\n",
       "  'name',\n",
       "  'honorable',\n",
       "  'john',\n",
       "  'boehner',\n",
       "  'representativeelect',\n",
       "  'state',\n",
       "  'ohio'],\n",
       " ['names',\n",
       "  'honorable',\n",
       "  'nancy',\n",
       "  'pelosi',\n",
       "  'representativeelect',\n",
       "  'state',\n",
       "  'california',\n",
       "  'honorable',\n",
       "  'john',\n",
       "  'boehner',\n",
       "  'representativeelect',\n",
       "  'state',\n",
       "  'ohio',\n",
       "  'placed',\n",
       "  'nomination',\n",
       "  'nominations',\n",
       "  'nominations',\n",
       "  'clerk',\n",
       "  'appoints',\n",
       "  'following',\n",
       "  'tellers',\n",
       "  'gentleman',\n",
       "  'pennsylvania']]"
      ]
     },
     "execution_count": 137,
     "metadata": {},
     "output_type": "execute_result"
    }
   ],
   "source": [
    "lda_speeches[:10]"
   ]
  },
  {
   "cell_type": "code",
   "execution_count": 138,
   "metadata": {},
   "outputs": [],
   "source": [
    "import gensim"
   ]
  },
  {
   "cell_type": "code",
   "execution_count": 139,
   "metadata": {},
   "outputs": [],
   "source": [
    "dictionary = gensim.corpora.Dictionary(lda_speeches)"
   ]
  },
  {
   "cell_type": "code",
   "execution_count": 140,
   "metadata": {},
   "outputs": [],
   "source": [
    "dictionary.filter_extremes(no_below=15, no_above=0.5, keep_n=100000)"
   ]
  },
  {
   "cell_type": "code",
   "execution_count": 142,
   "metadata": {},
   "outputs": [
    {
     "data": {
      "text/plain": [
       "[(27, 1),\n",
       " (136, 2),\n",
       " (405, 1),\n",
       " (461, 1),\n",
       " (752, 1),\n",
       " (1229, 1),\n",
       " (1274, 1),\n",
       " (3665, 1)]"
      ]
     },
     "execution_count": 142,
     "metadata": {},
     "output_type": "execute_result"
    }
   ],
   "source": [
    "bow_corpus = [dictionary.doc2bow(doc) for doc in lda_speeches]\n",
    "bow_corpus[4310]"
   ]
  },
  {
   "cell_type": "code",
   "execution_count": 143,
   "metadata": {},
   "outputs": [],
   "source": [
    "from gensim import corpora, models\n",
    "tfidf = models.TfidfModel(bow_corpus)\n",
    "corpus_tfidf = tfidf[bow_corpus]"
   ]
  },
  {
   "cell_type": "code",
   "execution_count": 144,
   "metadata": {},
   "outputs": [],
   "source": [
    "lda_model = gensim.models.LdaMulticore(bow_corpus, num_topics=20, id2word=dictionary, passes=2, workers=7)"
   ]
  },
  {
   "cell_type": "code",
   "execution_count": 145,
   "metadata": {},
   "outputs": [
    {
     "name": "stdout",
     "output_type": "stream",
     "text": [
      "Topic: 0 \n",
      "Words: 0.010*\"service\" + 0.008*\"speaker\" + 0.006*\"mr\" + 0.006*\"women\" + 0.006*\"time\" + 0.006*\"today\" + 0.005*\"honor\" + 0.005*\"us\" + 0.005*\"war\" + 0.005*\"country\"\n",
      "Topic: 1 \n",
      "Words: 0.012*\"community\" + 0.010*\"years\" + 0.008*\"speaker\" + 0.008*\"madam\" + 0.006*\"today\" + 0.006*\"county\" + 0.006*\"family\" + 0.005*\"service\" + 0.005*\"many\" + 0.005*\"life\"\n",
      "Topic: 2 \n",
      "Words: 0.041*\"health\" + 0.034*\"care\" + 0.012*\"insurance\" + 0.012*\"medicare\" + 0.010*\"would\" + 0.009*\"senator\" + 0.008*\"reform\" + 0.008*\"bill\" + 0.007*\"people\" + 0.006*\"costs\"\n",
      "Topic: 3 \n",
      "Words: 0.022*\"veterans\" + 0.010*\"care\" + 0.009*\"bill\" + 0.008*\"motion\" + 0.008*\"senate\" + 0.008*\"health\" + 0.007*\"upon\" + 0.007*\"time\" + 0.006*\"president\" + 0.006*\"table\"\n",
      "Topic: 4 \n",
      "Words: 0.015*\"court\" + 0.013*\"judge\" + 0.010*\"law\" + 0.008*\"would\" + 0.007*\"supreme\" + 0.007*\"federal\" + 0.006*\"case\" + 0.006*\"justice\" + 0.005*\"bill\" + 0.005*\"act\"\n",
      "Topic: 5 \n",
      "Words: 0.015*\"jobs\" + 0.015*\"small\" + 0.011*\"business\" + 0.010*\"businesses\" + 0.009*\"would\" + 0.009*\"people\" + 0.009*\"bill\" + 0.006*\"going\" + 0.006*\"economy\" + 0.006*\"back\"\n",
      "Topic: 6 \n",
      "Words: 0.112*\"objection\" + 0.086*\"without\" + 0.064*\"ord\" + 0.024*\"ordered\" + 0.022*\"vote\" + 0.018*\"clerk\" + 0.013*\"senator\" + 0.012*\"report\" + 0.011*\"vot\" + 0.009*\"agreed\"\n",
      "Topic: 7 \n",
      "Words: 0.019*\"tim\" + 0.019*\"water\" + 0.018*\"balance\" + 0.016*\"mr\" + 0.014*\"speaker\" + 0.012*\"yield\" + 0.011*\"back\" + 0.007*\"reserve\" + 0.005*\"bill\" + 0.005*\"time\"\n",
      "Topic: 8 \n",
      "Words: 0.010*\"people\" + 0.009*\"us\" + 0.008*\"united\" + 0.007*\"states\" + 0.006*\"support\" + 0.005*\"speaker\" + 0.005*\"world\" + 0.005*\"government\" + 0.004*\"would\" + 0.004*\"mr\"\n",
      "Topic: 9 \n",
      "Words: 0.014*\"tax\" + 0.010*\"bill\" + 0.010*\"would\" + 0.009*\"spending\" + 0.009*\"budget\" + 0.008*\"billion\" + 0.007*\"going\" + 0.007*\"debt\" + 0.007*\"percent\" + 0.007*\"year\"\n",
      "Topic: 10 \n",
      "Words: 0.011*\"school\" + 0.007*\"university\" + 0.007*\"students\" + 0.006*\"speaker\" + 0.006*\"state\" + 0.006*\"mr\" + 0.006*\"years\" + 0.005*\"national\" + 0.005*\"high\" + 0.005*\"education\"\n",
      "Topic: 11 \n",
      "Words: 0.010*\"energy\" + 0.007*\"jobs\" + 0.007*\"bill\" + 0.007*\"would\" + 0.006*\"credit\" + 0.006*\"us\" + 0.005*\"new\" + 0.005*\"oil\" + 0.005*\"financial\" + 0.005*\"american\"\n",
      "Topic: 12 \n",
      "Words: 0.059*\"gentleman\" + 0.038*\"yield\" + 0.023*\"minutes\" + 0.019*\"speaker\" + 0.018*\"mr\" + 0.013*\"chair\" + 0.013*\"requesting\" + 0.012*\"time\" + 0.012*\"request\" + 0.011*\"new\"\n",
      "Topic: 13 \n",
      "Words: 0.023*\"mr\" + 0.017*\"ask\" + 0.015*\"consent\" + 0.015*\"time\" + 0.014*\"unanimous\" + 0.013*\"president\" + 0.012*\"house\" + 0.012*\"senate\" + 0.011*\"bill\" + 0.011*\"senator\"\n",
      "Topic: 14 \n",
      "Words: 0.014*\"children\" + 0.007*\"support\" + 0.006*\"food\" + 0.005*\"act\" + 0.005*\"would\" + 0.005*\"education\" + 0.005*\"child\" + 0.005*\"people\" + 0.005*\"bill\" + 0.005*\"many\"\n",
      "Topic: 15 \n",
      "Words: 0.014*\"bill\" + 0.008*\"support\" + 0.008*\"act\" + 0.007*\"national\" + 0.007*\"program\" + 0.007*\"legislation\" + 0.006*\"federal\" + 0.006*\"also\" + 0.005*\"funding\" + 0.005*\"security\"\n",
      "Topic: 16 \n",
      "Words: 0.039*\"senator\" + 0.009*\"would\" + 0.009*\"nuclear\" + 0.009*\"state\" + 0.008*\"going\" + 0.007*\"people\" + 0.006*\"one\" + 0.006*\"us\" + 0.006*\"president\" + 0.005*\"country\"\n",
      "Topic: 17 \n",
      "Words: 0.019*\"president\" + 0.013*\"mr\" + 0.010*\"senate\" + 0.009*\"ask\" + 0.009*\"treaty\" + 0.007*\"us\" + 0.007*\"consent\" + 0.006*\"unanimous\" + 0.006*\"would\" + 0.005*\"united\"\n",
      "Topic: 18 \n",
      "Words: 0.017*\"people\" + 0.014*\"going\" + 0.011*\"bill\" + 0.009*\"dont\" + 0.008*\"know\" + 0.008*\"one\" + 0.008*\"think\" + 0.008*\"get\" + 0.008*\"health\" + 0.008*\"want\"\n",
      "Topic: 19 \n",
      "Words: 0.030*\"amendment\" + 0.016*\"rules\" + 0.014*\"mr\" + 0.013*\"house\" + 0.013*\"bill\" + 0.012*\"motion\" + 0.012*\"vote\" + 0.012*\"question\" + 0.011*\"would\" + 0.011*\"speaker\"\n"
     ]
    }
   ],
   "source": [
    "for idx, topic in lda_model.print_topics(-1):\n",
    "    print('Topic: {} \\nWords: {}'.format(idx, topic))"
   ]
  },
  {
   "cell_type": "code",
   "execution_count": null,
   "metadata": {},
   "outputs": [],
   "source": []
  }
 ],
 "metadata": {
  "kernelspec": {
   "display_name": "Python 3",
   "language": "python",
   "name": "python3"
  },
  "language_info": {
   "codemirror_mode": {
    "name": "ipython",
    "version": 3
   },
   "file_extension": ".py",
   "mimetype": "text/x-python",
   "name": "python",
   "nbconvert_exporter": "python",
   "pygments_lexer": "ipython3",
   "version": "3.7.4"
  }
 },
 "nbformat": 4,
 "nbformat_minor": 2
}
