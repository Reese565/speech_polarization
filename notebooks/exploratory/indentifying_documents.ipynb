{
 "cells": [
  {
   "cell_type": "markdown",
   "metadata": {},
   "source": [
    "### Identifying document spans for use in the topic models."
   ]
  },
  {
   "cell_type": "code",
   "execution_count": 1,
   "metadata": {},
   "outputs": [],
   "source": [
    "import numpy as np\n",
    "import pandas as pd\n",
    "from scipy import stats\n",
    "import os"
   ]
  },
  {
   "cell_type": "code",
   "execution_count": 2,
   "metadata": {},
   "outputs": [],
   "source": [
    "os.chdir(\"../../scripts/assembly\")\n",
    "from session_speaker_assembly import *\n",
    "from preprocess import *\n",
    "from document import *\n",
    "from constant import SPEECHES, SPEAKER_MAP"
   ]
  },
  {
   "cell_type": "code",
   "execution_count": 3,
   "metadata": {},
   "outputs": [],
   "source": [
    "df = subject_docs(session = 111, subject = \"health\", min_length=100)"
   ]
  },
  {
   "cell_type": "code",
   "execution_count": 4,
   "metadata": {},
   "outputs": [
    {
     "data": {
      "text/html": [
       "<div>\n",
       "<style scoped>\n",
       "    .dataframe tbody tr th:only-of-type {\n",
       "        vertical-align: middle;\n",
       "    }\n",
       "\n",
       "    .dataframe tbody tr th {\n",
       "        vertical-align: top;\n",
       "    }\n",
       "\n",
       "    .dataframe thead th {\n",
       "        text-align: right;\n",
       "    }\n",
       "</style>\n",
       "<table border=\"1\" class=\"dataframe\">\n",
       "  <thead>\n",
       "    <tr style=\"text-align: right;\">\n",
       "      <th></th>\n",
       "      <th>speech_id</th>\n",
       "      <th>speech</th>\n",
       "      <th>speakerid</th>\n",
       "    </tr>\n",
       "  </thead>\n",
       "  <tbody>\n",
       "    <tr>\n",
       "      <td>12</td>\n",
       "      <td>1110000013</td>\n",
       "      <td>[today, begin, new, congress, great, time, cha...</td>\n",
       "      <td>111118060.0</td>\n",
       "    </tr>\n",
       "    <tr>\n",
       "      <td>15</td>\n",
       "      <td>1110000016</td>\n",
       "      <td>[retirement, savings, homes, facing, foreclosu...</td>\n",
       "      <td>111120160.0</td>\n",
       "    </tr>\n",
       "    <tr>\n",
       "      <td>44</td>\n",
       "      <td>1110000045</td>\n",
       "      <td>[statement, yielding, time, present, opening, ...</td>\n",
       "      <td>111121410.0</td>\n",
       "    </tr>\n",
       "    <tr>\n",
       "      <td>69</td>\n",
       "      <td>1110000070</td>\n",
       "      <td>[back, floor, forthwith, vote, send, senate, s...</td>\n",
       "      <td>111121410.0</td>\n",
       "    </tr>\n",
       "    <tr>\n",
       "      <td>199</td>\n",
       "      <td>1110000200</td>\n",
       "      <td>[troops, fighting, two, wars, overseas, togeth...</td>\n",
       "      <td>111120961.0</td>\n",
       "    </tr>\n",
       "    <tr>\n",
       "      <td>...</td>\n",
       "      <td>...</td>\n",
       "      <td>...</td>\n",
       "      <td>...</td>\n",
       "    </tr>\n",
       "    <tr>\n",
       "      <td>179127</td>\n",
       "      <td>1110179128</td>\n",
       "      <td>[shined, aftermath, doubt, one, difficult, day...</td>\n",
       "      <td>111117690.0</td>\n",
       "    </tr>\n",
       "    <tr>\n",
       "      <td>179130</td>\n",
       "      <td>1110179131</td>\n",
       "      <td>[madam, speaker, rise, strong, support, james,...</td>\n",
       "      <td>111120130.0</td>\n",
       "    </tr>\n",
       "    <tr>\n",
       "      <td>179131</td>\n",
       "      <td>1110179132</td>\n",
       "      <td>[thing, support, heroes, number, agreement, to...</td>\n",
       "      <td>111120740.0</td>\n",
       "    </tr>\n",
       "    <tr>\n",
       "      <td>179160</td>\n",
       "      <td>1110179161</td>\n",
       "      <td>[government, discrimination, retaliation, fede...</td>\n",
       "      <td>111120190.0</td>\n",
       "    </tr>\n",
       "    <tr>\n",
       "      <td>179185</td>\n",
       "      <td>1110179186</td>\n",
       "      <td>[urban, areas, cover, number, percent, land, m...</td>\n",
       "      <td>111119950.0</td>\n",
       "    </tr>\n",
       "  </tbody>\n",
       "</table>\n",
       "<p>11384 rows × 3 columns</p>\n",
       "</div>"
      ],
      "text/plain": [
       "         speech_id                                             speech  \\\n",
       "12      1110000013  [today, begin, new, congress, great, time, cha...   \n",
       "15      1110000016  [retirement, savings, homes, facing, foreclosu...   \n",
       "44      1110000045  [statement, yielding, time, present, opening, ...   \n",
       "69      1110000070  [back, floor, forthwith, vote, send, senate, s...   \n",
       "199     1110000200  [troops, fighting, two, wars, overseas, togeth...   \n",
       "...            ...                                                ...   \n",
       "179127  1110179128  [shined, aftermath, doubt, one, difficult, day...   \n",
       "179130  1110179131  [madam, speaker, rise, strong, support, james,...   \n",
       "179131  1110179132  [thing, support, heroes, number, agreement, to...   \n",
       "179160  1110179161  [government, discrimination, retaliation, fede...   \n",
       "179185  1110179186  [urban, areas, cover, number, percent, land, m...   \n",
       "\n",
       "          speakerid  \n",
       "12      111118060.0  \n",
       "15      111120160.0  \n",
       "44      111121410.0  \n",
       "69      111121410.0  \n",
       "199     111120961.0  \n",
       "...             ...  \n",
       "179127  111117690.0  \n",
       "179130  111120130.0  \n",
       "179131  111120740.0  \n",
       "179160  111120190.0  \n",
       "179185  111119950.0  \n",
       "\n",
       "[11384 rows x 3 columns]"
      ]
     },
     "execution_count": 4,
     "metadata": {},
     "output_type": "execute_result"
    }
   ],
   "source": [
    "df"
   ]
  },
  {
   "cell_type": "code",
   "execution_count": 6,
   "metadata": {},
   "outputs": [],
   "source": [
    "speaker_speeches = df.groupby(\"speakerid\")"
   ]
  },
  {
   "cell_type": "code",
   "execution_count": null,
   "metadata": {},
   "outputs": [],
   "source": []
  }
 ],
 "metadata": {
  "kernelspec": {
   "display_name": "Python 3",
   "language": "python",
   "name": "python3"
  },
  "language_info": {
   "codemirror_mode": {
    "name": "ipython",
    "version": 3
   },
   "file_extension": ".py",
   "mimetype": "text/x-python",
   "name": "python",
   "nbconvert_exporter": "python",
   "pygments_lexer": "ipython3",
   "version": "3.7.4"
  }
 },
 "nbformat": 4,
 "nbformat_minor": 2
}
