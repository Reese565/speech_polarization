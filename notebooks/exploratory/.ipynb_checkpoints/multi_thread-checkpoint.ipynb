{
 "cells": [
  {
   "cell_type": "code",
   "execution_count": 1,
   "metadata": {},
   "outputs": [],
   "source": [
    "import numpy as np\n",
    "import pandas as pd\n",
    "\n",
    "import gensim\n",
    "import os\n",
    "\n",
    "\n",
    "os.chdir(\"../../scripts/assembly\")\n",
    "\n",
    "from session_speaker_assembly import *"
   ]
  },
  {
   "cell_type": "code",
   "execution_count": 2,
   "metadata": {},
   "outputs": [],
   "source": [
    "import time"
   ]
  },
  {
   "cell_type": "code",
   "execution_count": 3,
   "metadata": {},
   "outputs": [],
   "source": [
    "speaker_map_df, session_phrase_df = session_phrases(110)"
   ]
  },
  {
   "cell_type": "code",
   "execution_count": 4,
   "metadata": {},
   "outputs": [],
   "source": [
    "valid_phrase_df = select_phrase_classes(session_phrase_df, classes = ['vocab'])"
   ]
  },
  {
   "cell_type": "code",
   "execution_count": 5,
   "metadata": {},
   "outputs": [
    {
     "data": {
      "text/html": [
       "<div>\n",
       "<style scoped>\n",
       "    .dataframe tbody tr th:only-of-type {\n",
       "        vertical-align: middle;\n",
       "    }\n",
       "\n",
       "    .dataframe tbody tr th {\n",
       "        vertical-align: top;\n",
       "    }\n",
       "\n",
       "    .dataframe thead th {\n",
       "        text-align: right;\n",
       "    }\n",
       "</style>\n",
       "<table border=\"1\" class=\"dataframe\">\n",
       "  <thead>\n",
       "    <tr style=\"text-align: right;\">\n",
       "      <th></th>\n",
       "      <th>speakerid</th>\n",
       "      <th>phrase</th>\n",
       "      <th>count</th>\n",
       "      <th>_classify</th>\n",
       "    </tr>\n",
       "  </thead>\n",
       "  <tbody>\n",
       "    <tr>\n",
       "      <td>54910</td>\n",
       "      <td>110113461</td>\n",
       "      <td>abandon iraq</td>\n",
       "      <td>3</td>\n",
       "      <td>vocab</td>\n",
       "    </tr>\n",
       "    <tr>\n",
       "      <td>54911</td>\n",
       "      <td>110113681</td>\n",
       "      <td>abandon iraq</td>\n",
       "      <td>1</td>\n",
       "      <td>vocab</td>\n",
       "    </tr>\n",
       "    <tr>\n",
       "      <td>54912</td>\n",
       "      <td>110113981</td>\n",
       "      <td>abandon iraq</td>\n",
       "      <td>1</td>\n",
       "      <td>vocab</td>\n",
       "    </tr>\n",
       "    <tr>\n",
       "      <td>54913</td>\n",
       "      <td>110114121</td>\n",
       "      <td>abandon iraq</td>\n",
       "      <td>1</td>\n",
       "      <td>vocab</td>\n",
       "    </tr>\n",
       "    <tr>\n",
       "      <td>54914</td>\n",
       "      <td>110114171</td>\n",
       "      <td>abandon iraq</td>\n",
       "      <td>1</td>\n",
       "      <td>vocab</td>\n",
       "    </tr>\n",
       "    <tr>\n",
       "      <td>...</td>\n",
       "      <td>...</td>\n",
       "      <td>...</td>\n",
       "      <td>...</td>\n",
       "      <td>...</td>\n",
       "    </tr>\n",
       "    <tr>\n",
       "      <td>10244183</td>\n",
       "      <td>110121930</td>\n",
       "      <td>wellb high</td>\n",
       "      <td>1</td>\n",
       "      <td>vocab</td>\n",
       "    </tr>\n",
       "    <tr>\n",
       "      <td>10244185</td>\n",
       "      <td>110121930</td>\n",
       "      <td>whether complaint</td>\n",
       "      <td>1</td>\n",
       "      <td>vocab</td>\n",
       "    </tr>\n",
       "    <tr>\n",
       "      <td>10244187</td>\n",
       "      <td>110121930</td>\n",
       "      <td>word twist</td>\n",
       "      <td>1</td>\n",
       "      <td>vocab</td>\n",
       "    </tr>\n",
       "    <tr>\n",
       "      <td>10244190</td>\n",
       "      <td>110121930</td>\n",
       "      <td>world quantum</td>\n",
       "      <td>1</td>\n",
       "      <td>vocab</td>\n",
       "    </tr>\n",
       "    <tr>\n",
       "      <td>10244191</td>\n",
       "      <td>110121930</td>\n",
       "      <td>world rid</td>\n",
       "      <td>1</td>\n",
       "      <td>vocab</td>\n",
       "    </tr>\n",
       "  </tbody>\n",
       "</table>\n",
       "<p>6793193 rows × 4 columns</p>\n",
       "</div>"
      ],
      "text/plain": [
       "          speakerid             phrase  count _classify\n",
       "54910     110113461       abandon iraq      3     vocab\n",
       "54911     110113681       abandon iraq      1     vocab\n",
       "54912     110113981       abandon iraq      1     vocab\n",
       "54913     110114121       abandon iraq      1     vocab\n",
       "54914     110114171       abandon iraq      1     vocab\n",
       "...             ...                ...    ...       ...\n",
       "10244183  110121930         wellb high      1     vocab\n",
       "10244185  110121930  whether complaint      1     vocab\n",
       "10244187  110121930         word twist      1     vocab\n",
       "10244190  110121930      world quantum      1     vocab\n",
       "10244191  110121930          world rid      1     vocab\n",
       "\n",
       "[6793193 rows x 4 columns]"
      ]
     },
     "execution_count": 5,
     "metadata": {},
     "output_type": "execute_result"
    }
   ],
   "source": [
    "valid_phrase_df"
   ]
  },
  {
   "cell_type": "code",
   "execution_count": 6,
   "metadata": {},
   "outputs": [
    {
     "name": "stdout",
     "output_type": "stream",
     "text": [
      "1.487  minutes\n"
     ]
    }
   ],
   "source": [
    "import time\n",
    "\n",
    "start = time.time()\n",
    "documents = speaker_docs(valid_phrase_df) #\n",
    "end = time.time()\n",
    "elapsed = end - start\n",
    "    \n",
    "print(round(elapsed / 60 , 3), \" minutes\")"
   ]
  },
  {
   "cell_type": "code",
   "execution_count": 7,
   "metadata": {},
   "outputs": [
    {
     "data": {
      "text/html": [
       "<div>\n",
       "<style scoped>\n",
       "    .dataframe tbody tr th:only-of-type {\n",
       "        vertical-align: middle;\n",
       "    }\n",
       "\n",
       "    .dataframe tbody tr th {\n",
       "        vertical-align: top;\n",
       "    }\n",
       "\n",
       "    .dataframe thead th {\n",
       "        text-align: right;\n",
       "    }\n",
       "</style>\n",
       "<table border=\"1\" class=\"dataframe\">\n",
       "  <thead>\n",
       "    <tr style=\"text-align: right;\">\n",
       "      <th></th>\n",
       "      <th>speakerid</th>\n",
       "      <th>phrase</th>\n",
       "    </tr>\n",
       "  </thead>\n",
       "  <tbody>\n",
       "    <tr>\n",
       "      <td>0</td>\n",
       "      <td>110113461</td>\n",
       "      <td>[abandon iraq, abandon iraq, abandon iraq, aba...</td>\n",
       "    </tr>\n",
       "    <tr>\n",
       "      <td>1</td>\n",
       "      <td>110113891</td>\n",
       "      <td>[abl fill, abl get, abl provid, abl put, abl s...</td>\n",
       "    </tr>\n",
       "    <tr>\n",
       "      <td>2</td>\n",
       "      <td>110114101</td>\n",
       "      <td>[abil critic, abil get, abil get, abil get, ab...</td>\n",
       "    </tr>\n",
       "    <tr>\n",
       "      <td>3</td>\n",
       "      <td>110114590</td>\n",
       "      <td>[abl afford, abl get, abl get, abl get, abl ke...</td>\n",
       "    </tr>\n",
       "    <tr>\n",
       "      <td>4</td>\n",
       "      <td>110114670</td>\n",
       "      <td>[access act, across nation, across nation, add...</td>\n",
       "    </tr>\n",
       "  </tbody>\n",
       "</table>\n",
       "</div>"
      ],
      "text/plain": [
       "   speakerid                                             phrase\n",
       "0  110113461  [abandon iraq, abandon iraq, abandon iraq, aba...\n",
       "1  110113891  [abl fill, abl get, abl provid, abl put, abl s...\n",
       "2  110114101  [abil critic, abil get, abil get, abil get, ab...\n",
       "3  110114590  [abl afford, abl get, abl get, abl get, abl ke...\n",
       "4  110114670  [access act, across nation, across nation, add..."
      ]
     },
     "execution_count": 7,
     "metadata": {},
     "output_type": "execute_result"
    }
   ],
   "source": [
    "docs = pd.DataFrame(documents)\n",
    "docs.head()"
   ]
  }
 ],
 "metadata": {
  "kernelspec": {
   "display_name": "Python 3",
   "language": "python",
   "name": "python3"
  },
  "language_info": {
   "codemirror_mode": {
    "name": "ipython",
    "version": 3
   },
   "file_extension": ".py",
   "mimetype": "text/x-python",
   "name": "python",
   "nbconvert_exporter": "python",
   "pygments_lexer": "ipython3",
   "version": "3.7.4"
  }
 },
 "nbformat": 4,
 "nbformat_minor": 2
}
