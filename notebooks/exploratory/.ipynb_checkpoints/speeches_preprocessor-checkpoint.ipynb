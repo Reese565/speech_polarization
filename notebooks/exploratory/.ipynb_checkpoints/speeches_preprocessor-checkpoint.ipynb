{
 "cells": [
  {
   "cell_type": "code",
   "execution_count": 1,
   "metadata": {},
   "outputs": [],
   "source": [
    "import re\n",
    "import os\n",
    "import numpy as np\n",
    "import pandas as pd"
   ]
  },
  {
   "cell_type": "code",
   "execution_count": 2,
   "metadata": {},
   "outputs": [],
   "source": [
    "DATA_PATH = \"gs://rwc1/data/\"\n",
    "# DATA_PATH = \"../../data/\"\n",
    "HB_PATH = os.path.join(DATA_PATH, \"hein-bound/\")\n",
    "\n",
    "BY_SPEAKER = \"byspeaker_2gram_%s.txt\"\n",
    "SPEAKER_MAP = \"%s_SpeakerMap.txt\"\n",
    "SPEECHES = \"speeches_%s.txt\""
   ]
  },
  {
   "cell_type": "code",
<<<<<<< HEAD
   "execution_count": 3,
   "metadata": {},
   "outputs": [
    {
     "data": {
      "text/plain": [
       "0      WASHINGTON, George\n",
       "1    HUNTINGTON, Benjamin\n",
       "2          SHERMAN, Roger\n",
       "3       STURGES, Jonathan\n",
       "Name: bioname, dtype: object"
      ]
     },
     "execution_count": 3,
     "metadata": {},
     "output_type": "execute_result"
    }
   ],
=======
   "execution_count": null,
   "metadata": {},
   "outputs": [],
>>>>>>> rowan
   "source": [
    "# import speeches\n",
    "speeches = pd.read_csv(os.path.join(HB_PATH, SPEECHES % '111'), sep = \"|\")\n",
    "\n",
    "# import vocab master list\n",
    "phrases_classes = pd.read_csv(os.path.join(DATA_PATH, \"vocabulary/master_list.txt\"), sep = \"|\")\n",
    "\n",
    "# improt voteview data for congressional memeber names\n",
    "voteview = pd.read_csv(os.path.join(DATA_PATH, \"voteview/congress_ideology.csv\"))\n",
    "voteview['bioname'].head(n=4)"
   ]
  },
  {
   "cell_type": "code",
<<<<<<< HEAD
   "execution_count": 4,
   "metadata": {},
   "outputs": [
    {
     "data": {
      "text/plain": [
       "vocab                   4525243\n",
       "stopword                1331580\n",
       "bad_syntax               918939\n",
       "co-occurring              26962\n",
       "roberts                   10990\n",
       "riddicks                   7585\n",
       "roberts_and_riddicks        819\n",
       "Name: _classify, dtype: int64"
      ]
     },
     "execution_count": 4,
     "metadata": {},
     "output_type": "execute_result"
    }
   ],
=======
   "execution_count": null,
   "metadata": {},
   "outputs": [],
>>>>>>> rowan
   "source": [
    "phrases_classes[\"_classify\"].value_counts()"
   ]
  },
  {
   "cell_type": "code",
<<<<<<< HEAD
   "execution_count": 5,
   "metadata": {},
   "outputs": [
    {
     "data": {
      "text/plain": [
       "2296875"
      ]
     },
     "execution_count": 5,
     "metadata": {},
     "output_type": "execute_result"
    }
   ],
=======
   "execution_count": null,
   "metadata": {},
   "outputs": [],
>>>>>>> rowan
   "source": [
    "# stop phrases to search for\n",
    "phrases_classes[\"_classify\"].value_counts().sum() - phrases_classes[\"_classify\"].value_counts()[0]"
   ]
  },
  {
   "cell_type": "code",
   "execution_count": 6,
   "metadata": {},
   "outputs": [],
   "source": [
    "# manual stop words from Gentzkow et al.\n",
    "manual_stopwords = ['absent','committee','gentlelady','hereabout','hereinafter','hereto','herewith' 'nay',\n",
    "'pro','sir','thereabout','therebeforn','therein','theretofore','therewithal','whereat','whereinto','whereupon',\n",
    " 'yea','adjourn','con','gentleman','hereafter','hereinbefore','heretofore','month','none','republican','speak',\n",
    " 'thereafter','thereby','thereinafter','thereunder','today','whereby','whereof','wherever','yes','ask','democrat',\n",
    " 'gentlemen','hereat','hereinto','hereunder','mr','now','say','speaker','thereagainst','therefor','thereof',\n",
    " 'thereunto','whereabouts','wherefore','whereon','wherewith','yield','can','etc','gentlewoman','hereby','hereof',\n",
    " 'hereunto','mrs','part','senator','tell','thereat','therefore','thereon','thereupon','whereafter','wherefrom',\n",
    " 'whereto','wherewithal','chairman','gentleladies','gentlewomen','herein','hereon','hereupon','nai','per','shall',\n",
    " 'thank','therebefore','therefrom','thereto','therewith','whereas','wherein','whereunder','will']\n",
    "\n",
    "# list of US states\n",
    "us_states_stopwords = [\"Alabama\",\"Alaska\",\"Arizona\",\"Arkansas\",\"California\",\"Colorado\",\n",
    "  \"Connecticut\",\"Delaware\",\"Florida\",\"Georgia\",\"Hawaii\",\"Idaho\",\"Illinois\",\n",
    "  \"Indiana\",\"Iowa\",\"Kansas\",\"Kentucky\",\"Louisiana\",\"Maine\",\"Maryland\",\n",
    "  \"Massachusetts\",\"Michigan\",\"Minnesota\",\"Mississippi\",\"Missouri\",\"Montana\",\n",
    "  \"Nebraska\",\"Nevada\",\"New Hampshire\",\"New Jersey\",\"New Mexico\",\"New York\",\n",
    "  \"North Carolina\",\"North Dakota\",\"Ohio\",\"Oklahoma\",\"Oregon\",\"Pennsylvania\",\n",
    "  \"Rhode Island\",\"South Carolina\",\"South Dakota\",\"Tennessee\",\"Texas\",\"Utah\",\n",
    "  \"Vermont\",\"Virginia\",\"Washington\",\"West Virginia\",\"Wisconsin\",\"Wyoming\"]\n",
    "\n",
    "us_states_stopwords = [state.lower() for state in us_states_stopwords]\n",
    "\n",
    "unigram_stops = [y for x in [manual_stopwords, us_states_stopwords] for y in x]"
   ]
  },
  {
   "cell_type": "markdown",
   "metadata": {},
   "source": [
    "### Strategy 1: Embedded List of Stop Phrases\n",
    "\n",
    "The initial strategy is to create an embedded list of stop phrases to search through. This involves splitting the big-gram phrases into a list of paired lists.\n",
    "\n",
    "`[['bg_par11','bg_par12'], ['bg_par21','bg_par22'],..., ['bg_parN1','bg_parN2']]`\n",
    "\n",
    "We would then take each speech and call the `split` method on it to create a list of unigrams of the speech.\n",
    "\n",
    "`speech = 'this is some speech text'`\n",
    "\n",
    "`speech.split() -> ['this','is','some','speech','text']`\n",
    "\n",
    "`speech_list = speech.split()`\n",
    "\n",
    "\n",
    "Using a for loop tracking the index `i` for each word in our speech, we check to see if the pair of unigrams \n",
    "\n",
    "`[speech_list[i], speech_list[i+1]]` is in our stop bigrams `[['bg_par11','bg_par12'], ['bg_par21','bg_par22'],..., ['bg_parN1','bg_parN2']]`\n",
    "\n",
    "See implementation below."
   ]
  },
  {
   "cell_type": "code",
   "execution_count": 7,
   "metadata": {},
   "outputs": [
    {
     "data": {
      "text/plain": [
       "[['0', 'hatfield'], ['0', 'mr'], ['00', 'm'], ['00', 'p'], ['000', 'amend']]"
      ]
     },
     "execution_count": 7,
     "metadata": {},
     "output_type": "execute_result"
    }
   ],
   "source": [
    "# phrases_classes[phrases_classes['phrase'] == 'adam speak'] = 'madam speaker'\n",
    "\n",
    "# select stop phrases classes from Gentzkow et al.\n",
    "stop_classes = ['stopword','co-occurring','roberts','riddicks','roberts_and_riddicks']\n",
    "\n",
    "# filter based on stop_classes\n",
    "stop_phrases = phrases_classes[phrases_classes['_classify'].isin(stop_classes)]['phrase']\n",
    "\n",
    "# phrases into list\n",
    "stop_phrases_list = stop_phrases.tolist()\n",
    "\n",
    "# split phrases into embedded paired lists\n",
    "stop_phrases_emlist = stop_phrases.str.split().tolist()\n",
    "stop_phrases_emlist[:5]"
   ]
  },
  {
   "cell_type": "markdown",
   "metadata": {},
   "source": [
    "We can test to see how log it takes to search through our list of stop phrases."
   ]
  },
  {
   "cell_type": "code",
   "execution_count": 8,
   "metadata": {},
   "outputs": [
    {
     "name": "stdout",
     "output_type": "stream",
     "text": [
      "Seconds elapsed for index 0 match: 5.626678466796875e-05\n",
      "Seconds elapsed for index n-1 match: 0.024344444274902344\n",
      "Ratio of longest to shortest: 432.66101694915255\n",
      "Mean time to search for non-match phrase in single speech: 4.761933570342559\n",
      "Estimated time to process session 111 speeches (minutes): 14227.705121469498\n"
     ]
    }
   ],
   "source": [
    "import time\n",
    "\n",
    "# example of matching first phrase\n",
    "start = time.time()\n",
    "stop_phrases_emlist[0] in stop_phrases_emlist\n",
    "end = time.time()\n",
    "\n",
    "elapsed_first = end - start\n",
    "print(\"Seconds elapsed for index 0 match:\", elapsed_first)\n",
    "\n",
    "# example of searching for last phrase\n",
    "start = time.time()\n",
    "stop_phrases_emlist[-1:] in stop_phrases_emlist\n",
    "end = time.time()\n",
    "\n",
    "elapsed_last = end - start\n",
    "print(\"Seconds elapsed for index n-1 match:\", elapsed_last)\n",
    "print(\"Ratio of longest to shortest:\",elapsed_last/elapsed_first)\n",
    "\n",
    "# session 111 mean speech length\n",
    "mean_speech_len = speeches['speech'].str.split().apply(len).mean()\n",
    "median_speech_len = speeches['speech'].str.split().apply(len).quantile(.5)\n",
    "print(\"Mean time to search for non-match phrase in single speech:\", mean_speech_len*elapsed_last)\n",
    "print(\"Estimated time to process session 111 speeches (minutes):\",\n",
    "      (speeches.shape[0]*mean_speech_len*elapsed_last)/60)"
   ]
  },
  {
   "cell_type": "code",
   "execution_count": 44,
   "metadata": {},
   "outputs": [],
   "source": [
    "speech_lengths = speeches['speech'].str.split().apply(len)"
   ]
  },
  {
   "cell_type": "code",
   "execution_count": 45,
   "metadata": {},
   "outputs": [
    {
     "data": {
      "image/png": "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\n",
      "text/plain": [
       "<Figure size 432x288 with 1 Axes>"
      ]
     },
     "metadata": {
      "needs_background": "light"
     },
     "output_type": "display_data"
    }
   ],
   "source": [
    "import matplotlib.pyplot as plt\n",
    "%matplotlib inline\n",
    "\n",
    "plt.hist(speech_lengths, bins = 100);"
   ]
  },
  {
   "cell_type": "code",
   "execution_count": 62,
   "metadata": {},
   "outputs": [
    {
     "data": {
      "text/plain": [
       "346.0"
      ]
     },
     "execution_count": 62,
     "metadata": {},
     "output_type": "execute_result"
    }
   ],
   "source": [
    "q = .83\n",
    "speech_lengths.quantile(q)"
   ]
  },
  {
   "cell_type": "code",
   "execution_count": 63,
   "metadata": {},
   "outputs": [
    {
     "data": {
      "text/plain": [
       "30475.56000000001"
      ]
     },
     "execution_count": 63,
     "metadata": {},
     "output_type": "execute_result"
    }
   ],
   "source": [
    "speeches.shape[0]*(1-q)"
   ]
  },
  {
   "cell_type": "code",
   "execution_count": 64,
   "metadata": {},
   "outputs": [
    {
     "data": {
      "text/plain": [
       "13918"
      ]
     },
     "execution_count": 64,
     "metadata": {},
     "output_type": "execute_result"
    }
   ],
   "source": [
    "# retrieving longest speech in session 111\n",
    "j = speeches['speech'].str.split().apply(len).idxmax()\n",
    "test_speech = speeches['speech'][j].lower()\n",
    "test_speech_list = test_speech.split()\n",
    "len(test_speech_list)"
   ]
  },
  {
   "cell_type": "code",
   "execution_count": 11,
   "metadata": {},
   "outputs": [],
   "source": [
    "def remove_stop_unigrams(speech_list, unigram_list):\n",
    "    for i in range(len(speech_list)-1):\n",
    "        if speech_list[i] in unigram_stops:\n",
    "            speech_list[i] = ''\n",
    "    return speech_list\n",
    "\n",
    "\n",
    "def remove_stop_phrases(speech_list):\n",
    "\n",
    "        for i in range(len(speech_list)-1):\n",
    "            if ' '.join([speech_list[i],speech_list[i+1]]) in stop_phrases_list:\n",
    "                speech_list[i],speech_list[i+1] = '', ''  \n",
    "\n",
    "        return speech_list"
   ]
  },
  {
   "cell_type": "code",
   "execution_count": 12,
   "metadata": {},
   "outputs": [
    {
     "data": {
      "text/plain": [
       "0.0009770393371582031"
      ]
     },
     "execution_count": 12,
     "metadata": {},
     "output_type": "execute_result"
    }
   ],
   "source": [
    "start = time.time()\n",
    "processed_speech1 = remove_stop_unigrams(test_speech_list, unigram_stops)\n",
    "end = time.time()\n",
    "elapsed = end - start\n",
    "elapsed"
   ]
  },
  {
   "cell_type": "code",
   "execution_count": 13,
   "metadata": {},
   "outputs": [
    {
     "data": {
      "text/plain": [
       "8.143164873123169"
      ]
     },
     "execution_count": 13,
     "metadata": {},
     "output_type": "execute_result"
    }
   ],
   "source": [
    "start = time.time()\n",
    "processed_speech2 = remove_stop_phrases(test_speech_list)\n",
    "end = time.time()\n",
    "elapsed = end - start\n",
    "elapsed"
   ]
  },
  {
   "cell_type": "code",
   "execution_count": 15,
   "metadata": {},
   "outputs": [],
   "source": [
    "from multiprocessing import Pool, cpu_count\n",
    "from itertools import product, chain\n",
    "from gensim.corpora import Dictionary\n",
    "\n",
    "# constants\n",
    "N_CORES = cpu_count()"
   ]
  },
  {
   "cell_type": "code",
   "execution_count": 35,
   "metadata": {},
   "outputs": [],
   "source": [
    "def parallel_remove(speech):\n",
    "    \n",
    "    test_speech_list = speech.split()\n",
    "    \n",
    "    l = (len(test_speech_list))//N_CORES + 1\n",
    "    split_text_list = [test_speech_list[0 + l*i:l*(i + 1)] for i in range(N_CORES)]\n",
    "    \n",
    "    assert(sum([len(split_text_list[i]) for i in range(N_CORES)]) == len(test_speech_list))\n",
    "\n",
    "    pool = Pool(N_CORES)\n",
    "    speeches_list = list(chain.from_iterable(pool.map(remove_stop_phrases, split_text_list)))\n",
    "    pool.close()\n",
    "    pool.join()\n",
    "    \n",
    "    return speeches_list"
   ]
  },
  {
   "cell_type": "code",
   "execution_count": 36,
   "metadata": {},
   "outputs": [
    {
     "data": {
      "text/plain": [
       "151.24423789978027"
      ]
     },
     "execution_count": 36,
     "metadata": {},
     "output_type": "execute_result"
    }
   ],
   "source": [
    "start = time.time()\n",
    "\n",
    "speeches_list = parallel_remove(speeches['speech'][j])\n",
    "\n",
    "end = time.time()\n",
    "elapsed = end - start\n",
    "elapsed"
   ]
  },
  {
   "cell_type": "code",
   "execution_count": 37,
   "metadata": {},
   "outputs": [
    {
     "data": {
      "text/plain": [
       "2.520737298329671"
      ]
     },
     "execution_count": 37,
     "metadata": {},
     "output_type": "execute_result"
    }
   ],
   "source": [
    "elapsed/60"
   ]
  },
  {
   "cell_type": "code",
   "execution_count": 39,
   "metadata": {},
   "outputs": [],
   "source": [
    "# start = time.time()\n",
    "# speeches['speech'].apply(lambda speech: parallel_remove(speech))\n",
    "# end = time.time()\n",
    "# elapsed = end - start\n",
    "# elapsed"
   ]
  },
  {
   "cell_type": "code",
   "execution_count": null,
   "metadata": {},
   "outputs": [],
   "source": [
    "# elapsed/60"
   ]
  },
  {
   "cell_type": "markdown",
   "metadata": {},
   "source": [
    "### Strategy 2: Knuth-Morris-Pratt Adaptation\n",
    "\n",
    "Sliding window across raw text that skips indicies in contrast to naive search through all indicies."
   ]
  },
  {
   "cell_type": "code",
   "execution_count": null,
   "metadata": {},
   "outputs": [],
   "source": [
    "# phrases are now single sintring instead of paired list\n",
    "stop_phrases_list = stop_phrases.tolist()\n",
    "stop_phrases_list[:5]"
   ]
  },
  {
   "cell_type": "code",
   "execution_count": null,
   "metadata": {},
   "outputs": [],
   "source": [
    "start = time.time()\n",
    "hits = []\n",
    "for k in range(len(stop_phrases_list)):\n",
    "    if stop_phrases_list[i] in test_speech:\n",
    "        hits.append(k)\n",
    "end = time.time()\n",
    "elapsed2 = end - start\n",
    "print(\"seconds elapsed:\",elapsed2)\n",
    "hits"
   ]
  },
  {
   "cell_type": "code",
   "execution_count": null,
   "metadata": {},
   "outputs": [],
   "source": [
    "def kpm_prefix(pattern):\n",
    "    \"\"\"KPM search prefix array for indices skipping\"\"\"\n",
    "    m = len(pattern)\n",
    "    pt = [0]*m\n",
    "    i = 0\n",
    "    for j in range(m-1):\n",
    "        while i > 0 and pattern[i] != pattern[j+1]:                \n",
    "            i = pt[i-1]\n",
    "        if pattern[i] == pattern[j+1]:\n",
    "            i += 1\n",
    "        pt[j+1] = i        \n",
    "    return pt"
   ]
  },
  {
   "cell_type": "code",
   "execution_count": null,
   "metadata": {},
   "outputs": [],
   "source": [
    "kpm_prefix('aaba')"
   ]
  },
  {
   "cell_type": "code",
   "execution_count": null,
   "metadata": {},
   "outputs": [],
   "source": [
    "def kpm_matcher(text,pattern):\n",
    "    \"\"\"KPM matter matcher\"\"\"\n",
    "    match_indeces = []\n",
    "    n = len(text)\n",
    "    m = len(pattern)\n",
    "    pt = kpm_prefix(pattern)\n",
    "    i = 0\n",
    "    for j in range(n-1):\n",
    "        while i > 0 and pattern[i] != text[j+1]:\n",
    "            i = pt[i-1]\n",
    "        if pattern[i] == text[j+1]:\n",
    "            i += 1\n",
    "        if i == m:\n",
    "            match_indeces.append(j+2-m)\n",
    "            i = pt[i-1]\n",
    "    return match_indeces"
   ]
  },
  {
   "cell_type": "code",
   "execution_count": null,
   "metadata": {},
   "outputs": [],
   "source": [
    "kpm_matcher('aabaacaadaabaaba','aaba')"
   ]
  },
  {
   "cell_type": "code",
   "execution_count": null,
   "metadata": {},
   "outputs": [],
   "source": [
    "kpm_matcher('acat acgaacacagt acgaacacagt','aacacagt')"
   ]
  },
  {
   "cell_type": "code",
   "execution_count": null,
   "metadata": {},
   "outputs": [],
   "source": [
    "f = 20\n",
    "'acat acgaacacagt acgaacacagt'[f:f+len('aacacagt')]"
   ]
  },
  {
   "cell_type": "code",
   "execution_count": null,
   "metadata": {},
   "outputs": [],
   "source": [
    "stop_phrases_list[:5]"
   ]
  },
  {
   "cell_type": "code",
   "execution_count": null,
   "metadata": {},
   "outputs": [],
   "source": [
    "def recursive_search(text_list, phrases):\n",
    "    l = len(text_list)\n",
    "    if l == 2:\n",
    "        if [text_list[0],text_list[1]] in phrases:\n",
    "            return 'present'\n",
    "        else:\n",
    "            return 'not'\n",
    "    else:\n",
    "        return [recursive_search(text_list[:l//2+1], phrases), recursive_search(text_list[l//2:], phrases)]"
   ]
  },
  {
   "cell_type": "code",
   "execution_count": null,
   "metadata": {},
   "outputs": [],
   "source": [
    "# recursive_search(test_speech_list, stop_phrases_emlist)"
   ]
  },
  {
   "cell_type": "code",
   "execution_count": null,
   "metadata": {},
   "outputs": [],
   "source": [
    "# start = time.time()\n",
    "# recursive_search(test_speech_list, stop_phrases_emlist)\n",
    "# end = time.time()\n",
    "# elapsed = end - start\n",
    "# elapsed"
   ]
  },
  {
   "cell_type": "code",
   "execution_count": null,
   "metadata": {},
   "outputs": [],
   "source": [
    "# start = time.time()\n",
    "# matched_indecies = []\n",
    "# for phrase in stop_phrases_list:\n",
    "#     test_speech = re.sub(phrase, '', test_speech)\n",
    "# end = time.time()\n",
    "# elapsed = end - start\n",
    "# elapsed"
   ]
  },
  {
   "cell_type": "code",
   "execution_count": null,
   "metadata": {},
   "outputs": [],
   "source": [
    "# phrases_classes[phrases_classes['phrase'] == 'h con']"
   ]
  },
  {
   "cell_type": "code",
   "execution_count": null,
   "metadata": {},
   "outputs": [],
   "source": [
    "# start = time.time()\n",
    "# matched_indecies = []\n",
    "# for phrase in stop_phrases_list:\n",
    "#     mtch_indecies = kpm_matcher(test_speech,phrase)\n",
    "#     matched_indecies.append(mtch_indecies)\n",
    "# end = time.time()\n",
    "# elapsed = end - start\n",
    "# elapsed"
   ]
  },
  {
   "cell_type": "code",
   "execution_count": null,
   "metadata": {},
   "outputs": [],
   "source": []
  }
 ],
 "metadata": {
  "kernelspec": {
   "display_name": "Python 3",
   "language": "python",
   "name": "python3"
  },
  "language_info": {
   "codemirror_mode": {
    "name": "ipython",
    "version": 3
   },
   "file_extension": ".py",
   "mimetype": "text/x-python",
   "name": "python",
   "nbconvert_exporter": "python",
   "pygments_lexer": "ipython3",
   "version": "3.7.4"
  }
 },
 "nbformat": 4,
 "nbformat_minor": 2
}
