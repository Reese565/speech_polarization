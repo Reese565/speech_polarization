{
 "cells": [
  {
   "cell_type": "code",
   "execution_count": 1,
   "metadata": {},
   "outputs": [],
   "source": [
    "import numpy as np\n",
    "import pandas as pd\n",
    "import dask.dataframe as dd\n",
    "from distributed import Client\n",
    "\n",
    "import gensim\n",
    "import os\n",
    "\n",
    "os.chdir(\"../../scripts/assembly\")\n",
    "from session_speaker_assembly_dd import *"
   ]
  },
  {
   "cell_type": "code",
   "execution_count": 2,
   "metadata": {},
   "outputs": [],
   "source": [
    "# 111th session Example\n",
    "s = 111\n",
    "speaker_map, session_phrases = session_phrases_dd(session=111)"
   ]
  },
  {
   "cell_type": "code",
   "execution_count": 3,
   "metadata": {},
   "outputs": [],
   "source": [
    "valid_phrases = select_phrase_classes_dd(session_phrase_dd=session_phrases, classes=['vocab'])"
   ]
  },
  {
   "cell_type": "code",
   "execution_count": 4,
   "metadata": {},
   "outputs": [
    {
     "name": "stderr",
     "output_type": "stream",
     "text": [
      "/home/rocassius/anaconda3/lib/python3.7/site-packages/dask/dataframe/core.py:3981: UserWarning: \n",
      "You did not provide metadata, so Dask is running your function on a small dataset to guess output types. It is possible that Dask will guess incorrectly.\n",
      "To provide an explicit output types or to silence this message, please provide the `meta=` keyword, as described in the map or apply function that you are using.\n",
      "  Before: .apply(func)\n",
      "  After:  .apply(func, meta=(None, 'object'))\n",
      "\n",
      "  warnings.warn(meta_warning(meta))\n"
     ]
    }
   ],
   "source": [
    "speaker_docs = speaker_docs_dd(valid_phrases)"
   ]
  },
  {
   "cell_type": "code",
   "execution_count": 5,
   "metadata": {},
   "outputs": [
    {
     "data": {
      "text/plain": [
       "Dask Series Structure:\n",
       "npartitions=10\n",
       "    object\n",
       "       ...\n",
       "     ...  \n",
       "       ...\n",
       "       ...\n",
       "Name: phrase, dtype: object\n",
       "Dask Name: repartition, 128 tasks"
      ]
     },
     "execution_count": 5,
     "metadata": {},
     "output_type": "execute_result"
    }
   ],
   "source": [
    "speaker_docs.repartition(npartitions=10)"
   ]
  },
  {
   "cell_type": "code",
   "execution_count": 6,
   "metadata": {},
   "outputs": [
    {
     "data": {
      "application/vnd.jupyter.widget-view+json": {
       "model_id": "d7c96867718c499a8fdff81624c65fee",
       "version_major": 2,
       "version_minor": 0
      },
      "text/plain": [
       "VBox(children=(HTML(value='<h2>LocalCluster</h2>'), HBox(children=(HTML(value='\\n<div>\\n  <style scoped>\\n    …"
      ]
     },
     "metadata": {},
     "output_type": "display_data"
    }
   ],
   "source": [
    "from distributed import Client, LocalCluster\n",
    "cluster = LocalCluster(n_workers=4, \n",
    "                       processes=False, \n",
    "                       scheduler_port=0, \n",
    "                       threads_per_worker=4)\n",
    "c = Client(cluster)\n",
    "cluster"
   ]
  },
  {
   "cell_type": "code",
   "execution_count": 7,
   "metadata": {},
   "outputs": [],
   "source": [
    "# valid_phrases.visualize()"
   ]
  },
  {
   "cell_type": "code",
   "execution_count": 8,
   "metadata": {},
   "outputs": [],
   "source": [
    "# speaker_docs.visualize()"
   ]
  },
  {
   "cell_type": "code",
   "execution_count": 9,
   "metadata": {},
   "outputs": [
    {
     "name": "stderr",
     "output_type": "stream",
     "text": [
      "distributed.comm.inproc - WARNING - Closing dangling queue in <InProc  local=inproc://10.168.0.2/7971/28 remote=inproc://10.168.0.2/7971/1>\n",
      "distributed.comm.inproc - WARNING - Closing dangling queue in <InProc  local=inproc://10.168.0.2/7971/31 remote=inproc://10.168.0.2/7971/1>\n",
      "distributed.comm.inproc - WARNING - Closing dangling queue in <InProc  local=inproc://10.168.0.2/7971/32 remote=inproc://10.168.0.2/7971/1>\n",
      "distributed.comm.inproc - WARNING - Closing dangling queue in <InProc  local=inproc://10.168.0.2/7971/33 remote=inproc://10.168.0.2/7971/1>\n",
      "distributed.comm.inproc - WARNING - Closing dangling queue in <InProc  local=inproc://10.168.0.2/7971/34 remote=inproc://10.168.0.2/7971/1>\n",
      "distributed.comm.inproc - WARNING - Closing dangling queue in <InProc  local=inproc://10.168.0.2/7971/35 remote=inproc://10.168.0.2/7971/1>\n",
      "distributed.comm.inproc - WARNING - Closing dangling queue in <InProc  local=inproc://10.168.0.2/7971/36 remote=inproc://10.168.0.2/7971/1>\n",
      "distributed.comm.inproc - WARNING - Closing dangling queue in <InProc  local=inproc://10.168.0.2/7971/37 remote=inproc://10.168.0.2/7971/1>\n",
      "distributed.comm.inproc - WARNING - Closing dangling queue in <InProc  local=inproc://10.168.0.2/7971/38 remote=inproc://10.168.0.2/7971/1>\n",
      "distributed.comm.inproc - WARNING - Closing dangling queue in <InProc  local=inproc://10.168.0.2/7971/39 remote=inproc://10.168.0.2/7971/1>\n",
      "distributed.comm.inproc - WARNING - Closing dangling queue in <InProc  local=inproc://10.168.0.2/7971/40 remote=inproc://10.168.0.2/7971/1>\n",
      "distributed.comm.inproc - WARNING - Closing dangling queue in <InProc  local=inproc://10.168.0.2/7971/41 remote=inproc://10.168.0.2/7971/1>\n",
      "distributed.comm.inproc - WARNING - Closing dangling queue in <InProc  local=inproc://10.168.0.2/7971/42 remote=inproc://10.168.0.2/7971/1>\n",
      "distributed.worker - WARNING - Memory use is high but worker has no data to store to disk.  Perhaps some other process is leaking memory?  Process memory: 5.71 GB -- Worker memory limit: 7.90 GB\n",
      "distributed.worker - WARNING - Memory use is high but worker has no data to store to disk.  Perhaps some other process is leaking memory?  Process memory: 5.72 GB -- Worker memory limit: 7.90 GB\n",
      "distributed.comm.inproc - WARNING - Closing dangling queue in <InProc  local=inproc://10.168.0.2/7971/43 remote=inproc://10.168.0.2/7971/1>\n",
      "distributed.worker - WARNING - Memory use is high but worker has no data to store to disk.  Perhaps some other process is leaking memory?  Process memory: 5.74 GB -- Worker memory limit: 7.90 GB\n",
      "distributed.worker - WARNING - Memory use is high but worker has no data to store to disk.  Perhaps some other process is leaking memory?  Process memory: 5.74 GB -- Worker memory limit: 7.90 GB\n",
      "distributed.worker - WARNING - Memory use is high but worker has no data to store to disk.  Perhaps some other process is leaking memory?  Process memory: 5.76 GB -- Worker memory limit: 7.90 GB\n",
      "distributed.worker - WARNING - Memory use is high but worker has no data to store to disk.  Perhaps some other process is leaking memory?  Process memory: 5.76 GB -- Worker memory limit: 7.90 GB\n",
      "distributed.worker - WARNING - Memory use is high but worker has no data to store to disk.  Perhaps some other process is leaking memory?  Process memory: 5.76 GB -- Worker memory limit: 7.90 GB\n",
      "distributed.worker - WARNING - Memory use is high but worker has no data to store to disk.  Perhaps some other process is leaking memory?  Process memory: 5.76 GB -- Worker memory limit: 7.90 GB\n",
      "distributed.worker - WARNING - Memory use is high but worker has no data to store to disk.  Perhaps some other process is leaking memory?  Process memory: 5.77 GB -- Worker memory limit: 7.90 GB\n",
      "distributed.worker - WARNING - Memory use is high but worker has no data to store to disk.  Perhaps some other process is leaking memory?  Process memory: 5.78 GB -- Worker memory limit: 7.90 GB\n",
      "distributed.worker - WARNING - Memory use is high but worker has no data to store to disk.  Perhaps some other process is leaking memory?  Process memory: 5.78 GB -- Worker memory limit: 7.90 GB\n",
      "distributed.worker - WARNING - Memory use is high but worker has no data to store to disk.  Perhaps some other process is leaking memory?  Process memory: 5.78 GB -- Worker memory limit: 7.90 GB\n",
      "distributed.worker - WARNING - Memory use is high but worker has no data to store to disk.  Perhaps some other process is leaking memory?  Process memory: 5.79 GB -- Worker memory limit: 7.90 GB\n",
      "distributed.worker - WARNING - Memory use is high but worker has no data to store to disk.  Perhaps some other process is leaking memory?  Process memory: 5.83 GB -- Worker memory limit: 7.90 GB\n",
      "distributed.worker - WARNING - Memory use is high but worker has no data to store to disk.  Perhaps some other process is leaking memory?  Process memory: 5.83 GB -- Worker memory limit: 7.90 GB\n",
      "distributed.worker - WARNING - Memory use is high but worker has no data to store to disk.  Perhaps some other process is leaking memory?  Process memory: 5.83 GB -- Worker memory limit: 7.90 GB\n",
      "distributed.worker - WARNING - Memory use is high but worker has no data to store to disk.  Perhaps some other process is leaking memory?  Process memory: 5.84 GB -- Worker memory limit: 7.90 GB\n",
      "distributed.worker - WARNING - Memory use is high but worker has no data to store to disk.  Perhaps some other process is leaking memory?  Process memory: 5.86 GB -- Worker memory limit: 7.90 GB\n",
      "distributed.worker - WARNING - Memory use is high but worker has no data to store to disk.  Perhaps some other process is leaking memory?  Process memory: 5.86 GB -- Worker memory limit: 7.90 GB\n",
      "distributed.worker - WARNING - Memory use is high but worker has no data to store to disk.  Perhaps some other process is leaking memory?  Process memory: 5.86 GB -- Worker memory limit: 7.90 GB\n",
      "distributed.worker - WARNING - Memory use is high but worker has no data to store to disk.  Perhaps some other process is leaking memory?  Process memory: 5.87 GB -- Worker memory limit: 7.90 GB\n",
      "distributed.comm.inproc - WARNING - Closing dangling queue in <InProc  local=inproc://10.168.0.2/7971/44 remote=inproc://10.168.0.2/7971/1>\n",
      "distributed.worker - WARNING - Memory use is high but worker has no data to store to disk.  Perhaps some other process is leaking memory?  Process memory: 5.89 GB -- Worker memory limit: 7.90 GB\n",
      "distributed.worker - WARNING - Memory use is high but worker has no data to store to disk.  Perhaps some other process is leaking memory?  Process memory: 5.89 GB -- Worker memory limit: 7.90 GB\n",
      "distributed.worker - WARNING - Memory use is high but worker has no data to store to disk.  Perhaps some other process is leaking memory?  Process memory: 5.90 GB -- Worker memory limit: 7.90 GB\n",
      "distributed.worker - WARNING - Memory use is high but worker has no data to store to disk.  Perhaps some other process is leaking memory?  Process memory: 5.90 GB -- Worker memory limit: 7.90 GB\n",
      "distributed.worker - WARNING - Memory use is high but worker has no data to store to disk.  Perhaps some other process is leaking memory?  Process memory: 5.91 GB -- Worker memory limit: 7.90 GB\n",
      "distributed.worker - WARNING - Memory use is high but worker has no data to store to disk.  Perhaps some other process is leaking memory?  Process memory: 5.92 GB -- Worker memory limit: 7.90 GB\n",
      "distributed.worker - WARNING - Memory use is high but worker has no data to store to disk.  Perhaps some other process is leaking memory?  Process memory: 5.92 GB -- Worker memory limit: 7.90 GB\n",
      "distributed.worker - WARNING - Memory use is high but worker has no data to store to disk.  Perhaps some other process is leaking memory?  Process memory: 5.92 GB -- Worker memory limit: 7.90 GB\n",
      "distributed.comm.inproc - WARNING - Closing dangling queue in <InProc  local=inproc://10.168.0.2/7971/45 remote=inproc://10.168.0.2/7971/1>\n",
      "distributed.worker - WARNING - Memory use is high but worker has no data to store to disk.  Perhaps some other process is leaking memory?  Process memory: 5.95 GB -- Worker memory limit: 7.90 GB\n",
      "distributed.worker - WARNING - Memory use is high but worker has no data to store to disk.  Perhaps some other process is leaking memory?  Process memory: 5.96 GB -- Worker memory limit: 7.90 GB\n"
     ]
    },
    {
     "name": "stderr",
     "output_type": "stream",
     "text": [
      "distributed.worker - WARNING - Memory use is high but worker has no data to store to disk.  Perhaps some other process is leaking memory?  Process memory: 5.96 GB -- Worker memory limit: 7.90 GB\n",
      "distributed.worker - WARNING - Memory use is high but worker has no data to store to disk.  Perhaps some other process is leaking memory?  Process memory: 5.99 GB -- Worker memory limit: 7.90 GB\n",
      "distributed.worker - WARNING - Memory use is high but worker has no data to store to disk.  Perhaps some other process is leaking memory?  Process memory: 5.99 GB -- Worker memory limit: 7.90 GB\n",
      "distributed.worker - WARNING - Memory use is high but worker has no data to store to disk.  Perhaps some other process is leaking memory?  Process memory: 5.99 GB -- Worker memory limit: 7.90 GB\n",
      "distributed.worker - WARNING - Memory use is high but worker has no data to store to disk.  Perhaps some other process is leaking memory?  Process memory: 6.00 GB -- Worker memory limit: 7.90 GB\n",
      "distributed.worker - WARNING - Memory use is high but worker has no data to store to disk.  Perhaps some other process is leaking memory?  Process memory: 6.02 GB -- Worker memory limit: 7.90 GB\n",
      "distributed.worker - WARNING - Memory use is high but worker has no data to store to disk.  Perhaps some other process is leaking memory?  Process memory: 6.03 GB -- Worker memory limit: 7.90 GB\n",
      "distributed.worker - WARNING - Memory use is high but worker has no data to store to disk.  Perhaps some other process is leaking memory?  Process memory: 6.03 GB -- Worker memory limit: 7.90 GB\n",
      "distributed.worker - WARNING - Memory use is high but worker has no data to store to disk.  Perhaps some other process is leaking memory?  Process memory: 6.03 GB -- Worker memory limit: 7.90 GB\n",
      "distributed.worker - WARNING - Memory use is high but worker has no data to store to disk.  Perhaps some other process is leaking memory?  Process memory: 6.06 GB -- Worker memory limit: 7.90 GB\n",
      "distributed.worker - WARNING - Memory use is high but worker has no data to store to disk.  Perhaps some other process is leaking memory?  Process memory: 6.06 GB -- Worker memory limit: 7.90 GB\n",
      "distributed.worker - WARNING - Memory use is high but worker has no data to store to disk.  Perhaps some other process is leaking memory?  Process memory: 6.06 GB -- Worker memory limit: 7.90 GB\n",
      "distributed.worker - WARNING - Memory use is high but worker has no data to store to disk.  Perhaps some other process is leaking memory?  Process memory: 6.07 GB -- Worker memory limit: 7.90 GB\n",
      "distributed.comm.inproc - WARNING - Closing dangling queue in <InProc  local=inproc://10.168.0.2/7971/46 remote=inproc://10.168.0.2/7971/1>\n",
      "distributed.worker - WARNING - Memory use is high but worker has no data to store to disk.  Perhaps some other process is leaking memory?  Process memory: 6.09 GB -- Worker memory limit: 7.90 GB\n",
      "distributed.worker - WARNING - Memory use is high but worker has no data to store to disk.  Perhaps some other process is leaking memory?  Process memory: 6.10 GB -- Worker memory limit: 7.90 GB\n",
      "distributed.worker - WARNING - Memory use is high but worker has no data to store to disk.  Perhaps some other process is leaking memory?  Process memory: 6.10 GB -- Worker memory limit: 7.90 GB\n",
      "distributed.worker - WARNING - Memory use is high but worker has no data to store to disk.  Perhaps some other process is leaking memory?  Process memory: 6.10 GB -- Worker memory limit: 7.90 GB\n",
      "distributed.worker - WARNING - Memory use is high but worker has no data to store to disk.  Perhaps some other process is leaking memory?  Process memory: 6.13 GB -- Worker memory limit: 7.90 GB\n",
      "distributed.worker - WARNING - Memory use is high but worker has no data to store to disk.  Perhaps some other process is leaking memory?  Process memory: 6.13 GB -- Worker memory limit: 7.90 GB\n",
      "distributed.worker - WARNING - Memory use is high but worker has no data to store to disk.  Perhaps some other process is leaking memory?  Process memory: 6.13 GB -- Worker memory limit: 7.90 GB\n",
      "distributed.worker - WARNING - Memory use is high but worker has no data to store to disk.  Perhaps some other process is leaking memory?  Process memory: 6.13 GB -- Worker memory limit: 7.90 GB\n",
      "distributed.comm.inproc - WARNING - Closing dangling queue in <InProc  local=inproc://10.168.0.2/7971/47 remote=inproc://10.168.0.2/7971/1>\n",
      "distributed.worker - WARNING - Memory use is high but worker has no data to store to disk.  Perhaps some other process is leaking memory?  Process memory: 6.16 GB -- Worker memory limit: 7.90 GB\n",
      "distributed.worker - WARNING - Memory use is high but worker has no data to store to disk.  Perhaps some other process is leaking memory?  Process memory: 6.16 GB -- Worker memory limit: 7.90 GB\n",
      "distributed.worker - WARNING - Memory use is high but worker has no data to store to disk.  Perhaps some other process is leaking memory?  Process memory: 6.17 GB -- Worker memory limit: 7.90 GB\n",
      "distributed.worker - WARNING - Memory use is high but worker has no data to store to disk.  Perhaps some other process is leaking memory?  Process memory: 6.17 GB -- Worker memory limit: 7.90 GB\n",
      "distributed.worker - WARNING - Memory use is high but worker has no data to store to disk.  Perhaps some other process is leaking memory?  Process memory: 6.20 GB -- Worker memory limit: 7.90 GB\n",
      "distributed.worker - WARNING - Memory use is high but worker has no data to store to disk.  Perhaps some other process is leaking memory?  Process memory: 6.22 GB -- Worker memory limit: 7.90 GB\n",
      "distributed.worker - WARNING - Memory use is high but worker has no data to store to disk.  Perhaps some other process is leaking memory?  Process memory: 6.23 GB -- Worker memory limit: 7.90 GB\n",
      "distributed.worker - WARNING - Memory use is high but worker has no data to store to disk.  Perhaps some other process is leaking memory?  Process memory: 6.23 GB -- Worker memory limit: 7.90 GB\n",
      "distributed.worker - WARNING - Memory use is high but worker has no data to store to disk.  Perhaps some other process is leaking memory?  Process memory: 6.23 GB -- Worker memory limit: 7.90 GB\n",
      "distributed.comm.inproc - WARNING - Closing dangling queue in <InProc  local=inproc://10.168.0.2/7971/48 remote=inproc://10.168.0.2/7971/1>\n",
      "distributed.worker - WARNING - Memory use is high but worker has no data to store to disk.  Perhaps some other process is leaking memory?  Process memory: 6.26 GB -- Worker memory limit: 7.90 GB\n",
      "distributed.worker - WARNING - Memory use is high but worker has no data to store to disk.  Perhaps some other process is leaking memory?  Process memory: 6.26 GB -- Worker memory limit: 7.90 GB\n",
      "distributed.worker - WARNING - Memory use is high but worker has no data to store to disk.  Perhaps some other process is leaking memory?  Process memory: 6.26 GB -- Worker memory limit: 7.90 GB\n",
      "distributed.worker - WARNING - Memory use is high but worker has no data to store to disk.  Perhaps some other process is leaking memory?  Process memory: 6.28 GB -- Worker memory limit: 7.90 GB\n",
      "distributed.worker - WARNING - Memory use is high but worker has no data to store to disk.  Perhaps some other process is leaking memory?  Process memory: 6.29 GB -- Worker memory limit: 7.90 GB\n",
      "distributed.worker - WARNING - Memory use is high but worker has no data to store to disk.  Perhaps some other process is leaking memory?  Process memory: 6.29 GB -- Worker memory limit: 7.90 GB\n",
      "distributed.worker - WARNING - Memory use is high but worker has no data to store to disk.  Perhaps some other process is leaking memory?  Process memory: 6.29 GB -- Worker memory limit: 7.90 GB\n",
      "distributed.comm.inproc - WARNING - Closing dangling queue in <InProc  local=inproc://10.168.0.2/7971/49 remote=inproc://10.168.0.2/7971/1>\n",
      "distributed.comm.inproc - WARNING - Closing dangling queue in <InProc  local=inproc://10.168.0.2/7971/50 remote=inproc://10.168.0.2/7971/1>\n",
      "distributed.worker - WARNING - gc.collect() took 1.252s. This is usually a sign that some tasks handle too many Python objects at the same time. Rechunking the work into smaller tasks might help.\n",
      "distributed.worker - WARNING - Worker is at 80% memory usage. Pausing worker.  Process memory: 6.34 GB -- Worker memory limit: 7.90 GB\n"
     ]
    },
    {
     "name": "stderr",
     "output_type": "stream",
     "text": [
      "distributed.worker - WARNING - Memory use is high but worker has no data to store to disk.  Perhaps some other process is leaking memory?  Process memory: 6.34 GB -- Worker memory limit: 7.90 GB\n",
      "distributed.worker - WARNING - gc.collect() took 1.255s. This is usually a sign that some tasks handle too many Python objects at the same time. Rechunking the work into smaller tasks might help.\n",
      "distributed.worker - WARNING - Worker is at 80% memory usage. Pausing worker.  Process memory: 6.34 GB -- Worker memory limit: 7.90 GB\n",
      "distributed.worker - WARNING - Memory use is high but worker has no data to store to disk.  Perhaps some other process is leaking memory?  Process memory: 6.34 GB -- Worker memory limit: 7.90 GB\n",
      "distributed.worker - WARNING - gc.collect() took 1.257s. This is usually a sign that some tasks handle too many Python objects at the same time. Rechunking the work into smaller tasks might help.\n",
      "distributed.worker - WARNING - Worker is at 80% memory usage. Pausing worker.  Process memory: 6.35 GB -- Worker memory limit: 7.90 GB\n",
      "distributed.worker - WARNING - Memory use is high but worker has no data to store to disk.  Perhaps some other process is leaking memory?  Process memory: 6.35 GB -- Worker memory limit: 7.90 GB\n",
      "distributed.worker - WARNING - gc.collect() took 1.256s. This is usually a sign that some tasks handle too many Python objects at the same time. Rechunking the work into smaller tasks might help.\n",
      "distributed.worker - WARNING - Worker is at 80% memory usage. Pausing worker.  Process memory: 6.36 GB -- Worker memory limit: 7.90 GB\n",
      "distributed.worker - WARNING - Memory use is high but worker has no data to store to disk.  Perhaps some other process is leaking memory?  Process memory: 6.36 GB -- Worker memory limit: 7.90 GB\n",
      "distributed.worker - WARNING - Memory use is high but worker has no data to store to disk.  Perhaps some other process is leaking memory?  Process memory: 6.38 GB -- Worker memory limit: 7.90 GB\n",
      "distributed.worker - WARNING - Memory use is high but worker has no data to store to disk.  Perhaps some other process is leaking memory?  Process memory: 6.38 GB -- Worker memory limit: 7.90 GB\n",
      "distributed.worker - WARNING - Memory use is high but worker has no data to store to disk.  Perhaps some other process is leaking memory?  Process memory: 6.39 GB -- Worker memory limit: 7.90 GB\n",
      "distributed.worker - WARNING - Memory use is high but worker has no data to store to disk.  Perhaps some other process is leaking memory?  Process memory: 6.39 GB -- Worker memory limit: 7.90 GB\n",
      "distributed.comm.inproc - WARNING - Closing dangling queue in <InProc  local=inproc://10.168.0.2/7971/51 remote=inproc://10.168.0.2/7971/1>\n",
      "distributed.worker - WARNING - Memory use is high but worker has no data to store to disk.  Perhaps some other process is leaking memory?  Process memory: 6.41 GB -- Worker memory limit: 7.90 GB\n",
      "distributed.worker - WARNING - Memory use is high but worker has no data to store to disk.  Perhaps some other process is leaking memory?  Process memory: 6.41 GB -- Worker memory limit: 7.90 GB\n",
      "distributed.worker - WARNING - Memory use is high but worker has no data to store to disk.  Perhaps some other process is leaking memory?  Process memory: 6.41 GB -- Worker memory limit: 7.90 GB\n",
      "distributed.worker - WARNING - Memory use is high but worker has no data to store to disk.  Perhaps some other process is leaking memory?  Process memory: 6.41 GB -- Worker memory limit: 7.90 GB\n",
      "distributed.worker - WARNING - Memory use is high but worker has no data to store to disk.  Perhaps some other process is leaking memory?  Process memory: 6.33 GB -- Worker memory limit: 7.90 GB\n",
      "distributed.worker - WARNING - Memory use is high but worker has no data to store to disk.  Perhaps some other process is leaking memory?  Process memory: 6.33 GB -- Worker memory limit: 7.90 GB\n",
      "distributed.worker - WARNING - Memory use is high but worker has no data to store to disk.  Perhaps some other process is leaking memory?  Process memory: 6.34 GB -- Worker memory limit: 7.90 GB\n",
      "distributed.worker - WARNING - Worker is at 79% memory usage. Resuming worker. Process memory: 6.27 GB -- Worker memory limit: 7.90 GB\n",
      "distributed.worker - WARNING - Memory use is high but worker has no data to store to disk.  Perhaps some other process is leaking memory?  Process memory: 6.27 GB -- Worker memory limit: 7.90 GB\n",
      "distributed.comm.inproc - WARNING - Closing dangling queue in <InProc  local=inproc://10.168.0.2/7971/52 remote=inproc://10.168.0.2/7971/1>\n",
      "distributed.worker - WARNING - Worker is at 77% memory usage. Resuming worker. Process memory: 6.09 GB -- Worker memory limit: 7.90 GB\n",
      "distributed.worker - WARNING - Memory use is high but worker has no data to store to disk.  Perhaps some other process is leaking memory?  Process memory: 6.09 GB -- Worker memory limit: 7.90 GB\n",
      "distributed.worker - WARNING - Worker is at 77% memory usage. Resuming worker. Process memory: 6.09 GB -- Worker memory limit: 7.90 GB\n",
      "distributed.worker - WARNING - Memory use is high but worker has no data to store to disk.  Perhaps some other process is leaking memory?  Process memory: 6.09 GB -- Worker memory limit: 7.90 GB\n",
      "distributed.worker - WARNING - Worker is at 77% memory usage. Resuming worker. Process memory: 6.09 GB -- Worker memory limit: 7.90 GB\n",
      "distributed.worker - WARNING - Memory use is high but worker has no data to store to disk.  Perhaps some other process is leaking memory?  Process memory: 6.09 GB -- Worker memory limit: 7.90 GB\n",
      "distributed.worker - WARNING - Memory use is high but worker has no data to store to disk.  Perhaps some other process is leaking memory?  Process memory: 6.09 GB -- Worker memory limit: 7.90 GB\n",
      "distributed.worker - WARNING - Memory use is high but worker has no data to store to disk.  Perhaps some other process is leaking memory?  Process memory: 6.06 GB -- Worker memory limit: 7.90 GB\n",
      "distributed.worker - WARNING - Memory use is high but worker has no data to store to disk.  Perhaps some other process is leaking memory?  Process memory: 5.98 GB -- Worker memory limit: 7.90 GB\n",
      "distributed.worker - WARNING - Memory use is high but worker has no data to store to disk.  Perhaps some other process is leaking memory?  Process memory: 5.98 GB -- Worker memory limit: 7.90 GB\n",
      "distributed.worker - WARNING - Memory use is high but worker has no data to store to disk.  Perhaps some other process is leaking memory?  Process memory: 5.98 GB -- Worker memory limit: 7.90 GB\n",
      "distributed.worker - WARNING - Memory use is high but worker has no data to store to disk.  Perhaps some other process is leaking memory?  Process memory: 5.98 GB -- Worker memory limit: 7.90 GB\n",
      "distributed.worker - WARNING - Memory use is high but worker has no data to store to disk.  Perhaps some other process is leaking memory?  Process memory: 5.98 GB -- Worker memory limit: 7.90 GB\n",
      "distributed.worker - WARNING - Memory use is high but worker has no data to store to disk.  Perhaps some other process is leaking memory?  Process memory: 5.98 GB -- Worker memory limit: 7.90 GB\n",
      "distributed.worker - WARNING - Memory use is high but worker has no data to store to disk.  Perhaps some other process is leaking memory?  Process memory: 5.98 GB -- Worker memory limit: 7.90 GB\n",
      "distributed.worker - WARNING - Memory use is high but worker has no data to store to disk.  Perhaps some other process is leaking memory?  Process memory: 5.98 GB -- Worker memory limit: 7.90 GB\n",
      "distributed.worker - WARNING - Worker is at 82% memory usage. Pausing worker.  Process memory: 6.48 GB -- Worker memory limit: 7.90 GB\n",
      "distributed.worker - WARNING - Memory use is high but worker has no data to store to disk.  Perhaps some other process is leaking memory?  Process memory: 6.03 GB -- Worker memory limit: 7.90 GB\n",
      "distributed.worker - WARNING - Memory use is high but worker has no data to store to disk.  Perhaps some other process is leaking memory?  Process memory: 6.03 GB -- Worker memory limit: 7.90 GB\n",
      "distributed.worker - WARNING - Memory use is high but worker has no data to store to disk.  Perhaps some other process is leaking memory?  Process memory: 6.03 GB -- Worker memory limit: 7.90 GB\n",
      "distributed.comm.inproc - WARNING - Closing dangling queue in <InProc  local=inproc://10.168.0.2/7971/53 remote=inproc://10.168.0.2/7971/1>\n"
     ]
    },
    {
     "name": "stderr",
     "output_type": "stream",
     "text": [
      "distributed.worker - WARNING - Memory use is high but worker has no data to store to disk.  Perhaps some other process is leaking memory?  Process memory: 5.52 GB -- Worker memory limit: 7.90 GB\n",
      "distributed.worker - WARNING - Worker is at 69% memory usage. Resuming worker. Process memory: 5.52 GB -- Worker memory limit: 7.90 GB\n",
      "distributed.comm.inproc - WARNING - Closing dangling queue in <InProc  local=inproc://10.168.0.2/7971/54 remote=inproc://10.168.0.2/7971/1>\n"
     ]
    }
   ],
   "source": [
    "import time\n",
    "\n",
    "\n",
    "start = time.time()\n",
    "\n",
    "speaker_docs_df = speaker_docs.compute()\n",
    "\n",
    "end = time.time()\n",
    "elapsed = end - start"
   ]
  },
  {
   "cell_type": "code",
   "execution_count": 10,
   "metadata": {},
   "outputs": [
    {
     "name": "stdout",
     "output_type": "stream",
     "text": [
      "Done in 13.31 minutes\n"
     ]
    }
   ],
   "source": [
    "# I think this is pretty good:\n",
    "# 1st try: compute(), defaults = 11 minutes\n",
    "# 3nd try: made a client = 13 minutes\n",
    "\n",
    "print(\"Done in \" + str(round(elapsed / 60, 2)) + \" minutes\" )"
   ]
  },
  {
   "cell_type": "code",
   "execution_count": null,
   "metadata": {},
   "outputs": [],
   "source": [
    "speaker_docs.npartitions"
   ]
  },
  {
   "cell_type": "code",
   "execution_count": null,
   "metadata": {},
   "outputs": [],
   "source": [
    "valid_phrases.repartition(npartitions=10)"
   ]
  },
  {
   "cell_type": "code",
   "execution_count": null,
   "metadata": {},
   "outputs": [],
   "source": [
    "multiprocessing.cpu_count()"
   ]
  },
  {
   "cell_type": "code",
   "execution_count": null,
   "metadata": {},
   "outputs": [],
   "source": []
  }
 ],
 "metadata": {
  "kernelspec": {
   "display_name": "Python 3",
   "language": "python",
   "name": "python3"
  },
  "language_info": {
   "codemirror_mode": {
    "name": "ipython",
    "version": 3
   },
   "file_extension": ".py",
   "mimetype": "text/x-python",
   "name": "python",
   "nbconvert_exporter": "python",
   "pygments_lexer": "ipython3",
   "version": "3.7.4"
  }
 },
 "nbformat": 4,
 "nbformat_minor": 2
}
