{
 "cells": [
  {
   "cell_type": "markdown",
   "metadata": {},
   "source": [
    "## Exploring Speech Data\n"
   ]
  },
  {
   "cell_type": "code",
   "execution_count": 1,
   "metadata": {},
   "outputs": [],
   "source": [
    "import numpy as np\n",
    "import pandas as pd\n",
    "import os\n",
    "import re"
   ]
  },
  {
   "cell_type": "code",
   "execution_count": 2,
   "metadata": {},
   "outputs": [],
   "source": [
    "os.chdir(\"../../scripts/assembly\")\n",
    "from session_speaker_assembly import *"
   ]
  },
  {
   "cell_type": "code",
   "execution_count": 3,
   "metadata": {},
   "outputs": [],
   "source": [
    "SPEECHES = \"speeches_%s.txt\""
   ]
  },
  {
   "cell_type": "code",
   "execution_count": 4,
   "metadata": {},
   "outputs": [],
   "source": [
    "# The code below doesn't work because there is a pipein the text field of line 55163\n",
    "# session = 111\n",
    "# speeches = pd.read_csv(os.path.join(HB_PATH, SPEECHES % session), sep = \"|\") "
   ]
  },
  {
   "cell_type": "markdown",
   "metadata": {},
   "source": [
    "What to do about this:\n",
    "* erase all pipes which dont occur directly after numbers like 1110055162 (of length 10)."
   ]
  },
  {
   "cell_type": "code",
   "execution_count": 17,
   "metadata": {},
   "outputs": [],
   "source": [
    "# finally, it works.\n",
    "speeches = pd.read_csv(os.path.join(HB_PATH, SPEECHES % '111'), sep = \"|\")"
   ]
  },
  {
   "cell_type": "code",
   "execution_count": 18,
   "metadata": {},
   "outputs": [
    {
     "data": {
      "text/html": [
       "<div>\n",
       "<style scoped>\n",
       "    .dataframe tbody tr th:only-of-type {\n",
       "        vertical-align: middle;\n",
       "    }\n",
       "\n",
       "    .dataframe tbody tr th {\n",
       "        vertical-align: top;\n",
       "    }\n",
       "\n",
       "    .dataframe thead th {\n",
       "        text-align: right;\n",
       "    }\n",
       "</style>\n",
       "<table border=\"1\" class=\"dataframe\">\n",
       "  <thead>\n",
       "    <tr style=\"text-align: right;\">\n",
       "      <th></th>\n",
       "      <th>speech_id</th>\n",
       "      <th>speech</th>\n",
       "    </tr>\n",
       "  </thead>\n",
       "  <tbody>\n",
       "    <tr>\n",
       "      <td>0</td>\n",
       "      <td>1110000001</td>\n",
       "      <td>The Representativeselect and their guests will...</td>\n",
       "    </tr>\n",
       "    <tr>\n",
       "      <td>1</td>\n",
       "      <td>1110000002</td>\n",
       "      <td>As directed by law. the Clerk of the House has...</td>\n",
       "    </tr>\n",
       "    <tr>\n",
       "      <td>2</td>\n",
       "      <td>1110000003</td>\n",
       "      <td>The quor closes that 428 Represer have respond...</td>\n",
       "    </tr>\n",
       "    <tr>\n",
       "      <td>3</td>\n",
       "      <td>1110000004</td>\n",
       "      <td>Credentials. regular in form. have been receiv...</td>\n",
       "    </tr>\n",
       "    <tr>\n",
       "      <td>4</td>\n",
       "      <td>1110000005</td>\n",
       "      <td>The Clerk is in receipt of a letter of resigna...</td>\n",
       "    </tr>\n",
       "    <tr>\n",
       "      <td>...</td>\n",
       "      <td>...</td>\n",
       "      <td>...</td>\n",
       "    </tr>\n",
       "    <tr>\n",
       "      <td>179263</td>\n",
       "      <td>1110179264</td>\n",
       "      <td>Madam Speaker. on rollcall Nos. 662 and 661. I...</td>\n",
       "    </tr>\n",
       "    <tr>\n",
       "      <td>179264</td>\n",
       "      <td>1110179265</td>\n",
       "      <td>Madam Speaker. as I leave Congress as the peop...</td>\n",
       "    </tr>\n",
       "    <tr>\n",
       "      <td>179265</td>\n",
       "      <td>1110179266</td>\n",
       "      <td>Madam Speaker. on rolicall No. 658. I was unav...</td>\n",
       "    </tr>\n",
       "    <tr>\n",
       "      <td>179266</td>\n",
       "      <td>1110179267</td>\n",
       "      <td>Madam Speaker. on rollcall No. 658 my flight w...</td>\n",
       "    </tr>\n",
       "    <tr>\n",
       "      <td>179267</td>\n",
       "      <td>1110179268</td>\n",
       "      <td>Madam Speaker. I wold like to submit the follo...</td>\n",
       "    </tr>\n",
       "  </tbody>\n",
       "</table>\n",
       "<p>179268 rows × 2 columns</p>\n",
       "</div>"
      ],
      "text/plain": [
       "         speech_id                                             speech\n",
       "0       1110000001  The Representativeselect and their guests will...\n",
       "1       1110000002  As directed by law. the Clerk of the House has...\n",
       "2       1110000003  The quor closes that 428 Represer have respond...\n",
       "3       1110000004  Credentials. regular in form. have been receiv...\n",
       "4       1110000005  The Clerk is in receipt of a letter of resigna...\n",
       "...            ...                                                ...\n",
       "179263  1110179264  Madam Speaker. on rollcall Nos. 662 and 661. I...\n",
       "179264  1110179265  Madam Speaker. as I leave Congress as the peop...\n",
       "179265  1110179266  Madam Speaker. on rolicall No. 658. I was unav...\n",
       "179266  1110179267  Madam Speaker. on rollcall No. 658 my flight w...\n",
       "179267  1110179268  Madam Speaker. I wold like to submit the follo...\n",
       "\n",
       "[179268 rows x 2 columns]"
      ]
     },
     "execution_count": 18,
     "metadata": {},
     "output_type": "execute_result"
    }
   ],
   "source": [
    "speeches"
   ]
  },
  {
   "cell_type": "code",
   "execution_count": null,
   "metadata": {},
   "outputs": [],
   "source": []
  }
 ],
 "metadata": {
  "kernelspec": {
   "display_name": "Python 3",
   "language": "python",
   "name": "python3"
  },
  "language_info": {
   "codemirror_mode": {
    "name": "ipython",
    "version": 3
   },
   "file_extension": ".py",
   "mimetype": "text/x-python",
   "name": "python",
   "nbconvert_exporter": "python",
   "pygments_lexer": "ipython3",
   "version": "3.7.4"
  }
 },
 "nbformat": 4,
 "nbformat_minor": 2
}
