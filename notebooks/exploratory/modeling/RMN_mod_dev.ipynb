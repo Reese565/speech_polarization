{
 "cells": [
  {
   "cell_type": "markdown",
   "metadata": {},
   "source": [
    "# RMN Baseline\n",
    "\n",
    "Training an RMN on sessions 105 - 111"
   ]
  },
  {
   "cell_type": "code",
   "execution_count": 1,
   "metadata": {},
   "outputs": [],
   "source": [
    "import os\n",
    "import numpy as np\n",
    "import pandas as pd\n",
    "from scipy import stats"
   ]
  },
  {
   "cell_type": "code",
   "execution_count": 2,
   "metadata": {},
   "outputs": [],
   "source": [
    "os.chdir(\"../../../scripts/assembly/\")"
   ]
  },
  {
   "cell_type": "code",
   "execution_count": 3,
   "metadata": {},
   "outputs": [],
   "source": [
    "from preprocess import *\n",
    "from document import *\n",
    "from subject import subject_keywords\n",
    "from constant import SPEECHES, SPEAKER_MAP, HB_PATH, EMBEDDINGS, DOC_PATH, DOCUMENT"
   ]
  },
  {
   "cell_type": "code",
   "execution_count": 4,
   "metadata": {},
   "outputs": [],
   "source": [
    "os.chdir(\"../modeling\")\n",
    "from token_mapping import ohe_attributes, build_tokenizer_dict, build_metadata_dict"
   ]
  },
  {
   "cell_type": "code",
   "execution_count": 5,
   "metadata": {},
   "outputs": [
    {
     "data": {
      "text/plain": [
       "'gs://rwc1/gen-data/doc/doc-sample/documents_health.txt'"
      ]
     },
     "execution_count": 5,
     "metadata": {},
     "output_type": "execute_result"
    }
   ],
   "source": [
    "DOC_SAMPLE_PATH = os.path.join(DOC_PATH, \"doc-sample/\")\n",
    "os.path.join(DOC_SAMPLE_PATH, DOCUMENT % \"health\")"
   ]
  },
  {
   "cell_type": "code",
   "execution_count": 6,
   "metadata": {},
   "outputs": [],
   "source": [
    "docs_df = load_documents(subject_keywords.keys(), DOC_SAMPLE_PATH).sample(100)"
   ]
  },
  {
   "cell_type": "code",
   "execution_count": 7,
   "metadata": {},
   "outputs": [
    {
     "data": {
      "text/html": [
       "<div>\n",
       "<style scoped>\n",
       "    .dataframe tbody tr th:only-of-type {\n",
       "        vertical-align: middle;\n",
       "    }\n",
       "\n",
       "    .dataframe tbody tr th {\n",
       "        vertical-align: top;\n",
       "    }\n",
       "\n",
       "    .dataframe thead th {\n",
       "        text-align: right;\n",
       "    }\n",
       "</style>\n",
       "<table border=\"1\" class=\"dataframe\">\n",
       "  <thead>\n",
       "    <tr style=\"text-align: right;\">\n",
       "      <th></th>\n",
       "      <th>speakerid</th>\n",
       "      <th>lastname</th>\n",
       "      <th>firstname</th>\n",
       "      <th>chamber</th>\n",
       "      <th>state</th>\n",
       "      <th>gender</th>\n",
       "      <th>party</th>\n",
       "      <th>document</th>\n",
       "      <th>congress</th>\n",
       "      <th>subject</th>\n",
       "    </tr>\n",
       "  </thead>\n",
       "  <tbody>\n",
       "    <tr>\n",
       "      <td>73656</td>\n",
       "      <td>108120961.0</td>\n",
       "      <td>REID</td>\n",
       "      <td>HARRY</td>\n",
       "      <td>S</td>\n",
       "      <td>NV</td>\n",
       "      <td>M</td>\n",
       "      <td>D</td>\n",
       "      <td>selection shared responsibility president sena...</td>\n",
       "      <td>108</td>\n",
       "      <td>trade</td>\n",
       "    </tr>\n",
       "    <tr>\n",
       "      <td>131007</td>\n",
       "      <td>109117690.0</td>\n",
       "      <td>MCCARTHY</td>\n",
       "      <td>CAROLYN</td>\n",
       "      <td>H</td>\n",
       "      <td>NY</td>\n",
       "      <td>F</td>\n",
       "      <td>D</td>\n",
       "      <td>feel safe know terrorists strike one paying at...</td>\n",
       "      <td>109</td>\n",
       "      <td>foreign</td>\n",
       "    </tr>\n",
       "    <tr>\n",
       "      <td>24283</td>\n",
       "      <td>108118701.0</td>\n",
       "      <td>BOXER</td>\n",
       "      <td>BARBARA</td>\n",
       "      <td>S</td>\n",
       "      <td>CA</td>\n",
       "      <td>F</td>\n",
       "      <td>D</td>\n",
       "      <td>challenges face billion tons carbon dioxide ca...</td>\n",
       "      <td>108</td>\n",
       "      <td>women</td>\n",
       "    </tr>\n",
       "    <tr>\n",
       "      <td>71398</td>\n",
       "      <td>107119920.0</td>\n",
       "      <td>JACKSON LEE</td>\n",
       "      <td>SHEILA</td>\n",
       "      <td>H</td>\n",
       "      <td>TX</td>\n",
       "      <td>F</td>\n",
       "      <td>D</td>\n",
       "      <td>approach nations energy needs one bipartisan c...</td>\n",
       "      <td>107</td>\n",
       "      <td>foreign</td>\n",
       "    </tr>\n",
       "    <tr>\n",
       "      <td>123798</td>\n",
       "      <td>110120540.0</td>\n",
       "      <td>MILLER</td>\n",
       "      <td>CANDICE</td>\n",
       "      <td>H</td>\n",
       "      <td>MI</td>\n",
       "      <td>F</td>\n",
       "      <td>R</td>\n",
       "      <td>throughout career supporter workers rights bar...</td>\n",
       "      <td>110</td>\n",
       "      <td>labor</td>\n",
       "    </tr>\n",
       "    <tr>\n",
       "      <td>...</td>\n",
       "      <td>...</td>\n",
       "      <td>...</td>\n",
       "      <td>...</td>\n",
       "      <td>...</td>\n",
       "      <td>...</td>\n",
       "      <td>...</td>\n",
       "      <td>...</td>\n",
       "      <td>...</td>\n",
       "      <td>...</td>\n",
       "      <td>...</td>\n",
       "    </tr>\n",
       "    <tr>\n",
       "      <td>140393</td>\n",
       "      <td>109117680.0</td>\n",
       "      <td>MATHESON</td>\n",
       "      <td>JIM</td>\n",
       "      <td>H</td>\n",
       "      <td>UT</td>\n",
       "      <td>M</td>\n",
       "      <td>D</td>\n",
       "      <td>opportunity share remarks hr  patient navigato...</td>\n",
       "      <td>109</td>\n",
       "      <td>defense</td>\n",
       "    </tr>\n",
       "    <tr>\n",
       "      <td>5046</td>\n",
       "      <td>105114080.0</td>\n",
       "      <td>DELAY</td>\n",
       "      <td>THOMAS</td>\n",
       "      <td>H</td>\n",
       "      <td>TX</td>\n",
       "      <td>M</td>\n",
       "      <td>R</td>\n",
       "      <td>governments relying sound science resisting me...</td>\n",
       "      <td>105</td>\n",
       "      <td>economy</td>\n",
       "    </tr>\n",
       "    <tr>\n",
       "      <td>145908</td>\n",
       "      <td>109116800.0</td>\n",
       "      <td>FRANK</td>\n",
       "      <td>BARNEY</td>\n",
       "      <td>H</td>\n",
       "      <td>MA</td>\n",
       "      <td>M</td>\n",
       "      <td>D</td>\n",
       "      <td>mars happen amendment defeated well voted way ...</td>\n",
       "      <td>109</td>\n",
       "      <td>foreign</td>\n",
       "    </tr>\n",
       "    <tr>\n",
       "      <td>121038</td>\n",
       "      <td>108113851.0</td>\n",
       "      <td>SMITH</td>\n",
       "      <td>GORDON</td>\n",
       "      <td>S</td>\n",
       "      <td>OR</td>\n",
       "      <td>M</td>\n",
       "      <td>R</td>\n",
       "      <td>bravery heroism polish citizens revolted bruta...</td>\n",
       "      <td>108</td>\n",
       "      <td>foreign</td>\n",
       "    </tr>\n",
       "    <tr>\n",
       "      <td>65475</td>\n",
       "      <td>111117870.0</td>\n",
       "      <td>WOLF</td>\n",
       "      <td>FRANK</td>\n",
       "      <td>H</td>\n",
       "      <td>VA</td>\n",
       "      <td>M</td>\n",
       "      <td>R</td>\n",
       "      <td>support resolution name us office located st s...</td>\n",
       "      <td>111</td>\n",
       "      <td>justice</td>\n",
       "    </tr>\n",
       "  </tbody>\n",
       "</table>\n",
       "<p>100 rows × 10 columns</p>\n",
       "</div>"
      ],
      "text/plain": [
       "          speakerid     lastname firstname chamber state gender party  \\\n",
       "73656   108120961.0         REID     HARRY       S    NV      M     D   \n",
       "131007  109117690.0     MCCARTHY   CAROLYN       H    NY      F     D   \n",
       "24283   108118701.0        BOXER   BARBARA       S    CA      F     D   \n",
       "71398   107119920.0  JACKSON LEE    SHEILA       H    TX      F     D   \n",
       "123798  110120540.0       MILLER   CANDICE       H    MI      F     R   \n",
       "...             ...          ...       ...     ...   ...    ...   ...   \n",
       "140393  109117680.0     MATHESON       JIM       H    UT      M     D   \n",
       "5046    105114080.0        DELAY    THOMAS       H    TX      M     R   \n",
       "145908  109116800.0        FRANK    BARNEY       H    MA      M     D   \n",
       "121038  108113851.0        SMITH    GORDON       S    OR      M     R   \n",
       "65475   111117870.0         WOLF     FRANK       H    VA      M     R   \n",
       "\n",
       "                                                 document  congress  subject  \n",
       "73656   selection shared responsibility president sena...       108    trade  \n",
       "131007  feel safe know terrorists strike one paying at...       109  foreign  \n",
       "24283   challenges face billion tons carbon dioxide ca...       108    women  \n",
       "71398   approach nations energy needs one bipartisan c...       107  foreign  \n",
       "123798  throughout career supporter workers rights bar...       110    labor  \n",
       "...                                                   ...       ...      ...  \n",
       "140393  opportunity share remarks hr  patient navigato...       109  defense  \n",
       "5046    governments relying sound science resisting me...       105  economy  \n",
       "145908  mars happen amendment defeated well voted way ...       109  foreign  \n",
       "121038  bravery heroism polish citizens revolted bruta...       108  foreign  \n",
       "65475   support resolution name us office located st s...       111  justice  \n",
       "\n",
       "[100 rows x 10 columns]"
      ]
     },
     "execution_count": 7,
     "metadata": {},
     "output_type": "execute_result"
    }
   ],
   "source": [
    "docs_df"
   ]
  },
  {
   "cell_type": "code",
   "execution_count": 8,
   "metadata": {},
   "outputs": [],
   "source": [
    "feature_columns = docs_df.columns.drop('document')"
   ]
  },
  {
   "cell_type": "code",
   "execution_count": 9,
   "metadata": {},
   "outputs": [],
   "source": [
    "from tensorflow.keras.preprocessing.text import Tokenizer\n",
    "from tensorflow.keras.preprocessing.sequence import pad_sequences\n",
    "\n",
    "\n",
    "def ohe_attributes(subject_df):\n",
    "    \n",
    "    # extract speaker metadata attributes\n",
    "    attributes = subject_df.columns.drop('document')\n",
    "    \n",
    "    # set attributes to string\n",
    "    subject_df['speakerid'] = subject_df['speakerid'].astype(str)\n",
    "    subject_df['congress'] = subject_df['congress'].astype(str)\n",
    "\n",
    "    # one-hot-encode speaker metadata\n",
    "    for col in attributes:\n",
    "        subject_df = pd.concat([subject_df,pd.get_dummies(subject_df[col])], axis = 1)\n",
    "\n",
    "\n",
    "    return subject_df\n",
    "\n",
    "\n",
    "def build_metadata_dict(feature_columns, subject_df):\n",
    "    \n",
    "    # one-hot-encoded speaker metadata inputs\n",
    "\n",
    "    metadata_dict = {}\n",
    "\n",
    "    for col in feature_columns:\n",
    "        df = subject_df[subject_df[col].unique()].values\n",
    "        dim = df.shape[1]\n",
    "        metadata_dict[col] = {'input': df, 'input_dim': dim}\n",
    "        \n",
    "    return metadata_dict\n",
    "\n",
    "\n"
   ]
  },
  {
   "cell_type": "code",
   "execution_count": 10,
   "metadata": {},
   "outputs": [
    {
     "data": {
      "text/html": [
       "<div>\n",
       "<style scoped>\n",
       "    .dataframe tbody tr th:only-of-type {\n",
       "        vertical-align: middle;\n",
       "    }\n",
       "\n",
       "    .dataframe tbody tr th {\n",
       "        vertical-align: top;\n",
       "    }\n",
       "\n",
       "    .dataframe thead th {\n",
       "        text-align: right;\n",
       "    }\n",
       "</style>\n",
       "<table border=\"1\" class=\"dataframe\">\n",
       "  <thead>\n",
       "    <tr style=\"text-align: right;\">\n",
       "      <th></th>\n",
       "      <th>speakerid</th>\n",
       "      <th>lastname</th>\n",
       "      <th>firstname</th>\n",
       "      <th>chamber</th>\n",
       "      <th>state</th>\n",
       "      <th>gender</th>\n",
       "      <th>party</th>\n",
       "      <th>document</th>\n",
       "      <th>congress</th>\n",
       "      <th>subject</th>\n",
       "      <th>...</th>\n",
       "      <th>guns</th>\n",
       "      <th>health</th>\n",
       "      <th>immigration</th>\n",
       "      <th>justice</th>\n",
       "      <th>labor</th>\n",
       "      <th>minorities</th>\n",
       "      <th>money</th>\n",
       "      <th>tax</th>\n",
       "      <th>trade</th>\n",
       "      <th>women</th>\n",
       "    </tr>\n",
       "  </thead>\n",
       "  <tbody>\n",
       "    <tr>\n",
       "      <td>73656</td>\n",
       "      <td>108120961.0</td>\n",
       "      <td>REID</td>\n",
       "      <td>HARRY</td>\n",
       "      <td>S</td>\n",
       "      <td>NV</td>\n",
       "      <td>M</td>\n",
       "      <td>D</td>\n",
       "      <td>selection shared responsibility president sena...</td>\n",
       "      <td>108</td>\n",
       "      <td>trade</td>\n",
       "      <td>...</td>\n",
       "      <td>0</td>\n",
       "      <td>0</td>\n",
       "      <td>0</td>\n",
       "      <td>0</td>\n",
       "      <td>0</td>\n",
       "      <td>0</td>\n",
       "      <td>0</td>\n",
       "      <td>0</td>\n",
       "      <td>1</td>\n",
       "      <td>0</td>\n",
       "    </tr>\n",
       "    <tr>\n",
       "      <td>131007</td>\n",
       "      <td>109117690.0</td>\n",
       "      <td>MCCARTHY</td>\n",
       "      <td>CAROLYN</td>\n",
       "      <td>H</td>\n",
       "      <td>NY</td>\n",
       "      <td>F</td>\n",
       "      <td>D</td>\n",
       "      <td>feel safe know terrorists strike one paying at...</td>\n",
       "      <td>109</td>\n",
       "      <td>foreign</td>\n",
       "      <td>...</td>\n",
       "      <td>0</td>\n",
       "      <td>0</td>\n",
       "      <td>0</td>\n",
       "      <td>0</td>\n",
       "      <td>0</td>\n",
       "      <td>0</td>\n",
       "      <td>0</td>\n",
       "      <td>0</td>\n",
       "      <td>0</td>\n",
       "      <td>0</td>\n",
       "    </tr>\n",
       "    <tr>\n",
       "      <td>24283</td>\n",
       "      <td>108118701.0</td>\n",
       "      <td>BOXER</td>\n",
       "      <td>BARBARA</td>\n",
       "      <td>S</td>\n",
       "      <td>CA</td>\n",
       "      <td>F</td>\n",
       "      <td>D</td>\n",
       "      <td>challenges face billion tons carbon dioxide ca...</td>\n",
       "      <td>108</td>\n",
       "      <td>women</td>\n",
       "      <td>...</td>\n",
       "      <td>0</td>\n",
       "      <td>0</td>\n",
       "      <td>0</td>\n",
       "      <td>0</td>\n",
       "      <td>0</td>\n",
       "      <td>0</td>\n",
       "      <td>0</td>\n",
       "      <td>0</td>\n",
       "      <td>0</td>\n",
       "      <td>1</td>\n",
       "    </tr>\n",
       "    <tr>\n",
       "      <td>71398</td>\n",
       "      <td>107119920.0</td>\n",
       "      <td>JACKSON LEE</td>\n",
       "      <td>SHEILA</td>\n",
       "      <td>H</td>\n",
       "      <td>TX</td>\n",
       "      <td>F</td>\n",
       "      <td>D</td>\n",
       "      <td>approach nations energy needs one bipartisan c...</td>\n",
       "      <td>107</td>\n",
       "      <td>foreign</td>\n",
       "      <td>...</td>\n",
       "      <td>0</td>\n",
       "      <td>0</td>\n",
       "      <td>0</td>\n",
       "      <td>0</td>\n",
       "      <td>0</td>\n",
       "      <td>0</td>\n",
       "      <td>0</td>\n",
       "      <td>0</td>\n",
       "      <td>0</td>\n",
       "      <td>0</td>\n",
       "    </tr>\n",
       "    <tr>\n",
       "      <td>123798</td>\n",
       "      <td>110120540.0</td>\n",
       "      <td>MILLER</td>\n",
       "      <td>CANDICE</td>\n",
       "      <td>H</td>\n",
       "      <td>MI</td>\n",
       "      <td>F</td>\n",
       "      <td>R</td>\n",
       "      <td>throughout career supporter workers rights bar...</td>\n",
       "      <td>110</td>\n",
       "      <td>labor</td>\n",
       "      <td>...</td>\n",
       "      <td>0</td>\n",
       "      <td>0</td>\n",
       "      <td>0</td>\n",
       "      <td>0</td>\n",
       "      <td>1</td>\n",
       "      <td>0</td>\n",
       "      <td>0</td>\n",
       "      <td>0</td>\n",
       "      <td>0</td>\n",
       "      <td>0</td>\n",
       "    </tr>\n",
       "    <tr>\n",
       "      <td>...</td>\n",
       "      <td>...</td>\n",
       "      <td>...</td>\n",
       "      <td>...</td>\n",
       "      <td>...</td>\n",
       "      <td>...</td>\n",
       "      <td>...</td>\n",
       "      <td>...</td>\n",
       "      <td>...</td>\n",
       "      <td>...</td>\n",
       "      <td>...</td>\n",
       "      <td>...</td>\n",
       "      <td>...</td>\n",
       "      <td>...</td>\n",
       "      <td>...</td>\n",
       "      <td>...</td>\n",
       "      <td>...</td>\n",
       "      <td>...</td>\n",
       "      <td>...</td>\n",
       "      <td>...</td>\n",
       "      <td>...</td>\n",
       "      <td>...</td>\n",
       "    </tr>\n",
       "    <tr>\n",
       "      <td>140393</td>\n",
       "      <td>109117680.0</td>\n",
       "      <td>MATHESON</td>\n",
       "      <td>JIM</td>\n",
       "      <td>H</td>\n",
       "      <td>UT</td>\n",
       "      <td>M</td>\n",
       "      <td>D</td>\n",
       "      <td>opportunity share remarks hr  patient navigato...</td>\n",
       "      <td>109</td>\n",
       "      <td>defense</td>\n",
       "      <td>...</td>\n",
       "      <td>0</td>\n",
       "      <td>0</td>\n",
       "      <td>0</td>\n",
       "      <td>0</td>\n",
       "      <td>0</td>\n",
       "      <td>0</td>\n",
       "      <td>0</td>\n",
       "      <td>0</td>\n",
       "      <td>0</td>\n",
       "      <td>0</td>\n",
       "    </tr>\n",
       "    <tr>\n",
       "      <td>5046</td>\n",
       "      <td>105114080.0</td>\n",
       "      <td>DELAY</td>\n",
       "      <td>THOMAS</td>\n",
       "      <td>H</td>\n",
       "      <td>TX</td>\n",
       "      <td>M</td>\n",
       "      <td>R</td>\n",
       "      <td>governments relying sound science resisting me...</td>\n",
       "      <td>105</td>\n",
       "      <td>economy</td>\n",
       "      <td>...</td>\n",
       "      <td>0</td>\n",
       "      <td>0</td>\n",
       "      <td>0</td>\n",
       "      <td>0</td>\n",
       "      <td>0</td>\n",
       "      <td>0</td>\n",
       "      <td>0</td>\n",
       "      <td>0</td>\n",
       "      <td>0</td>\n",
       "      <td>0</td>\n",
       "    </tr>\n",
       "    <tr>\n",
       "      <td>145908</td>\n",
       "      <td>109116800.0</td>\n",
       "      <td>FRANK</td>\n",
       "      <td>BARNEY</td>\n",
       "      <td>H</td>\n",
       "      <td>MA</td>\n",
       "      <td>M</td>\n",
       "      <td>D</td>\n",
       "      <td>mars happen amendment defeated well voted way ...</td>\n",
       "      <td>109</td>\n",
       "      <td>foreign</td>\n",
       "      <td>...</td>\n",
       "      <td>0</td>\n",
       "      <td>0</td>\n",
       "      <td>0</td>\n",
       "      <td>0</td>\n",
       "      <td>0</td>\n",
       "      <td>0</td>\n",
       "      <td>0</td>\n",
       "      <td>0</td>\n",
       "      <td>0</td>\n",
       "      <td>0</td>\n",
       "    </tr>\n",
       "    <tr>\n",
       "      <td>121038</td>\n",
       "      <td>108113851.0</td>\n",
       "      <td>SMITH</td>\n",
       "      <td>GORDON</td>\n",
       "      <td>S</td>\n",
       "      <td>OR</td>\n",
       "      <td>M</td>\n",
       "      <td>R</td>\n",
       "      <td>bravery heroism polish citizens revolted bruta...</td>\n",
       "      <td>108</td>\n",
       "      <td>foreign</td>\n",
       "      <td>...</td>\n",
       "      <td>0</td>\n",
       "      <td>0</td>\n",
       "      <td>0</td>\n",
       "      <td>0</td>\n",
       "      <td>0</td>\n",
       "      <td>0</td>\n",
       "      <td>0</td>\n",
       "      <td>0</td>\n",
       "      <td>0</td>\n",
       "      <td>0</td>\n",
       "    </tr>\n",
       "    <tr>\n",
       "      <td>65475</td>\n",
       "      <td>111117870.0</td>\n",
       "      <td>WOLF</td>\n",
       "      <td>FRANK</td>\n",
       "      <td>H</td>\n",
       "      <td>VA</td>\n",
       "      <td>M</td>\n",
       "      <td>R</td>\n",
       "      <td>support resolution name us office located st s...</td>\n",
       "      <td>111</td>\n",
       "      <td>justice</td>\n",
       "      <td>...</td>\n",
       "      <td>0</td>\n",
       "      <td>0</td>\n",
       "      <td>0</td>\n",
       "      <td>1</td>\n",
       "      <td>0</td>\n",
       "      <td>0</td>\n",
       "      <td>0</td>\n",
       "      <td>0</td>\n",
       "      <td>0</td>\n",
       "      <td>0</td>\n",
       "    </tr>\n",
       "  </tbody>\n",
       "</table>\n",
       "<p>100 rows × 334 columns</p>\n",
       "</div>"
      ],
      "text/plain": [
       "          speakerid     lastname firstname chamber state gender party  \\\n",
       "73656   108120961.0         REID     HARRY       S    NV      M     D   \n",
       "131007  109117690.0     MCCARTHY   CAROLYN       H    NY      F     D   \n",
       "24283   108118701.0        BOXER   BARBARA       S    CA      F     D   \n",
       "71398   107119920.0  JACKSON LEE    SHEILA       H    TX      F     D   \n",
       "123798  110120540.0       MILLER   CANDICE       H    MI      F     R   \n",
       "...             ...          ...       ...     ...   ...    ...   ...   \n",
       "140393  109117680.0     MATHESON       JIM       H    UT      M     D   \n",
       "5046    105114080.0        DELAY    THOMAS       H    TX      M     R   \n",
       "145908  109116800.0        FRANK    BARNEY       H    MA      M     D   \n",
       "121038  108113851.0        SMITH    GORDON       S    OR      M     R   \n",
       "65475   111117870.0         WOLF     FRANK       H    VA      M     R   \n",
       "\n",
       "                                                 document congress  subject  \\\n",
       "73656   selection shared responsibility president sena...      108    trade   \n",
       "131007  feel safe know terrorists strike one paying at...      109  foreign   \n",
       "24283   challenges face billion tons carbon dioxide ca...      108    women   \n",
       "71398   approach nations energy needs one bipartisan c...      107  foreign   \n",
       "123798  throughout career supporter workers rights bar...      110    labor   \n",
       "...                                                   ...      ...      ...   \n",
       "140393  opportunity share remarks hr  patient navigato...      109  defense   \n",
       "5046    governments relying sound science resisting me...      105  economy   \n",
       "145908  mars happen amendment defeated well voted way ...      109  foreign   \n",
       "121038  bravery heroism polish citizens revolted bruta...      108  foreign   \n",
       "65475   support resolution name us office located st s...      111  justice   \n",
       "\n",
       "        ...  guns  health  immigration  justice  labor  minorities  money  \\\n",
       "73656   ...     0       0            0        0      0           0      0   \n",
       "131007  ...     0       0            0        0      0           0      0   \n",
       "24283   ...     0       0            0        0      0           0      0   \n",
       "71398   ...     0       0            0        0      0           0      0   \n",
       "123798  ...     0       0            0        0      1           0      0   \n",
       "...     ...   ...     ...          ...      ...    ...         ...    ...   \n",
       "140393  ...     0       0            0        0      0           0      0   \n",
       "5046    ...     0       0            0        0      0           0      0   \n",
       "145908  ...     0       0            0        0      0           0      0   \n",
       "121038  ...     0       0            0        0      0           0      0   \n",
       "65475   ...     0       0            0        1      0           0      0   \n",
       "\n",
       "        tax  trade  women  \n",
       "73656     0      1      0  \n",
       "131007    0      0      0  \n",
       "24283     0      0      1  \n",
       "71398     0      0      0  \n",
       "123798    0      0      0  \n",
       "...     ...    ...    ...  \n",
       "140393    0      0      0  \n",
       "5046      0      0      0  \n",
       "145908    0      0      0  \n",
       "121038    0      0      0  \n",
       "65475     0      0      0  \n",
       "\n",
       "[100 rows x 334 columns]"
      ]
     },
     "execution_count": 10,
     "metadata": {},
     "output_type": "execute_result"
    }
   ],
   "source": [
    "subject_df = ohe_attributes(docs_df)\n",
    "subject_df"
   ]
  },
  {
   "cell_type": "code",
   "execution_count": 213,
   "metadata": {},
   "outputs": [],
   "source": [
    "def build_tokenizer_dict(subject_df):\n",
    "    \n",
    "    max_len = MAX_SPAN_LENGTH\n",
    "    \n",
    "    # building tokenizers, word indecies, and train data\n",
    "    speech_tokenizer = Tokenizer()\n",
    "    speech_tokenizer.fit_on_texts(subject_df['document'].values)\n",
    "    speeches_word_index = speech_tokenizer.word_index\n",
    "    speeches_train = speech_tokenizer.texts_to_sequences(subject_df['document'].values)\n",
    "    speeches_train_padded = pad_sequences(speeches_train, maxlen=MAX_SPAN_LENGTH, padding=\"post\")\n",
    "    \n",
    "\n",
    "\n",
    "    tokenizers = {}\n",
    "    tokenizers['speech'] = {'tokenizer': speech_tokenizer,\n",
    "                            'train': speeches_train,\n",
    "                            'train_padded': speeches_train_padded,\n",
    "                            'word_index': speeches_word_index}        \n",
    "        \n",
    "    return tokenizers"
   ]
  },
  {
   "cell_type": "code",
   "execution_count": 214,
   "metadata": {},
   "outputs": [],
   "source": [
    "token_dict = build_tokenizer_dict(subject_df)"
   ]
  },
  {
   "cell_type": "code",
   "execution_count": 215,
   "metadata": {},
   "outputs": [
    {
     "data": {
      "text/plain": [
       "1636"
      ]
     },
     "execution_count": 215,
     "metadata": {},
     "output_type": "execute_result"
    }
   ],
   "source": [
    "speeches_word_index = token_dict['speech']['word_index']\n",
    "vocab_size = len(speeches_word_index)\n",
    "vocab_size"
   ]
  },
  {
   "cell_type": "code",
   "execution_count": 216,
   "metadata": {},
   "outputs": [
    {
     "data": {
      "text/plain": [
       "100"
      ]
     },
     "execution_count": 216,
     "metadata": {},
     "output_type": "execute_result"
    }
   ],
   "source": [
    "speeches_train = token_dict['speech']['train']\n",
    "len(speeches_train)"
   ]
  },
  {
   "cell_type": "code",
   "execution_count": 217,
   "metadata": {},
   "outputs": [
    {
     "data": {
      "text/plain": [
       "<keras_preprocessing.text.Tokenizer at 0x7faeecf09b90>"
      ]
     },
     "execution_count": 217,
     "metadata": {},
     "output_type": "execute_result"
    }
   ],
   "source": [
    "token_dict['speech']['tokenizer']"
   ]
  },
  {
   "cell_type": "code",
   "execution_count": 218,
   "metadata": {},
   "outputs": [
    {
     "data": {
      "text/plain": [
       "[[978]]"
      ]
     },
     "execution_count": 218,
     "metadata": {},
     "output_type": "execute_result"
    }
   ],
   "source": [
    "token_dict['speech']['tokenizer'].texts_to_sequences([\"hello my names is rowan\"])"
   ]
  },
  {
   "cell_type": "code",
   "execution_count": 219,
   "metadata": {},
   "outputs": [
    {
     "data": {
      "text/plain": [
       "array([[ 594,  595,  116, ...,    0,    0,    0],\n",
       "       [ 173,  307,   12, ...,    0,    0,    0],\n",
       "       [ 616,  120,   13, ...,    0,    0,    0],\n",
       "       ...,\n",
       "       [ 588,  244,  319, ...,    0,    0,    0],\n",
       "       [1609, 1610,  590, ...,    0,    0,    0],\n",
       "       [   5,  109, 1628, ...,    0,    0,    0]], dtype=int32)"
      ]
     },
     "execution_count": 219,
     "metadata": {},
     "output_type": "execute_result"
    }
   ],
   "source": [
    "speeches_train_padded = token_dict['speech']['train_padded']\n",
    "speeches_train_padded"
   ]
  },
  {
   "cell_type": "code",
   "execution_count": 197,
   "metadata": {},
   "outputs": [
    {
     "data": {
      "text/plain": [
       "73656     108120961.0\n",
       "131007    109117690.0\n",
       "24283     108118701.0\n",
       "71398     107119920.0\n",
       "123798    110120540.0\n",
       "             ...     \n",
       "140393    109117680.0\n",
       "5046      105114080.0\n",
       "145908    109116800.0\n",
       "121038    108113851.0\n",
       "65475     111117870.0\n",
       "Name: speakerid, Length: 100, dtype: float64"
      ]
     },
     "execution_count": 197,
     "metadata": {},
     "output_type": "execute_result"
    }
   ],
   "source": [
    "subject_df['speakerid'].astype(float)"
   ]
  },
  {
   "cell_type": "code",
   "execution_count": 198,
   "metadata": {},
   "outputs": [
    {
     "ename": "AttributeError",
     "evalue": "'float' object has no attribute 'lower'",
     "output_type": "error",
     "traceback": [
      "\u001b[0;31m---------------------------------------------------------------------------\u001b[0m",
      "\u001b[0;31mAttributeError\u001b[0m                            Traceback (most recent call last)",
      "\u001b[0;32m<ipython-input-198-8dd8612efded>\u001b[0m in \u001b[0;36m<module>\u001b[0;34m\u001b[0m\n\u001b[1;32m      1\u001b[0m \u001b[0mspeaker_tokenizer\u001b[0m \u001b[0;34m=\u001b[0m \u001b[0mTokenizer\u001b[0m\u001b[0;34m(\u001b[0m\u001b[0;34m)\u001b[0m\u001b[0;34m\u001b[0m\u001b[0;34m\u001b[0m\u001b[0m\n\u001b[0;32m----> 2\u001b[0;31m \u001b[0mspeaker_tokenizer\u001b[0m\u001b[0;34m.\u001b[0m\u001b[0mfit_on_texts\u001b[0m\u001b[0;34m(\u001b[0m\u001b[0msubject_df\u001b[0m\u001b[0;34m[\u001b[0m\u001b[0;34m'speakerid'\u001b[0m\u001b[0;34m]\u001b[0m\u001b[0;34m.\u001b[0m\u001b[0mastype\u001b[0m\u001b[0;34m(\u001b[0m\u001b[0mfloat\u001b[0m\u001b[0;34m)\u001b[0m\u001b[0;34m)\u001b[0m\u001b[0;34m\u001b[0m\u001b[0;34m\u001b[0m\u001b[0m\n\u001b[0m\u001b[1;32m      3\u001b[0m \u001b[0mspeaker_train\u001b[0m \u001b[0;34m=\u001b[0m \u001b[0mspeaker_tokenizer\u001b[0m\u001b[0;34m.\u001b[0m\u001b[0mtexts_to_sequences\u001b[0m\u001b[0;34m(\u001b[0m\u001b[0msubject_df\u001b[0m\u001b[0;34m[\u001b[0m\u001b[0;34m'speakerid'\u001b[0m\u001b[0;34m]\u001b[0m\u001b[0;34m)\u001b[0m\u001b[0;34m\u001b[0m\u001b[0;34m\u001b[0m\u001b[0m\n",
      "\u001b[0;32m~/anaconda3/lib/python3.7/site-packages/keras_preprocessing/text.py\u001b[0m in \u001b[0;36mfit_on_texts\u001b[0;34m(self, texts)\u001b[0m\n\u001b[1;32m    221\u001b[0m                                             \u001b[0mself\u001b[0m\u001b[0;34m.\u001b[0m\u001b[0mfilters\u001b[0m\u001b[0;34m,\u001b[0m\u001b[0;34m\u001b[0m\u001b[0;34m\u001b[0m\u001b[0m\n\u001b[1;32m    222\u001b[0m                                             \u001b[0mself\u001b[0m\u001b[0;34m.\u001b[0m\u001b[0mlower\u001b[0m\u001b[0;34m,\u001b[0m\u001b[0;34m\u001b[0m\u001b[0;34m\u001b[0m\u001b[0m\n\u001b[0;32m--> 223\u001b[0;31m                                             self.split)\n\u001b[0m\u001b[1;32m    224\u001b[0m             \u001b[0;32mfor\u001b[0m \u001b[0mw\u001b[0m \u001b[0;32min\u001b[0m \u001b[0mseq\u001b[0m\u001b[0;34m:\u001b[0m\u001b[0;34m\u001b[0m\u001b[0;34m\u001b[0m\u001b[0m\n\u001b[1;32m    225\u001b[0m                 \u001b[0;32mif\u001b[0m \u001b[0mw\u001b[0m \u001b[0;32min\u001b[0m \u001b[0mself\u001b[0m\u001b[0;34m.\u001b[0m\u001b[0mword_counts\u001b[0m\u001b[0;34m:\u001b[0m\u001b[0;34m\u001b[0m\u001b[0;34m\u001b[0m\u001b[0m\n",
      "\u001b[0;32m~/anaconda3/lib/python3.7/site-packages/keras_preprocessing/text.py\u001b[0m in \u001b[0;36mtext_to_word_sequence\u001b[0;34m(text, filters, lower, split)\u001b[0m\n\u001b[1;32m     41\u001b[0m     \"\"\"\n\u001b[1;32m     42\u001b[0m     \u001b[0;32mif\u001b[0m \u001b[0mlower\u001b[0m\u001b[0;34m:\u001b[0m\u001b[0;34m\u001b[0m\u001b[0;34m\u001b[0m\u001b[0m\n\u001b[0;32m---> 43\u001b[0;31m         \u001b[0mtext\u001b[0m \u001b[0;34m=\u001b[0m \u001b[0mtext\u001b[0m\u001b[0;34m.\u001b[0m\u001b[0mlower\u001b[0m\u001b[0;34m(\u001b[0m\u001b[0;34m)\u001b[0m\u001b[0;34m\u001b[0m\u001b[0;34m\u001b[0m\u001b[0m\n\u001b[0m\u001b[1;32m     44\u001b[0m \u001b[0;34m\u001b[0m\u001b[0m\n\u001b[1;32m     45\u001b[0m     \u001b[0;32mif\u001b[0m \u001b[0msys\u001b[0m\u001b[0;34m.\u001b[0m\u001b[0mversion_info\u001b[0m \u001b[0;34m<\u001b[0m \u001b[0;34m(\u001b[0m\u001b[0;36m3\u001b[0m\u001b[0;34m,\u001b[0m\u001b[0;34m)\u001b[0m\u001b[0;34m:\u001b[0m\u001b[0;34m\u001b[0m\u001b[0;34m\u001b[0m\u001b[0m\n",
      "\u001b[0;31mAttributeError\u001b[0m: 'float' object has no attribute 'lower'"
     ]
    }
   ],
   "source": [
    "speaker_tokenizer = Tokenizer()\n",
    "speaker_tokenizer.fit_on_texts(subject_df['speakerid'].astype(float))\n",
    "speaker_train = speaker_tokenizer.texts_to_sequences(subject_df['speakerid'])"
   ]
  },
  {
   "cell_type": "code",
   "execution_count": 199,
   "metadata": {},
   "outputs": [
    {
     "ename": "NameError",
     "evalue": "name 'speaker' is not defined",
     "output_type": "error",
     "traceback": [
      "\u001b[0;31m---------------------------------------------------------------------------\u001b[0m",
      "\u001b[0;31mNameError\u001b[0m                                 Traceback (most recent call last)",
      "\u001b[0;32m<ipython-input-199-2f34b399a0b9>\u001b[0m in \u001b[0;36m<module>\u001b[0;34m\u001b[0m\n\u001b[0;32m----> 1\u001b[0;31m \u001b[0mspeaker_train\u001b[0m \u001b[0;34m=\u001b[0m \u001b[0mnp\u001b[0m\u001b[0;34m.\u001b[0m\u001b[0marray\u001b[0m\u001b[0;34m(\u001b[0m\u001b[0mspeaker\u001b[0m\u001b[0;34m)\u001b[0m\u001b[0;34m\u001b[0m\u001b[0;34m\u001b[0m\u001b[0m\n\u001b[0m",
      "\u001b[0;31mNameError\u001b[0m: name 'speaker' is not defined"
     ]
    }
   ],
   "source": [
    "speaker_train = np.array(speaker)"
   ]
  },
  {
   "cell_type": "code",
   "execution_count": 158,
   "metadata": {},
   "outputs": [
    {
     "data": {
      "text/plain": [
       "73656     108120961.0\n",
       "131007    109117690.0\n",
       "24283     108118701.0\n",
       "71398     107119920.0\n",
       "123798    110120540.0\n",
       "             ...     \n",
       "140393    109117680.0\n",
       "5046      105114080.0\n",
       "145908    109116800.0\n",
       "121038    108113851.0\n",
       "65475     111117870.0\n",
       "Name: speakerid, Length: 100, dtype: object"
      ]
     },
     "execution_count": 158,
     "metadata": {},
     "output_type": "execute_result"
    }
   ],
   "source": [
    "subject_df['speakerid']"
   ]
  },
  {
   "cell_type": "code",
   "execution_count": 161,
   "metadata": {},
   "outputs": [],
   "source": [
    "#speaker_train"
   ]
  },
  {
   "cell_type": "code",
   "execution_count": 162,
   "metadata": {},
   "outputs": [],
   "source": [
    "# speaker_tokenizer.word_index"
   ]
  },
  {
   "cell_type": "code",
   "execution_count": 16,
   "metadata": {},
   "outputs": [],
   "source": [
    "# Imports\n",
    "import tensorflow as tf\n",
    "import tensorflow.keras.backend as K\n",
    "from tensorflow.keras.layers import Embedding, Dense, Lambda, Input, Masking"
   ]
  },
  {
   "cell_type": "code",
   "execution_count": 17,
   "metadata": {},
   "outputs": [
    {
     "data": {
      "text/plain": [
       "['embeddings.py',\n",
       " 'rmn.py',\n",
       " 'token_mapping.py',\n",
       " '__init__.py',\n",
       " '__pycache__',\n",
       " 'orthoganlity_constraint.py']"
      ]
     },
     "execution_count": 17,
     "metadata": {},
     "output_type": "execute_result"
    }
   ],
   "source": [
    "os.chdir(\"../modeling\")\n",
    "os.listdir(os.getcwd())"
   ]
  },
  {
   "cell_type": "code",
   "execution_count": 19,
   "metadata": {},
   "outputs": [],
   "source": [
    "# run this cell two or three times for some reason\n",
    "os.chdir(\"../modeling\")\n",
    "from embeddings import *\n",
    "from orthoganlity_constraint import Orthoganal\n",
    "from rmn import RMN"
   ]
  },
  {
   "cell_type": "code",
   "execution_count": 20,
   "metadata": {},
   "outputs": [],
   "source": [
    "# build embedding matrix # takes about 5 minutes\n",
    "embeddings_index = fetch_embeddings()\n",
    "embeddings_matrix = build_embedding_matrix(speeches_word_index, embeddings_index)"
   ]
  },
  {
   "cell_type": "code",
   "execution_count": 21,
   "metadata": {},
   "outputs": [
    {
     "data": {
      "text/plain": [
       "1637"
      ]
     },
     "execution_count": 21,
     "metadata": {},
     "output_type": "execute_result"
    }
   ],
   "source": [
    "embeddings_matrix.shape[0]"
   ]
  },
  {
   "cell_type": "code",
   "execution_count": 263,
   "metadata": {},
   "outputs": [
    {
     "data": {
      "text/plain": [
       "array([-0.01791566,  0.08316332, -0.01519588, -0.1933912 , -0.19751326,\n",
       "        0.01797121,  0.20103093, -0.14794472, -0.01518396, -0.12063314,\n",
       "        0.01714208,  0.00101226, -0.21665704,  0.05622975,  0.10482712,\n",
       "        0.09804558,  0.07224398,  0.11483998, -0.10565284, -0.11654144,\n",
       "       -0.06322335,  0.11483998, -0.06322335, -0.16331345, -0.16331345,\n",
       "       -0.06347832,  0.05172918,  0.04884605, -0.05167143, -0.16331345,\n",
       "        0.05172918,  0.        ,  0.        ,  0.        ,  0.        ,\n",
       "        0.        ,  0.        ,  0.        ,  0.        ,  0.        ,\n",
       "        0.        ,  0.        ,  0.        ,  0.        ,  0.        ,\n",
       "        0.        ,  0.        ,  0.        ,  0.        ,  0.        ])"
      ]
     },
     "execution_count": 263,
     "metadata": {},
     "output_type": "execute_result"
    }
   ],
   "source": [
    "embeddings_matrix[speeches_train_padded[0]].mean(axis=1)"
   ]
  },
  {
   "cell_type": "code",
   "execution_count": 22,
   "metadata": {},
   "outputs": [
    {
     "data": {
      "text/plain": [
       "(100, 50)"
      ]
     },
     "execution_count": 22,
     "metadata": {},
     "output_type": "execute_result"
    }
   ],
   "source": [
    "# average of spane embeddings\n",
    "Vst_train = embeddings_matrix[speeches_train_padded].mean(axis=1)\n",
    "Vst_train.shape"
   ]
  },
  {
   "cell_type": "code",
   "execution_count": 22,
   "metadata": {},
   "outputs": [
    {
     "data": {
      "text/plain": [
       "float"
      ]
     },
     "execution_count": 22,
     "metadata": {},
     "output_type": "execute_result"
    }
   ],
   "source": [
    "type(embeddings_index['the'][0])"
   ]
  },
  {
   "cell_type": "code",
   "execution_count": 23,
   "metadata": {},
   "outputs": [
    {
     "data": {
      "text/plain": [
       "dict_keys(['speakerid'])"
      ]
     },
     "execution_count": 23,
     "metadata": {},
     "output_type": "execute_result"
    }
   ],
   "source": [
    "cols = ['speakerid', 'chamber', 'state', 'gender', 'party', 'congress', 'subject']\n",
    "metadata_dict = build_metadata_dict([\"speakerid\"], subject_df)\n",
    "metadata_dict.keys()"
   ]
  },
  {
   "cell_type": "code",
   "execution_count": 31,
   "metadata": {},
   "outputs": [
    {
     "name": "stdout",
     "output_type": "stream",
     "text": [
      "2\n"
     ]
    }
   ],
   "source": [
    "print(2)"
   ]
  },
  {
   "cell_type": "code",
   "execution_count": 165,
   "metadata": {},
   "outputs": [],
   "source": [
    "from gensim.corpora import Dictionary"
   ]
  },
  {
   "cell_type": "code",
   "execution_count": 166,
   "metadata": {},
   "outputs": [
    {
     "data": {
      "text/plain": [
       "73656     108120961.0\n",
       "131007    109117690.0\n",
       "24283     108118701.0\n",
       "71398     107119920.0\n",
       "123798    110120540.0\n",
       "             ...     \n",
       "140393    109117680.0\n",
       "5046      105114080.0\n",
       "145908    109116800.0\n",
       "121038    108113851.0\n",
       "65475     111117870.0\n",
       "Name: speakerid, Length: 100, dtype: object"
      ]
     },
     "execution_count": 166,
     "metadata": {},
     "output_type": "execute_result"
    }
   ],
   "source": [
    "docs_df[\"speakerid\"]"
   ]
  },
  {
   "cell_type": "code",
   "execution_count": 167,
   "metadata": {},
   "outputs": [],
   "source": [
    "speaker_dct = Dictionary([docs_df[\"speakerid\"]])"
   ]
  },
  {
   "cell_type": "code",
   "execution_count": 200,
   "metadata": {},
   "outputs": [],
   "source": [
    "speaker_train = [[speaker_dct.token2id[s]] for s in docs_df[\"speakerid\"]]"
   ]
  },
  {
   "cell_type": "code",
   "execution_count": 201,
   "metadata": {},
   "outputs": [
    {
     "data": {
      "text/plain": [
       "[[58],\n",
       " [66],\n",
       " [56],\n",
       " [42],\n",
       " [85],\n",
       " [74],\n",
       " [79],\n",
       " [77],\n",
       " [57],\n",
       " [18],\n",
       " [53],\n",
       " [23],\n",
       " [69],\n",
       " [86],\n",
       " [62],\n",
       " [28],\n",
       " [91],\n",
       " [64],\n",
       " [22],\n",
       " [51],\n",
       " [43],\n",
       " [30],\n",
       " [14],\n",
       " [70],\n",
       " [16],\n",
       " [2],\n",
       " [83],\n",
       " [89],\n",
       " [25],\n",
       " [44],\n",
       " [72],\n",
       " [3],\n",
       " [95],\n",
       " [88],\n",
       " [1],\n",
       " [60],\n",
       " [94],\n",
       " [37],\n",
       " [7],\n",
       " [50],\n",
       " [31],\n",
       " [87],\n",
       " [24],\n",
       " [87],\n",
       " [82],\n",
       " [35],\n",
       " [55],\n",
       " [40],\n",
       " [19],\n",
       " [39],\n",
       " [13],\n",
       " [36],\n",
       " [45],\n",
       " [48],\n",
       " [5],\n",
       " [9],\n",
       " [33],\n",
       " [21],\n",
       " [61],\n",
       " [0],\n",
       " [80],\n",
       " [49],\n",
       " [17],\n",
       " [59],\n",
       " [6],\n",
       " [81],\n",
       " [68],\n",
       " [52],\n",
       " [54],\n",
       " [92],\n",
       " [97],\n",
       " [15],\n",
       " [32],\n",
       " [8],\n",
       " [76],\n",
       " [10],\n",
       " [12],\n",
       " [46],\n",
       " [75],\n",
       " [73],\n",
       " [27],\n",
       " [20],\n",
       " [11],\n",
       " [61],\n",
       " [96],\n",
       " [84],\n",
       " [26],\n",
       " [93],\n",
       " [29],\n",
       " [67],\n",
       " [34],\n",
       " [71],\n",
       " [41],\n",
       " [38],\n",
       " [78],\n",
       " [65],\n",
       " [4],\n",
       " [63],\n",
       " [47],\n",
       " [90]]"
      ]
     },
     "execution_count": 201,
     "metadata": {},
     "output_type": "execute_result"
    }
   ],
   "source": [
    "speaker_train"
   ]
  },
  {
   "cell_type": "code",
   "execution_count": 27,
   "metadata": {},
   "outputs": [
    {
     "data": {
      "text/plain": [
       "(100, 98)"
      ]
     },
     "execution_count": 27,
     "metadata": {},
     "output_type": "execute_result"
    }
   ],
   "source": [
    "metadata_dict['speakerid']['input'].shape"
   ]
  },
  {
   "cell_type": "code",
   "execution_count": 37,
   "metadata": {},
   "outputs": [
    {
     "data": {
      "text/html": [
       "<div>\n",
       "<style scoped>\n",
       "    .dataframe tbody tr th:only-of-type {\n",
       "        vertical-align: middle;\n",
       "    }\n",
       "\n",
       "    .dataframe tbody tr th {\n",
       "        vertical-align: top;\n",
       "    }\n",
       "\n",
       "    .dataframe thead th {\n",
       "        text-align: right;\n",
       "    }\n",
       "</style>\n",
       "<table border=\"1\" class=\"dataframe\">\n",
       "  <thead>\n",
       "    <tr style=\"text-align: right;\">\n",
       "      <th></th>\n",
       "      <th>speakerid</th>\n",
       "      <th>lastname</th>\n",
       "      <th>firstname</th>\n",
       "      <th>chamber</th>\n",
       "      <th>state</th>\n",
       "      <th>gender</th>\n",
       "      <th>party</th>\n",
       "      <th>document</th>\n",
       "      <th>congress</th>\n",
       "      <th>subject</th>\n",
       "    </tr>\n",
       "  </thead>\n",
       "  <tbody>\n",
       "    <tr>\n",
       "      <td>728</td>\n",
       "      <td>105117660.0</td>\n",
       "      <td>KINGSTON</td>\n",
       "      <td>JACK</td>\n",
       "      <td>H</td>\n",
       "      <td>GA</td>\n",
       "      <td>M</td>\n",
       "      <td>R</td>\n",
       "      <td>want make sure understand talking child child ...</td>\n",
       "      <td>105</td>\n",
       "      <td>tax</td>\n",
       "    </tr>\n",
       "    <tr>\n",
       "      <td>51361</td>\n",
       "      <td>109114430.0</td>\n",
       "      <td>RYUN</td>\n",
       "      <td>JIM</td>\n",
       "      <td>H</td>\n",
       "      <td>KS</td>\n",
       "      <td>M</td>\n",
       "      <td>R</td>\n",
       "      <td>uninsured united states number grown since  ei...</td>\n",
       "      <td>109</td>\n",
       "      <td>health</td>\n",
       "    </tr>\n",
       "    <tr>\n",
       "      <td>26040</td>\n",
       "      <td>105112580.0</td>\n",
       "      <td>LIVINGSTON</td>\n",
       "      <td>ROBERT</td>\n",
       "      <td>H</td>\n",
       "      <td>LA</td>\n",
       "      <td>M</td>\n",
       "      <td>R</td>\n",
       "      <td>fact appreciate comments talking bill bill bit...</td>\n",
       "      <td>105</td>\n",
       "      <td>foreign</td>\n",
       "    </tr>\n",
       "    <tr>\n",
       "      <td>42768</td>\n",
       "      <td>106113210.0</td>\n",
       "      <td>MORELLA</td>\n",
       "      <td>CONSTANCE</td>\n",
       "      <td>H</td>\n",
       "      <td>MD</td>\n",
       "      <td>F</td>\n",
       "      <td>R</td>\n",
       "      <td>impaired health antisocial behavior floor ofte...</td>\n",
       "      <td>106</td>\n",
       "      <td>government</td>\n",
       "    </tr>\n",
       "    <tr>\n",
       "      <td>3190</td>\n",
       "      <td>107118111.0</td>\n",
       "      <td>CANTWELL</td>\n",
       "      <td>MARIA</td>\n",
       "      <td>S</td>\n",
       "      <td>WA</td>\n",
       "      <td>F</td>\n",
       "      <td>D</td>\n",
       "      <td>commitment legislation together also appreciat...</td>\n",
       "      <td>107</td>\n",
       "      <td>mail</td>\n",
       "    </tr>\n",
       "    <tr>\n",
       "      <td>...</td>\n",
       "      <td>...</td>\n",
       "      <td>...</td>\n",
       "      <td>...</td>\n",
       "      <td>...</td>\n",
       "      <td>...</td>\n",
       "      <td>...</td>\n",
       "      <td>...</td>\n",
       "      <td>...</td>\n",
       "      <td>...</td>\n",
       "      <td>...</td>\n",
       "    </tr>\n",
       "    <tr>\n",
       "      <td>90678</td>\n",
       "      <td>108119920.0</td>\n",
       "      <td>JACKSON LEE</td>\n",
       "      <td>SHEILA</td>\n",
       "      <td>H</td>\n",
       "      <td>TX</td>\n",
       "      <td>F</td>\n",
       "      <td>D</td>\n",
       "      <td>human intelligence problem intelligence system...</td>\n",
       "      <td>108</td>\n",
       "      <td>trade</td>\n",
       "    </tr>\n",
       "    <tr>\n",
       "      <td>31359</td>\n",
       "      <td>106112451.0</td>\n",
       "      <td>FITZGERALD</td>\n",
       "      <td>PETER</td>\n",
       "      <td>S</td>\n",
       "      <td>IL</td>\n",
       "      <td>M</td>\n",
       "      <td>R</td>\n",
       "      <td>something million project back million million...</td>\n",
       "      <td>106</td>\n",
       "      <td>tax</td>\n",
       "    </tr>\n",
       "    <tr>\n",
       "      <td>133626</td>\n",
       "      <td>111113981.0</td>\n",
       "      <td>BOND</td>\n",
       "      <td>CHRISTOPHER</td>\n",
       "      <td>S</td>\n",
       "      <td>MO</td>\n",
       "      <td>M</td>\n",
       "      <td>R</td>\n",
       "      <td>expected get something else working found expe...</td>\n",
       "      <td>111</td>\n",
       "      <td>labor</td>\n",
       "    </tr>\n",
       "    <tr>\n",
       "      <td>33413</td>\n",
       "      <td>110117710.0</td>\n",
       "      <td>MCKEON</td>\n",
       "      <td>HOWARD</td>\n",
       "      <td>H</td>\n",
       "      <td>CA</td>\n",
       "      <td>M</td>\n",
       "      <td>R</td>\n",
       "      <td>entitlement spending expense lowand middleinco...</td>\n",
       "      <td>110</td>\n",
       "      <td>crime</td>\n",
       "    </tr>\n",
       "    <tr>\n",
       "      <td>7169</td>\n",
       "      <td>105120730.0</td>\n",
       "      <td>PALLONE</td>\n",
       "      <td>FRANK</td>\n",
       "      <td>H</td>\n",
       "      <td>NJ</td>\n",
       "      <td>M</td>\n",
       "      <td>D</td>\n",
       "      <td>schools reason federal government cannot partn...</td>\n",
       "      <td>105</td>\n",
       "      <td>labor</td>\n",
       "    </tr>\n",
       "  </tbody>\n",
       "</table>\n",
       "<p>100 rows × 10 columns</p>\n",
       "</div>"
      ],
      "text/plain": [
       "          speakerid     lastname    firstname chamber state gender party  \\\n",
       "728     105117660.0     KINGSTON         JACK       H    GA      M     R   \n",
       "51361   109114430.0         RYUN          JIM       H    KS      M     R   \n",
       "26040   105112580.0   LIVINGSTON       ROBERT       H    LA      M     R   \n",
       "42768   106113210.0      MORELLA    CONSTANCE       H    MD      F     R   \n",
       "3190    107118111.0     CANTWELL        MARIA       S    WA      F     D   \n",
       "...             ...          ...          ...     ...   ...    ...   ...   \n",
       "90678   108119920.0  JACKSON LEE       SHEILA       H    TX      F     D   \n",
       "31359   106112451.0   FITZGERALD        PETER       S    IL      M     R   \n",
       "133626  111113981.0         BOND  CHRISTOPHER       S    MO      M     R   \n",
       "33413   110117710.0       MCKEON       HOWARD       H    CA      M     R   \n",
       "7169    105120730.0      PALLONE        FRANK       H    NJ      M     D   \n",
       "\n",
       "                                                 document congress     subject  \n",
       "728     want make sure understand talking child child ...      105         tax  \n",
       "51361   uninsured united states number grown since  ei...      109      health  \n",
       "26040   fact appreciate comments talking bill bill bit...      105     foreign  \n",
       "42768   impaired health antisocial behavior floor ofte...      106  government  \n",
       "3190    commitment legislation together also appreciat...      107        mail  \n",
       "...                                                   ...      ...         ...  \n",
       "90678   human intelligence problem intelligence system...      108       trade  \n",
       "31359   something million project back million million...      106         tax  \n",
       "133626  expected get something else working found expe...      111       labor  \n",
       "33413   entitlement spending expense lowand middleinco...      110       crime  \n",
       "7169    schools reason federal government cannot partn...      105       labor  \n",
       "\n",
       "[100 rows x 10 columns]"
      ]
     },
     "execution_count": 37,
     "metadata": {},
     "output_type": "execute_result"
    }
   ],
   "source": [
    "docs_df"
   ]
  },
  {
   "cell_type": "code",
   "execution_count": null,
   "metadata": {},
   "outputs": [],
   "source": []
  },
  {
   "cell_type": "code",
   "execution_count": 289,
   "metadata": {},
   "outputs": [
    {
     "data": {
      "text/plain": [
       "(1637, 50)"
      ]
     },
     "execution_count": 289,
     "metadata": {},
     "output_type": "execute_result"
    }
   ],
   "source": [
    "embeddings_matrix.shape"
   ]
  },
  {
   "cell_type": "code",
   "execution_count": 353,
   "metadata": {},
   "outputs": [],
   "source": [
    "import tensorflow as tf\n",
    "import tensorflow.keras.backend as K\n",
    "\n",
    "from tensorflow.keras.layers import Embedding, Dense, Lambda, Input, Reshape\n",
    "from embeddings import EMBEDDING_DIM\n",
    "\n",
    "\n",
    "# constants\n",
    "MAX_SPAN_LENGTH = 50\n",
    "NUM_TOPICS = 20\n",
    "OPTIMIZER = 'adam'\n",
    "\n",
    "\n",
    "class RMN(object):\n",
    "    \n",
    "    def __init__(\n",
    "        self, \n",
    "        embedding_dim = EMBEDDING_DIM, \n",
    "        num_topics = NUM_TOPICS):\n",
    "        \n",
    "        self.embedding_dim = embedding_dim\n",
    "        self.num_topics = num_topics\n",
    "        self.model = None\n",
    "    \n",
    "    def model_loss(self, rt_layer, embedding_layer, lamb = 1.0):\n",
    "        R = K.transpose(rt_layer)\n",
    "        \n",
    "        def custom_loss(y_true, y_pred):\n",
    "            hinge_loss = tf.keras.losses.hinge(y_true, y_pred)\n",
    "            RR_t = K.dot(R, K.transpose(R))\n",
    "            Id_mat = K.eye(self.embedding_dim)\n",
    "            orth_penalty = K.sqrt(K.sum(K.square(RR_t - Id_mat)))\n",
    "            \n",
    "            return hinge_loss + lamb*orth_penalty\n",
    "        \n",
    "        return custom_loss\n",
    "    \n",
    "    def build_model(self, metadata_dict):\n",
    "\n",
    "        vt = Input(shape=(MAX_SPAN_LENGTH,), name='Span.Input')\n",
    "    \n",
    "        input_layers = [vt]\n",
    "        embedding_layers = [vt]\n",
    "        for col in metadata_dict.keys():\n",
    "            # emedding layers\n",
    "            input_layer = Input(shape=(1,), name= col + '.Input')\n",
    "            embedding_init = Embedding(\n",
    "                input_dim = metadata_dict[col]['input_dim'], \n",
    "                output_dim = self.embedding_dim,\n",
    "                input_length = 1)(input_layer)\n",
    "            \n",
    "            # reshape\n",
    "            embedding_layer = Reshape((self.embedding_dim,), name=col + '.Embed.Layer')(embedding_init)\n",
    "\n",
    "            input_layers.append(input_layer)\n",
    "            embedding_layers.append(embedding_layer)\n",
    "\n",
    "        # concat speaker metadata embeddings\n",
    "        _ht = tf.keras.layers.Concatenate(axis=0, name = 'Concat.Layer')(embedding_layers)\n",
    "\n",
    "        # dense layer\n",
    "        ht = Dense(units = self.embedding_dim, \n",
    "                   input_shape = (_ht.shape[1], ), \n",
    "                   activation = \"relu\", name = \"Wh\")(_ht)\n",
    "\n",
    "        # dense layer with softmax activation, (where previous states will eventually be inserted) \n",
    "        dt = Dense(units = self.num_topics, \n",
    "                   input_shape = (self.embedding_dim, ), \n",
    "                   activation = \"softmax\", name = \"Wd\")(ht)\n",
    "\n",
    "        # reconstruction layer\n",
    "        rt = Dense(units = self.embedding_dim,\n",
    "                   input_shape = (self.num_topics, ),\n",
    "                   activation = \"linear\",\n",
    "                   # kernel_regularizer = Orthoganal(),\n",
    "                   name = \"R\")(dt)\n",
    "\n",
    "        model = tf.keras.Model(inputs=input_layers, outputs=rt)\n",
    "        model.compile(optimizer = OPTIMIZER, loss = self.model_loss(rt, st_embedded))\n",
    "\n",
    "        self.model = model\n",
    "        return model   "
   ]
  },
  {
   "cell_type": "code",
   "execution_count": 354,
   "metadata": {},
   "outputs": [
    {
     "name": "stdout",
     "output_type": "stream",
     "text": [
      "Model: \"model_46\"\n",
      "__________________________________________________________________________________________________\n",
      "Layer (type)                    Output Shape         Param #     Connected to                     \n",
      "==================================================================================================\n",
      "speakerid.Input (InputLayer)    [(None, 1)]          0                                            \n",
      "__________________________________________________________________________________________________\n",
      "embedding_131 (Embedding)       (None, 1, 50)        4900        speakerid.Input[0][0]            \n",
      "__________________________________________________________________________________________________\n",
      "Span.Input (InputLayer)         [(None, 50)]         0                                            \n",
      "__________________________________________________________________________________________________\n",
      "speakerid.Embed.Layer (Reshape) (None, 50)           0           embedding_131[0][0]              \n",
      "__________________________________________________________________________________________________\n",
      "Concat.Layer (Concatenate)      (None, 50)           0           Span.Input[0][0]                 \n",
      "                                                                 speakerid.Embed.Layer[0][0]      \n",
      "__________________________________________________________________________________________________\n",
      "Wh (Dense)                      (None, 50)           2550        Concat.Layer[0][0]               \n",
      "__________________________________________________________________________________________________\n",
      "Wd (Dense)                      (None, 20)           1020        Wh[0][0]                         \n",
      "__________________________________________________________________________________________________\n",
      "R (Dense)                       (None, 50)           1050        Wd[0][0]                         \n",
      "==================================================================================================\n",
      "Total params: 9,520\n",
      "Trainable params: 9,520\n",
      "Non-trainable params: 0\n",
      "__________________________________________________________________________________________________\n"
     ]
    }
   ],
   "source": [
    "np.random.seed(565)\n",
    "rmn = RMN()\n",
    "rmn.build_model(metadata_dict)\n",
    "rmn.model.summary()"
   ]
  },
  {
   "cell_type": "code",
   "execution_count": 355,
   "metadata": {},
   "outputs": [
    {
     "name": "stdout",
     "output_type": "stream",
     "text": [
      "Train on 100 samples\n",
      "Epoch 1/10\n",
      "100/100 [==============================] - 2s 20ms/sample - loss: 8.0077\n",
      "Epoch 2/10\n",
      "100/100 [==============================] - 0s 3ms/sample - loss: 7.9970\n",
      "Epoch 3/10\n",
      "100/100 [==============================] - 0s 3ms/sample - loss: 7.9392\n",
      "Epoch 4/10\n",
      "100/100 [==============================] - 0s 3ms/sample - loss: 7.9281\n",
      "Epoch 5/10\n",
      "100/100 [==============================] - 0s 3ms/sample - loss: 7.9246\n",
      "Epoch 6/10\n",
      "100/100 [==============================] - 0s 2ms/sample - loss: 7.9236\n",
      "Epoch 7/10\n",
      "100/100 [==============================] - 0s 2ms/sample - loss: 7.9230\n",
      "Epoch 8/10\n",
      "100/100 [==============================] - 0s 2ms/sample - loss: 7.9228\n",
      "Epoch 9/10\n",
      "100/100 [==============================] - 0s 2ms/sample - loss: 7.9226\n",
      "Epoch 10/10\n",
      "100/100 [==============================] - 0s 3ms/sample - loss: 7.9225\n"
     ]
    },
    {
     "data": {
      "text/plain": [
       "<tensorflow.python.keras.callbacks.History at 0x7faf10013b10>"
      ]
     },
     "execution_count": 355,
     "metadata": {},
     "output_type": "execute_result"
    }
   ],
   "source": [
    "inputs = [Vst_train, speaker_train]\n",
    "# model.fit(x = inputs, y = Vst_train, batch_size=2, epochs = 5)\n",
    "model.fit(x = inputs, y = Vst_train, batch_size = 1, epochs = 10)"
   ]
  },
  {
   "cell_type": "code",
   "execution_count": 339,
   "metadata": {},
   "outputs": [],
   "source": [
    "E  = K.transpose(st_embedded)"
   ]
  },
  {
   "cell_type": "code",
   "execution_count": 341,
   "metadata": {},
   "outputs": [
    {
     "ename": "ValueError",
     "evalue": "Cannot evaluate tensor using `eval()`: No default session is registered. Use `with sess.as_default()` or pass an explicit session to `eval(session=sess)`",
     "output_type": "error",
     "traceback": [
      "\u001b[0;31m---------------------------------------------------------------------------\u001b[0m",
      "\u001b[0;31mValueError\u001b[0m                                Traceback (most recent call last)",
      "\u001b[0;32m<ipython-input-341-77d6f484d3ec>\u001b[0m in \u001b[0;36m<module>\u001b[0;34m\u001b[0m\n\u001b[0;32m----> 1\u001b[0;31m \u001b[0mE\u001b[0m\u001b[0;34m[\u001b[0m\u001b[0;36m2\u001b[0m\u001b[0;34m:\u001b[0m\u001b[0;34m:\u001b[0m\u001b[0;34m]\u001b[0m\u001b[0;34m.\u001b[0m\u001b[0meval\u001b[0m\u001b[0;34m(\u001b[0m\u001b[0;34m)\u001b[0m\u001b[0;34m\u001b[0m\u001b[0;34m\u001b[0m\u001b[0m\n\u001b[0m",
      "\u001b[0;32m~/anaconda3/lib/python3.7/site-packages/tensorflow_core/python/framework/ops.py\u001b[0m in \u001b[0;36meval\u001b[0;34m(self, feed_dict, session)\u001b[0m\n\u001b[1;32m    796\u001b[0m \u001b[0;34m\u001b[0m\u001b[0m\n\u001b[1;32m    797\u001b[0m     \"\"\"\n\u001b[0;32m--> 798\u001b[0;31m     \u001b[0;32mreturn\u001b[0m \u001b[0m_eval_using_default_session\u001b[0m\u001b[0;34m(\u001b[0m\u001b[0mself\u001b[0m\u001b[0;34m,\u001b[0m \u001b[0mfeed_dict\u001b[0m\u001b[0;34m,\u001b[0m \u001b[0mself\u001b[0m\u001b[0;34m.\u001b[0m\u001b[0mgraph\u001b[0m\u001b[0;34m,\u001b[0m \u001b[0msession\u001b[0m\u001b[0;34m)\u001b[0m\u001b[0;34m\u001b[0m\u001b[0;34m\u001b[0m\u001b[0m\n\u001b[0m\u001b[1;32m    799\u001b[0m \u001b[0;34m\u001b[0m\u001b[0m\n\u001b[1;32m    800\u001b[0m   \u001b[0;32mdef\u001b[0m \u001b[0mexperimental_ref\u001b[0m\u001b[0;34m(\u001b[0m\u001b[0mself\u001b[0m\u001b[0;34m)\u001b[0m\u001b[0;34m:\u001b[0m\u001b[0;34m\u001b[0m\u001b[0;34m\u001b[0m\u001b[0m\n",
      "\u001b[0;32m~/anaconda3/lib/python3.7/site-packages/tensorflow_core/python/framework/ops.py\u001b[0m in \u001b[0;36m_eval_using_default_session\u001b[0;34m(tensors, feed_dict, graph, session)\u001b[0m\n\u001b[1;32m   5391\u001b[0m     \u001b[0msession\u001b[0m \u001b[0;34m=\u001b[0m \u001b[0mget_default_session\u001b[0m\u001b[0;34m(\u001b[0m\u001b[0;34m)\u001b[0m\u001b[0;34m\u001b[0m\u001b[0;34m\u001b[0m\u001b[0m\n\u001b[1;32m   5392\u001b[0m     \u001b[0;32mif\u001b[0m \u001b[0msession\u001b[0m \u001b[0;32mis\u001b[0m \u001b[0;32mNone\u001b[0m\u001b[0;34m:\u001b[0m\u001b[0;34m\u001b[0m\u001b[0;34m\u001b[0m\u001b[0m\n\u001b[0;32m-> 5393\u001b[0;31m       raise ValueError(\"Cannot evaluate tensor using `eval()`: No default \"\n\u001b[0m\u001b[1;32m   5394\u001b[0m                        \u001b[0;34m\"session is registered. Use `with \"\u001b[0m\u001b[0;34m\u001b[0m\u001b[0;34m\u001b[0m\u001b[0m\n\u001b[1;32m   5395\u001b[0m                        \u001b[0;34m\"sess.as_default()` or pass an explicit session to \"\u001b[0m\u001b[0;34m\u001b[0m\u001b[0;34m\u001b[0m\u001b[0m\n",
      "\u001b[0;31mValueError\u001b[0m: Cannot evaluate tensor using `eval()`: No default session is registered. Use `with sess.as_default()` or pass an explicit session to `eval(session=sess)`"
     ]
    }
   ],
   "source": [
    "E[2::]"
   ]
  },
  {
   "cell_type": "code",
   "execution_count": 337,
   "metadata": {},
   "outputs": [],
   "source": [
    "kvar = K.variable(np.array([13,5,6]), dtype='int8')"
   ]
  },
  {
   "cell_type": "code",
   "execution_count": 332,
   "metadata": {},
   "outputs": [
    {
     "data": {
      "text/plain": [
       "<tf.Variable 'Variable_4:0' shape=(3,) dtype=float32>"
      ]
     },
     "execution_count": 332,
     "metadata": {},
     "output_type": "execute_result"
    }
   ],
   "source": [
    "kvar"
   ]
  },
  {
   "cell_type": "code",
   "execution_count": 322,
   "metadata": {},
   "outputs": [
    {
     "data": {
      "text/plain": [
       "<tf.Tensor 'transpose_24:0' shape=(50, ?) dtype=float32>"
      ]
     },
     "execution_count": 322,
     "metadata": {},
     "output_type": "execute_result"
    }
   ],
   "source": [
    "K.transpose(rt)"
   ]
  },
  {
   "cell_type": "code",
   "execution_count": 321,
   "metadata": {},
   "outputs": [
    {
     "data": {
      "text/plain": [
       "(1637, 50)"
      ]
     },
     "execution_count": 321,
     "metadata": {},
     "output_type": "execute_result"
    }
   ],
   "source": [
    "embeddings_matrix.shape"
   ]
  },
  {
   "cell_type": "code",
   "execution_count": null,
   "metadata": {},
   "outputs": [],
   "source": []
  }
 ],
 "metadata": {
  "kernelspec": {
   "display_name": "Python 3",
   "language": "python",
   "name": "python3"
  },
  "language_info": {
   "codemirror_mode": {
    "name": "ipython",
    "version": 3
   },
   "file_extension": ".py",
   "mimetype": "text/x-python",
   "name": "python",
   "nbconvert_exporter": "python",
   "pygments_lexer": "ipython3",
   "version": "3.7.4"
  }
 },
 "nbformat": 4,
 "nbformat_minor": 2
}
