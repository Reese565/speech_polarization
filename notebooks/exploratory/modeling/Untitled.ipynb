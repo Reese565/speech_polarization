{
 "cells": [
  {
   "cell_type": "code",
   "execution_count": 1,
   "metadata": {},
   "outputs": [
    {
     "name": "stderr",
     "output_type": "stream",
     "text": [
      "Using TensorFlow backend.\n"
     ]
    },
    {
     "name": "stdout",
     "output_type": "stream",
     "text": [
      "WARNING:tensorflow:From /home/rocassius/anaconda3/lib/python3.7/site-packages/tensorflow_core/python/ops/resource_variable_ops.py:1630: calling BaseResourceVariable.__init__ (from tensorflow.python.ops.resource_variable_ops) with constraint is deprecated and will be removed in a future version.\n",
      "Instructions for updating:\n",
      "If using Keras pass *_constraint arguments to layers.\n"
     ]
    }
   ],
   "source": [
    "from keras.layers import Input, Dense\n",
    "from keras.models import Model\n",
    "\n",
    "# this is the size of our encoded representations\n",
    "encoding_dim = 32  # 32 floats -> compression of factor 24.5, assuming the input is 784 floats\n",
    "\n",
    "# this is our input placeholder\n",
    "input_img = Input(shape=(784,))\n",
    "# \"encoded\" is the encoded representation of the input\n",
    "encoded = Dense(encoding_dim, activation='relu')(input_img)\n",
    "# \"decoded\" is the lossy reconstruction of the input\n",
    "decoded = Dense(784, activation='sigmoid')(encoded)\n",
    "\n",
    "# this model maps an input to its reconstruction\n",
    "autoencoder = Model(input_img, decoded)"
   ]
  },
  {
   "cell_type": "code",
   "execution_count": 2,
   "metadata": {},
   "outputs": [
    {
     "name": "stdout",
     "output_type": "stream",
     "text": [
      "WARNING:tensorflow:From /home/rocassius/anaconda3/lib/python3.7/site-packages/tensorflow_core/python/ops/nn_impl.py:183: where (from tensorflow.python.ops.array_ops) is deprecated and will be removed in a future version.\n",
      "Instructions for updating:\n",
      "Use tf.where in 2.0, which has the same broadcast rule as np.where\n"
     ]
    }
   ],
   "source": [
    "autoencoder.compile(optimizer='adadelta', loss='binary_crossentropy')"
   ]
  },
  {
   "cell_type": "code",
   "execution_count": 4,
   "metadata": {},
   "outputs": [
    {
     "name": "stdout",
     "output_type": "stream",
     "text": [
      "Downloading data from https://s3.amazonaws.com/img-datasets/mnist.npz\n",
      "11493376/11490434 [==============================] - 1s 0us/step\n"
     ]
    }
   ],
   "source": [
    "from keras.datasets import mnist\n",
    "import numpy as np\n",
    "(x_train, _), (x_test, _) = mnist.load_data()"
   ]
  },
  {
   "cell_type": "code",
   "execution_count": 6,
   "metadata": {},
   "outputs": [
    {
     "name": "stdout",
     "output_type": "stream",
     "text": [
      "(60000, 784)\n",
      "(10000, 784)\n"
     ]
    }
   ],
   "source": [
    "x_train = x_train.astype('float32') / 255.\n",
    "x_test = x_test.astype('float32') / 255.\n",
    "x_train = x_train.reshape((len(x_train), np.prod(x_train.shape[1:])))\n",
    "x_test = x_test.reshape((len(x_test), np.prod(x_test.shape[1:])))\n",
    "print(x_train.shape)\n",
    "print(x_test.shape)"
   ]
  },
  {
   "cell_type": "code",
   "execution_count": 15,
   "metadata": {},
   "outputs": [
    {
     "data": {
      "text/plain": [
       "numpy.ndarray"
      ]
     },
     "execution_count": 15,
     "metadata": {},
     "output_type": "execute_result"
    }
   ],
   "source": [
    "type(x_train)"
   ]
  },
  {
   "cell_type": "code",
   "execution_count": 16,
   "metadata": {},
   "outputs": [
    {
     "data": {
      "text/plain": [
       "array([[0., 0., 0., ..., 0., 0., 0.],\n",
       "       [0., 0., 0., ..., 0., 0., 0.],\n",
       "       [0., 0., 0., ..., 0., 0., 0.],\n",
       "       ...,\n",
       "       [0., 0., 0., ..., 0., 0., 0.],\n",
       "       [0., 0., 0., ..., 0., 0., 0.],\n",
       "       [0., 0., 0., ..., 0., 0., 0.]], dtype=float32)"
      ]
     },
     "execution_count": 16,
     "metadata": {},
     "output_type": "execute_result"
    }
   ],
   "source": [
    "x_train"
   ]
  },
  {
   "cell_type": "code",
   "execution_count": 14,
   "metadata": {},
   "outputs": [
    {
     "data": {
      "text/plain": [
       "(784,)"
      ]
     },
     "execution_count": 14,
     "metadata": {},
     "output_type": "execute_result"
    }
   ],
   "source": [
    "x_train[0].shape"
   ]
  },
  {
   "cell_type": "code",
   "execution_count": 11,
   "metadata": {},
   "outputs": [
    {
     "name": "stdout",
     "output_type": "stream",
     "text": [
      "WARNING:tensorflow:From /home/rocassius/anaconda3/lib/python3.7/site-packages/keras/backend/tensorflow_backend.py:422: The name tf.global_variables is deprecated. Please use tf.compat.v1.global_variables instead.\n",
      "\n",
      "Train on 60000 samples, validate on 10000 samples\n",
      "Epoch 1/50\n",
      "60000/60000 [==============================] - 3s 45us/step - loss: 0.3546 - val_loss: 0.2714\n",
      "Epoch 2/50\n",
      "60000/60000 [==============================] - 2s 32us/step - loss: 0.2649 - val_loss: 0.2546\n",
      "Epoch 3/50\n",
      "60000/60000 [==============================] - 2s 30us/step - loss: 0.2445 - val_loss: 0.2317\n",
      "Epoch 4/50\n",
      "60000/60000 [==============================] - 2s 31us/step - loss: 0.2240 - val_loss: 0.2142\n",
      "Epoch 5/50\n",
      "60000/60000 [==============================] - 2s 30us/step - loss: 0.2090 - val_loss: 0.2014\n",
      "Epoch 6/50\n",
      "60000/60000 [==============================] - 2s 30us/step - loss: 0.1979 - val_loss: 0.1917\n",
      "Epoch 7/50\n",
      "60000/60000 [==============================] - 2s 30us/step - loss: 0.1892 - val_loss: 0.1841\n",
      "Epoch 8/50\n",
      "60000/60000 [==============================] - 2s 30us/step - loss: 0.1821 - val_loss: 0.1776\n",
      "Epoch 9/50\n",
      "60000/60000 [==============================] - 2s 30us/step - loss: 0.1759 - val_loss: 0.1716\n",
      "Epoch 10/50\n",
      "60000/60000 [==============================] - 2s 30us/step - loss: 0.1704 - val_loss: 0.1665\n",
      "Epoch 11/50\n",
      "60000/60000 [==============================] - 2s 30us/step - loss: 0.1654 - val_loss: 0.1616\n",
      "Epoch 12/50\n",
      "60000/60000 [==============================] - 2s 29us/step - loss: 0.1609 - val_loss: 0.1574\n",
      "Epoch 13/50\n",
      "60000/60000 [==============================] - 2s 30us/step - loss: 0.1567 - val_loss: 0.1534\n",
      "Epoch 14/50\n",
      "60000/60000 [==============================] - 2s 29us/step - loss: 0.1530 - val_loss: 0.1498\n",
      "Epoch 15/50\n",
      "60000/60000 [==============================] - 2s 30us/step - loss: 0.1496 - val_loss: 0.1466\n",
      "Epoch 16/50\n",
      "60000/60000 [==============================] - 2s 30us/step - loss: 0.1466 - val_loss: 0.1437\n",
      "Epoch 17/50\n",
      "60000/60000 [==============================] - 2s 29us/step - loss: 0.1438 - val_loss: 0.1410\n",
      "Epoch 18/50\n",
      "60000/60000 [==============================] - 2s 30us/step - loss: 0.1412 - val_loss: 0.1385\n",
      "Epoch 19/50\n",
      "60000/60000 [==============================] - 2s 29us/step - loss: 0.1388 - val_loss: 0.1363\n",
      "Epoch 20/50\n",
      "60000/60000 [==============================] - 2s 31us/step - loss: 0.1366 - val_loss: 0.1340\n",
      "Epoch 21/50\n",
      "60000/60000 [==============================] - 2s 30us/step - loss: 0.1345 - val_loss: 0.1319\n",
      "Epoch 22/50\n",
      "60000/60000 [==============================] - 2s 30us/step - loss: 0.1324 - val_loss: 0.1299\n",
      "Epoch 23/50\n",
      "60000/60000 [==============================] - 2s 29us/step - loss: 0.1305 - val_loss: 0.1280\n",
      "Epoch 24/50\n",
      "60000/60000 [==============================] - 2s 31us/step - loss: 0.1286 - val_loss: 0.1261\n",
      "Epoch 25/50\n",
      "60000/60000 [==============================] - 2s 30us/step - loss: 0.1268 - val_loss: 0.1244\n",
      "Epoch 26/50\n",
      "60000/60000 [==============================] - 2s 30us/step - loss: 0.1251 - val_loss: 0.1227\n",
      "Epoch 27/50\n",
      "60000/60000 [==============================] - 2s 30us/step - loss: 0.1235 - val_loss: 0.1213\n",
      "Epoch 28/50\n",
      "60000/60000 [==============================] - 2s 30us/step - loss: 0.1220 - val_loss: 0.1197\n",
      "Epoch 29/50\n",
      "60000/60000 [==============================] - 2s 31us/step - loss: 0.1206 - val_loss: 0.1184\n",
      "Epoch 30/50\n",
      "60000/60000 [==============================] - 2s 31us/step - loss: 0.1193 - val_loss: 0.1171\n",
      "Epoch 31/50\n",
      "60000/60000 [==============================] - 2s 31us/step - loss: 0.1181 - val_loss: 0.1160\n",
      "Epoch 32/50\n",
      "60000/60000 [==============================] - 2s 30us/step - loss: 0.1170 - val_loss: 0.1149\n",
      "Epoch 33/50\n",
      "60000/60000 [==============================] - 2s 32us/step - loss: 0.1160 - val_loss: 0.1140\n",
      "Epoch 34/50\n",
      "60000/60000 [==============================] - 2s 31us/step - loss: 0.1150 - val_loss: 0.1131\n",
      "Epoch 35/50\n",
      "60000/60000 [==============================] - 2s 31us/step - loss: 0.1142 - val_loss: 0.1122\n",
      "Epoch 36/50\n",
      "60000/60000 [==============================] - 2s 30us/step - loss: 0.1134 - val_loss: 0.1115\n",
      "Epoch 37/50\n",
      "60000/60000 [==============================] - 2s 30us/step - loss: 0.1126 - val_loss: 0.1107\n",
      "Epoch 38/50\n",
      "60000/60000 [==============================] - 2s 30us/step - loss: 0.1120 - val_loss: 0.1101\n",
      "Epoch 39/50\n",
      "60000/60000 [==============================] - 2s 30us/step - loss: 0.1113 - val_loss: 0.1095\n",
      "Epoch 40/50\n",
      "60000/60000 [==============================] - 2s 30us/step - loss: 0.1108 - val_loss: 0.1089\n",
      "Epoch 41/50\n",
      "60000/60000 [==============================] - 2s 36us/step - loss: 0.1102 - val_loss: 0.1084\n",
      "Epoch 42/50\n",
      "60000/60000 [==============================] - 2s 30us/step - loss: 0.1098 - val_loss: 0.1079\n",
      "Epoch 43/50\n",
      "60000/60000 [==============================] - 2s 30us/step - loss: 0.1093 - val_loss: 0.1075\n",
      "Epoch 44/50\n",
      "60000/60000 [==============================] - 2s 30us/step - loss: 0.1089 - val_loss: 0.1071\n",
      "Epoch 45/50\n",
      "60000/60000 [==============================] - 2s 29us/step - loss: 0.1085 - val_loss: 0.1068\n",
      "Epoch 46/50\n",
      "60000/60000 [==============================] - 2s 29us/step - loss: 0.1081 - val_loss: 0.1064\n",
      "Epoch 47/50\n",
      "60000/60000 [==============================] - 2s 30us/step - loss: 0.1078 - val_loss: 0.1060\n",
      "Epoch 48/50\n",
      "60000/60000 [==============================] - 2s 30us/step - loss: 0.1075 - val_loss: 0.1058\n",
      "Epoch 49/50\n",
      "60000/60000 [==============================] - 2s 30us/step - loss: 0.1072 - val_loss: 0.1055\n",
      "Epoch 50/50\n",
      "60000/60000 [==============================] - 2s 29us/step - loss: 0.1069 - val_loss: 0.1052\n"
     ]
    },
    {
     "data": {
      "text/plain": [
       "<keras.callbacks.callbacks.History at 0x7f5d0c7ea190>"
      ]
     },
     "execution_count": 11,
     "metadata": {},
     "output_type": "execute_result"
    }
   ],
   "source": [
    "autoencoder.fit(x_train, x_train,\n",
    "                epochs=50,\n",
    "                batch_size=256,\n",
    "                shuffle=True,\n",
    "                validation_data=(x_test, x_test))"
   ]
  },
  {
   "cell_type": "code",
   "execution_count": null,
   "metadata": {},
   "outputs": [],
   "source": []
  }
 ],
 "metadata": {
  "kernelspec": {
   "display_name": "Python 3",
   "language": "python",
   "name": "python3"
  },
  "language_info": {
   "codemirror_mode": {
    "name": "ipython",
    "version": 3
   },
   "file_extension": ".py",
   "mimetype": "text/x-python",
   "name": "python",
   "nbconvert_exporter": "python",
   "pygments_lexer": "ipython3",
   "version": "3.7.4"
  }
 },
 "nbformat": 4,
 "nbformat_minor": 2
}
