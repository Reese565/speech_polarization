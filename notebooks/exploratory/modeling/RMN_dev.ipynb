{
 "cells": [
  {
   "cell_type": "markdown",
   "metadata": {},
   "source": [
    "# Training an RMN on all session documents"
   ]
  },
  {
   "cell_type": "code",
   "execution_count": 1,
   "metadata": {},
   "outputs": [],
   "source": [
    "import os\n",
    "import pandas as pd"
   ]
  },
  {
   "cell_type": "code",
   "execution_count": 2,
   "metadata": {},
   "outputs": [],
   "source": [
    "os.chdir(\"../../../scripts/assembly/\")"
   ]
  },
  {
   "cell_type": "code",
   "execution_count": 3,
   "metadata": {},
   "outputs": [],
   "source": [
    "from document import load_documents\n",
    "from constant import DOC_ALL_PATH, TOOLS_PATH, MIN_SESSION, MAX_SESSION"
   ]
  },
  {
   "cell_type": "code",
   "execution_count": 4,
   "metadata": {},
   "outputs": [],
   "source": [
    "# run several times\n",
    "os.chdir(\"../modeling\")\n",
    "from helper import load_pickled_object\n",
    "from rmn import RMN"
   ]
  },
  {
   "cell_type": "code",
   "execution_count": 5,
   "metadata": {},
   "outputs": [],
   "source": [
    "# load embedding tools\n",
    "local_tools_path = '/home/rocassius/gen-data/tools'\n",
    "tokenizer_dict = load_pickled_object(os.path.join(local_tools_path, \"global_tokenizer_dict\"))\n",
    "metadata_dict = load_pickled_object(os.path.join(local_tools_path, \"global_metadata_dict\"))\n",
    "embedding_matrix = load_pickled_object(os.path.join(local_tools_path, \"global_embedding_matrix_50d\"))"
   ]
  },
  {
   "cell_type": "code",
   "execution_count": 6,
   "metadata": {},
   "outputs": [],
   "source": [
    "# load documents\n",
    "docs_df = pd.read_csv(os.path.join(DOC_ALL_PATH, \"documents_total.csv\"), sep = \"|\")"
   ]
  },
  {
   "cell_type": "code",
   "execution_count": 113,
   "metadata": {},
   "outputs": [],
   "source": [
    "d = docs_df.sample(8231)"
   ]
  },
  {
   "cell_type": "code",
   "execution_count": 8,
   "metadata": {},
   "outputs": [
    {
     "name": "stdout",
     "output_type": "stream",
     "text": [
      "WARNING:tensorflow:From /home/rocassius/anaconda3/lib/python3.7/site-packages/tensorflow_core/python/keras/initializers.py:119: calling RandomUniform.__init__ (from tensorflow.python.ops.init_ops) with dtype is deprecated and will be removed in a future version.\n",
      "Instructions for updating:\n",
      "Call initializer instance with the dtype argument instead of passing it to the constructor\n",
      "WARNING:tensorflow:From /home/rocassius/anaconda3/lib/python3.7/site-packages/tensorflow_core/python/ops/resource_variable_ops.py:1630: calling BaseResourceVariable.__init__ (from tensorflow.python.ops.resource_variable_ops) with constraint is deprecated and will be removed in a future version.\n",
      "Instructions for updating:\n",
      "If using Keras pass *_constraint arguments to layers.\n"
     ]
    }
   ],
   "source": [
    "rmn = RMN()\n",
    "rmn.embedding_matrix = embedding_matrix\n",
    "rmn.tokenizer_dict = tokenizer_dict\n",
    "rmn.metadata_dict = metadata_dict\n",
    "rmn.num_topics = 100\n",
    "rmn.lamb = 1.0\n",
    "rmn.build_model()"
   ]
  },
  {
   "cell_type": "code",
   "execution_count": 152,
   "metadata": {},
   "outputs": [],
   "source": [
    "# from keras.utils import Sequence\n",
    "from tensorflow.python.keras.utils.data_utils import Sequence\n",
    "\n",
    "class RMN_DataGenerator(Sequence):\n",
    "    \"\"\"Generates data for an RMN\"\"\"\n",
    "    \n",
    "    def __init__(self, rmn, data_df, batch_size=50):\n",
    "        \n",
    "        'Initialization'\n",
    "        self.rmn = rmn\n",
    "        self.data_df = data_df\n",
    "        self.batch_size = batch_size\n",
    "        self.indices = data_df.index.tolist()\n",
    "        \n",
    "        # shuffle indicies upon initialization\n",
    "        np.random.shuffle(self.indices)\n",
    "        \n",
    "        self.on_epoch_end()\n",
    "        \n",
    "        \n",
    "    def on_epoch_end(self):\n",
    "        'Updates indexes after each epoch'\n",
    "        np.random.shuffle(self.indices)\n",
    "         \n",
    "            \n",
    "    def __data_generation(self, indices):\n",
    "        'Generates data containing batch_size samples' \n",
    "        # generate data for indices\n",
    "        X = self.rmn.prep_inputs(self.data_df.loc[indices])\n",
    "        y = X[0]\n",
    "\n",
    "        return X, y\n",
    "    \n",
    "    \n",
    "    def __len__(self):\n",
    "        'Denotes the number of batches per epoch'\n",
    "        return int(np.floor(len(self.indices) / self.batch_size))\n",
    "\n",
    "\n",
    "    def __getitem__(self, i):\n",
    "        'Generate one batch of data'\n",
    "        # Generate indexes of the batch\n",
    "        indices = self.indices[i * self.batch_size:(i+1) * self.batch_size]\n",
    "\n",
    "        # Generate data\n",
    "        X, y = self.__data_generation(indices)\n",
    "\n",
    "        return X, y"
   ]
  },
  {
   "cell_type": "code",
   "execution_count": 153,
   "metadata": {},
   "outputs": [],
   "source": [
    "data_generator = RMN_DataGenerator(data_df=d,\n",
    "                                   rmn=rmn, \n",
    "                                   batch_size=100)"
   ]
  },
  {
   "cell_type": "code",
   "execution_count": 154,
   "metadata": {},
   "outputs": [
    {
     "name": "stdout",
     "output_type": "stream",
     "text": [
      "Epoch 1/5\n",
      "82/82 [==============================] - 2s 30ms/step - loss: 7.0716\n",
      "Epoch 2/5\n",
      "Epoch 1/5\n",
      "82/82 [==============================] - 2s 29ms/step - loss: 7.0716\n",
      "Epoch 3/5\n",
      "82/82 [==============================] - 2s 29ms/step - loss: 7.0716\n",
      "Epoch 4/5\n",
      "82/82 [==============================] - 2s 29ms/step - loss: 7.0715\n",
      "Epoch 5/5\n",
      "82/82 [==============================] - 2s 28ms/step - loss: 7.0715\n"
     ]
    },
    {
     "data": {
      "text/plain": [
       "<tensorflow.python.keras.callbacks.History at 0x7f5a00ba6150>"
      ]
     },
     "execution_count": 154,
     "metadata": {},
     "output_type": "execute_result"
    }
   ],
   "source": [
    "rmn.model.fit_generator(data_generator, epochs=5, use_multiprocessing=True, workers=5)"
   ]
  },
  {
   "cell_type": "code",
   "execution_count": 117,
   "metadata": {},
   "outputs": [],
   "source": [
    "rmn.build_topic_model()"
   ]
  },
  {
   "cell_type": "code",
   "execution_count": null,
   "metadata": {},
   "outputs": [],
   "source": [
    "rmn.model.predict"
   ]
  },
  {
   "cell_type": "code",
   "execution_count": 128,
   "metadata": {},
   "outputs": [
    {
     "data": {
      "text/plain": [
       "(6599686, 10)"
      ]
     },
     "execution_count": 128,
     "metadata": {},
     "output_type": "execute_result"
    }
   ],
   "source": [
    "docs_df.shape"
   ]
  },
  {
   "cell_type": "code",
   "execution_count": 146,
   "metadata": {},
   "outputs": [],
   "source": [
    "d_samp = docs_df.sample(1000000)"
   ]
  },
  {
   "cell_type": "code",
   "execution_count": 155,
   "metadata": {},
   "outputs": [],
   "source": [
    "BS = 100\n",
    "dg = RMN_DataGenerator(data_df=d_samp, rmn=rmn, batch_size=BS)"
   ]
  },
  {
   "cell_type": "code",
   "execution_count": 156,
   "metadata": {},
   "outputs": [
    {
     "name": "stdout",
     "output_type": "stream",
     "text": [
      "0.63 MINUTES\n"
     ]
    }
   ],
   "source": [
    "import time \n",
    "start = time.time()\n",
    "rmn.topic_model.predict_generator(dg, use_multiprocessing=True, workers=20)\n",
    "end = time.time()\n",
    "elapsed = end - start\n",
    "print(round(elapsed/60, 3), \"MINUTES\")"
   ]
  },
  {
   "cell_type": "code",
   "execution_count": 149,
   "metadata": {},
   "outputs": [
    {
     "name": "stdout",
     "output_type": "stream",
     "text": [
      "0.542 MINUTES\n"
     ]
    }
   ],
   "source": [
    "import time \n",
    "start = time.time()\n",
    "rmn.topic_model.predict_generator(dg, use_multiprocessing=True, workers=10)\n",
    "end = time.time()\n",
    "elapsed = end - start\n",
    "print(round(elapsed/60, 3), \"MINUTES\")"
   ]
  },
  {
   "cell_type": "code",
   "execution_count": 148,
   "metadata": {},
   "outputs": [
    {
     "name": "stdout",
     "output_type": "stream",
     "text": [
      "0.636 MINUTES\n"
     ]
    }
   ],
   "source": [
    "import time \n",
    "start = time.time()\n",
    "rmn.topic_model.predict_generator(dg, use_multiprocessing=True, workers=5)\n",
    "end = time.time()\n",
    "elapsed = end - start\n",
    "print(round(elapsed/60, 3), \"MINUTES\")"
   ]
  },
  {
   "cell_type": "code",
   "execution_count": 139,
   "metadata": {},
   "outputs": [
    {
     "name": "stdout",
     "output_type": "stream",
     "text": [
      "0.337 MINUTES\n"
     ]
    }
   ],
   "source": [
    "import time \n",
    "start = time.time()\n",
    "rmn.topic_model.predict_generator(dg, use_multiprocessing=True)\n",
    "end = time.time()\n",
    "elapsed = end - start\n",
    "print(round(elapsed/60, 3), \"MINUTES\")"
   ]
  },
  {
   "cell_type": "code",
   "execution_count": 136,
   "metadata": {},
   "outputs": [
    {
     "name": "stdout",
     "output_type": "stream",
     "text": [
      "0.403 SECONDS\n"
     ]
    }
   ],
   "source": [
    "import time \n",
    "start = time.time()\n",
    "rmn.predict_topics(d_samp)\n",
    "end = time.time()\n",
    "elapsed = end - start\n",
    "print(round(elapsed/60, 3), \"MINUTES\")"
   ]
  },
  {
   "cell_type": "code",
   "execution_count": 118,
   "metadata": {},
   "outputs": [
    {
     "data": {
      "text/plain": [
       "array([[0.00964151, 0.00794159, 0.0080036 , ..., 0.01449753, 0.00748336,\n",
       "        0.00985585],\n",
       "       [0.01065519, 0.00841128, 0.00978033, ..., 0.01299322, 0.00835345,\n",
       "        0.00929048],\n",
       "       [0.0099263 , 0.00778961, 0.00782576, ..., 0.016422  , 0.0082397 ,\n",
       "        0.00919981],\n",
       "       ...,\n",
       "       [0.01288762, 0.00774932, 0.00858825, ..., 0.0129737 , 0.00898047,\n",
       "        0.00958539],\n",
       "       [0.01265937, 0.00752051, 0.00768751, ..., 0.0152425 , 0.00959403,\n",
       "        0.00908329],\n",
       "       [0.01072115, 0.00845621, 0.00909524, ..., 0.01357337, 0.00882754,\n",
       "        0.01090457]], dtype=float32)"
      ]
     },
     "execution_count": 118,
     "metadata": {},
     "output_type": "execute_result"
    }
   ],
   "source": [
    "rmn.topic_model.predict_generator(d)"
   ]
  },
  {
   "cell_type": "code",
   "execution_count": 40,
   "metadata": {},
   "outputs": [
    {
     "data": {
      "text/html": [
       "<div>\n",
       "<style scoped>\n",
       "    .dataframe tbody tr th:only-of-type {\n",
       "        vertical-align: middle;\n",
       "    }\n",
       "\n",
       "    .dataframe tbody tr th {\n",
       "        vertical-align: top;\n",
       "    }\n",
       "\n",
       "    .dataframe thead th {\n",
       "        text-align: right;\n",
       "    }\n",
       "</style>\n",
       "<table border=\"1\" class=\"dataframe\">\n",
       "  <thead>\n",
       "    <tr style=\"text-align: right;\">\n",
       "      <th></th>\n",
       "      <th>speakerid</th>\n",
       "      <th>lastname</th>\n",
       "      <th>firstname</th>\n",
       "      <th>chamber</th>\n",
       "      <th>state</th>\n",
       "      <th>gender</th>\n",
       "      <th>party</th>\n",
       "      <th>document</th>\n",
       "      <th>subject</th>\n",
       "      <th>session</th>\n",
       "    </tr>\n",
       "  </thead>\n",
       "  <tbody>\n",
       "    <tr>\n",
       "      <td>1817194</td>\n",
       "      <td>82100361</td>\n",
       "      <td>AIKEN</td>\n",
       "      <td>GEORGE</td>\n",
       "      <td>S</td>\n",
       "      <td>VT</td>\n",
       "      <td>M</td>\n",
       "      <td>R</td>\n",
       "      <td>appliances at prices either below cost or just...</td>\n",
       "      <td>defense</td>\n",
       "      <td>82</td>\n",
       "    </tr>\n",
       "  </tbody>\n",
       "</table>\n",
       "</div>"
      ],
      "text/plain": [
       "        speakerid lastname firstname chamber state gender party  \\\n",
       "1817194  82100361    AIKEN    GEORGE       S    VT      M     R   \n",
       "\n",
       "                                                  document  subject session  \n",
       "1817194  appliances at prices either below cost or just...  defense      82  "
      ]
     },
     "execution_count": 40,
     "metadata": {},
     "output_type": "execute_result"
    }
   ],
   "source": [
    "d.loc[[1817194]]"
   ]
  },
  {
   "cell_type": "code",
   "execution_count": 41,
   "metadata": {},
   "outputs": [
    {
     "data": {
      "text/html": [
       "<div>\n",
       "<style scoped>\n",
       "    .dataframe tbody tr th:only-of-type {\n",
       "        vertical-align: middle;\n",
       "    }\n",
       "\n",
       "    .dataframe tbody tr th {\n",
       "        vertical-align: top;\n",
       "    }\n",
       "\n",
       "    .dataframe thead th {\n",
       "        text-align: right;\n",
       "    }\n",
       "</style>\n",
       "<table border=\"1\" class=\"dataframe\">\n",
       "  <thead>\n",
       "    <tr style=\"text-align: right;\">\n",
       "      <th></th>\n",
       "      <th>speakerid</th>\n",
       "      <th>lastname</th>\n",
       "      <th>firstname</th>\n",
       "      <th>chamber</th>\n",
       "      <th>state</th>\n",
       "      <th>gender</th>\n",
       "      <th>party</th>\n",
       "      <th>document</th>\n",
       "      <th>subject</th>\n",
       "      <th>session</th>\n",
       "    </tr>\n",
       "  </thead>\n",
       "  <tbody>\n",
       "    <tr>\n",
       "      <td>1817194</td>\n",
       "      <td>82100361</td>\n",
       "      <td>AIKEN</td>\n",
       "      <td>GEORGE</td>\n",
       "      <td>S</td>\n",
       "      <td>VT</td>\n",
       "      <td>M</td>\n",
       "      <td>R</td>\n",
       "      <td>appliances at prices either below cost or just...</td>\n",
       "      <td>defense</td>\n",
       "      <td>82</td>\n",
       "    </tr>\n",
       "    <tr>\n",
       "      <td>2410324</td>\n",
       "      <td>87100320</td>\n",
       "      <td>YOUNGER</td>\n",
       "      <td>JESSE</td>\n",
       "      <td>H</td>\n",
       "      <td>CA</td>\n",
       "      <td>M</td>\n",
       "      <td>R</td>\n",
       "      <td>in cuba and in laos w continue to be concerned...</td>\n",
       "      <td>labor</td>\n",
       "      <td>87</td>\n",
       "    </tr>\n",
       "    <tr>\n",
       "      <td>3254612</td>\n",
       "      <td>92110800</td>\n",
       "      <td>SMITH</td>\n",
       "      <td>NEAL</td>\n",
       "      <td>H</td>\n",
       "      <td>IA</td>\n",
       "      <td>M</td>\n",
       "      <td>D</td>\n",
       "      <td>most exciting programs involves the use of a n...</td>\n",
       "      <td>minorities</td>\n",
       "      <td>92</td>\n",
       "    </tr>\n",
       "    <tr>\n",
       "      <td>1817194</td>\n",
       "      <td>82100361</td>\n",
       "      <td>AIKEN</td>\n",
       "      <td>GEORGE</td>\n",
       "      <td>S</td>\n",
       "      <td>VT</td>\n",
       "      <td>M</td>\n",
       "      <td>R</td>\n",
       "      <td>appliances at prices either below cost or just...</td>\n",
       "      <td>defense</td>\n",
       "      <td>82</td>\n",
       "    </tr>\n",
       "    <tr>\n",
       "      <td>2957006</td>\n",
       "      <td>91099231</td>\n",
       "      <td>HOLLAND</td>\n",
       "      <td>SPESSARD</td>\n",
       "      <td>S</td>\n",
       "      <td>FL</td>\n",
       "      <td>M</td>\n",
       "      <td>D</td>\n",
       "      <td>the from made some points about the fact that ...</td>\n",
       "      <td>defense</td>\n",
       "      <td>91</td>\n",
       "    </tr>\n",
       "  </tbody>\n",
       "</table>\n",
       "</div>"
      ],
      "text/plain": [
       "        speakerid lastname firstname chamber state gender party  \\\n",
       "1817194  82100361    AIKEN    GEORGE       S    VT      M     R   \n",
       "2410324  87100320  YOUNGER     JESSE       H    CA      M     R   \n",
       "3254612  92110800    SMITH      NEAL       H    IA      M     D   \n",
       "1817194  82100361    AIKEN    GEORGE       S    VT      M     R   \n",
       "2957006  91099231  HOLLAND  SPESSARD       S    FL      M     D   \n",
       "\n",
       "                                                  document     subject session  \n",
       "1817194  appliances at prices either below cost or just...     defense      82  \n",
       "2410324  in cuba and in laos w continue to be concerned...       labor      87  \n",
       "3254612  most exciting programs involves the use of a n...  minorities      92  \n",
       "1817194  appliances at prices either below cost or just...     defense      82  \n",
       "2957006  the from made some points about the fact that ...     defense      91  "
      ]
     },
     "execution_count": 41,
     "metadata": {},
     "output_type": "execute_result"
    }
   ],
   "source": [
    "d.iloc[list_IDs_temp]"
   ]
  },
  {
   "cell_type": "code",
   "execution_count": 15,
   "metadata": {},
   "outputs": [],
   "source": [
    "docs_df['speakerid'] = docs_df['speakerid'].astype(str)\n",
    "docs_df['session'] = docs_df['session'].astype(str)"
   ]
  },
  {
   "cell_type": "code",
   "execution_count": 17,
   "metadata": {},
   "outputs": [],
   "source": [
    "X = rmn.prep_inputs(d)\n",
    "y = X[0]"
   ]
  },
  {
   "cell_type": "code",
   "execution_count": 22,
   "metadata": {},
   "outputs": [
    {
     "ename": "ValueError",
     "evalue": "could not broadcast input array from shape (75,50) into shape (75)",
     "output_type": "error",
     "traceback": [
      "\u001b[0;31m---------------------------------------------------------------------------\u001b[0m",
      "\u001b[0;31mValueError\u001b[0m                                Traceback (most recent call last)",
      "\u001b[0;32m<ipython-input-22-a84fee493970>\u001b[0m in \u001b[0;36m<module>\u001b[0;34m\u001b[0m\n\u001b[1;32m      1\u001b[0m \u001b[0;32mimport\u001b[0m \u001b[0mnumpy\u001b[0m \u001b[0;32mas\u001b[0m \u001b[0mnp\u001b[0m\u001b[0;34m\u001b[0m\u001b[0;34m\u001b[0m\u001b[0m\n\u001b[0;32m----> 2\u001b[0;31m \u001b[0mnp\u001b[0m\u001b[0;34m.\u001b[0m\u001b[0marray\u001b[0m\u001b[0;34m(\u001b[0m\u001b[0mX\u001b[0m\u001b[0;34m)\u001b[0m\u001b[0;34m.\u001b[0m\u001b[0mshape\u001b[0m\u001b[0;34m\u001b[0m\u001b[0;34m\u001b[0m\u001b[0m\n\u001b[0m",
      "\u001b[0;31mValueError\u001b[0m: could not broadcast input array from shape (75,50) into shape (75)"
     ]
    }
   ],
   "source": [
    "import numpy as np\n",
    "np.array(X).shape"
   ]
  },
  {
   "cell_type": "code",
   "execution_count": 19,
   "metadata": {},
   "outputs": [
    {
     "data": {
      "text/plain": [
       "(75, 50)"
      ]
     },
     "execution_count": 19,
     "metadata": {},
     "output_type": "execute_result"
    }
   ],
   "source": [
    "y.shape"
   ]
  },
  {
   "cell_type": "code",
   "execution_count": null,
   "metadata": {},
   "outputs": [],
   "source": [
    "rmn.model.fit(x=X, y=y, epochs = 7, batch_size = 200)"
   ]
  },
  {
   "cell_type": "code",
   "execution_count": null,
   "metadata": {},
   "outputs": [],
   "source": []
  }
 ],
 "metadata": {
  "kernelspec": {
   "display_name": "Python 3",
   "language": "python",
   "name": "python3"
  },
  "language_info": {
   "codemirror_mode": {
    "name": "ipython",
    "version": 3
   },
   "file_extension": ".py",
   "mimetype": "text/x-python",
   "name": "python",
   "nbconvert_exporter": "python",
   "pygments_lexer": "ipython3",
   "version": "3.7.4"
  }
 },
 "nbformat": 4,
 "nbformat_minor": 2
}
