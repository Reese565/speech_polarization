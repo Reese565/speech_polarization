{
 "cells": [
  {
   "cell_type": "markdown",
   "metadata": {},
   "source": [
    "# Training an RMN on all session documents"
   ]
  },
  {
   "cell_type": "code",
   "execution_count": 1,
   "metadata": {},
   "outputs": [],
   "source": [
    "import os\n",
    "import sys\n",
    "import pandas as pd"
   ]
  },
  {
   "cell_type": "code",
   "execution_count": 2,
   "metadata": {},
   "outputs": [],
   "source": [
    "sys.path.append(\"/home/rocassius/w266_final/scripts/assembly\")\n",
    "sys.path.append(\"/home/rocassius/w266_final/scripts/modeling\")"
   ]
  },
  {
   "cell_type": "code",
   "execution_count": 3,
   "metadata": {},
   "outputs": [],
   "source": [
    "from document import load_documents\n",
    "from constant import DOC_PRAYER_PATH"
   ]
  },
  {
   "cell_type": "code",
   "execution_count": 4,
   "metadata": {},
   "outputs": [],
   "source": [
    "from helper import load_pickled_object\n",
    "from rmn import RMN\n",
    "from rmn_data_generator import RMN_DataGenerator"
   ]
  },
  {
   "cell_type": "code",
   "execution_count": 5,
   "metadata": {},
   "outputs": [],
   "source": [
    "# load embedding tools\n",
    "local_tools_path = '/home/rocassius/gen-data/tools'\n",
    "tokenizer_dict = load_pickled_object(os.path.join(local_tools_path, \"global_tokenizer_dict\"))\n",
    "metadata_dict = load_pickled_object(os.path.join(local_tools_path, \"global_metadata_dict\"))\n",
    "embedding_matrix = load_pickled_object(os.path.join(local_tools_path, \"global_embedding_matrix_50d\"))"
   ]
  },
  {
   "cell_type": "code",
   "execution_count": 30,
   "metadata": {},
   "outputs": [
    {
     "data": {
      "text/plain": [
       "array([[26441,    43,   864,     8, 20999,     0,     0,     0,     0,\n",
       "            0,     0,     0,     0,     0,     0,     0,     0,     0,\n",
       "            0,     0,     0,     0,     0,     0,     0,     0,     0,\n",
       "            0,     0,     0,     0,     0,     0,     0,     0,     0,\n",
       "            0,     0,     0,     0,     0,     0,     0,     0,     0,\n",
       "            0,     0,     0,     0,     0,     0,     0,     0,     0,\n",
       "            0,     0,     0,     0,     0,     0,     0,     0,     0,\n",
       "            0,     0,     0,     0,     0,     0,     0,     0,     0,\n",
       "            0,     0,     0,     0,     0,     0,     0,     0]],\n",
       "      dtype=int32)"
      ]
     },
     "execution_count": 30,
     "metadata": {},
     "output_type": "execute_result"
    }
   ],
   "source": [
    "tokenizer_dict['tokenize_pad']([\"hello my name is rowan\"])"
   ]
  },
  {
   "cell_type": "code",
   "execution_count": 27,
   "metadata": {},
   "outputs": [
    {
     "data": {
      "text/plain": [
       "(1628003, 50)"
      ]
     },
     "execution_count": 27,
     "metadata": {},
     "output_type": "execute_result"
    }
   ],
   "source": [
    "embedding_matrix.shape"
   ]
  },
  {
   "cell_type": "code",
   "execution_count": 6,
   "metadata": {},
   "outputs": [],
   "source": [
    "# load documents\n",
    "docs_df = load_documents([111], DOC_PRAYER_PATH)"
   ]
  },
  {
   "cell_type": "code",
   "execution_count": 7,
   "metadata": {},
   "outputs": [
    {
     "name": "stdout",
     "output_type": "stream",
     "text": [
      "=====\n",
      "responsibility to protect those who cannot protect themselves and for those who cannot for themselves that is why i am so strongly opposed to abortion abortion kills the most fragile most vulnerable and most needy among us these children cannot defend themselves so they desperately need us\n",
      "=====\n",
      "obama said i thought that was pretty tough and pastor warren said well that was a freebie that was a freebie thats a gimme okay lets deal with abortion forty million abortions since roe v wade as a pastor ive had to deal with this all the time all of the pain and all of the conflicts and i know\n",
      "=====\n",
      "change the laws of this country of seeking to intimidate women from availing themselves of their rights of their constitutional right to an abortion of intimidating doctors from availing themselves of their constitutional right to perform medical procedures that are legal and that they believe\n",
      "=====\n",
      "good character restraint respect for law and respect for those who came before the court i did not one applicant how he or she would rule on abortion or immigration or taxation i appointed the first female circuit judge in our state and the first africanamerican court chancellor and the first\n",
      "=====\n",
      "this bill contains outofcontrol spending it completely reverses congresss traditional position on many values issues such as taxpayerfunded abortions and needle exchanges in the district of columbia it ends the dc opportunity scholarship program that has done so much to help a small number\n",
      "=====\n",
      "taken that away e  what we are facing is the change in the dc policy in which we are going to be faced with allowing for the public funding of abortions congressman dornans amendment prior to fy allowed the district of columbia to use congressional funds appropriated funds something that we\n",
      "=====\n",
      "statement well for me it generally is this bill of  pages that is before us does affect us from conception to natural death because it funds abortion and it has death panels and it regulates everything that has to do with our health carethe cost the accesseverything that has to do with it\n",
      "=====\n",
      "access to quality care at all stages of their lives regardless of what may happen in their lives it is a mistake to make this debate one about abortion the amendment that is before us the nelsonhatch amendment would restrict any health plan operating in the exchange that accepts affordability\n",
      "=====\n",
      "are beginning to see a real glimpse a true picture of where this democratic majority is going finally this bill increases funding for title x family planning services of which planned parenthood is the largest recipient planned parenthood is the nations largest provider of abortions increasingly\n",
      "=====\n",
      "congress had in mind as associate white house counsel to president bill clinton kagan played a critical role in the debate over partial birth abortions and did everything she could to halt legislation going through congress to ban that horrible procedure she worked with the medical groups supporting\n"
     ]
    }
   ],
   "source": [
    "for r in docs_df[:10].document:\n",
    "    print(5*\"=\")\n",
    "    print(r)"
   ]
  },
  {
   "cell_type": "code",
   "execution_count": 11,
   "metadata": {},
   "outputs": [],
   "source": [
    "d = docs_df.sample(5000)"
   ]
  },
  {
   "cell_type": "code",
   "execution_count": 12,
   "metadata": {},
   "outputs": [],
   "source": [
    "from subject import subject_keywords"
   ]
  },
  {
   "cell_type": "code",
   "execution_count": 23,
   "metadata": {},
   "outputs": [],
   "source": [
    "rmn = RMN()\n",
    "rmn.embedding_matrix = embedding_matrix\n",
    "rmn.tokenizer_dict = tokenizer_dict\n",
    "rmn.metadata_dict = metadata_dict\n",
    "rmn.num_topics = 50\n",
    "rmn.lamb = 0.1\n",
    "rmn.build_model(gamma=10.,theta=0.1,omega=1000.)"
   ]
  },
  {
   "cell_type": "code",
   "execution_count": 24,
   "metadata": {},
   "outputs": [],
   "source": [
    "rmn.set_topic_vectors(subject_keywords.keys())"
   ]
  },
  {
   "cell_type": "code",
   "execution_count": 25,
   "metadata": {},
   "outputs": [],
   "source": [
    "#rmn.model.summary()"
   ]
  },
  {
   "cell_type": "code",
   "execution_count": 26,
   "metadata": {},
   "outputs": [],
   "source": [
    "X, y = rmn.prep_X(d.sample(frac=1), for_training=True)"
   ]
  },
  {
   "cell_type": "code",
   "execution_count": 19,
   "metadata": {},
   "outputs": [
    {
     "data": {
      "text/plain": [
       "(5000, 80)"
      ]
     },
     "execution_count": 19,
     "metadata": {},
     "output_type": "execute_result"
    }
   ],
   "source": [
    "X[0].shape"
   ]
  },
  {
   "cell_type": "code",
   "execution_count": 20,
   "metadata": {},
   "outputs": [
    {
     "data": {
      "text/plain": [
       "(5000, 50)"
      ]
     },
     "execution_count": 20,
     "metadata": {},
     "output_type": "execute_result"
    }
   ],
   "source": [
    "y.shape"
   ]
  },
  {
   "cell_type": "code",
   "execution_count": 22,
   "metadata": {},
   "outputs": [],
   "source": [
    "#rmn.model.fit(X, y, epochs=20, batch_size=100)"
   ]
  },
  {
   "cell_type": "code",
   "execution_count": 64,
   "metadata": {},
   "outputs": [],
   "source": [
    "#rmn.inspect_topics(tuned_embedding=False)"
   ]
  },
  {
   "cell_type": "code",
   "execution_count": 65,
   "metadata": {},
   "outputs": [],
   "source": [
    "#rmn.inspect_topics(tuned_embedding=True)"
   ]
  },
  {
   "cell_type": "code",
   "execution_count": 79,
   "metadata": {},
   "outputs": [],
   "source": [
    "from rmn_analyzer import *"
   ]
  },
  {
   "cell_type": "code",
   "execution_count": 81,
   "metadata": {},
   "outputs": [
    {
     "name": "stdout",
     "output_type": "stream",
     "text": [
      "9/9 [==============================] - 1s 80ms/step\n"
     ]
    }
   ],
   "source": [
    "analyzer = RMN_Analyzer(rmn, d)\n",
    "analyzer.predict_topics()"
   ]
  },
  {
   "cell_type": "code",
   "execution_count": 82,
   "metadata": {},
   "outputs": [
    {
     "data": {
      "text/plain": [
       "array([5.637961 , 5.6319237, 5.6304607, ..., 5.6155005, 5.6351066,\n",
       "       5.63396  ], dtype=float32)"
      ]
     },
     "execution_count": 82,
     "metadata": {},
     "output_type": "execute_result"
    }
   ],
   "source": [
    "analyzer.shannon_entropy()"
   ]
  },
  {
   "cell_type": "code",
   "execution_count": 83,
   "metadata": {},
   "outputs": [
    {
     "data": {
      "text/plain": [
       "20.008597522974014"
      ]
     },
     "execution_count": 83,
     "metadata": {},
     "output_type": "execute_result"
    }
   ],
   "source": [
    "1000*np.dot(analyzer.topic_preds, analyzer.topic_preds.T).mean()"
   ]
  },
  {
   "cell_type": "code",
   "execution_count": 30,
   "metadata": {},
   "outputs": [
    {
     "data": {
      "text/plain": [
       "5"
      ]
     },
     "execution_count": 30,
     "metadata": {},
     "output_type": "execute_result"
    }
   ],
   "source": [
    "np.random.choice(9)"
   ]
  },
  {
   "cell_type": "code",
   "execution_count": 31,
   "metadata": {},
   "outputs": [
    {
     "data": {
      "text/plain": [
       "array([0.012, 0.024, 0.01 , 0.025, 0.028, 0.017, 0.026, 0.013, 0.027,\n",
       "       0.012, 0.032, 0.017, 0.024, 0.019, 0.011, 0.016, 0.021, 0.014,\n",
       "       0.026, 0.023, 0.012, 0.022, 0.025, 0.016, 0.015, 0.015, 0.021,\n",
       "       0.022, 0.009, 0.017, 0.022, 0.013, 0.024, 0.017, 0.028, 0.016,\n",
       "       0.027, 0.033, 0.029, 0.013, 0.025, 0.016, 0.029, 0.013, 0.011,\n",
       "       0.015, 0.015, 0.023, 0.028, 0.028], dtype=float32)"
      ]
     },
     "execution_count": 31,
     "metadata": {},
     "output_type": "execute_result"
    }
   ],
   "source": [
    "np.round(analyzer.topic_preds[np.random.choice(5000-1)],3)"
   ]
  },
  {
   "cell_type": "code",
   "execution_count": 33,
   "metadata": {},
   "outputs": [],
   "source": [
    "#analyzer.first_topic_counts()\n"
   ]
  },
  {
   "cell_type": "code",
   "execution_count": 34,
   "metadata": {},
   "outputs": [
    {
     "data": {
      "text/plain": [
       "array([[20, 28,  2, 31, 44],\n",
       "       [ 5, 20, 23,  7, 35],\n",
       "       [ 7, 44, 14, 20,  2],\n",
       "       ...,\n",
       "       [27,  6, 34, 21, 16],\n",
       "       [ 4,  3, 49, 42, 37],\n",
       "       [20, 28,  2,  7, 44]])"
      ]
     },
     "execution_count": 34,
     "metadata": {},
     "output_type": "execute_result"
    }
   ],
   "source": [
    "analyzer.primary_topics()"
   ]
  },
  {
   "cell_type": "code",
   "execution_count": 108,
   "metadata": {},
   "outputs": [],
   "source": [
    "#analyzer.topic_use({'subject':'crime', 'party': 'D'})"
   ]
  },
  {
   "cell_type": "code",
   "execution_count": 35,
   "metadata": {},
   "outputs": [
    {
     "name": "stderr",
     "output_type": "stream",
     "text": [
      "/home/rocassius/w266_final/scripts/modeling/vector_math.py:34: RuntimeWarning: divide by zero encountered in true_divide\n",
      "  Ds = np.dot(Wv, v) / (np.linalg.norm(v) * np.linalg.norm(Wv, axis = 1))\n",
      "/home/rocassius/w266_final/scripts/modeling/vector_math.py:34: RuntimeWarning: invalid value encountered in true_divide\n",
      "  Ds = np.dot(Wv, v) / (np.linalg.norm(v) * np.linalg.norm(Wv, axis = 1))\n"
     ]
    },
    {
     "name": "stdout",
     "output_type": "stream",
     "text": [
      "====================\n",
      "\n",
      "Topic 28\n",
      "['tuc', 'badal', 'macdonalds', 'trygve', 'humat', 'jurats', 'biti', 'melchor', 'multiplicities', 'chairpersons']\n",
      "====================\n",
      "\n",
      "Topic 34\n",
      "['watrous', 'pregerson', 'recitalist', 'archfoe', 'tippin', 'clennon', 'songy', 'kael', 'rendition', 'illston']\n",
      "====================\n",
      "\n",
      "Topic 21\n",
      "['kyllo', 'anthrax', 'inoperable', 'plant', 'alsip', 'jerrod', 'risso', 'postville', 'hartsdale', 'downed']\n",
      "====================\n",
      "\n",
      "Topic 23\n",
      "['henlopen', 'postmarked', 'gators', 'gamecocks', 'colts', 'vols', 'tebow', 'matriculating', 'aris', 'clemson']\n",
      "====================\n",
      "\n",
      "Topic 33\n",
      "['goyal', 'eddington', 'ntsb', 'egyptair', 'stb', 'kaul', 'boardings', 'seibel', 'tt', 'agarwal']\n",
      "====================\n",
      "\n",
      "Topic 20\n",
      "['referees', 'fota', 'fifa', 'fiji', 'catalans', 'rugby', 'irb', 'ec', 'ipl', 'stakeholders']\n",
      "====================\n",
      "\n",
      "Topic 3\n",
      "['wiatt', 'glovsky', 'rexroth', 'sivertsen', 'segarra', 'roundtree', 'calman', 'wenk', 'chenault', 'willibald']\n",
      "====================\n",
      "\n",
      "Topic 27\n",
      "['yawing', 'preclusive', 'reversal', 'refract', 'belated', 'riposte', 'amplify', 'recency', 'impulse', 'maquinaria']\n",
      "====================\n",
      "\n",
      "Topic 49\n",
      "['rein', 'warping', 'tackle', 'preventive', 'counteract', 'fajr', 'yuh', 'fuh', 'directs', 'rev']\n",
      "====================\n",
      "\n",
      "Topic 6\n",
      "['prompt', 'authorize', 'layaway', 'boyard', 'basing', 'signaled', 'advance', 'awaited', 'hasty', 'yorktown']\n"
     ]
    }
   ],
   "source": [
    "analyzer.rmn.inspect_topics(which_topics=analyzer.first_topic_counts().index[:10])"
   ]
  },
  {
   "cell_type": "code",
   "execution_count": 45,
   "metadata": {},
   "outputs": [],
   "source": [
    "s = 'labor'\n",
    "N = 10000"
   ]
  },
  {
   "cell_type": "code",
   "execution_count": 46,
   "metadata": {},
   "outputs": [
    {
     "data": {
      "text/plain": [
       "{'mean': 0.11575233458205247,\n",
       " 'lower': 0.1143405879420271,\n",
       " 'upper': 0.11716408122207785}"
      ]
     },
     "execution_count": 46,
     "metadata": {},
     "output_type": "execute_result"
    }
   ],
   "source": [
    "analyzer.group_js({'subject': s, 'party': 'R'}, n=N)"
   ]
  },
  {
   "cell_type": "code",
   "execution_count": 47,
   "metadata": {},
   "outputs": [
    {
     "data": {
      "text/plain": [
       "{'mean': 0.11901327813005678,\n",
       " 'lower': 0.11760478317531026,\n",
       " 'upper': 0.12042177308480331}"
      ]
     },
     "execution_count": 47,
     "metadata": {},
     "output_type": "execute_result"
    }
   ],
   "source": [
    "analyzer.group_js({'subject': s, 'party': 'D'}, n=N)"
   ]
  },
  {
   "cell_type": "code",
   "execution_count": 48,
   "metadata": {},
   "outputs": [
    {
     "data": {
      "text/plain": [
       "{'mean': 0.11932649728152812,\n",
       " 'lower': 0.11793307520679291,\n",
       " 'upper': 0.12071991935626339}"
      ]
     },
     "execution_count": 48,
     "metadata": {},
     "output_type": "execute_result"
    }
   ],
   "source": [
    "analyzer.inter_party_js({'subject': s}, n=N)"
   ]
  },
  {
   "cell_type": "code",
   "execution_count": null,
   "metadata": {},
   "outputs": [],
   "source": []
  },
  {
   "cell_type": "code",
   "execution_count": 146,
   "metadata": {},
   "outputs": [
    {
     "name": "stdout",
     "output_type": "stream",
     "text": [
      "cumulative explained variance to component 5\n",
      "[0.285 0.45  0.522 0.586 0.637]\n"
     ]
    },
    {
     "data": {
      "image/png": "[encoded data removed]",
      "text/plain": [
       "<Figure size 576x432 with 1 Axes>"
      ]
     },
     "metadata": {
      "needs_background": "light"
     },
     "output_type": "display_data"
    }
   ],
   "source": [
    "pca_y_plot(analyzer, conditions={'subject': 'abortion'}, sample_frac=1)"
   ]
  },
  {
   "cell_type": "code",
   "execution_count": 181,
   "metadata": {},
   "outputs": [],
   "source": [
    "import numpy as np\n",
    "import matplotlib.pyplot as plt\n",
    "import matplotlib\n",
    "from sklearn import metrics\n",
    "from sklearn.decomposition import PCA\n",
    "from sklearn.cluster import KMeans\n",
    "from sklearn.mixture import GaussianMixture\n",
    "from sklearn.preprocessing import LabelEncoder\n",
    "from matplotlib.colors import LogNorm"
   ]
  },
  {
   "cell_type": "code",
   "execution_count": 133,
   "metadata": {},
   "outputs": [],
   "source": [
    "def pca_y_plot(analyzer, conditions={}, sample_frac=0.1):\n",
    "    cond_index = analyzer.cond_index(conditions).tolist()\n",
    "    cond_df = analyzer.df.loc[cond_index]\n",
    "    \n",
    "    \n",
    "    X, cond_y = analyzer.rmn.prep_X(cond_df, for_training=True)\n",
    "    \n",
    "    party_labels = np.array(\n",
    "        analyzer.rmn.metadata_dict[PARTY]['tokenize'](cond_df[PARTY])).flatten()\n",
    "    \n",
    "    pca = PCA()\n",
    "    pc = pca.fit_transform(cond_y)\n",
    "    \n",
    "    # report\n",
    "    print(\"cumulative explained variance to component 5\")\n",
    "    print(np.round(np.cumsum(pca.explained_variance_ratio_), 3)[:5])\n",
    "    \n",
    "    pc_data = pd.DataFrame({\n",
    "        \"pc0\": pc[:,0], \n",
    "        \"pc1\": pc[:,1], \n",
    "        \"party_label\": party_labels\n",
    "    }).sample(frac=sample_frac).reset_index(drop=True)\n",
    "    \n",
    "    plt.figure(figsize=(8, 6))\n",
    "    plt.scatter(pc_data['pc0'], pc_data['pc1'], c = pc_data['party_label'], \n",
    "                cmap=matplotlib.colors.ListedColormap(['red', 'blue']), alpha = 0.1)\n",
    "    \n",
    "    # plot centroids\n",
    "    pc_sample = pc_data[['pc0', 'pc1']].to_numpy()\n",
    "    \n",
    "    R_lab = analyzer.rmn.metadata_dict['party']['token_index']['r']\n",
    "    D_lab = analyzer.rmn.metadata_dict['party']['token_index']['d']\n",
    "    \n",
    "    D_index = pc_data[pc_data['party_label'] == D_lab].index.tolist()\n",
    "    R_index = pc_data[pc_data['party_label'] == R_lab].index.tolist()\n",
    "    \n",
    "    D_x, D_y = pc_sample[D_index].mean(axis=0)\n",
    "    R_x, R_y = pc_sample[R_index].mean(axis=0)\n",
    "    \n",
    "    \n",
    "    #R_x, R_y = \n",
    "#     centroid_x = np.mean(cluster['principal component 1'])\n",
    "#     centroid_y = np.mean(cluster['principal component 2'])\n",
    "#     centroid = np.array([centroid_x, centroid_y]).reshape((2,1))\n",
    "#     axes[index].plot(centroid[0], centroid[1], ms=5, marker='o', color = 'black')\n",
    "\n",
    "    plt.plot(D_x, D_y, ms=5, marker='o', color='black')\n",
    "    plt.plot(R_x, R_y, ms=5, marker='o', color='black')\n",
    "    "
   ]
  }
 ],
 "metadata": {
  "kernelspec": {
   "display_name": "Python 3",
   "language": "python",
   "name": "python3"
  },
  "language_info": {
   "codemirror_mode": {
    "name": "ipython",
    "version": 3
   },
   "file_extension": ".py",
   "mimetype": "text/x-python",
   "name": "python",
   "nbconvert_exporter": "python",
   "pygments_lexer": "ipython3",
   "version": "3.7.4"
  }
 },
 "nbformat": 4,
 "nbformat_minor": 2
}
