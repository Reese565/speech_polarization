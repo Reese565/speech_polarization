{
 "cells": [
  {
   "cell_type": "markdown",
   "metadata": {},
   "source": [
    "# RMN Baseline\n",
    "\n",
    "Training an RMN on sessions 105 - 111"
   ]
  },
  {
   "cell_type": "code",
   "execution_count": 1,
   "metadata": {},
   "outputs": [],
   "source": [
    "import os\n",
    "import pandas as pd"
   ]
  },
  {
   "cell_type": "code",
   "execution_count": 2,
   "metadata": {},
   "outputs": [],
   "source": [
    "os.chdir(\"../../../scripts/assembly/\")"
   ]
  },
  {
   "cell_type": "code",
   "execution_count": 3,
   "metadata": {},
   "outputs": [],
   "source": [
    "from document import *\n",
    "from subject import subject_keywords\n",
    "from constant import DOC_PATH"
   ]
  },
  {
   "cell_type": "code",
   "execution_count": 5,
   "metadata": {},
   "outputs": [],
   "source": [
    "# run several times\n",
    "os.chdir(\"../modeling\")\n",
    "from token_mapping import *\n",
    "from embeddings import *\n",
    "from helper import load_pickled_object\n",
    "from rmn import RMN"
   ]
  },
  {
   "cell_type": "code",
   "execution_count": 7,
   "metadata": {},
   "outputs": [],
   "source": [
    "DOC_SAMPLE_PATH = os.path.join(DOC_PATH, \"doc-sample/\")\n",
    "docs_df = load_documents(['alcohol', 'health'], DOC_SAMPLE_PATH)\n",
    "# N = 50000\n",
    "# docs_df = docs_df.sample(N)"
   ]
  },
  {
   "cell_type": "code",
   "execution_count": 8,
   "metadata": {},
   "outputs": [],
   "source": [
    "N = 50\n",
    "docs_df = docs_df.sample(N)"
   ]
  },
  {
   "cell_type": "code",
   "execution_count": 9,
   "metadata": {},
   "outputs": [
    {
     "data": {
      "text/plain": [
       "dict_keys(['speakerid', 'chamber', 'state', 'gender', 'party', 'congress', 'subject'])"
      ]
     },
     "execution_count": 9,
     "metadata": {},
     "output_type": "execute_result"
    }
   ],
   "source": [
    "feature_columns = [\n",
    " 'speakerid',\n",
    " 'chamber',\n",
    " 'state',\n",
    " 'gender',\n",
    " 'party',\n",
    " 'congress',\n",
    " 'subject']\n",
    "\n",
    "# make tokenizer and metadata dicts\n",
    "tokenizer_dict = build_tokenizer_dict(docs_df)\n",
    "metadata_dict = build_metadata_dict(docs_df, feature_columns)\n",
    "metadata_dict.keys()"
   ]
  },
  {
   "cell_type": "code",
   "execution_count": 10,
   "metadata": {},
   "outputs": [],
   "source": [
    "# Get embeddings\n",
    "embedding_file = \"/home/rocassius/gen-data/tools/embbedding_index_50d\"\n",
    "embeddings_index = load_pickled_object(embedding_file)\n",
    "embeddings_matrix = build_embedding_matrix(tokenizer_dict['word_index'], embeddings_index).astype('float16')"
   ]
  },
  {
   "cell_type": "markdown",
   "metadata": {},
   "source": [
    "# RMN Training"
   ]
  },
  {
   "cell_type": "code",
   "execution_count": 11,
   "metadata": {},
   "outputs": [
    {
     "name": "stdout",
     "output_type": "stream",
     "text": [
      "WARNING:tensorflow:From /home/rocassius/anaconda3/lib/python3.7/site-packages/tensorflow_core/python/keras/initializers.py:119: calling RandomUniform.__init__ (from tensorflow.python.ops.init_ops) with dtype is deprecated and will be removed in a future version.\n",
      "Instructions for updating:\n",
      "Call initializer instance with the dtype argument instead of passing it to the constructor\n",
      "WARNING:tensorflow:From /home/rocassius/anaconda3/lib/python3.7/site-packages/tensorflow_core/python/ops/resource_variable_ops.py:1630: calling BaseResourceVariable.__init__ (from tensorflow.python.ops.resource_variable_ops) with constraint is deprecated and will be removed in a future version.\n",
      "Instructions for updating:\n",
      "If using Keras pass *_constraint arguments to layers.\n"
     ]
    }
   ],
   "source": [
    "rmn = RMN()\n",
    "rmn.embedding_matrix = embeddings_matrix\n",
    "rmn.tokenizer_dict = tokenizer_dict\n",
    "rmn.metadata_dict = metadata_dict\n",
    "rmn.num_topics = 40\n",
    "rmn.build_model()"
   ]
  },
  {
   "cell_type": "code",
   "execution_count": 12,
   "metadata": {},
   "outputs": [],
   "source": [
    "import sys"
   ]
  },
  {
   "cell_type": "code",
   "execution_count": 13,
   "metadata": {},
   "outputs": [],
   "source": [
    "inputs = rmn.prep_inputs(docs_df)\n",
    "y = inputs[0]"
   ]
  },
  {
   "cell_type": "code",
   "execution_count": 14,
   "metadata": {},
   "outputs": [
    {
     "name": "stdout",
     "output_type": "stream",
     "text": [
      "WARNING:tensorflow:From /home/rocassius/anaconda3/lib/python3.7/site-packages/tensorflow_core/python/ops/math_grad.py:1424: where (from tensorflow.python.ops.array_ops) is deprecated and will be removed in a future version.\n",
      "Instructions for updating:\n",
      "Use tf.where in 2.0, which has the same broadcast rule as np.where\n",
      "Train on 50 samples\n",
      "Epoch 1/10\n",
      "50/50 [==============================] - 2s 38ms/sample - loss: 8.0164\n",
      "Epoch 2/10\n",
      "50/50 [==============================] - 0s 90us/sample - loss: 8.0053\n",
      "Epoch 3/10\n",
      "50/50 [==============================] - 0s 75us/sample - loss: 8.0007\n",
      "Epoch 4/10\n",
      "50/50 [==============================] - 0s 75us/sample - loss: 8.0001\n",
      "Epoch 5/10\n",
      "50/50 [==============================] - 0s 75us/sample - loss: 8.0012\n",
      "Epoch 6/10\n",
      "50/50 [==============================] - 0s 76us/sample - loss: 8.0024\n",
      "Epoch 7/10\n",
      "50/50 [==============================] - 0s 69us/sample - loss: 8.0029\n",
      "Epoch 8/10\n",
      "50/50 [==============================] - 0s 86us/sample - loss: 8.0027\n",
      "Epoch 9/10\n",
      "50/50 [==============================] - 0s 64us/sample - loss: 8.0019\n",
      "Epoch 10/10\n",
      "50/50 [==============================] - 0s 71us/sample - loss: 8.0007\n"
     ]
    },
    {
     "data": {
      "text/plain": [
       "<tensorflow.python.keras.callbacks.History at 0x7fca98a74910>"
      ]
     },
     "execution_count": 14,
     "metadata": {},
     "output_type": "execute_result"
    }
   ],
   "source": [
    "rmn.model.fit(x=inputs, y=y, epochs = 10, batch_size = 50)"
   ]
  },
  {
   "cell_type": "code",
   "execution_count": 15,
   "metadata": {},
   "outputs": [
    {
     "data": {
      "text/plain": [
       "<tensorflow.python.keras.engine.training.Model at 0x7fca98cada90>"
      ]
     },
     "execution_count": 15,
     "metadata": {},
     "output_type": "execute_result"
    }
   ],
   "source": [
    "rmn.model"
   ]
  },
  {
   "cell_type": "code",
   "execution_count": 17,
   "metadata": {},
   "outputs": [],
   "source": [
    "rmn.save_rmn(\"test\", \"/home/rocassius/gen-data/models\")"
   ]
  },
  {
   "cell_type": "code",
   "execution_count": 18,
   "metadata": {},
   "outputs": [],
   "source": [
    "import tensorflow as tf"
   ]
  },
  {
   "cell_type": "code",
   "execution_count": 19,
   "metadata": {},
   "outputs": [
    {
     "data": {
      "text/plain": [
       "'1.15.0'"
      ]
     },
     "execution_count": 19,
     "metadata": {},
     "output_type": "execute_result"
    }
   ],
   "source": [
    "tf.__version__"
   ]
  },
  {
   "cell_type": "code",
   "execution_count": 20,
   "metadata": {},
   "outputs": [],
   "source": [
    "from tensorflow import keras"
   ]
  },
  {
   "cell_type": "code",
   "execution_count": 21,
   "metadata": {},
   "outputs": [
    {
     "data": {
      "text/plain": [
       "'2.2.4-tf'"
      ]
     },
     "execution_count": 21,
     "metadata": {},
     "output_type": "execute_result"
    }
   ],
   "source": [
    "keras.__version__"
   ]
  },
  {
   "cell_type": "code",
   "execution_count": null,
   "metadata": {},
   "outputs": [],
   "source": []
  }
 ],
 "metadata": {
  "kernelspec": {
   "display_name": "Python 3",
   "language": "python",
   "name": "python3"
  },
  "language_info": {
   "codemirror_mode": {
    "name": "ipython",
    "version": 3
   },
   "file_extension": ".py",
   "mimetype": "text/x-python",
   "name": "python",
   "nbconvert_exporter": "python",
   "pygments_lexer": "ipython3",
   "version": "3.7.4"
  }
 },
 "nbformat": 4,
 "nbformat_minor": 2
}
