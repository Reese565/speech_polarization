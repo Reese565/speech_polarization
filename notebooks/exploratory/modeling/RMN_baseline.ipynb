{
 "cells": [
  {
   "cell_type": "markdown",
   "metadata": {},
   "source": [
    "# RMN Baseline\n",
    "\n",
    "Training an RMN on sessions 105 - 111"
   ]
  },
  {
   "cell_type": "code",
   "execution_count": 1,
   "metadata": {},
   "outputs": [],
   "source": [
    "import os\n",
    "import pandas as pd"
   ]
  },
  {
   "cell_type": "code",
   "execution_count": 2,
   "metadata": {},
   "outputs": [],
   "source": [
    "os.chdir(\"../../../scripts/assembly/\")"
   ]
  },
  {
   "cell_type": "code",
   "execution_count": 3,
   "metadata": {},
   "outputs": [],
   "source": [
    "from document import *\n",
    "from subject import subject_keywords\n",
    "from constant import DOC_PATH"
   ]
  },
  {
   "cell_type": "code",
   "execution_count": 4,
   "metadata": {},
   "outputs": [],
   "source": [
    "# run several times\n",
    "os.chdir(\"../modeling\")\n",
    "from token_mapping import *\n",
    "from embeddings import *\n",
    "os.chdir(\"../modeling\")\n",
    "from helper import load_pickled_object\n",
    "from rmn import RMN"
   ]
  },
  {
   "cell_type": "code",
   "execution_count": 17,
   "metadata": {},
   "outputs": [],
   "source": [
    "DOC_SAMPLE_PATH = os.path.join(DOC_PATH, \"doc-sample/\")\n",
    "docs_df = load_documents(subject_keywords.keys(), DOC_SAMPLE_PATH)\n",
    "# N = 50000\n",
    "# docs_df = docs_df.sample(N)"
   ]
  },
  {
   "cell_type": "code",
   "execution_count": null,
   "metadata": {},
   "outputs": [],
   "source": [
    "feature_columns = [\n",
    " 'speakerid',\n",
    " 'chamber',\n",
    " 'state',\n",
    " 'gender',\n",
    " 'party',\n",
    " 'congress',\n",
    " 'subject']\n",
    "\n",
    "# make tokenizer and metadata dicts\n",
    "tokenizer_dict = build_tokenizer_dict(docs_df)\n",
    "metadata_dict = build_metadata_dict(docs_df, feature_columns)\n",
    "metadata_dict.keys()"
   ]
  },
  {
   "cell_type": "code",
   "execution_count": 7,
   "metadata": {},
   "outputs": [],
   "source": [
    "# Get embeddings\n",
    "embedding_file = \"/home/reese56/w266_final/data/gen-data/tools/embbedding_index_50d\"\n",
    "# embedding_file = \"/home/rocassius/gen-data/tools/embbedding_index_50d\"\n",
    "embeddings_index = load_pickled_object(embedding_file)\n",
    "embeddings_matrix = build_embedding_matrix(tokenizer_dict['word_index'], embeddings_index).astype('float16')"
   ]
  },
  {
   "cell_type": "markdown",
   "metadata": {},
   "source": [
    "# RMN Training"
   ]
  },
  {
   "cell_type": "code",
   "execution_count": null,
   "metadata": {},
   "outputs": [],
   "source": [
    "rmn = RMN()\n",
    "rmn.embedding_matrix = embeddings_matrix\n",
    "rmn.tokenizer_dict = tokenizer_dict\n",
    "rmn.metadata_dict = metadata_dict\n",
    "rmn.num_topics = 40\n",
    "rmn.build_model()"
   ]
  },
  {
   "cell_type": "code",
   "execution_count": null,
   "metadata": {},
   "outputs": [],
   "source": [
    "import sys"
   ]
  },
  {
   "cell_type": "code",
   "execution_count": null,
   "metadata": {},
   "outputs": [],
   "source": [
    "sys.getsizeof(embeddings_matrix)"
   ]
  },
  {
   "cell_type": "code",
   "execution_count": null,
   "metadata": {},
   "outputs": [],
   "source": [
    "inputs = rmn.prep_inputs(docs_df)\n",
    "y = inputs[0]"
   ]
  },
  {
   "cell_type": "code",
   "execution_count": 15,
   "metadata": {},
   "outputs": [],
   "source": [
    "tf.config.experimental_run_functions_eagerly(True)"
   ]
  },
  {
   "cell_type": "code",
   "execution_count": 16,
   "metadata": {},
   "outputs": [
    {
     "name": "stdout",
     "output_type": "stream",
     "text": [
      "Train on 250 samples\n",
      "Epoch 1/10\n",
      "250/250 [==============================] - 1s 5ms/sample - loss: 0.9949\n",
      "Epoch 2/10\n",
      "250/250 [==============================] - 1s 3ms/sample - loss: 0.9832\n",
      "Epoch 3/10\n",
      "250/250 [==============================] - 1s 3ms/sample - loss: 0.9702\n",
      "Epoch 4/10\n",
      "250/250 [==============================] - 1s 3ms/sample - loss: 0.9610\n",
      "Epoch 5/10\n",
      "250/250 [==============================] - 1s 3ms/sample - loss: 0.9529\n",
      "Epoch 6/10\n",
      "250/250 [==============================] - 1s 3ms/sample - loss: 0.9455\n",
      "Epoch 7/10\n",
      "250/250 [==============================] - 1s 3ms/sample - loss: 0.9388\n",
      "Epoch 8/10\n",
      "250/250 [==============================] - 1s 3ms/sample - loss: 0.9328\n",
      "Epoch 9/10\n",
      "250/250 [==============================] - 1s 3ms/sample - loss: 0.9270\n",
      "Epoch 10/10\n",
      "250/250 [==============================] - 1s 3ms/sample - loss: 0.9215\n"
     ]
    },
    {
     "data": {
      "text/plain": [
       "<tensorflow.python.keras.callbacks.History at 0x7f4e41f347d0>"
      ]
     },
     "execution_count": 16,
     "metadata": {},
     "output_type": "execute_result"
    }
   ],
   "source": [
    "rmn.model.fit(x=inputs, y=y, epochs = 1, batch_size = 250)"
   ]
  },
  {
   "cell_type": "code",
   "execution_count": null,
   "metadata": {},
   "outputs": [],
   "source": [
    "# rmn.save_rmn(\"second\", \"/home/rocassius/gen-data/models\")\n",
    "rmn.save_rmn(\"first\", \"/home/reese56/w266_final/data/gen-data/models\")"
   ]
  },
  {
   "cell_type": "code",
   "execution_count": 12,
   "metadata": {},
   "outputs": [
    {
     "data": {
      "text/plain": [
       "'{\"class_name\": \"Model\", \"config\": {\"name\": \"model\", \"layers\": [{\"class_name\": \"InputLayer\", \"config\": {\"batch_input_shape\": [null, 1], \"dtype\": \"float32\", \"sparse\": false, \"ragged\": false, \"name\": \"speakerid.Input\"}, \"name\": \"speakerid.Input\", \"inbound_nodes\": []}, {\"class_name\": \"InputLayer\", \"config\": {\"batch_input_shape\": [null, 1], \"dtype\": \"float32\", \"sparse\": false, \"ragged\": false, \"name\": \"chamber.Input\"}, \"name\": \"chamber.Input\", \"inbound_nodes\": []}, {\"class_name\": \"InputLayer\", \"config\": {\"batch_input_shape\": [null, 1], \"dtype\": \"float32\", \"sparse\": false, \"ragged\": false, \"name\": \"state.Input\"}, \"name\": \"state.Input\", \"inbound_nodes\": []}, {\"class_name\": \"InputLayer\", \"config\": {\"batch_input_shape\": [null, 1], \"dtype\": \"float32\", \"sparse\": false, \"ragged\": false, \"name\": \"gender.Input\"}, \"name\": \"gender.Input\", \"inbound_nodes\": []}, {\"class_name\": \"InputLayer\", \"config\": {\"batch_input_shape\": [null, 1], \"dtype\": \"float32\", \"sparse\": false, \"ragged\": false, \"name\": \"party.Input\"}, \"name\": \"party.Input\", \"inbound_nodes\": []}, {\"class_name\": \"InputLayer\", \"config\": {\"batch_input_shape\": [null, 1], \"dtype\": \"float32\", \"sparse\": false, \"ragged\": false, \"name\": \"congress.Input\"}, \"name\": \"congress.Input\", \"inbound_nodes\": []}, {\"class_name\": \"InputLayer\", \"config\": {\"batch_input_shape\": [null, 1], \"dtype\": \"float32\", \"sparse\": false, \"ragged\": false, \"name\": \"subject.Input\"}, \"name\": \"subject.Input\", \"inbound_nodes\": []}, {\"class_name\": \"Embedding\", \"config\": {\"name\": \"embedding\", \"trainable\": true, \"batch_input_shape\": [null, 1], \"dtype\": \"float32\", \"input_dim\": 115, \"output_dim\": 50, \"embeddings_initializer\": {\"class_name\": \"RandomUniform\", \"config\": {\"minval\": -0.05, \"maxval\": 0.05, \"seed\": null}}, \"embeddings_regularizer\": null, \"activity_regularizer\": null, \"embeddings_constraint\": null, \"mask_zero\": false, \"input_length\": 1}, \"name\": \"embedding\", \"inbound_nodes\": [[[\"speakerid.Input\", 0, 0, {}]]]}, {\"class_name\": \"Embedding\", \"config\": {\"name\": \"embedding_1\", \"trainable\": true, \"batch_input_shape\": [null, 1], \"dtype\": \"float32\", \"input_dim\": 3, \"output_dim\": 50, \"embeddings_initializer\": {\"class_name\": \"RandomUniform\", \"config\": {\"minval\": -0.05, \"maxval\": 0.05, \"seed\": null}}, \"embeddings_regularizer\": null, \"activity_regularizer\": null, \"embeddings_constraint\": null, \"mask_zero\": false, \"input_length\": 1}, \"name\": \"embedding_1\", \"inbound_nodes\": [[[\"chamber.Input\", 0, 0, {}]]]}, {\"class_name\": \"Embedding\", \"config\": {\"name\": \"embedding_2\", \"trainable\": true, \"batch_input_shape\": [null, 1], \"dtype\": \"float32\", \"input_dim\": 48, \"output_dim\": 50, \"embeddings_initializer\": {\"class_name\": \"RandomUniform\", \"config\": {\"minval\": -0.05, \"maxval\": 0.05, \"seed\": null}}, \"embeddings_regularizer\": null, \"activity_regularizer\": null, \"embeddings_constraint\": null, \"mask_zero\": false, \"input_length\": 1}, \"name\": \"embedding_2\", \"inbound_nodes\": [[[\"state.Input\", 0, 0, {}]]]}, {\"class_name\": \"Embedding\", \"config\": {\"name\": \"embedding_3\", \"trainable\": true, \"batch_input_shape\": [null, 1], \"dtype\": \"float32\", \"input_dim\": 3, \"output_dim\": 50, \"embeddings_initializer\": {\"class_name\": \"RandomUniform\", \"config\": {\"minval\": -0.05, \"maxval\": 0.05, \"seed\": null}}, \"embeddings_regularizer\": null, \"activity_regularizer\": null, \"embeddings_constraint\": null, \"mask_zero\": false, \"input_length\": 1}, \"name\": \"embedding_3\", \"inbound_nodes\": [[[\"gender.Input\", 0, 0, {}]]]}, {\"class_name\": \"Embedding\", \"config\": {\"name\": \"embedding_4\", \"trainable\": true, \"batch_input_shape\": [null, 1], \"dtype\": \"float32\", \"input_dim\": 3, \"output_dim\": 50, \"embeddings_initializer\": {\"class_name\": \"RandomUniform\", \"config\": {\"minval\": -0.05, \"maxval\": 0.05, \"seed\": null}}, \"embeddings_regularizer\": null, \"activity_regularizer\": null, \"embeddings_constraint\": null, \"mask_zero\": false, \"input_length\": 1}, \"name\": \"embedding_4\", \"inbound_nodes\": [[[\"party.Input\", 0, 0, {}]]]}, {\"class_name\": \"Embedding\", \"config\": {\"name\": \"embedding_5\", \"trainable\": true, \"batch_input_shape\": [null, 1], \"dtype\": \"float32\", \"input_dim\": 2, \"output_dim\": 50, \"embeddings_initializer\": {\"class_name\": \"RandomUniform\", \"config\": {\"minval\": -0.05, \"maxval\": 0.05, \"seed\": null}}, \"embeddings_regularizer\": null, \"activity_regularizer\": null, \"embeddings_constraint\": null, \"mask_zero\": false, \"input_length\": 1}, \"name\": \"embedding_5\", \"inbound_nodes\": [[[\"congress.Input\", 0, 0, {}]]]}, {\"class_name\": \"Embedding\", \"config\": {\"name\": \"embedding_6\", \"trainable\": true, \"batch_input_shape\": [null, 1], \"dtype\": \"float32\", \"input_dim\": 2, \"output_dim\": 50, \"embeddings_initializer\": {\"class_name\": \"RandomUniform\", \"config\": {\"minval\": -0.05, \"maxval\": 0.05, \"seed\": null}}, \"embeddings_regularizer\": null, \"activity_regularizer\": null, \"embeddings_constraint\": null, \"mask_zero\": false, \"input_length\": 1}, \"name\": \"embedding_6\", \"inbound_nodes\": [[[\"subject.Input\", 0, 0, {}]]]}, {\"class_name\": \"InputLayer\", \"config\": {\"batch_input_shape\": [null, 50], \"dtype\": \"float32\", \"sparse\": false, \"ragged\": false, \"name\": \"Span.Input\"}, \"name\": \"Span.Input\", \"inbound_nodes\": []}, {\"class_name\": \"Reshape\", \"config\": {\"name\": \"speakerid.Embed.Layer\", \"trainable\": true, \"dtype\": \"float32\", \"target_shape\": [50]}, \"name\": \"speakerid.Embed.Layer\", \"inbound_nodes\": [[[\"embedding\", 0, 0, {}]]]}, {\"class_name\": \"Reshape\", \"config\": {\"name\": \"chamber.Embed.Layer\", \"trainable\": true, \"dtype\": \"float32\", \"target_shape\": [50]}, \"name\": \"chamber.Embed.Layer\", \"inbound_nodes\": [[[\"embedding_1\", 0, 0, {}]]]}, {\"class_name\": \"Reshape\", \"config\": {\"name\": \"state.Embed.Layer\", \"trainable\": true, \"dtype\": \"float32\", \"target_shape\": [50]}, \"name\": \"state.Embed.Layer\", \"inbound_nodes\": [[[\"embedding_2\", 0, 0, {}]]]}, {\"class_name\": \"Reshape\", \"config\": {\"name\": \"gender.Embed.Layer\", \"trainable\": true, \"dtype\": \"float32\", \"target_shape\": [50]}, \"name\": \"gender.Embed.Layer\", \"inbound_nodes\": [[[\"embedding_3\", 0, 0, {}]]]}, {\"class_name\": \"Reshape\", \"config\": {\"name\": \"party.Embed.Layer\", \"trainable\": true, \"dtype\": \"float32\", \"target_shape\": [50]}, \"name\": \"party.Embed.Layer\", \"inbound_nodes\": [[[\"embedding_4\", 0, 0, {}]]]}, {\"class_name\": \"Reshape\", \"config\": {\"name\": \"congress.Embed.Layer\", \"trainable\": true, \"dtype\": \"float32\", \"target_shape\": [50]}, \"name\": \"congress.Embed.Layer\", \"inbound_nodes\": [[[\"embedding_5\", 0, 0, {}]]]}, {\"class_name\": \"Reshape\", \"config\": {\"name\": \"subject.Embed.Layer\", \"trainable\": true, \"dtype\": \"float32\", \"target_shape\": [50]}, \"name\": \"subject.Embed.Layer\", \"inbound_nodes\": [[[\"embedding_6\", 0, 0, {}]]]}, {\"class_name\": \"Concatenate\", \"config\": {\"name\": \"Concat.Layer\", \"trainable\": true, \"dtype\": \"float32\", \"axis\": 1}, \"name\": \"Concat.Layer\", \"inbound_nodes\": [[[\"Span.Input\", 0, 0, {}], [\"speakerid.Embed.Layer\", 0, 0, {}], [\"chamber.Embed.Layer\", 0, 0, {}], [\"state.Embed.Layer\", 0, 0, {}], [\"gender.Embed.Layer\", 0, 0, {}], [\"party.Embed.Layer\", 0, 0, {}], [\"congress.Embed.Layer\", 0, 0, {}], [\"subject.Embed.Layer\", 0, 0, {}]]]}, {\"class_name\": \"Dense\", \"config\": {\"name\": \"Wh\", \"trainable\": true, \"batch_input_shape\": [null, 400], \"dtype\": \"float32\", \"units\": 50, \"activation\": \"relu\", \"use_bias\": true, \"kernel_initializer\": {\"class_name\": \"GlorotUniform\", \"config\": {\"seed\": null}}, \"bias_initializer\": {\"class_name\": \"Zeros\", \"config\": {}}, \"kernel_regularizer\": null, \"bias_regularizer\": null, \"activity_regularizer\": null, \"kernel_constraint\": null, \"bias_constraint\": null}, \"name\": \"Wh\", \"inbound_nodes\": [[[\"Concat.Layer\", 0, 0, {}]]]}, {\"class_name\": \"Dense\", \"config\": {\"name\": \"Wd\", \"trainable\": true, \"batch_input_shape\": [null, 50], \"dtype\": \"float32\", \"units\": 40, \"activation\": \"softmax\", \"use_bias\": true, \"kernel_initializer\": {\"class_name\": \"GlorotUniform\", \"config\": {\"seed\": null}}, \"bias_initializer\": {\"class_name\": \"Zeros\", \"config\": {}}, \"kernel_regularizer\": null, \"bias_regularizer\": null, \"activity_regularizer\": null, \"kernel_constraint\": null, \"bias_constraint\": null}, \"name\": \"Wd\", \"inbound_nodes\": [[[\"Wh\", 0, 0, {}]]]}, {\"class_name\": \"Dense\", \"config\": {\"name\": \"R\", \"trainable\": true, \"batch_input_shape\": [null, 40], \"dtype\": \"float32\", \"units\": 50, \"activation\": \"linear\", \"use_bias\": true, \"kernel_initializer\": {\"class_name\": \"GlorotUniform\", \"config\": {\"seed\": null}}, \"bias_initializer\": {\"class_name\": \"Zeros\", \"config\": {}}, \"kernel_regularizer\": null, \"bias_regularizer\": null, \"activity_regularizer\": null, \"kernel_constraint\": null, \"bias_constraint\": null}, \"name\": \"R\", \"inbound_nodes\": [[[\"Wd\", 0, 0, {}]]]}], \"input_layers\": [[\"Span.Input\", 0, 0], [\"speakerid.Input\", 0, 0], [\"chamber.Input\", 0, 0], [\"state.Input\", 0, 0], [\"gender.Input\", 0, 0], [\"party.Input\", 0, 0], [\"congress.Input\", 0, 0], [\"subject.Input\", 0, 0]], \"output_layers\": [[\"R\", 0, 0]]}, \"keras_version\": \"2.2.4-tf\", \"backend\": \"tensorflow\"}'"
      ]
     },
     "execution_count": 12,
     "metadata": {},
     "output_type": "execute_result"
    }
   ],
   "source": [
    "rmn.model.to_json()"
   ]
  },
  {
   "cell_type": "code",
   "execution_count": null,
   "metadata": {},
   "outputs": [],
   "source": [
    "# from keras.models import Sequential\n",
    "# from keras.layers import Dense, Activation\n",
    "# model = Sequential([Dense(32, input_shape=(784,)),\n",
    "#                     Activation('relu'),\n",
    "#                     Dense(10),Activation('softmax'),])\n"
   ]
  },
  {
   "cell_type": "code",
   "execution_count": null,
   "metadata": {},
   "outputs": [],
   "source": [
    "# model.to_json()"
   ]
  },
  {
   "cell_type": "code",
   "execution_count": null,
   "metadata": {},
   "outputs": [],
   "source": [
    "tf.__version__"
   ]
  },
  {
   "cell_type": "code",
   "execution_count": null,
   "metadata": {},
   "outputs": [],
   "source": [
    "import keras\n",
    "keras.__version__"
   ]
  },
  {
   "cell_type": "code",
   "execution_count": null,
   "metadata": {},
   "outputs": [],
   "source": [
    "import pkg_resources\n",
    "pkg_resources.require(\"tensorflow==1.15.0\")"
   ]
  },
  {
   "cell_type": "code",
   "execution_count": null,
   "metadata": {},
   "outputs": [],
   "source": [
    "import sys\n",
    "!conda list"
   ]
  },
  {
   "cell_type": "code",
   "execution_count": null,
   "metadata": {},
   "outputs": [],
   "source": []
  }
 ],
 "metadata": {
  "kernelspec": {
   "display_name": "Python 3",
   "language": "python",
   "name": "python3"
  },
  "language_info": {
   "codemirror_mode": {
    "name": "ipython",
    "version": 3
   },
   "file_extension": ".py",
   "mimetype": "text/x-python",
   "name": "python",
   "nbconvert_exporter": "python",
   "pygments_lexer": "ipython3",
   "version": "3.7.4"
  }
 },
 "nbformat": 4,
 "nbformat_minor": 2
}
