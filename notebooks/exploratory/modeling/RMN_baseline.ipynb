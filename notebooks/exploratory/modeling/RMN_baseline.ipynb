{
 "cells": [
  {
   "cell_type": "markdown",
   "metadata": {},
   "source": [
    "# RMN Baseline\n",
    "\n",
    "Training an RMN on sessions 105 - 111"
   ]
  },
  {
   "cell_type": "code",
   "execution_count": 1,
   "metadata": {},
   "outputs": [],
   "source": [
    "import os\n",
    "import pandas as pd"
   ]
  },
  {
   "cell_type": "code",
   "execution_count": 2,
   "metadata": {},
   "outputs": [],
   "source": [
    "os.chdir(\"../../../scripts/assembly/\")"
   ]
  },
  {
   "cell_type": "code",
   "execution_count": 3,
   "metadata": {},
   "outputs": [],
   "source": [
    "from document import *\n",
    "from subject import subject_keywords\n",
    "from constant import DOC_PATH"
   ]
  },
  {
   "cell_type": "code",
   "execution_count": 5,
   "metadata": {},
   "outputs": [],
   "source": [
    "# run several times\n",
    "os.chdir(\"../modeling\")\n",
    "from token_mapping import *\n",
    "from embeddings import *\n",
    "from helper import load_pickled_object\n",
    "from rmn import RMN"
   ]
  },
  {
   "cell_type": "code",
   "execution_count": 6,
   "metadata": {},
   "outputs": [],
   "source": [
    "DOC_SAMPLE_PATH = os.path.join(DOC_PATH, \"doc-sample/\")\n",
    "docs_df = load_documents(subject_keywords.keys(), DOC_SAMPLE_PATH)\n",
    "# N = 50000\n",
    "# docs_df = docs_df.sample(N)"
   ]
  },
  {
   "cell_type": "code",
   "execution_count": 7,
   "metadata": {},
   "outputs": [
    {
     "data": {
      "text/plain": [
       "dict_keys(['speakerid', 'chamber', 'state', 'gender', 'party', 'congress', 'subject'])"
      ]
     },
     "execution_count": 7,
     "metadata": {},
     "output_type": "execute_result"
    }
   ],
   "source": [
    "feature_columns = [\n",
    " 'speakerid',\n",
    " 'chamber',\n",
    " 'state',\n",
    " 'gender',\n",
    " 'party',\n",
    " 'congress',\n",
    " 'subject']\n",
    "\n",
    "# make tokenizer and metadata dicts\n",
    "tokenizer_dict = build_tokenizer_dict(docs_df)\n",
    "metadata_dict = build_metadata_dict(docs_df, feature_columns)\n",
    "metadata_dict.keys()"
   ]
  },
  {
   "cell_type": "code",
   "execution_count": 8,
   "metadata": {},
   "outputs": [],
   "source": [
    "# Get embeddings\n",
    "embedding_file = \"/home/rocassius/gen-data/tools/embbedding_index_50d\"\n",
    "embeddings_index = load_pickled_object(embedding_file)\n",
    "embeddings_matrix = build_embedding_matrix(tokenizer_dict['word_index'], embeddings_index).astype('float16')"
   ]
  },
  {
   "cell_type": "markdown",
   "metadata": {},
   "source": [
    "# RMN Training"
   ]
  },
  {
   "cell_type": "code",
   "execution_count": 23,
   "metadata": {},
   "outputs": [],
   "source": [
    "rmn = RMN()\n",
    "rmn.embedding_matrix = embeddings_matrix\n",
    "rmn.tokenizer_dict = tokenizer_dict\n",
    "rmn.metadata_dict = metadata_dict\n",
    "rmn.num_topics = 40\n",
    "rmn.build_model()"
   ]
  },
  {
   "cell_type": "code",
   "execution_count": 24,
   "metadata": {},
   "outputs": [],
   "source": [
    "import sys"
   ]
  },
  {
   "cell_type": "code",
   "execution_count": 25,
   "metadata": {},
   "outputs": [
    {
     "data": {
      "text/plain": [
       "33753912"
      ]
     },
     "execution_count": 25,
     "metadata": {},
     "output_type": "execute_result"
    }
   ],
   "source": [
    "sys.getsizeof(embeddings_matrix)"
   ]
  },
  {
   "cell_type": "code",
   "execution_count": 26,
   "metadata": {},
   "outputs": [],
   "source": [
    "inputs = rmn.prep_inputs(docs_df)\n",
    "y = inputs[0]"
   ]
  },
  {
   "cell_type": "code",
   "execution_count": 27,
   "metadata": {},
   "outputs": [
    {
     "name": "stdout",
     "output_type": "stream",
     "text": [
      "WARNING:tensorflow:From /home/rocassius/anaconda3/lib/python3.7/site-packages/tensorflow_core/python/ops/math_grad.py:1424: where (from tensorflow.python.ops.array_ops) is deprecated and will be removed in a future version.\n",
      "Instructions for updating:\n",
      "Use tf.where in 2.0, which has the same broadcast rule as np.where\n",
      "Train on 1997661 samples\n",
      "Epoch 1/10\n",
      "1997661/1997661 [==============================] - 146s 73us/sample - loss: 6.4798\n",
      "Epoch 2/10\n",
      "1997661/1997661 [==============================] - 141s 70us/sample - loss: 6.3304\n",
      "Epoch 3/10\n",
      "1997661/1997661 [==============================] - 145s 73us/sample - loss: 6.2983\n",
      "Epoch 4/10\n",
      "1997661/1997661 [==============================] - 148s 74us/sample - loss: 6.2736\n",
      "Epoch 5/10\n",
      "1997661/1997661 [==============================] - 145s 73us/sample - loss: 6.2696\n",
      "Epoch 6/10\n",
      "1997661/1997661 [==============================] - 140s 70us/sample - loss: 6.2681\n",
      "Epoch 7/10\n",
      "1997661/1997661 [==============================] - 142s 71us/sample - loss: 6.2629\n",
      "Epoch 8/10\n",
      "1997661/1997661 [==============================] - 142s 71us/sample - loss: 6.2654\n",
      "Epoch 9/10\n",
      "1997661/1997661 [==============================] - 143s 71us/sample - loss: 6.2642\n",
      "Epoch 10/10\n",
      "1997661/1997661 [==============================] - 143s 72us/sample - loss: 6.2651\n"
     ]
    },
    {
     "data": {
      "text/plain": [
       "<tensorflow.python.keras.callbacks.History at 0x7ff80ce55510>"
      ]
     },
     "execution_count": 27,
     "metadata": {},
     "output_type": "execute_result"
    }
   ],
   "source": [
    "rmn.model.fit(x=inputs, y=y, epochs = 10, batch_size = 50)"
   ]
  },
  {
   "cell_type": "code",
   "execution_count": 28,
   "metadata": {},
   "outputs": [],
   "source": [
    "rmn.save_rmn(\"second\", \"/home/rocassius/gen-data/models\")"
   ]
  },
  {
   "cell_type": "code",
   "execution_count": null,
   "metadata": {},
   "outputs": [],
   "source": []
  }
 ],
 "metadata": {
  "kernelspec": {
   "display_name": "Python 3",
   "language": "python",
   "name": "python3"
  },
  "language_info": {
   "codemirror_mode": {
    "name": "ipython",
    "version": 3
   },
   "file_extension": ".py",
   "mimetype": "text/x-python",
   "name": "python",
   "nbconvert_exporter": "python",
   "pygments_lexer": "ipython3",
   "version": "3.7.4"
  }
 },
 "nbformat": 4,
 "nbformat_minor": 2
}
