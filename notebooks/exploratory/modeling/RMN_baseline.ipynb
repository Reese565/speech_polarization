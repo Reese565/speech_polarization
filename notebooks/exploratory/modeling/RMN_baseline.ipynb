{
 "cells": [
  {
   "cell_type": "markdown",
   "metadata": {},
   "source": [
    "# RMN Baseline\n",
    "\n",
    "Training an RMN on sessions 105 - 111"
   ]
  },
  {
   "cell_type": "code",
   "execution_count": 1,
   "metadata": {},
   "outputs": [],
   "source": [
    "import os\n",
    "import numpy as np\n",
    "import pandas as pd\n",
    "from scipy import stats"
   ]
  },
  {
   "cell_type": "code",
   "execution_count": 2,
   "metadata": {},
   "outputs": [],
   "source": [
    "os.chdir(\"../../../scripts/assembly/\")"
   ]
  },
  {
   "cell_type": "code",
   "execution_count": 3,
   "metadata": {},
   "outputs": [],
   "source": [
    "from preprocess import *\n",
    "from document import *\n",
    "from subject import subject_keywords\n",
    "from constant import SPEECHES, SPEAKER_MAP, HB_PATH, EMBEDDINGS, DOC_PATH, DOCUMENT"
   ]
  },
  {
   "cell_type": "code",
   "execution_count": 4,
   "metadata": {},
   "outputs": [],
   "source": [
    "os.chdir(\"../modeling\")\n",
    "from token_mapping import *"
   ]
  },
  {
   "cell_type": "code",
   "execution_count": 5,
   "metadata": {},
   "outputs": [],
   "source": [
    "DOC_SAMPLE_PATH = os.path.join(DOC_PATH, \"doc-sample/\")"
   ]
  },
  {
   "cell_type": "code",
   "execution_count": 58,
   "metadata": {},
   "outputs": [],
   "source": [
    "docs_df = load_documents(subject_keywords.keys(), DOC_SAMPLE_PATH)"
   ]
  },
  {
   "cell_type": "code",
   "execution_count": 60,
   "metadata": {},
   "outputs": [
    {
     "data": {
      "text/html": [
       "<div>\n",
       "<style scoped>\n",
       "    .dataframe tbody tr th:only-of-type {\n",
       "        vertical-align: middle;\n",
       "    }\n",
       "\n",
       "    .dataframe tbody tr th {\n",
       "        vertical-align: top;\n",
       "    }\n",
       "\n",
       "    .dataframe thead th {\n",
       "        text-align: right;\n",
       "    }\n",
       "</style>\n",
       "<table border=\"1\" class=\"dataframe\">\n",
       "  <thead>\n",
       "    <tr style=\"text-align: right;\">\n",
       "      <th></th>\n",
       "      <th>speakerid</th>\n",
       "      <th>lastname</th>\n",
       "      <th>firstname</th>\n",
       "      <th>chamber</th>\n",
       "      <th>state</th>\n",
       "      <th>gender</th>\n",
       "      <th>party</th>\n",
       "      <th>document</th>\n",
       "      <th>congress</th>\n",
       "      <th>subject</th>\n",
       "    </tr>\n",
       "  </thead>\n",
       "  <tbody>\n",
       "    <tr>\n",
       "      <td>12793</td>\n",
       "      <td>105115670</td>\n",
       "      <td>HOEKSTRA</td>\n",
       "      <td>PETER</td>\n",
       "      <td>H</td>\n",
       "      <td>MI</td>\n",
       "      <td>M</td>\n",
       "      <td>R</td>\n",
       "      <td>effort need learn process need share learning ...</td>\n",
       "      <td>105</td>\n",
       "      <td>foreign</td>\n",
       "    </tr>\n",
       "    <tr>\n",
       "      <td>106939</td>\n",
       "      <td>110117200</td>\n",
       "      <td>WOOLSEY</td>\n",
       "      <td>LYNN</td>\n",
       "      <td>H</td>\n",
       "      <td>CA</td>\n",
       "      <td>F</td>\n",
       "      <td>D</td>\n",
       "      <td>live fear afraid go market send children schoo...</td>\n",
       "      <td>110</td>\n",
       "      <td>labor</td>\n",
       "    </tr>\n",
       "    <tr>\n",
       "      <td>88259</td>\n",
       "      <td>109115190</td>\n",
       "      <td>SHAYS</td>\n",
       "      <td>CHRISTOPHER</td>\n",
       "      <td>H</td>\n",
       "      <td>CT</td>\n",
       "      <td>M</td>\n",
       "      <td>R</td>\n",
       "      <td>title x kept inflation since  additional incre...</td>\n",
       "      <td>109</td>\n",
       "      <td>labor</td>\n",
       "    </tr>\n",
       "    <tr>\n",
       "      <td>63461</td>\n",
       "      <td>107112870</td>\n",
       "      <td>CALLAHAN</td>\n",
       "      <td>H.</td>\n",
       "      <td>H</td>\n",
       "      <td>AL</td>\n",
       "      <td>M</td>\n",
       "      <td>R</td>\n",
       "      <td>watching american people think dumb cannot see...</td>\n",
       "      <td>107</td>\n",
       "      <td>government</td>\n",
       "    </tr>\n",
       "    <tr>\n",
       "      <td>87748</td>\n",
       "      <td>111118101</td>\n",
       "      <td>BROWN</td>\n",
       "      <td>SHERROD</td>\n",
       "      <td>S</td>\n",
       "      <td>OH</td>\n",
       "      <td>M</td>\n",
       "      <td>D</td>\n",
       "      <td>school college graduates men women returning s...</td>\n",
       "      <td>111</td>\n",
       "      <td>health</td>\n",
       "    </tr>\n",
       "    <tr>\n",
       "      <td>...</td>\n",
       "      <td>...</td>\n",
       "      <td>...</td>\n",
       "      <td>...</td>\n",
       "      <td>...</td>\n",
       "      <td>...</td>\n",
       "      <td>...</td>\n",
       "      <td>...</td>\n",
       "      <td>...</td>\n",
       "      <td>...</td>\n",
       "      <td>...</td>\n",
       "    </tr>\n",
       "    <tr>\n",
       "      <td>147953</td>\n",
       "      <td>111121510</td>\n",
       "      <td>THOMPSON</td>\n",
       "      <td>MIKE</td>\n",
       "      <td>H</td>\n",
       "      <td>CA</td>\n",
       "      <td>M</td>\n",
       "      <td>D</td>\n",
       "      <td>later opened private practice served first com...</td>\n",
       "      <td>111</td>\n",
       "      <td>labor</td>\n",
       "    </tr>\n",
       "    <tr>\n",
       "      <td>65435</td>\n",
       "      <td>107119030</td>\n",
       "      <td>CONYERS</td>\n",
       "      <td>JOHN</td>\n",
       "      <td>H</td>\n",
       "      <td>MI</td>\n",
       "      <td>M</td>\n",
       "      <td>D</td>\n",
       "      <td>greatest unpopular group moment happens subjec...</td>\n",
       "      <td>107</td>\n",
       "      <td>government</td>\n",
       "    </tr>\n",
       "    <tr>\n",
       "      <td>38588</td>\n",
       "      <td>106116380</td>\n",
       "      <td>FILNER</td>\n",
       "      <td>BOB</td>\n",
       "      <td>H</td>\n",
       "      <td>CA</td>\n",
       "      <td>M</td>\n",
       "      <td>D</td>\n",
       "      <td>united states democracy exercised right floor ...</td>\n",
       "      <td>106</td>\n",
       "      <td>defense</td>\n",
       "    </tr>\n",
       "    <tr>\n",
       "      <td>62860</td>\n",
       "      <td>110113851</td>\n",
       "      <td>SMITH</td>\n",
       "      <td>GORDON</td>\n",
       "      <td>S</td>\n",
       "      <td>OR</td>\n",
       "      <td>M</td>\n",
       "      <td>R</td>\n",
       "      <td>father braxton says shouted attackers ran four...</td>\n",
       "      <td>110</td>\n",
       "      <td>justice</td>\n",
       "    </tr>\n",
       "    <tr>\n",
       "      <td>34070</td>\n",
       "      <td>109114011</td>\n",
       "      <td>BROWNBACK</td>\n",
       "      <td>SAMUEL</td>\n",
       "      <td>S</td>\n",
       "      <td>KS</td>\n",
       "      <td>M</td>\n",
       "      <td>R</td>\n",
       "      <td>president big event taking place another count...</td>\n",
       "      <td>109</td>\n",
       "      <td>elections</td>\n",
       "    </tr>\n",
       "  </tbody>\n",
       "</table>\n",
       "<p>100000 rows × 10 columns</p>\n",
       "</div>"
      ],
      "text/plain": [
       "        speakerid   lastname    firstname chamber state gender party  \\\n",
       "12793   105115670   HOEKSTRA        PETER       H    MI      M     R   \n",
       "106939  110117200    WOOLSEY         LYNN       H    CA      F     D   \n",
       "88259   109115190      SHAYS  CHRISTOPHER       H    CT      M     R   \n",
       "63461   107112870   CALLAHAN           H.       H    AL      M     R   \n",
       "87748   111118101      BROWN      SHERROD       S    OH      M     D   \n",
       "...           ...        ...          ...     ...   ...    ...   ...   \n",
       "147953  111121510   THOMPSON         MIKE       H    CA      M     D   \n",
       "65435   107119030    CONYERS         JOHN       H    MI      M     D   \n",
       "38588   106116380     FILNER          BOB       H    CA      M     D   \n",
       "62860   110113851      SMITH       GORDON       S    OR      M     R   \n",
       "34070   109114011  BROWNBACK       SAMUEL       S    KS      M     R   \n",
       "\n",
       "                                                 document congress     subject  \n",
       "12793   effort need learn process need share learning ...      105     foreign  \n",
       "106939  live fear afraid go market send children schoo...      110       labor  \n",
       "88259   title x kept inflation since  additional incre...      109       labor  \n",
       "63461   watching american people think dumb cannot see...      107  government  \n",
       "87748   school college graduates men women returning s...      111      health  \n",
       "...                                                   ...      ...         ...  \n",
       "147953  later opened private practice served first com...      111       labor  \n",
       "65435   greatest unpopular group moment happens subjec...      107  government  \n",
       "38588   united states democracy exercised right floor ...      106     defense  \n",
       "62860   father braxton says shouted attackers ran four...      110     justice  \n",
       "34070   president big event taking place another count...      109   elections  \n",
       "\n",
       "[100000 rows x 10 columns]"
      ]
     },
     "execution_count": 60,
     "metadata": {},
     "output_type": "execute_result"
    }
   ],
   "source": [
    "docs_df"
   ]
  },
  {
   "cell_type": "code",
   "execution_count": 61,
   "metadata": {},
   "outputs": [],
   "source": [
    "N = 100000\n",
    "docs_df = docs_df.sample(N)"
   ]
  },
  {
   "cell_type": "code",
   "execution_count": 62,
   "metadata": {},
   "outputs": [
    {
     "data": {
      "text/plain": [
       "speakerid    object\n",
       "lastname     object\n",
       "firstname    object\n",
       "chamber      object\n",
       "state        object\n",
       "gender       object\n",
       "party        object\n",
       "document     object\n",
       "congress     object\n",
       "subject      object\n",
       "dtype: object"
      ]
     },
     "execution_count": 62,
     "metadata": {},
     "output_type": "execute_result"
    }
   ],
   "source": [
    "docs_df.dtypes"
   ]
  },
  {
   "cell_type": "code",
   "execution_count": 63,
   "metadata": {},
   "outputs": [],
   "source": [
    "feature_columns = [\n",
    " 'speakerid',\n",
    " 'chamber',\n",
    " 'state',\n",
    " 'gender',\n",
    " 'party',\n",
    " 'congress',\n",
    " 'subject']"
   ]
  },
  {
   "cell_type": "code",
   "execution_count": 64,
   "metadata": {},
   "outputs": [],
   "source": [
    "token_dict = build_tokenizer_dict(docs_df, feature_columns)"
   ]
  },
  {
   "cell_type": "code",
   "execution_count": 65,
   "metadata": {},
   "outputs": [
    {
     "data": {
      "text/plain": [
       "dict_keys(['speakerid', 'chamber', 'state', 'gender', 'party', 'congress', 'subject'])"
      ]
     },
     "execution_count": 65,
     "metadata": {},
     "output_type": "execute_result"
    }
   ],
   "source": [
    "metadata_dict = build_metadata_dict(docs_df, feature_columns)\n",
    "metadata_dict.keys()"
   ]
  },
  {
   "cell_type": "code",
   "execution_count": 18,
   "metadata": {},
   "outputs": [],
   "source": [
    "os.chdir(\"../modeling\")\n",
    "os.listdir(os.getcwd())\n",
    "\n",
    "from embeddings import *\n",
    "# from orthoganlity_constraint import Orthoganal\n",
    "from rmn import RMN"
   ]
  },
  {
   "cell_type": "code",
   "execution_count": 66,
   "metadata": {},
   "outputs": [],
   "source": [
    "import pickle\n",
    "embedding_file = \"/home/rocassius/gen-data/tools/embbedding_index_50d\"\n",
    "\n",
    "f = open(embedding_file, \"rb\")\n",
    "embeddings_index = pickle.load(f)\n",
    "f.close()\n",
    "\n",
    "embeddings_matrix = build_embedding_matrix(token_dict['document']['token_index'], embeddings_index).astype('float16')"
   ]
  },
  {
   "cell_type": "code",
   "execution_count": 67,
   "metadata": {},
   "outputs": [],
   "source": [
    "# average of spane embeddings\n",
    "Vst_train = embeddings_matrix[token_dict['document']['tokenized']].mean(axis=1)"
   ]
  },
  {
   "cell_type": "code",
   "execution_count": 68,
   "metadata": {},
   "outputs": [
    {
     "data": {
      "text/plain": [
       "(100000, 50)"
      ]
     },
     "execution_count": 68,
     "metadata": {},
     "output_type": "execute_result"
    }
   ],
   "source": [
    "Vst_train.shape"
   ]
  },
  {
   "cell_type": "code",
   "execution_count": 69,
   "metadata": {},
   "outputs": [
    {
     "data": {
      "text/plain": [
       "numpy.ndarray"
      ]
     },
     "execution_count": 69,
     "metadata": {},
     "output_type": "execute_result"
    }
   ],
   "source": [
    "type(Vst_train)"
   ]
  },
  {
   "cell_type": "code",
   "execution_count": 70,
   "metadata": {},
   "outputs": [],
   "source": [
    "inputs = [Vst_train] + [np.array(token_dict[col]['tokenized']) for col in metadata_dict.keys()]"
   ]
  },
  {
   "cell_type": "code",
   "execution_count": 71,
   "metadata": {},
   "outputs": [
    {
     "name": "stdout",
     "output_type": "stream",
     "text": [
      "Model: \"model_5\"\n",
      "__________________________________________________________________________________________________\n",
      "Layer (type)                    Output Shape         Param #     Connected to                     \n",
      "==================================================================================================\n",
      "speakerid.Input (InputLayer)    [(None, 1)]          0                                            \n",
      "__________________________________________________________________________________________________\n",
      "chamber.Input (InputLayer)      [(None, 1)]          0                                            \n",
      "__________________________________________________________________________________________________\n",
      "state.Input (InputLayer)        [(None, 1)]          0                                            \n",
      "__________________________________________________________________________________________________\n",
      "gender.Input (InputLayer)       [(None, 1)]          0                                            \n",
      "__________________________________________________________________________________________________\n",
      "party.Input (InputLayer)        [(None, 1)]          0                                            \n",
      "__________________________________________________________________________________________________\n",
      "congress.Input (InputLayer)     [(None, 1)]          0                                            \n",
      "__________________________________________________________________________________________________\n",
      "subject.Input (InputLayer)      [(None, 1)]          0                                            \n",
      "__________________________________________________________________________________________________\n",
      "embedding_11 (Embedding)        (None, 1, 50)        188350      speakerid.Input[0][0]            \n",
      "__________________________________________________________________________________________________\n",
      "embedding_12 (Embedding)        (None, 1, 50)        150         chamber.Input[0][0]              \n",
      "__________________________________________________________________________________________________\n",
      "embedding_13 (Embedding)        (None, 1, 50)        2850        state.Input[0][0]                \n",
      "__________________________________________________________________________________________________\n",
      "embedding_14 (Embedding)        (None, 1, 50)        150         gender.Input[0][0]               \n",
      "__________________________________________________________________________________________________\n",
      "embedding_15 (Embedding)        (None, 1, 50)        300         party.Input[0][0]                \n",
      "__________________________________________________________________________________________________\n",
      "embedding_16 (Embedding)        (None, 1, 50)        400         congress.Input[0][0]             \n",
      "__________________________________________________________________________________________________\n",
      "embedding_17 (Embedding)        (None, 1, 50)        1300        subject.Input[0][0]              \n",
      "__________________________________________________________________________________________________\n",
      "Span.Input (InputLayer)         [(None, 50)]         0                                            \n",
      "__________________________________________________________________________________________________\n",
      "speakerid.Embed.Layer (Reshape) (None, 50)           0           embedding_11[0][0]               \n",
      "__________________________________________________________________________________________________\n",
      "chamber.Embed.Layer (Reshape)   (None, 50)           0           embedding_12[0][0]               \n",
      "__________________________________________________________________________________________________\n",
      "state.Embed.Layer (Reshape)     (None, 50)           0           embedding_13[0][0]               \n",
      "__________________________________________________________________________________________________\n",
      "gender.Embed.Layer (Reshape)    (None, 50)           0           embedding_14[0][0]               \n",
      "__________________________________________________________________________________________________\n",
      "party.Embed.Layer (Reshape)     (None, 50)           0           embedding_15[0][0]               \n",
      "__________________________________________________________________________________________________\n",
      "congress.Embed.Layer (Reshape)  (None, 50)           0           embedding_16[0][0]               \n",
      "__________________________________________________________________________________________________\n",
      "subject.Embed.Layer (Reshape)   (None, 50)           0           embedding_17[0][0]               \n",
      "__________________________________________________________________________________________________\n",
      "Concat.Layer (Concatenate)      (None, 400)          0           Span.Input[0][0]                 \n",
      "                                                                 speakerid.Embed.Layer[0][0]      \n",
      "                                                                 chamber.Embed.Layer[0][0]        \n",
      "                                                                 state.Embed.Layer[0][0]          \n",
      "                                                                 gender.Embed.Layer[0][0]         \n",
      "                                                                 party.Embed.Layer[0][0]          \n",
      "                                                                 congress.Embed.Layer[0][0]       \n",
      "                                                                 subject.Embed.Layer[0][0]        \n",
      "__________________________________________________________________________________________________\n",
      "Wh (Dense)                      (None, 50)           20050       Concat.Layer[0][0]               \n",
      "__________________________________________________________________________________________________\n",
      "Wd (Dense)                      (None, 20)           1020        Wh[0][0]                         \n",
      "__________________________________________________________________________________________________\n",
      "R (Dense)                       (None, 50)           1050        Wd[0][0]                         \n",
      "==================================================================================================\n",
      "Total params: 215,620\n",
      "Trainable params: 215,620\n",
      "Non-trainable params: 0\n",
      "__________________________________________________________________________________________________\n"
     ]
    }
   ],
   "source": [
    "np.random.seed(565)\n",
    "rmn = RMN()\n",
    "rmn.build_model(metadata_dict)\n",
    "rmn.model.summary()"
   ]
  },
  {
   "cell_type": "code",
   "execution_count": 72,
   "metadata": {},
   "outputs": [
    {
     "name": "stdout",
     "output_type": "stream",
     "text": [
      "Train on 100000 samples\n",
      "Epoch 1/5\n",
      "100000/100000 [==============================] - 33s 331us/sample - loss: 7.6500\n",
      "Epoch 2/5\n",
      "100000/100000 [==============================] - 32s 318us/sample - loss: 7.6056\n",
      "Epoch 3/5\n",
      "100000/100000 [==============================] - 32s 316us/sample - loss: 7.6047\n",
      "Epoch 4/5\n",
      "100000/100000 [==============================] - 32s 325us/sample - loss: 7.5968\n",
      "Epoch 5/5\n",
      "100000/100000 [==============================] - 31s 312us/sample - loss: 7.5911\n"
     ]
    },
    {
     "data": {
      "text/plain": [
       "<tensorflow.python.keras.callbacks.History at 0x7f3e41eb1a10>"
      ]
     },
     "execution_count": 72,
     "metadata": {},
     "output_type": "execute_result"
    }
   ],
   "source": [
    "rmn.model.fit(x = inputs, y = Vst_train, batch_size = 10, epochs = 5)"
   ]
  },
  {
   "cell_type": "code",
   "execution_count": 88,
   "metadata": {},
   "outputs": [
    {
     "data": {
      "text/plain": [
       "array([[-2.4160594e-03, -1.4025476e-02, -7.4551947e-02, ...,\n",
       "        -1.7215486e-03, -2.7226191e-03, -6.8040267e-02],\n",
       "       [-1.7546168e-01, -6.0355365e-03, -9.1219349e-03, ...,\n",
       "         1.1009477e-02, -4.8256375e-02,  4.9715247e-02],\n",
       "       [ 1.1811171e-01,  2.2775386e-01,  1.0932796e-03, ...,\n",
       "        -7.1774743e-02, -3.3051699e-02,  4.6352688e-02],\n",
       "       ...,\n",
       "       [-5.1692128e-02, -2.4251862e-01,  3.9374605e-03, ...,\n",
       "        -2.8007929e-03, -1.7776385e-02,  1.4029663e-02],\n",
       "       [-1.6459972e-02,  6.4563848e-02,  2.7467124e-04, ...,\n",
       "        -1.2140328e-02,  2.4235472e-03,  1.1764930e-01],\n",
       "       [ 1.1380946e-02,  1.1761386e-02, -1.0027994e-02, ...,\n",
       "         2.9696906e-01,  1.4413607e-01,  2.2544074e-01]], dtype=float32)"
      ]
     },
     "execution_count": 88,
     "metadata": {},
     "output_type": "execute_result"
    }
   ],
   "source": [
    "rmn.model.predict(inputs)"
   ]
  },
  {
   "cell_type": "code",
   "execution_count": 73,
   "metadata": {},
   "outputs": [],
   "source": [
    "#from keras.models import load_model\n",
    "from tensorflow.keras.models import load_model\n",
    "rmn.model.save('/home/rocassius/gen-data/models/baseline_rmn.h5')  # creates a HDF5 file 'my_model.h5'\n"
   ]
  },
  {
   "cell_type": "code",
   "execution_count": 83,
   "metadata": {},
   "outputs": [],
   "source": [
    "file = open('/home/rocassius/gen-data/models/baseline_rmn_arch.txt', \"w\")\n",
    "file.write(rmn.model.to_json())\n",
    "file.close()"
   ]
  },
  {
   "cell_type": "code",
   "execution_count": null,
   "metadata": {},
   "outputs": [],
   "source": [
    "rmn.model"
   ]
  },
  {
   "cell_type": "code",
   "execution_count": 74,
   "metadata": {},
   "outputs": [],
   "source": [
    "from tensorflow.keras.models import load_model, model_from_json"
   ]
  },
  {
   "cell_type": "code",
   "execution_count": 86,
   "metadata": {},
   "outputs": [
    {
     "name": "stdout",
     "output_type": "stream",
     "text": [
      "WARNING:tensorflow:From /home/rocassius/anaconda3/lib/python3.7/site-packages/tensorflow_core/python/ops/init_ops.py:97: calling GlorotUniform.__init__ (from tensorflow.python.ops.init_ops) with dtype is deprecated and will be removed in a future version.\n",
      "Instructions for updating:\n",
      "Call initializer instance with the dtype argument instead of passing it to the constructor\n",
      "WARNING:tensorflow:From /home/rocassius/anaconda3/lib/python3.7/site-packages/tensorflow_core/python/ops/init_ops.py:97: calling Zeros.__init__ (from tensorflow.python.ops.init_ops) with dtype is deprecated and will be removed in a future version.\n",
      "Instructions for updating:\n",
      "Call initializer instance with the dtype argument instead of passing it to the constructor\n"
     ]
    }
   ],
   "source": [
    "openfile = open('/home/rocassius/gen-data/models/baseline_rmn_arch.txt', \"r\")\n",
    "m = model_from_json(openfile.read())\n",
    "openfile.close()\n",
    "m.load_weights('/home/rocassius/gen-data/models/baseline_rmn.h5')"
   ]
  },
  {
   "cell_type": "code",
   "execution_count": 91,
   "metadata": {},
   "outputs": [
    {
     "data": {
      "text/plain": [
       "[<tf.Tensor 'Span.Input_5:0' shape=(?, 50) dtype=float32>,\n",
       " <tf.Tensor 'speakerid.Input_5:0' shape=(?, 1) dtype=float32>,\n",
       " <tf.Tensor 'chamber.Input_1:0' shape=(?, 1) dtype=float32>,\n",
       " <tf.Tensor 'state.Input_1:0' shape=(?, 1) dtype=float32>,\n",
       " <tf.Tensor 'gender.Input_1:0' shape=(?, 1) dtype=float32>,\n",
       " <tf.Tensor 'party.Input_1:0' shape=(?, 1) dtype=float32>,\n",
       " <tf.Tensor 'congress.Input_1:0' shape=(?, 1) dtype=float32>,\n",
       " <tf.Tensor 'subject.Input_1:0' shape=(?, 1) dtype=float32>]"
      ]
     },
     "execution_count": 91,
     "metadata": {},
     "output_type": "execute_result"
    }
   ],
   "source": []
  },
  {
   "cell_type": "code",
   "execution_count": 95,
   "metadata": {},
   "outputs": [],
   "source": [
    "import tensorflow as tf\n",
    "import tensorflow.keras.backend as K\n",
    "\n",
    "from tensorflow.keras.layers import Embedding, Dense, Lambda, Input, Reshape\n",
    "from embeddings import EMBEDDING_DIM"
   ]
  },
  {
   "cell_type": "code",
   "execution_count": 97,
   "metadata": {},
   "outputs": [],
   "source": [
    "layer_name = 'Wd'\n",
    "intermediate_layer_model =tf.keras.Model(inputs=rmn.model.input,\n",
    "                                 outputs=rmn.model.get_layer(layer_name).output)\n"
   ]
  },
  {
   "cell_type": "code",
   "execution_count": 99,
   "metadata": {},
   "outputs": [],
   "source": [
    "dts = intermediate_layer_model.predict(inputs)"
   ]
  },
  {
   "cell_type": "code",
   "execution_count": 100,
   "metadata": {},
   "outputs": [
    {
     "data": {
      "text/plain": [
       "(100000, 20)"
      ]
     },
     "execution_count": 100,
     "metadata": {},
     "output_type": "execute_result"
    }
   ],
   "source": [
    "dts.shape"
   ]
  },
  {
   "cell_type": "code",
   "execution_count": null,
   "metadata": {},
   "outputs": [],
   "source": []
  }
 ],
 "metadata": {
  "kernelspec": {
   "display_name": "Python 3",
   "language": "python",
   "name": "python3"
  },
  "language_info": {
   "codemirror_mode": {
    "name": "ipython",
    "version": 3
   },
   "file_extension": ".py",
   "mimetype": "text/x-python",
   "name": "python",
   "nbconvert_exporter": "python",
   "pygments_lexer": "ipython3",
   "version": "3.7.4"
  }
 },
 "nbformat": 4,
 "nbformat_minor": 2
}
