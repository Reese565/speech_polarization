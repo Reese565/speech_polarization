{
 "cells": [
  {
   "cell_type": "markdown",
   "metadata": {},
   "source": [
    "# LDA Baseline\n",
    "## Training and LDA model on all sessions"
   ]
  },
  {
   "cell_type": "code",
   "execution_count": 1,
   "metadata": {},
   "outputs": [],
   "source": [
    "import numpy as np\n",
    "import pandas as pd\n",
    "\n",
    "import gensim\n",
    "import os\n",
    "import time\n",
    "\n",
    "\n",
    "os.chdir(\"../../scripts/assembly\")\n",
    "from session_speaker_assembly import *"
   ]
  },
  {
   "cell_type": "code",
   "execution_count": 2,
   "metadata": {},
   "outputs": [],
   "source": [
    "import warnings\n",
    "warnings.filterwarnings('ignore')"
   ]
  },
  {
   "cell_type": "code",
   "execution_count": 15,
   "metadata": {},
   "outputs": [
    {
     "data": {
      "text/plain": [
       "['043', '044', '045', '046', '047', '048', '049', '050', '051', '052']"
      ]
     },
     "execution_count": 15,
     "metadata": {},
     "output_type": "execute_result"
    }
   ],
   "source": [
    "# Select 111th session \n",
    "sessions = [format(s, '03d') for s in np.arange(43, 112)]\n",
    "sessions[:10]"
   ]
  },
  {
   "cell_type": "code",
   "execution_count": 16,
   "metadata": {},
   "outputs": [],
   "source": [
    "def parallel_list_map(lst, func, num_partitions=100, **kwargs):\n",
    "    \"\"\"\n",
    "    Multi-threading helper to apply a function on a list. This function\n",
    "    will return the same result as calling func(lst, **kwargs) directly.\n",
    "    The function must take a list as input (may have other arguments) and\n",
    "    return a list as its output.\n",
    "    :param lst             The input list\n",
    "    :param func            The function to be applied on the list\n",
    "    :param num_partitions  Number of threads\n",
    "    :return:               The same output list as returned by func(lst)\n",
    "    \"\"\"\n",
    "    # Split the list based on number of partitions\n",
    "    lst_split = [lst[i::num_partitions] for i in range(num_partitions)]\n",
    "    # Create a thread pool\n",
    "    pool = Pool(cpu_count())\n",
    "    # Run the function and concatenate the result\n",
    "    lst = sum(pool.map(partial(func, **kwargs), lst_split), [])\n",
    "    # Clean up\n",
    "    pool.close()\n",
    "    pool.join()\n",
    "    return lst"
   ]
  },
  {
   "cell_type": "code",
   "execution_count": null,
   "metadata": {},
   "outputs": [],
   "source": []
  },
  {
   "cell_type": "code",
   "execution_count": 18,
   "metadata": {},
   "outputs": [],
   "source": [
    "# filter for bigrams that are considered voacbulary\n",
    "s = 111\n",
    "speaker_map_df, session_phrase_df = session_phrases(s)\n",
    "valid_phrase_df = select_phrase_classes(session_phrase_df, classes = ['vocab'])"
   ]
  },
  {
   "cell_type": "markdown",
   "metadata": {},
   "source": [
    "The output above means that the documents are at lease 5204 bigrams from the frist speaker. Perhaps this is too many, and the documents are saturated with too many words:\n",
    "\n"
   ]
  }
 ],
 "metadata": {
  "kernelspec": {
   "display_name": "Python 3",
   "language": "python",
   "name": "python3"
  },
  "language_info": {
   "codemirror_mode": {
    "name": "ipython",
    "version": 3
   },
   "file_extension": ".py",
   "mimetype": "text/x-python",
   "name": "python",
   "nbconvert_exporter": "python",
   "pygments_lexer": "ipython3",
   "version": "3.7.4"
  }
 },
 "nbformat": 4,
 "nbformat_minor": 2
}
