{
 "cells": [
  {
   "cell_type": "code",
   "execution_count": 1,
   "metadata": {},
   "outputs": [],
   "source": [
    "import os\n",
    "import pandas as pd"
   ]
  },
  {
   "cell_type": "code",
   "execution_count": 2,
   "metadata": {},
   "outputs": [],
   "source": [
    "os.chdir(\"../../../scripts/assembly/\")"
   ]
  },
  {
   "cell_type": "code",
   "execution_count": 9,
   "metadata": {},
   "outputs": [],
   "source": [
    "from document import load_documents\n",
    "from constant import DOC_ALL_PATH, DOCUMENT, MIN_SESSION, MAX_SESSION\n",
    "sessions = list(range(MIN_SESSION, MAX_SESSION+1))"
   ]
  },
  {
   "cell_type": "code",
   "execution_count": 7,
   "metadata": {},
   "outputs": [],
   "source": [
    "os.chdir(\"../modeling/\")\n",
    "\n",
    "from token_mapping import *\n",
    "from helper import pickle_object\n",
    "from embeddings import *"
   ]
  },
  {
   "cell_type": "code",
   "execution_count": 10,
   "metadata": {},
   "outputs": [],
   "source": [
    "docs_df = load_documents(sessions, DOC_ALL_PATH)"
   ]
  },
  {
   "cell_type": "code",
   "execution_count": 11,
   "metadata": {},
   "outputs": [
    {
     "data": {
      "text/plain": [
       "(6599686, 10)"
      ]
     },
     "execution_count": 11,
     "metadata": {},
     "output_type": "execute_result"
    }
   ],
   "source": [
    "docs_df.shape"
   ]
  },
  {
   "cell_type": "code",
   "execution_count": 12,
   "metadata": {},
   "outputs": [
    {
     "data": {
      "text/html": [
       "<div>\n",
       "<style scoped>\n",
       "    .dataframe tbody tr th:only-of-type {\n",
       "        vertical-align: middle;\n",
       "    }\n",
       "\n",
       "    .dataframe tbody tr th {\n",
       "        vertical-align: top;\n",
       "    }\n",
       "\n",
       "    .dataframe thead th {\n",
       "        text-align: right;\n",
       "    }\n",
       "</style>\n",
       "<table border=\"1\" class=\"dataframe\">\n",
       "  <thead>\n",
       "    <tr style=\"text-align: right;\">\n",
       "      <th></th>\n",
       "      <th>speakerid</th>\n",
       "      <th>lastname</th>\n",
       "      <th>firstname</th>\n",
       "      <th>chamber</th>\n",
       "      <th>state</th>\n",
       "      <th>gender</th>\n",
       "      <th>party</th>\n",
       "      <th>document</th>\n",
       "      <th>subject</th>\n",
       "      <th>session</th>\n",
       "    </tr>\n",
       "  </thead>\n",
       "  <tbody>\n",
       "    <tr>\n",
       "      <td>0</td>\n",
       "      <td>43042541</td>\n",
       "      <td>DENNIS</td>\n",
       "      <td>GEORGE</td>\n",
       "      <td>S</td>\n",
       "      <td>MD</td>\n",
       "      <td>M</td>\n",
       "      <td>D</td>\n",
       "      <td>the surplus and discourage their production in...</td>\n",
       "      <td>alcohol</td>\n",
       "      <td>43</td>\n",
       "    </tr>\n",
       "    <tr>\n",
       "      <td>1</td>\n",
       "      <td>43042101</td>\n",
       "      <td>WRIGHT</td>\n",
       "      <td>GEORGE</td>\n",
       "      <td>S</td>\n",
       "      <td>IA</td>\n",
       "      <td>M</td>\n",
       "      <td>R</td>\n",
       "      <td>to me a good feature of the bill that the same...</td>\n",
       "      <td>alcohol</td>\n",
       "      <td>43</td>\n",
       "    </tr>\n",
       "    <tr>\n",
       "      <td>2</td>\n",
       "      <td>43042580</td>\n",
       "      <td>ELDREDGE</td>\n",
       "      <td>CHARLES</td>\n",
       "      <td>H</td>\n",
       "      <td>WI</td>\n",
       "      <td>M</td>\n",
       "      <td>D</td>\n",
       "      <td>social evils which must be remitted to the dom...</td>\n",
       "      <td>alcohol</td>\n",
       "      <td>43</td>\n",
       "    </tr>\n",
       "    <tr>\n",
       "      <td>3</td>\n",
       "      <td>43041181</td>\n",
       "      <td>FRELINGHUYSEN</td>\n",
       "      <td>FREDERICK</td>\n",
       "      <td>S</td>\n",
       "      <td>NJ</td>\n",
       "      <td>M</td>\n",
       "      <td>R</td>\n",
       "      <td>they have accepted five dollars and they must ...</td>\n",
       "      <td>alcohol</td>\n",
       "      <td>43</td>\n",
       "    </tr>\n",
       "    <tr>\n",
       "      <td>4</td>\n",
       "      <td>43050520</td>\n",
       "      <td>POLAND</td>\n",
       "      <td>LUKE</td>\n",
       "      <td>H</td>\n",
       "      <td>VT</td>\n",
       "      <td>M</td>\n",
       "      <td>R</td>\n",
       "      <td>the relief of foster a hixon late a paymaster ...</td>\n",
       "      <td>alcohol</td>\n",
       "      <td>43</td>\n",
       "    </tr>\n",
       "  </tbody>\n",
       "</table>\n",
       "</div>"
      ],
      "text/plain": [
       "  speakerid       lastname  firstname chamber state gender party  \\\n",
       "0  43042541         DENNIS     GEORGE       S    MD      M     D   \n",
       "1  43042101         WRIGHT     GEORGE       S    IA      M     R   \n",
       "2  43042580       ELDREDGE    CHARLES       H    WI      M     D   \n",
       "3  43041181  FRELINGHUYSEN  FREDERICK       S    NJ      M     R   \n",
       "4  43050520         POLAND       LUKE       H    VT      M     R   \n",
       "\n",
       "                                            document  subject session  \n",
       "0  the surplus and discourage their production in...  alcohol      43  \n",
       "1  to me a good feature of the bill that the same...  alcohol      43  \n",
       "2  social evils which must be remitted to the dom...  alcohol      43  \n",
       "3  they have accepted five dollars and they must ...  alcohol      43  \n",
       "4  the relief of foster a hixon late a paymaster ...  alcohol      43  "
      ]
     },
     "execution_count": 12,
     "metadata": {},
     "output_type": "execute_result"
    }
   ],
   "source": [
    "docs_df.head()"
   ]
  },
  {
   "cell_type": "code",
   "execution_count": 17,
   "metadata": {},
   "outputs": [
    {
     "data": {
      "text/plain": [
       "speakerid    object\n",
       "lastname     object\n",
       "firstname    object\n",
       "chamber      object\n",
       "state        object\n",
       "gender       object\n",
       "party        object\n",
       "document     object\n",
       "subject      object\n",
       "session      object\n",
       "dtype: object"
      ]
     },
     "execution_count": 17,
     "metadata": {},
     "output_type": "execute_result"
    }
   ],
   "source": [
    "docs_df.dtypes"
   ]
  },
  {
   "cell_type": "code",
   "execution_count": 13,
   "metadata": {},
   "outputs": [],
   "source": [
    "feature_columns = [\n",
    " 'speakerid',\n",
    " 'chamber',\n",
    " 'state',\n",
    " 'gender',\n",
    " 'party',\n",
    " 'session',\n",
    " 'subject']\n"
   ]
  },
  {
   "cell_type": "code",
   "execution_count": 16,
   "metadata": {},
   "outputs": [],
   "source": [
    "assert all([c in docs_df.columns for c in feature_columns])"
   ]
  },
  {
   "cell_type": "code",
   "execution_count": 18,
   "metadata": {},
   "outputs": [],
   "source": [
    "# make tokenizer and metadata dicts\n",
    "tokenizer_dict = build_tokenizer_dict(docs_df)"
   ]
  },
  {
   "cell_type": "code",
   "execution_count": 19,
   "metadata": {},
   "outputs": [
    {
     "data": {
      "text/plain": [
       "dict_keys(['speakerid', 'chamber', 'state', 'gender', 'party', 'session', 'subject'])"
      ]
     },
     "execution_count": 19,
     "metadata": {},
     "output_type": "execute_result"
    }
   ],
   "source": [
    "metadata_dict = build_metadata_dict(docs_df, feature_columns)\n",
    "metadata_dict.keys()"
   ]
  },
  {
   "cell_type": "code",
   "execution_count": 20,
   "metadata": {},
   "outputs": [
    {
     "data": {
      "text/plain": [
       "'/home/rocassius/w266_final/scripts/assembly'"
      ]
     },
     "execution_count": 20,
     "metadata": {},
     "output_type": "execute_result"
    }
   ],
   "source": [
    "os.getcwd()"
   ]
  },
  {
   "cell_type": "code",
   "execution_count": 21,
   "metadata": {},
   "outputs": [],
   "source": [
    "pickle_object(tokenizer_dict, \"global_tokenizer_dict\")"
   ]
  },
  {
   "cell_type": "code",
   "execution_count": 22,
   "metadata": {},
   "outputs": [],
   "source": [
    "pickle_object(metadata_dict, \"global_metadata_dict\")"
   ]
  },
  {
   "cell_type": "code",
   "execution_count": 25,
   "metadata": {},
   "outputs": [],
   "source": [
    "embeddings_index = fetch_embeddings()"
   ]
  },
  {
   "cell_type": "code",
   "execution_count": 26,
   "metadata": {},
   "outputs": [],
   "source": [
    "example_embeddings_index = {\n",
    "    'the': [1,2,3],\n",
    "    'my':  [2,3,-1],\n",
    "    'constitution': [0,4,5]\n",
    "}"
   ]
  },
  {
   "cell_type": "code",
   "execution_count": 27,
   "metadata": {},
   "outputs": [],
   "source": [
    "def build_embedding_matrix(word_index, embeddings_index, stopwords=[]):\n",
    "    \n",
    "    # get the embedding dimension\n",
    "    embedding_dim = len(embeddings_index['the'])\n",
    "    embedding_matrix = np.zeros((len(word_index) + 1, embedding_dim))\n",
    "    \n",
    "    for word, i in word_index.items():\n",
    "        embedding_vector = embeddings_index.get(word)\n",
    "        if embedding_vector is not None and word not in stopwords:\n",
    "            # words not found in embedding index and stopwords will be all-zeros.\n",
    "            embedding_matrix[i] = embedding_vector \n",
    "            \n",
    "    embedding_matrix = embedding_matrix.astype('float16')\n",
    "    \n",
    "    return embedding_matrix"
   ]
  },
  {
   "cell_type": "code",
   "execution_count": 39,
   "metadata": {},
   "outputs": [],
   "source": [
    "from preprocess import *"
   ]
  },
  {
   "cell_type": "code",
   "execution_count": 58,
   "metadata": {},
   "outputs": [],
   "source": [
    "stopwords = english_stopwords + name_stopwords"
   ]
  },
  {
   "cell_type": "code",
   "execution_count": 59,
   "metadata": {},
   "outputs": [],
   "source": [
    "embedding_matrix = build_embedding_matrix(\n",
    "    tokenizer_dict['word_index'], \n",
    "    embeddings_index, \n",
    "    stopwords)"
   ]
  },
  {
   "cell_type": "code",
   "execution_count": 60,
   "metadata": {},
   "outputs": [
    {
     "data": {
      "text/plain": [
       "(1628003, 50)"
      ]
     },
     "execution_count": 60,
     "metadata": {},
     "output_type": "execute_result"
    }
   ],
   "source": [
    "embedding_matrix.shape"
   ]
  },
  {
   "cell_type": "code",
   "execution_count": 66,
   "metadata": {},
   "outputs": [
    {
     "data": {
      "text/plain": [
       "400000"
      ]
     },
     "execution_count": 66,
     "metadata": {},
     "output_type": "execute_result"
    }
   ],
   "source": [
    "len(embeddings_index)"
   ]
  },
  {
   "cell_type": "markdown",
   "metadata": {},
   "source": [
    "about 150,000 tokens are represented. the glove embebdding index represents 400,000 tokens"
   ]
  },
  {
   "cell_type": "code",
   "execution_count": 67,
   "metadata": {},
   "outputs": [
    {
     "data": {
      "text/plain": [
       "156275"
      ]
     },
     "execution_count": 67,
     "metadata": {},
     "output_type": "execute_result"
    }
   ],
   "source": [
    "np.sum(np.sum(embedding_matrix, axis=1) != 0.0)"
   ]
  },
  {
   "cell_type": "markdown",
   "metadata": {},
   "source": [
    "Manual check that certain words are represented and others arent"
   ]
  },
  {
   "cell_type": "code",
   "execution_count": 91,
   "metadata": {},
   "outputs": [
    {
     "name": "stdout",
     "output_type": "stream",
     "text": [
      "====================\n",
      "constitutional\n",
      "[-0.617   -0.1227  -0.919    0.04483  0.2021   0.7324   0.919   -0.02875\n",
      " -0.1716  -0.3481  -0.3762  -0.0846   0.04965  0.2974   0.092    0.3423\n",
      "  0.08093 -1.232    0.893   -0.08044  0.1415   0.1912  -0.5513  -0.723\n",
      "  0.1267  -1.98     0.1202  -0.9253  -0.4568   0.725    2.309   -0.639\n",
      " -2.291   -0.988   -0.317   -0.5493   0.502   -0.01098 -0.2445   0.2715\n",
      " -0.9604   0.0947   0.263    0.986   -1.787    0.9033  -0.559    0.3342\n",
      "  0.0872  -0.6    ]\n",
      "====================\n",
      "blue\n",
      "[0. 0. 0. 0. 0. 0. 0. 0. 0. 0. 0. 0. 0. 0. 0. 0. 0. 0. 0. 0. 0. 0. 0. 0.\n",
      " 0. 0. 0. 0. 0. 0. 0. 0. 0. 0. 0. 0. 0. 0. 0. 0. 0. 0. 0. 0. 0. 0. 0. 0.\n",
      " 0. 0.]\n",
      "====================\n",
      "mom\n",
      "[-0.2659    0.5186    0.0656   -0.5605    0.7656    0.3455   -0.7646\n",
      "  0.1807   -0.007324  0.07104  -0.3833    0.2467    0.0745    0.1843\n",
      "  1.054     0.2292   -0.615     0.7207    0.9834    0.07794  -0.0778\n",
      "  1.066     0.071     1.29      0.863    -1.42     -0.7812    0.2115\n",
      "  1.086    -1.152     1.355     0.9326   -0.0638    0.707     0.01733\n",
      "  0.129    -0.01277   0.04498   0.738    -0.6504   -0.04565   0.2316\n",
      " -0.339     0.0853    0.577    -0.1799    0.1395   -1.105     0.2264\n",
      "  1.244   ]\n",
      "====================\n",
      "the\n",
      "[0. 0. 0. 0. 0. 0. 0. 0. 0. 0. 0. 0. 0. 0. 0. 0. 0. 0. 0. 0. 0. 0. 0. 0.\n",
      " 0. 0. 0. 0. 0. 0. 0. 0. 0. 0. 0. 0. 0. 0. 0. 0. 0. 0. 0. 0. 0. 0. 0. 0.\n",
      " 0. 0.]\n",
      "====================\n",
      "war\n",
      "[ 0.3655   -0.1575   -0.2396   -1.03     -0.0707    0.214    -0.0419\n",
      "  0.2844   -0.608    -1.1455   -0.3289   -0.2047   -0.819    -0.51\n",
      "  0.642    -0.5415    0.01915   0.1877   -0.667     0.937     0.0347\n",
      " -0.04456  -0.01453  -0.7686   -0.2078   -2.55     -0.963    -0.6113\n",
      "  1.219     1.125     3.05     -0.3882   -1.009    -0.4717   -0.5674\n",
      "  0.531    -0.6177   -0.6157   -1.1875   -0.2118   -0.505    -0.2484\n",
      "  0.5386   -0.981     0.0898    0.2467   -0.3396    0.011444 -1.5\n",
      " -0.3992  ]\n",
      "====================\n",
      "with\n",
      "[0. 0. 0. 0. 0. 0. 0. 0. 0. 0. 0. 0. 0. 0. 0. 0. 0. 0. 0. 0. 0. 0. 0. 0.\n",
      " 0. 0. 0. 0. 0. 0. 0. 0. 0. 0. 0. 0. 0. 0. 0. 0. 0. 0. 0. 0. 0. 0. 0. 0.\n",
      " 0. 0.]\n",
      "====================\n",
      "just\n",
      "[0. 0. 0. 0. 0. 0. 0. 0. 0. 0. 0. 0. 0. 0. 0. 0. 0. 0. 0. 0. 0. 0. 0. 0.\n",
      " 0. 0. 0. 0. 0. 0. 0. 0. 0. 0. 0. 0. 0. 0. 0. 0. 0. 0. 0. 0. 0. 0. 0. 0.\n",
      " 0. 0.]\n",
      "====================\n",
      "gesticulate\n",
      "[-0.4705   -1.656     0.2708   -0.8486    0.1934   -0.3108    0.991\n",
      "  0.959    -0.919     0.807    -0.0984    0.2925    0.2883   -0.10956\n",
      " -0.699     0.10394   0.01906   0.10004   0.3877   -1.51      0.576\n",
      "  0.301     0.611     0.1577    0.632     0.828     0.3015    0.2439\n",
      "  0.35     -0.899    -1.613     0.946     0.582     0.145     0.05933\n",
      " -0.1543   -0.4297   -0.03284  -0.7715   -0.0385    0.2235   -0.419\n",
      "  0.08325   0.6353    0.59     -0.555     0.276     0.06204  -0.007698\n",
      " -0.414   ]\n",
      "====================\n",
      "civil\n",
      "[-0.3108  -0.391   -0.6885  -0.2302  -0.09143  0.3242   0.2021   0.1409\n",
      "  0.236   -1.08    -0.258   -0.3167  -0.3206  -0.5693   0.1776  -0.949\n",
      " -0.3093   0.0873   0.2045   0.06726  0.1698   0.6226  -1.044   -0.6416\n",
      " -0.54    -1.92    -0.04126 -1.253   -0.04834  1.314    2.906   -0.574\n",
      " -0.8384  -0.886   -0.4211   0.2502  -0.5     -1.116   -0.08545  0.3347\n",
      " -0.9507   0.2484   0.508    0.2286  -0.7393   0.1467  -0.8066  -0.2244\n",
      " -0.6997  -0.357  ]\n",
      "====================\n",
      "pelosi\n",
      "[0. 0. 0. 0. 0. 0. 0. 0. 0. 0. 0. 0. 0. 0. 0. 0. 0. 0. 0. 0. 0. 0. 0. 0.\n",
      " 0. 0. 0. 0. 0. 0. 0. 0. 0. 0. 0. 0. 0. 0. 0. 0. 0. 0. 0. 0. 0. 0. 0. 0.\n",
      " 0. 0.]\n",
      "====================\n",
      "nancy\n",
      "[0. 0. 0. 0. 0. 0. 0. 0. 0. 0. 0. 0. 0. 0. 0. 0. 0. 0. 0. 0. 0. 0. 0. 0.\n",
      " 0. 0. 0. 0. 0. 0. 0. 0. 0. 0. 0. 0. 0. 0. 0. 0. 0. 0. 0. 0. 0. 0. 0. 0.\n",
      " 0. 0.]\n",
      "====================\n",
      "blacks\n",
      "[-1.417   -0.979   -0.4458  -1.002    0.09314  0.956   -0.9897  -0.5127\n",
      " -0.44    -0.0666   0.265   -0.563    0.4124  -1.131    0.4072   0.2202\n",
      "  0.884   -1.118   -0.493   -0.6733  -1.437    0.7017   0.1062   0.8477\n",
      " -0.1997  -0.662    0.3262  -0.775    0.063   -0.11273  1.708    1.192\n",
      "  0.06076 -1.39     0.48     0.0886  -0.1652  -0.649   -0.4524  -0.868\n",
      " -0.8228   0.3894   0.636    0.6504  -0.02905  0.842   -0.643   -0.2018\n",
      "  0.1993  -0.3962 ]\n",
      "====================\n",
      "cash\n",
      "[ 6.245e-01  1.656e-01  1.283e+00 -3.982e-01  3.250e-01  2.301e-01\n",
      " -5.977e-01  1.665e-03  5.015e-01  8.979e-01 -4.050e-01  7.427e-01\n",
      "  3.562e-01 -7.505e-01  1.023e+00  9.143e-02  3.469e-01  3.479e-02\n",
      "  2.305e-01 -5.132e-01  1.347e+00 -5.171e-01  1.065e-02 -6.182e-01\n",
      " -9.722e-01 -1.204e+00  3.433e-03 -1.936e-01  5.708e-01 -1.698e-01\n",
      "  3.014e+00  1.007e+00  5.400e-01  9.243e-01  2.418e-01  4.539e-01\n",
      " -4.292e-01 -1.240e-01  6.567e-01 -1.232e+00  4.622e-01  4.817e-01\n",
      "  3.839e-02  2.355e-01 -5.752e-01 -9.282e-01 -6.455e-01  6.890e-01\n",
      " -4.422e-02 -6.073e-02]\n",
      "====================\n",
      "economy\n",
      "[-1.203e-01 -7.251e-01  8.701e-01 -6.396e-01  1.726e-01 -3.516e-01\n",
      " -6.543e-01 -7.275e-01 -2.233e-01  1.320e-01  4.221e-01 -2.113e-01\n",
      " -3.113e-01  4.773e-01  3.115e-01  6.406e-01  2.286e-01 -1.858e-01\n",
      "  8.022e-01  6.927e-03  3.606e-01 -7.476e-01 -8.936e-01 -6.665e-01\n",
      "  1.079e+00 -1.304e+00  2.863e-03  3.640e-01  5.283e-01  1.748e+00\n",
      "  3.713e+00  7.002e-01  9.297e-01 -1.735e-01 -8.389e-01 -4.211e-01\n",
      " -1.430e+00  5.781e-01  5.889e-01 -8.525e-01 -1.731e+00  4.510e-02\n",
      "  4.949e-01 -1.015e+00  8.997e-02  4.609e-01  1.759e-03  6.216e-01\n",
      "  1.189e+00  8.441e-02]\n",
      "====================\n",
      "wasnt\n",
      "[0. 0. 0. 0. 0. 0. 0. 0. 0. 0. 0. 0. 0. 0. 0. 0. 0. 0. 0. 0. 0. 0. 0. 0.\n",
      " 0. 0. 0. 0. 0. 0. 0. 0. 0. 0. 0. 0. 0. 0. 0. 0. 0. 0. 0. 0. 0. 0. 0. 0.\n",
      " 0. 0.]\n",
      "====================\n",
      "female\n",
      "[-0.3157   0.7446  -0.11566 -0.3062   1.524    1.914   -0.392   -0.676\n",
      " -0.1051  -0.1746   1.069   -0.686    1.218    1.028    0.3564  -0.4084\n",
      " -0.3442   0.6753  -0.5444  -0.2113  -0.6123   0.956    0.4397   0.596\n",
      "  0.02959 -1.106   -0.49    -0.824   -0.9727  -0.0596   2.396    0.7427\n",
      " -0.1604  -0.6934   0.559    0.2289   0.0136  -0.4485  -0.53    -0.963\n",
      " -0.5444   0.1829   0.1655   0.3345   0.534   -1.482   -0.3457  -0.828\n",
      "  0.1011   0.02441]\n"
     ]
    }
   ],
   "source": [
    "sample_words = ['constitutional', \n",
    "                'blue', \n",
    "                'mom', \n",
    "                'the', \n",
    "                'war', \n",
    "                'with', \n",
    "                'just', \n",
    "                'gesticulate', \n",
    "                'civil', \n",
    "                'pelosi', \n",
    "                'nancy',\n",
    "                'blacks',\n",
    "                'cash',\n",
    "                'economy',\n",
    "                'wasnt',\n",
    "                'female'\n",
    "               ]\n",
    "\n",
    "for w in sample_words:\n",
    "    print(20*\"=\")\n",
    "    print(w)\n",
    "    print(embedding_matrix[tokenizer_dict['word_index'][w]])"
   ]
  },
  {
   "cell_type": "code",
   "execution_count": 89,
   "metadata": {},
   "outputs": [],
   "source": [
    "# make one embedding matrix that does not have zeroed stopwords\n",
    "embedding_matrix_nz = build_embedding_matrix(\n",
    "    tokenizer_dict['word_index'], \n",
    "    embeddings_index)"
   ]
  },
  {
   "cell_type": "code",
   "execution_count": 93,
   "metadata": {},
   "outputs": [
    {
     "name": "stdout",
     "output_type": "stream",
     "text": [
      "====================\n",
      "constitutional\n",
      "[-0.617   -0.1227  -0.919    0.04483  0.2021   0.7324   0.919   -0.02875\n",
      " -0.1716  -0.3481  -0.3762  -0.0846   0.04965  0.2974   0.092    0.3423\n",
      "  0.08093 -1.232    0.893   -0.08044  0.1415   0.1912  -0.5513  -0.723\n",
      "  0.1267  -1.98     0.1202  -0.9253  -0.4568   0.725    2.309   -0.639\n",
      " -2.291   -0.988   -0.317   -0.5493   0.502   -0.01098 -0.2445   0.2715\n",
      " -0.9604   0.0947   0.263    0.986   -1.787    0.9033  -0.559    0.3342\n",
      "  0.0872  -0.6    ]\n",
      "====================\n",
      "blue\n",
      "[-0.8374    0.696    -0.514     0.2369    0.592    -0.0275   -1.208\n",
      " -0.988    -0.2766   -0.462     0.4714    0.1307    0.504     0.5054\n",
      " -0.6675    0.0691   -0.61     -0.2278   -1.248    -1.353    -0.5605\n",
      " -0.1796    0.2289   -0.6924   -1.174    -0.988    -0.8154    1.552\n",
      "  0.3652   -1.116     2.633     0.2198    0.10693   0.2844   -0.10345\n",
      " -0.2966   -0.1764   -0.7583    0.0855   -0.8364   -0.12177  -0.0632\n",
      " -0.0721   -0.3071    0.6187   -0.3086    0.012375 -1.196     0.04153\n",
      " -0.2396  ]\n",
      "====================\n",
      "mom\n",
      "[-0.2659    0.5186    0.0656   -0.5605    0.7656    0.3455   -0.7646\n",
      "  0.1807   -0.007324  0.07104  -0.3833    0.2467    0.0745    0.1843\n",
      "  1.054     0.2292   -0.615     0.7207    0.9834    0.07794  -0.0778\n",
      "  1.066     0.071     1.29      0.863    -1.42     -0.7812    0.2115\n",
      "  1.086    -1.152     1.355     0.9326   -0.0638    0.707     0.01733\n",
      "  0.129    -0.01277   0.04498   0.738    -0.6504   -0.04565   0.2316\n",
      " -0.339     0.0853    0.577    -0.1799    0.1395   -1.105     0.2264\n",
      "  1.244   ]\n",
      "====================\n",
      "the\n",
      "[ 4.1797e-01  2.4963e-01 -4.1235e-01  1.2170e-01  3.4521e-01 -4.4464e-02\n",
      " -4.9683e-01 -1.7859e-01 -6.6042e-04 -6.5674e-01  2.7832e-01 -1.4771e-01\n",
      " -5.5664e-01  1.4661e-01 -9.5062e-03  1.1658e-02  1.0205e-01 -1.2793e-01\n",
      " -8.4424e-01 -1.2183e-01 -1.6800e-02 -3.3276e-01 -1.5515e-01 -2.3132e-01\n",
      " -1.9177e-01 -1.8818e+00 -7.6758e-01  9.9060e-02 -4.2114e-01 -1.9531e-01\n",
      "  4.0078e+00 -1.8591e-01 -5.2295e-01 -3.1689e-01  5.9223e-04  7.4463e-03\n",
      "  1.7773e-01 -1.5894e-01  1.2039e-02 -5.4230e-02 -2.9883e-01 -1.5747e-01\n",
      " -3.4766e-01 -4.5624e-02 -4.4263e-01  1.8787e-01  2.7847e-03 -1.8408e-01\n",
      " -1.1511e-01 -7.8564e-01]\n",
      "====================\n",
      "war\n",
      "[ 0.3655   -0.1575   -0.2396   -1.03     -0.0707    0.214    -0.0419\n",
      "  0.2844   -0.608    -1.1455   -0.3289   -0.2047   -0.819    -0.51\n",
      "  0.642    -0.5415    0.01915   0.1877   -0.667     0.937     0.0347\n",
      " -0.04456  -0.01453  -0.7686   -0.2078   -2.55     -0.963    -0.6113\n",
      "  1.219     1.125     3.05     -0.3882   -1.009    -0.4717   -0.5674\n",
      "  0.531    -0.6177   -0.6157   -1.1875   -0.2118   -0.505    -0.2484\n",
      "  0.5386   -0.981     0.0898    0.2467   -0.3396    0.011444 -1.5\n",
      " -0.3992  ]\n",
      "====================\n",
      "with\n",
      "[ 0.256     0.437    -0.1189    0.2035    0.4197    0.8584   -0.6035\n",
      " -0.3184   -0.672     0.003983 -0.07513   0.1104   -0.7354    0.2744\n",
      "  0.05402  -0.2383   -0.1377    0.01157  -0.4663   -0.5522    0.0833\n",
      "  0.5596    0.519    -0.2708   -0.2822   -1.392     0.1749    0.2659\n",
      "  0.06146  -0.273     3.902     0.3816   -0.056    -0.004425  0.2404\n",
      "  0.3066   -0.1263    0.3345    0.0755   -0.03622   0.137     0.3777\n",
      " -0.1216   -0.1381    0.1951    0.2279   -0.1731   -0.07574  -0.2588\n",
      " -0.3933  ]\n",
      "====================\n",
      "just\n",
      "[ 0.177    0.06525  0.2854  -0.4243   0.75    -0.1489  -0.668    0.11786\n",
      " -0.454    0.1854  -0.651   -0.4343  -0.601   -0.1132   0.852    0.2534\n",
      "  0.3132   0.0591  -0.8877  -0.4656  -0.301    0.707    0.4507   0.1471\n",
      "  0.6895  -1.849   -0.2301   0.674    1.031   -0.8228   3.67     0.626\n",
      " -0.1766   0.2247  -0.02908 -0.2576   0.1294   0.4448   0.528   -0.3591\n",
      " -0.278    0.2067   0.0762   0.322   -0.406    0.2319   0.2091  -0.2979\n",
      "  0.11035  0.2206 ]\n",
      "====================\n",
      "gesticulate\n",
      "[-0.4705   -1.656     0.2708   -0.8486    0.1934   -0.3108    0.991\n",
      "  0.959    -0.919     0.807    -0.0984    0.2925    0.2883   -0.10956\n",
      " -0.699     0.10394   0.01906   0.10004   0.3877   -1.51      0.576\n",
      "  0.301     0.611     0.1577    0.632     0.828     0.3015    0.2439\n",
      "  0.35     -0.899    -1.613     0.946     0.582     0.145     0.05933\n",
      " -0.1543   -0.4297   -0.03284  -0.7715   -0.0385    0.2235   -0.419\n",
      "  0.08325   0.6353    0.59     -0.555     0.276     0.06204  -0.007698\n",
      " -0.414   ]\n",
      "====================\n",
      "civil\n",
      "[-0.3108  -0.391   -0.6885  -0.2302  -0.09143  0.3242   0.2021   0.1409\n",
      "  0.236   -1.08    -0.258   -0.3167  -0.3206  -0.5693   0.1776  -0.949\n",
      " -0.3093   0.0873   0.2045   0.06726  0.1698   0.6226  -1.044   -0.6416\n",
      " -0.54    -1.92    -0.04126 -1.253   -0.04834  1.314    2.906   -0.574\n",
      " -0.8384  -0.886   -0.4211   0.2502  -0.5     -1.116   -0.08545  0.3347\n",
      " -0.9507   0.2484   0.508    0.2286  -0.7393   0.1467  -0.8066  -0.2244\n",
      " -0.6997  -0.357  ]\n",
      "====================\n",
      "pelosi\n",
      "[ 6.5088e-01  2.3767e-01  7.4023e-01 -3.0029e-01 -3.3350e-01  4.4629e-01\n",
      "  1.5051e-01  4.0454e-01 -5.5957e-01 -4.4629e-01 -1.6201e+00 -8.2715e-01\n",
      "  1.1536e-01  3.0933e-01 -4.4287e-01 -2.1252e-01 -3.6768e-01 -5.3223e-01\n",
      "  1.6592e+00 -3.9185e-01 -4.2969e-01  3.8867e-01  4.0112e-01 -3.3276e-01\n",
      "  4.1577e-01 -1.4922e+00 -4.6844e-02  5.8008e-01 -9.4482e-01  5.8807e-02\n",
      "  4.2529e-01  6.6101e-02 -1.0488e+00 -1.2561e-01 -3.0273e-01 -1.3887e+00\n",
      " -8.8562e-02  5.7422e-01  1.5884e-02 -3.5205e-01 -2.9556e-02  7.8906e-01\n",
      " -3.7671e-01 -5.9961e-01  1.0424e-03  2.4512e-01 -5.8301e-01  1.8204e-02\n",
      " -3.0396e-01  1.2031e+00]\n",
      "====================\n",
      "nancy\n",
      "[ 4.7437e-01  1.0713e+00 -2.0361e-01 -7.9224e-02 -2.2888e-01  1.0684e+00\n",
      " -5.8545e-01  1.7676e-01 -4.9878e-01 -6.8848e-01 -8.7891e-01 -2.8931e-01\n",
      " -7.9053e-01 -7.1094e-01  1.8237e-01 -4.7925e-01  2.7695e-02 -4.0747e-01\n",
      "  4.1284e-01 -2.2180e-01 -3.5840e-01  7.3926e-01  2.3340e-01  3.9868e-01\n",
      " -2.7002e-01 -1.2070e+00  1.0078e-02  4.1479e-01 -7.1533e-01 -4.8804e-01\n",
      "  4.9902e-01  4.8169e-01 -2.9199e-01 -6.0791e-01 -1.9458e-01 -3.1543e-01\n",
      " -1.1694e-01  1.0283e+00  8.3594e-01 -7.5879e-01  9.8291e-01  7.1631e-01\n",
      " -1.3000e-02 -9.7559e-01  1.7798e-01  4.6899e-01 -4.4995e-01 -9.1553e-01\n",
      "  8.1921e-04  1.3369e+00]\n",
      "====================\n",
      "blacks\n",
      "[-1.417   -0.979   -0.4458  -1.002    0.09314  0.956   -0.9897  -0.5127\n",
      " -0.44    -0.0666   0.265   -0.563    0.4124  -1.131    0.4072   0.2202\n",
      "  0.884   -1.118   -0.493   -0.6733  -1.437    0.7017   0.1062   0.8477\n",
      " -0.1997  -0.662    0.3262  -0.775    0.063   -0.11273  1.708    1.192\n",
      "  0.06076 -1.39     0.48     0.0886  -0.1652  -0.649   -0.4524  -0.868\n",
      " -0.8228   0.3894   0.636    0.6504  -0.02905  0.842   -0.643   -0.2018\n",
      "  0.1993  -0.3962 ]\n",
      "====================\n",
      "cash\n",
      "[ 6.245e-01  1.656e-01  1.283e+00 -3.982e-01  3.250e-01  2.301e-01\n",
      " -5.977e-01  1.665e-03  5.015e-01  8.979e-01 -4.050e-01  7.427e-01\n",
      "  3.562e-01 -7.505e-01  1.023e+00  9.143e-02  3.469e-01  3.479e-02\n",
      "  2.305e-01 -5.132e-01  1.347e+00 -5.171e-01  1.065e-02 -6.182e-01\n",
      " -9.722e-01 -1.204e+00  3.433e-03 -1.936e-01  5.708e-01 -1.698e-01\n",
      "  3.014e+00  1.007e+00  5.400e-01  9.243e-01  2.418e-01  4.539e-01\n",
      " -4.292e-01 -1.240e-01  6.567e-01 -1.232e+00  4.622e-01  4.817e-01\n",
      "  3.839e-02  2.355e-01 -5.752e-01 -9.282e-01 -6.455e-01  6.890e-01\n",
      " -4.422e-02 -6.073e-02]\n",
      "====================\n",
      "economy\n",
      "[-1.203e-01 -7.251e-01  8.701e-01 -6.396e-01  1.726e-01 -3.516e-01\n",
      " -6.543e-01 -7.275e-01 -2.233e-01  1.320e-01  4.221e-01 -2.113e-01\n",
      " -3.113e-01  4.773e-01  3.115e-01  6.406e-01  2.286e-01 -1.858e-01\n",
      "  8.022e-01  6.927e-03  3.606e-01 -7.476e-01 -8.936e-01 -6.665e-01\n",
      "  1.079e+00 -1.304e+00  2.863e-03  3.640e-01  5.283e-01  1.748e+00\n",
      "  3.713e+00  7.002e-01  9.297e-01 -1.735e-01 -8.389e-01 -4.211e-01\n",
      " -1.430e+00  5.781e-01  5.889e-01 -8.525e-01 -1.731e+00  4.510e-02\n",
      "  4.949e-01 -1.015e+00  8.997e-02  4.609e-01  1.759e-03  6.216e-01\n",
      "  1.189e+00  8.441e-02]\n",
      "====================\n",
      "wasnt\n",
      "[-0.0723   -1.551    -0.2113   -0.717     0.1523   -0.8804    0.5854\n",
      "  0.8384    0.04846   1.211     0.6157    0.08466   0.006733 -0.803\n",
      "  0.2668    0.4202    0.145     1.032     0.2595   -0.2385   -0.2864\n",
      "  0.0839    0.2472    0.0854    1.566    -0.1664   -0.3713    0.9175\n",
      "  1.019    -0.514    -0.3242    0.0484    0.2832    0.4116   -0.2927\n",
      " -0.5605    0.631     1.359    -0.2135   -0.1412    0.4421   -1.009\n",
      " -0.433     0.3567   -0.718     0.3914    0.02087   0.4497   -0.02528\n",
      "  0.621   ]\n",
      "====================\n",
      "female\n",
      "[-0.3157   0.7446  -0.11566 -0.3062   1.524    1.914   -0.392   -0.676\n",
      " -0.1051  -0.1746   1.069   -0.686    1.218    1.028    0.3564  -0.4084\n",
      " -0.3442   0.6753  -0.5444  -0.2113  -0.6123   0.956    0.4397   0.596\n",
      "  0.02959 -1.106   -0.49    -0.824   -0.9727  -0.0596   2.396    0.7427\n",
      " -0.1604  -0.6934   0.559    0.2289   0.0136  -0.4485  -0.53    -0.963\n",
      " -0.5444   0.1829   0.1655   0.3345   0.534   -1.482   -0.3457  -0.828\n",
      "  0.1011   0.02441]\n"
     ]
    }
   ],
   "source": [
    "for w in sample_words:\n",
    "    print(20*\"=\")\n",
    "    print(w)\n",
    "    print(embedding_matrix_nz[tokenizer_dict['word_index'][w]])"
   ]
  },
  {
   "cell_type": "code",
   "execution_count": 94,
   "metadata": {},
   "outputs": [],
   "source": [
    "pickle_object(embedding_matrix_nz, \"global_embedding_matrix_nz_50d\")"
   ]
  },
  {
   "cell_type": "code",
   "execution_count": null,
   "metadata": {},
   "outputs": [],
   "source": []
  },
  {
   "cell_type": "code",
   "execution_count": 86,
   "metadata": {},
   "outputs": [],
   "source": [
    "from helper import load_pickled_object\n",
    "e = load_pickled_object(\"global_embedding_matrix_50d\")"
   ]
  },
  {
   "cell_type": "code",
   "execution_count": 87,
   "metadata": {},
   "outputs": [
    {
     "data": {
      "text/plain": [
       "array([[0., 0., 0., ..., 0., 0., 0.],\n",
       "       [0., 0., 0., ..., 0., 0., 0.],\n",
       "       [0., 0., 0., ..., 0., 0., 0.],\n",
       "       ...,\n",
       "       [0., 0., 0., ..., 0., 0., 0.],\n",
       "       [0., 0., 0., ..., 0., 0., 0.],\n",
       "       [0., 0., 0., ..., 0., 0., 0.]], dtype=float16)"
      ]
     },
     "execution_count": 87,
     "metadata": {},
     "output_type": "execute_result"
    }
   ],
   "source": [
    "e"
   ]
  },
  {
   "cell_type": "code",
   "execution_count": 95,
   "metadata": {},
   "outputs": [
    {
     "data": {
      "text/plain": [
       "'/home/rocassius/w266_final/scripts/assembly'"
      ]
     },
     "execution_count": 95,
     "metadata": {},
     "output_type": "execute_result"
    }
   ],
   "source": [
    "os.getcwd()"
   ]
  },
  {
   "cell_type": "code",
   "execution_count": null,
   "metadata": {},
   "outputs": [],
   "source": []
  }
 ],
 "metadata": {
  "kernelspec": {
   "display_name": "Python 3",
   "language": "python",
   "name": "python3"
  },
  "language_info": {
   "codemirror_mode": {
    "name": "ipython",
    "version": 3
   },
   "file_extension": ".py",
   "mimetype": "text/x-python",
   "name": "python",
   "nbconvert_exporter": "python",
   "pygments_lexer": "ipython3",
   "version": "3.7.4"
  }
 },
 "nbformat": 4,
 "nbformat_minor": 2
}
