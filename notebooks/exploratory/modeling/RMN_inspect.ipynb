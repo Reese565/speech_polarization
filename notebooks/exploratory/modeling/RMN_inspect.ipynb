{
 "cells": [
  {
   "cell_type": "markdown",
   "metadata": {},
   "source": [
    "# Loading and Inspecting a pretrained RMN"
   ]
  },
  {
   "cell_type": "code",
   "execution_count": 2,
   "metadata": {},
   "outputs": [],
   "source": [
    "# run this twice\n",
    "import os\n",
    "os.chdir(\"/home/rocassius/w266_final/scripts/modeling\")\n",
    "from rmn import RMN"
   ]
  },
  {
   "cell_type": "code",
   "execution_count": 3,
   "metadata": {},
   "outputs": [
    {
     "name": "stdout",
     "output_type": "stream",
     "text": [
      "WARNING:tensorflow:From /home/rocassius/anaconda3/lib/python3.7/site-packages/tensorflow_core/python/keras/initializers.py:119: calling RandomUniform.__init__ (from tensorflow.python.ops.init_ops) with dtype is deprecated and will be removed in a future version.\n",
      "Instructions for updating:\n",
      "Call initializer instance with the dtype argument instead of passing it to the constructor\n",
      "WARNING:tensorflow:From /home/rocassius/anaconda3/lib/python3.7/site-packages/tensorflow_core/python/ops/init_ops.py:97: calling GlorotUniform.__init__ (from tensorflow.python.ops.init_ops) with dtype is deprecated and will be removed in a future version.\n",
      "Instructions for updating:\n",
      "Call initializer instance with the dtype argument instead of passing it to the constructor\n",
      "WARNING:tensorflow:From /home/rocassius/anaconda3/lib/python3.7/site-packages/tensorflow_core/python/ops/init_ops.py:97: calling Zeros.__init__ (from tensorflow.python.ops.init_ops) with dtype is deprecated and will be removed in a future version.\n",
      "Instructions for updating:\n",
      "Call initializer instance with the dtype argument instead of passing it to the constructor\n",
      "WARNING:tensorflow:From /home/rocassius/anaconda3/lib/python3.7/site-packages/tensorflow_core/python/ops/resource_variable_ops.py:1630: calling BaseResourceVariable.__init__ (from tensorflow.python.ops.resource_variable_ops) with constraint is deprecated and will be removed in a future version.\n",
      "Instructions for updating:\n",
      "If using Keras pass *_constraint arguments to layers.\n"
     ]
    }
   ],
   "source": [
    "rmn = RMN()\n",
    "rmn.load_rmn(name = \"second\", save_path = \"/home/rocassius/gen-data/models\")"
   ]
  },
  {
   "cell_type": "code",
   "execution_count": null,
   "metadata": {},
   "outputs": [
    {
     "name": "stdout",
     "output_type": "stream",
     "text": [
      "====================\n",
      "\n",
      "Topic 0\n",
      "['dissenters', 'decried', 'criticisms', 'incensed', 'angered']\n",
      "====================\n",
      "\n",
      "Topic 1\n",
      "['jacobites', 'huns', 'goths', 'conquests', 'dorians']\n",
      "====================\n",
      "\n",
      "Topic 2\n",
      "['partisans', 'masse', 'royalists', 'confederates', 'capitulated']\n",
      "====================\n",
      "\n",
      "Topic 3\n",
      "['chyan', 'lindberghs', 'fray', 'lennons', 'steves']\n",
      "====================\n",
      "\n",
      "Topic 4\n",
      "['jamboree', 'acteal', 'scouts', 'zapatista', 'massacres']\n",
      "====================\n",
      "\n",
      "Topic 5\n",
      "['frigates', 'stealth', 'diversionary', 'richey', 'makashov']\n",
      "====================\n",
      "\n",
      "Topic 6\n",
      "['appomattox', 'antietam', 'shenandoah', 'mesilla', 'saratoga']\n",
      "====================\n",
      "\n",
      "Topic 7\n",
      "['appellants', 'feminists', 'injunctions', 'pagans', 'humanists']\n",
      "====================\n",
      "\n",
      "Topic 8\n",
      "['importancia', 'warr', 'stately', 'warre', 'shaded']\n",
      "====================\n",
      "\n",
      "Topic 9\n",
      "['klan', 'zapatistas', 'supremacists', 'secession', 'klux']\n",
      "====================\n",
      "\n",
      "Topic 10\n",
      "['blockhouses', 'bellicose', 'diametrically', 'doric', 'bastions']\n",
      "====================\n",
      "\n",
      "Topic 11\n",
      "['rodham', 'barack', 'staunchest', 'stephanopolous', 'hillary']\n",
      "====================\n",
      "\n",
      "Topic 12\n",
      "['contradict', 'assertions', 'parallels', 'unflattering', 'implicitly']\n",
      "====================\n",
      "\n",
      "Topic 13\n",
      "['pancho', 'mckeithen', 'waihee', 'terwilliger', 'deukmejian']\n",
      "====================\n",
      "\n",
      "Topic 14\n",
      "['xiv', 'xvi', 'viii', 'cromwell', 'cornwallis']\n",
      "====================\n",
      "\n",
      "Topic 15\n",
      "['biographies', 'pushcart', 'nast', 'bestsellers', 'touting']\n",
      "====================\n",
      "\n",
      "Topic 16\n",
      "['fla', 'recounts', 'volusia', 'tallahassee', 'dueling']\n",
      "====================\n",
      "\n",
      "Topic 17\n",
      "['yucca', 'pecos', 'dewhurst', 'mesilla', 'gardnerville']\n",
      "====================\n",
      "\n",
      "Topic 18\n",
      "['nationalists', 'huns', 'jacobites', 'skirmished', 'royalists']\n",
      "====================\n",
      "\n",
      "Topic 19\n",
      "['revolts', 'mutinies', 'rosas', 'jena', 'capitulations']\n",
      "====================\n",
      "\n",
      "Topic 20\n",
      "['inaugurations', 'starkly', 'bellicose', 'unflattering', 'inaugurals']\n",
      "====================\n",
      "\n",
      "Topic 21\n",
      "['renourishment', 'backstairs', 'macks', 'miseducation', 'fourmile']\n",
      "====================\n",
      "\n",
      "Topic 22\n",
      "['writings', 'texts', 'contemporaries', 'scholars', 'chroniclers']\n",
      "====================\n",
      "\n",
      "Topic 23\n",
      "['panoramas', 'backdrops', 'outhustling', 'opposers', 'continentals']\n",
      "====================\n",
      "\n",
      "Topic 24\n",
      "['neshoba', 'seminole', 'corral', 'sinaloa', 'whorehouse']\n",
      "====================\n",
      "\n",
      "Topic 25\n",
      "['merrimac', 'helt', 'microcap', 'mesilla', 'gardnerville']\n",
      "====================\n",
      "\n",
      "Topic 26\n",
      "['keenans', 'madres', 'uwa', 'bandmasters', 'baymen']\n",
      "====================\n",
      "\n",
      "Topic 27\n",
      "['contradict', 'interpretations', 'interpreted', 'rulings', 'hebrews']\n",
      "====================\n",
      "\n",
      "Topic 28\n",
      "['differed', 'alluded', 'starkly', 'mirrored', 'contrasting']\n",
      "====================\n",
      "\n",
      "Topic 29\n",
      "['dissented', 'schindlers', 'dissenters', 'abolitionists', 'appellants']\n",
      "====================\n",
      "\n",
      "Topic 30\n",
      "['monarchists', 'gildas', 'demosthenes', 'sweatt', 'klutznick']\n",
      "====================\n",
      "\n",
      "Topic 31\n",
      "['pete', 'carl', 'chuck', 'tom', 'richard']\n",
      "====================\n",
      "\n",
      "Topic 32\n",
      "['custer', 'barrack', 'statehouse', 'gettysburg', 'capitol']\n",
      "====================\n",
      "\n",
      "Topic 33\n",
      "['freelancing', 'exodus', 'punk', 'nineties', 'sixties']\n",
      "====================\n",
      "\n",
      "Topic 34\n",
      "['cienega', 'coteau', 'boscobel', 'camas', 'appomattox']\n",
      "====================\n",
      "\n",
      "Topic 35\n",
      "['repudiated', 'arminius', 'secession', 'annexation', 'carneys']\n",
      "====================\n",
      "\n",
      "Topic 36\n",
      "['trv', 'assails', 'ariz', 'auden', 'censuring']\n",
      "====================\n",
      "\n",
      "Topic 37\n",
      "['amendment', 'wording', 'govpx', 'signaled', 'paragraph']\n",
      "====================\n",
      "\n",
      "Topic 38\n",
      "['jacobites', 'royalists', 'zulu', 'baronial', 'courtiers']\n"
     ]
    }
   ],
   "source": [
    "rmn.inspect_topics(k_neighbors=5)"
   ]
  },
  {
   "cell_type": "markdown",
   "metadata": {},
   "source": [
    "When doing the calculations to find the nearest neighbors, some tokens had vector norm 0, they are explored below"
   ]
  },
  {
   "cell_type": "code",
   "execution_count": null,
   "metadata": {},
   "outputs": [],
   "source": [
    "import numpy as np\n"
   ]
  },
  {
   "cell_type": "code",
   "execution_count": null,
   "metadata": {},
   "outputs": [],
   "source": [
    "os.getcwd()"
   ]
  },
  {
   "cell_type": "code",
   "execution_count": null,
   "metadata": {},
   "outputs": [],
   "source": [
    "from vector_math import find_nn_cos"
   ]
  },
  {
   "cell_type": "code",
   "execution_count": null,
   "metadata": {},
   "outputs": [],
   "source": [
    "zeros = np.argwhere(np.linalg.norm(rmn.embedding_matrix, axis=1) == 0.0).flatten()[1:]"
   ]
  },
  {
   "cell_type": "code",
   "execution_count": null,
   "metadata": {},
   "outputs": [],
   "source": [
    "zero_words = [rmn.tokenizer_dict['tokenizer'].index_word[z] for z in zeros]"
   ]
  },
  {
   "cell_type": "code",
   "execution_count": null,
   "metadata": {},
   "outputs": [],
   "source": [
    "zero_words"
   ]
  },
  {
   "cell_type": "code",
   "execution_count": null,
   "metadata": {},
   "outputs": [],
   "source": []
  }
 ],
 "metadata": {
  "kernelspec": {
   "display_name": "Python 3",
   "language": "python",
   "name": "python3"
  },
  "language_info": {
   "codemirror_mode": {
    "name": "ipython",
    "version": 3
   },
   "file_extension": ".py",
   "mimetype": "text/x-python",
   "name": "python",
   "nbconvert_exporter": "python",
   "pygments_lexer": "ipython3",
   "version": "3.7.4"
  }
 },
 "nbformat": 4,
 "nbformat_minor": 2
}
