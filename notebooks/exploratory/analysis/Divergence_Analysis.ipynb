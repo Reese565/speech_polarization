{
 "cells": [
  {
   "cell_type": "code",
   "execution_count": 1,
   "metadata": {},
   "outputs": [],
   "source": [
    "import os\n",
    "import sys\n",
    "import pandas as pd"
   ]
  },
  {
   "cell_type": "code",
   "execution_count": 2,
   "metadata": {},
   "outputs": [
    {
     "data": {
      "text/plain": [
       "['/home/rocassius/w266_final/notebooks/exploratory/analysis',\n",
       " '',\n",
       " '/home/rocassius/anaconda3/lib/python3.7/site-packages',\n",
       " '/home/rocassius/anaconda3/lib/python37.zip',\n",
       " '/home/rocassius/anaconda3/lib/python3.7',\n",
       " '/home/rocassius/anaconda3/lib/python3.7/lib-dynload',\n",
       " '/home/rocassius/w266_final/scripts',\n",
       " '/home/rocassius/anaconda3/lib/python3.7/site-packages/IPython/extensions',\n",
       " '/home/rocassius/.ipython',\n",
       " '/home/rocassius/w266_final/scripts/assembly',\n",
       " '/home/rocassius/w266_final/scripts/modeling']"
      ]
     },
     "execution_count": 2,
     "metadata": {},
     "output_type": "execute_result"
    }
   ],
   "source": [
    "sys.path.append(\"/home/rocassius/w266_final/scripts/assembly\")\n",
    "sys.path.append(\"/home/rocassius/w266_final/scripts/modeling\")\n",
    "sys.path"
   ]
  },
  {
   "cell_type": "code",
   "execution_count": 3,
   "metadata": {},
   "outputs": [],
   "source": [
    "# os.chdir(\"/home/rocassius/w266_final/scripts/assembly\")\n",
    "from constant import DOC_SAMPLE_PATH, DOC_PROPER_PATH\n",
    "from document import *"
   ]
  },
  {
   "cell_type": "code",
   "execution_count": 4,
   "metadata": {},
   "outputs": [],
   "source": [
    "# os.chdir(\"/home/rocassius/w266_final/scripts/modeling\")\n",
    "from rmn import *\n",
    "#from analysis import *\n",
    "from rmn_analyzer import *\n",
    "#from rmn_data_generator import *"
   ]
  },
  {
   "cell_type": "code",
   "execution_count": 5,
   "metadata": {},
   "outputs": [],
   "source": [
    "df_all = load_documents(sessions=list(range(104,105)), read_path=DOC_PROPER_PATH)"
   ]
  },
  {
   "cell_type": "code",
   "execution_count": 6,
   "metadata": {},
   "outputs": [
    {
     "name": "stdout",
     "output_type": "stream",
     "text": [
      "WARNING:tensorflow:From /home/rocassius/anaconda3/lib/python3.7/site-packages/tensorflow_core/python/keras/initializers.py:119: calling RandomUniform.__init__ (from tensorflow.python.ops.init_ops) with dtype is deprecated and will be removed in a future version.\n",
      "Instructions for updating:\n",
      "Call initializer instance with the dtype argument instead of passing it to the constructor\n",
      "WARNING:tensorflow:From /home/rocassius/anaconda3/lib/python3.7/site-packages/tensorflow_core/python/ops/resource_variable_ops.py:1630: calling BaseResourceVariable.__init__ (from tensorflow.python.ops.resource_variable_ops) with constraint is deprecated and will be removed in a future version.\n",
      "Instructions for updating:\n",
      "If using Keras pass *_constraint arguments to layers.\n"
     ]
    }
   ],
   "source": [
    "rmn = RMN()\n",
    "rmn.load_rmn(name=\"full\", save_path = \"/home/rocassius/gen-data/models\")"
   ]
  },
  {
   "cell_type": "markdown",
   "metadata": {},
   "source": [
    "### Analyze the 105th session with an RMN_Analyzer"
   ]
  },
  {
   "cell_type": "code",
   "execution_count": 12,
   "metadata": {},
   "outputs": [],
   "source": [
    "analyzer = RMN_Analyzer(rmn, df_all)"
   ]
  },
  {
   "cell_type": "code",
   "execution_count": 13,
   "metadata": {},
   "outputs": [
    {
     "name": "stdout",
     "output_type": "stream",
     "text": [
      "23/23 [==============================] - 7s 284ms/step\n"
     ]
    }
   ],
   "source": [
    "# preds = analyzer.topic_preds\n",
    "analyzer.predict_topics()"
   ]
  },
  {
   "cell_type": "code",
   "execution_count": 14,
   "metadata": {},
   "outputs": [
    {
     "data": {
      "text/plain": [
       "{'n_records': 238515,\n",
       " 'n_records_R': 127236,\n",
       " 'n_records_D': 110648,\n",
       " 'js': {'mean': 0.10977453219052036,\n",
       "  'lower': 0.10478920011841533,\n",
       "  'upper': 0.11475986426262538},\n",
       " 'js_R': {'mean': 0.109690101665639,\n",
       "  'lower': 0.10384911544473807,\n",
       "  'upper': 0.11553108788653996},\n",
       " 'js_D': {'mean': 0.11204505866648354,\n",
       "  'lower': 0.10704923318549422,\n",
       "  'upper': 0.11704088414747282},\n",
       " 'js_RD': {'mean': 0.11125332846720845,\n",
       "  'lower': 0.11109199953532996,\n",
       "  'upper': 0.11141465739908692},\n",
       " 'hh': {'mean': 0.01115604117512703,\n",
       "  'lower': 0.011051423296448567,\n",
       "  'upper': 0.011260660003754518},\n",
       " 'hh_R': {'mean': 0.011173989623785019,\n",
       "  'lower': 0.011057567643549713,\n",
       "  'upper': 0.011290413224521604},\n",
       " 'hh_D': {'mean': 0.011077940464019775,\n",
       "  'lower': 0.010969787151789163,\n",
       "  'upper': 0.011186093738997486}}"
      ]
     },
     "execution_count": 14,
     "metadata": {},
     "output_type": "execute_result"
    }
   ],
   "source": [
    "analyzer.analyze_subset(conditions={}, n=100)"
   ]
  },
  {
   "cell_type": "code",
   "execution_count": 15,
   "metadata": {},
   "outputs": [
    {
     "data": {
      "text/plain": [
       "{'dataset': {'n_records': 238515,\n",
       "  'n_records_R': 127236,\n",
       "  'n_records_D': 110648,\n",
       "  'js': {'mean': 0.10519266667519023,\n",
       "   'lower': 0.09802161722428843,\n",
       "   'upper': 0.11236371612609208},\n",
       "  'js_R': {'mean': 0.11047362654344607,\n",
       "   'lower': 0.10317359231606149,\n",
       "   'upper': 0.11777366077083065},\n",
       "  'js_D': {'mean': 0.10819846676296102,\n",
       "   'lower': 0.10060759774849401,\n",
       "   'upper': 0.11578933577742806},\n",
       "  'js_RD': {'mean': 0.11125332846720845,\n",
       "   'lower': 0.11109199953532996,\n",
       "   'upper': 0.11141465739908692},\n",
       "  'hh': {'mean': 0.01115915272384882,\n",
       "   'lower': 0.01097118660231254,\n",
       "   'upper': 0.011347118547361876},\n",
       "  'hh_R': {'mean': 0.011228194460272789,\n",
       "   'lower': 0.01105491024661349,\n",
       "   'upper': 0.011401476215240491},\n",
       "  'hh_D': {'mean': 0.011118810623884201,\n",
       "   'lower': 0.010957424554159047,\n",
       "   'upper': 0.01128019565052807}},\n",
       " 'subjects': {'abortion': {'n_records': 1803,\n",
       "   'n_records_R': 982,\n",
       "   'n_records_D': 819,\n",
       "   'js': {'mean': 0.1096578366152448,\n",
       "    'lower': 0.10180465584146997,\n",
       "    'upper': 0.11751101738901962},\n",
       "   'js_R': {'mean': 0.10555976477979552,\n",
       "    'lower': 0.09743720338611897,\n",
       "    'upper': 0.11368232617347215},\n",
       "   'js_D': {'mean': 0.11471291958301048,\n",
       "    'lower': 0.10504051119048916,\n",
       "    'upper': 0.12438532797553181},\n",
       "   'js_RD': {'mean': 0.11111702782010845,\n",
       "    'lower': 0.1092181655534295,\n",
       "    'upper': 0.11301589008678742},\n",
       "   'hh': {'mean': 0.01128589827567339,\n",
       "    'lower': 0.01109896672489958,\n",
       "    'upper': 0.01147283045974655},\n",
       "   'hh_R': {'mean': 0.01099682692438364,\n",
       "    'lower': 0.01088211054887524,\n",
       "    'upper': 0.011111543374397844},\n",
       "   'hh_D': {'mean': 0.011094998568296432,\n",
       "    'lower': 0.010924483994589762,\n",
       "    'upper': 0.011265511353863758}},\n",
       "  'federalism': {'n_records': 1273,\n",
       "   'n_records_R': 679,\n",
       "   'n_records_D': 593,\n",
       "   'js': {'mean': 0.10781406782547212,\n",
       "    'lower': 0.10049386563330312,\n",
       "    'upper': 0.11513427001764115},\n",
       "   'js_R': {'mean': 0.1025015999161443,\n",
       "    'lower': 0.09678152808593536,\n",
       "    'upper': 0.10822167174635323},\n",
       "   'js_D': {'mean': 0.1201396615728288,\n",
       "    'lower': 0.10822860441884441,\n",
       "    'upper': 0.13205071872681323},\n",
       "   'js_RD': {'mean': 0.10594672036695826,\n",
       "    'lower': 0.10377333030516712,\n",
       "    'upper': 0.10812011042874943},\n",
       "   'hh': {'mean': 0.01117806788533926,\n",
       "    'lower': 0.011009445879535963,\n",
       "    'upper': 0.01134669141851158},\n",
       "   'hh_R': {'mean': 0.011268631555140018,\n",
       "    'lower': 0.011101776550560882,\n",
       "    'upper': 0.011435485702902384},\n",
       "   'hh_D': {'mean': 0.011345711536705494,\n",
       "    'lower': 0.011175036557436534,\n",
       "    'upper': 0.011516386068939618}}}}"
      ]
     },
     "execution_count": 15,
     "metadata": {},
     "output_type": "execute_result"
    }
   ],
   "source": [
    "analyzer.analyze(subjects=['abortion', 'federalism'], n = 50)"
   ]
  },
  {
   "cell_type": "code",
   "execution_count": 16,
   "metadata": {},
   "outputs": [
    {
     "data": {
      "text/plain": [
       "{'mean': 0.11090404526950445,\n",
       " 'lower': 0.10596736619044789,\n",
       " 'upper': 0.11584072434856099}"
      ]
     },
     "execution_count": 16,
     "metadata": {},
     "output_type": "execute_result"
    }
   ],
   "source": [
    "analyzer.group_js({PARTY: 'D', SUB: 'abortion'}, n=100)"
   ]
  },
  {
   "cell_type": "code",
   "execution_count": 17,
   "metadata": {},
   "outputs": [
    {
     "data": {
      "text/plain": [
       "{'mean': 0.10783626660070009,\n",
       " 'lower': 0.1025735919949812,\n",
       " 'upper': 0.11309894120641903}"
      ]
     },
     "execution_count": 17,
     "metadata": {},
     "output_type": "execute_result"
    }
   ],
   "source": [
    "analyzer.group_js({PARTY: 'R', SUB: 'abortion'}, n=100)"
   ]
  },
  {
   "cell_type": "code",
   "execution_count": 19,
   "metadata": {},
   "outputs": [
    {
     "data": {
      "text/plain": [
       "{'mean': 0.011114686727523804,\n",
       " 'lower': 0.011011685968828799,\n",
       " 'upper': 0.011217686163740751}"
      ]
     },
     "execution_count": 19,
     "metadata": {},
     "output_type": "execute_result"
    }
   ],
   "source": [
    "analyzer.group_hh({PARTY: 'R', SUB: 'abortion'}, n=100)"
   ]
  },
  {
   "cell_type": "code",
   "execution_count": 33,
   "metadata": {},
   "outputs": [],
   "source": [
    "import json \n",
    "\n",
    "with open('div_data.txt', 'w') as outfile:\n",
    "    json.dump(data_dict, outfile)"
   ]
  },
  {
   "cell_type": "code",
   "execution_count": 32,
   "metadata": {},
   "outputs": [
    {
     "data": {
      "text/plain": [
       "'/home/rocassius/w266_final/scripts/modeling'"
      ]
     },
     "execution_count": 32,
     "metadata": {},
     "output_type": "execute_result"
    }
   ],
   "source": [
    "os.getcwd()\n"
   ]
  },
  {
   "cell_type": "code",
   "execution_count": 34,
   "metadata": {},
   "outputs": [],
   "source": [
    "with open('div_data.txt') as json_file:\n",
    "    data = json.load(json_file)"
   ]
  },
  {
   "cell_type": "code",
   "execution_count": 35,
   "metadata": {},
   "outputs": [
    {
     "data": {
      "text/plain": [
       "{'js_RD': {'estimate': 0.11085805681099464,\n",
       "  'lower': 0.11000055448822368,\n",
       "  'upper': 0.1117155591337656},\n",
       " 'js_RR': {'estimate': 0.11106727010844802,\n",
       "  'lower': 0.1105057778011546,\n",
       "  'upper': 0.11162876241574145},\n",
       " 'js_DD': {'estimate': 0.1105937581579881,\n",
       "  'lower': 0.11002224760685128,\n",
       "  'upper': 0.11116526870912488}}"
      ]
     },
     "execution_count": 35,
     "metadata": {},
     "output_type": "execute_result"
    }
   ],
   "source": [
    "data"
   ]
  },
  {
   "cell_type": "code",
   "execution_count": null,
   "metadata": {},
   "outputs": [],
   "source": []
  }
 ],
 "metadata": {
  "kernelspec": {
   "display_name": "Python 3",
   "language": "python",
   "name": "python3"
  },
  "language_info": {
   "codemirror_mode": {
    "name": "ipython",
    "version": 3
   },
   "file_extension": ".py",
   "mimetype": "text/x-python",
   "name": "python",
   "nbconvert_exporter": "python",
   "pygments_lexer": "ipython3",
   "version": "3.7.4"
  }
 },
 "nbformat": 4,
 "nbformat_minor": 2
}
