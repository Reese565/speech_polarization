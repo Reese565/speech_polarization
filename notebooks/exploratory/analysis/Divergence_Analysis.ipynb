{
 "cells": [
  {
   "cell_type": "code",
   "execution_count": 84,
   "metadata": {},
   "outputs": [],
   "source": [
    "import os\n",
    "import sys\n",
    "import pandas as pd\n",
    "from functools import partial"
   ]
  },
  {
   "cell_type": "code",
   "execution_count": 85,
   "metadata": {},
   "outputs": [
    {
     "data": {
      "text/plain": [
       "['/home/rocassius/w266_final/notebooks/exploratory/analysis',\n",
       " '',\n",
       " '/home/rocassius/anaconda3/lib/python3.7/site-packages',\n",
       " '/home/rocassius/anaconda3/lib/python37.zip',\n",
       " '/home/rocassius/anaconda3/lib/python3.7',\n",
       " '/home/rocassius/anaconda3/lib/python3.7/lib-dynload',\n",
       " '/home/rocassius/w266_final/scripts',\n",
       " '/home/rocassius/anaconda3/lib/python3.7/site-packages/IPython/extensions',\n",
       " '/home/rocassius/.ipython',\n",
       " '/home/rocassius/w266_final/scripts/assembly',\n",
       " '/home/rocassius/w266_final/scripts/modeling',\n",
       " '/home/rocassius/w266_final/scripts/assembly',\n",
       " '/home/rocassius/w266_final/scripts/modeling',\n",
       " '/home/rocassius/w266_final/scripts/assembly',\n",
       " '/home/rocassius/w266_final/scripts/modeling']"
      ]
     },
     "execution_count": 85,
     "metadata": {},
     "output_type": "execute_result"
    }
   ],
   "source": [
    "sys.path.append(\"/home/rocassius/w266_final/scripts/assembly\")\n",
    "sys.path.append(\"/home/rocassius/w266_final/scripts/modeling\")\n",
    "sys.path"
   ]
  },
  {
   "cell_type": "code",
   "execution_count": 86,
   "metadata": {},
   "outputs": [],
   "source": [
    "# os.chdir(\"/home/rocassius/w266_final/scripts/assembly\")\n",
    "from constant import DOC_ALL_PATH\n",
    "from document import *"
   ]
  },
  {
   "cell_type": "code",
   "execution_count": 87,
   "metadata": {},
   "outputs": [],
   "source": [
    "# os.chdir(\"/home/rocassius/w266_final/scripts/modeling\")\n",
    "from rmn import *\n",
    "from rmn_analyzer import *"
   ]
  },
  {
   "cell_type": "code",
   "execution_count": 88,
   "metadata": {},
   "outputs": [],
   "source": [
    "df_all = load_documents(sessions=[99], read_path=DOC_PROPER_PATH)"
   ]
  },
  {
   "cell_type": "code",
   "execution_count": 89,
   "metadata": {},
   "outputs": [],
   "source": [
    "# make rmn\n",
    "rmn_path=\"/home/rocassius/gen-data/models\"\n",
    "rmn_name=\"full\"\n",
    "rmn = RMN(); rmn.load_rmn(name=rmn_name, save_path=rmn_path)"
   ]
  },
  {
   "cell_type": "code",
   "execution_count": 93,
   "metadata": {},
   "outputs": [],
   "source": [
    "analyzer = RMN_Analyzer(rmn, df_all)"
   ]
  },
  {
   "cell_type": "code",
   "execution_count": 96,
   "metadata": {},
   "outputs": [
    {
     "data": {
      "text/plain": [
       "{'mean': 0.011386736296117306,\n",
       " 'lower': 0.011212606590132936,\n",
       " 'upper': 0.011560864760338244}"
      ]
     },
     "execution_count": 96,
     "metadata": {},
     "output_type": "execute_result"
    }
   ],
   "source": [
    "analyzer.group_hh({'party': 'R', 'subject': 'money'}, n=60)"
   ]
  },
  {
   "cell_type": "code",
   "execution_count": 105,
   "metadata": {},
   "outputs": [
    {
     "data": {
      "text/plain": [
       "{'mean': 0.09967679857032756,\n",
       " 'lower': 0.09521379345721467,\n",
       " 'upper': 0.10413980368344042}"
      ]
     },
     "execution_count": 105,
     "metadata": {},
     "output_type": "execute_result"
    }
   ],
   "source": [
    "# this is the inter party JS\n",
    "analyzer.inter_party_js({'subject': 'budget'}, n=100)"
   ]
  },
  {
   "cell_type": "code",
   "execution_count": 106,
   "metadata": {},
   "outputs": [
    {
     "data": {
      "text/plain": [
       "{'mean': 0.10003777603208844,\n",
       " 'lower': 0.09516653380449866,\n",
       " 'upper': 0.10490901825967827}"
      ]
     },
     "execution_count": 106,
     "metadata": {},
     "output_type": "execute_result"
    }
   ],
   "source": [
    "# this is the intra party JS for republicans\n",
    "analyzer.group_js({'party': 'R', 'subject': 'budget'}, n=100)"
   ]
  },
  {
   "cell_type": "code",
   "execution_count": 98,
   "metadata": {},
   "outputs": [
    {
     "data": {
      "text/plain": [
       "48710"
      ]
     },
     "execution_count": 98,
     "metadata": {},
     "output_type": "execute_result"
    }
   ],
   "source": [
    "# get the number of records belonging to House Republicans\n",
    "analyzer.n_records({'party': 'R', 'chamber': 'H'})"
   ]
  },
  {
   "cell_type": "code",
   "execution_count": 92,
   "metadata": {},
   "outputs": [
    {
     "name": "stdout",
     "output_type": "stream",
     "text": [
      "22/22 [==============================] - 12s 531ms/step\n"
     ]
    },
    {
     "data": {
      "text/plain": [
       "{'n_records': 642,\n",
       " 'n_records_R': 331,\n",
       " 'n_records_D': 311,\n",
       " 'js': {'mean': 0.11925180771792247,\n",
       "  'lower': 0.11360190653519639,\n",
       "  'upper': 0.12490170890064856},\n",
       " 'js_R': {'mean': 0.12151525815729405,\n",
       "  'lower': 0.11473303037562622,\n",
       "  'upper': 0.12829748593896192},\n",
       " 'js_D': {'mean': 0.11751108994098605,\n",
       "  'lower': 0.11251129368196273,\n",
       "  'upper': 0.1225108862000094},\n",
       " 'js_RD': {'mean': 0.12315015757323905,\n",
       "  'lower': 0.11784869099745159,\n",
       "  'upper': 0.12845162414902653},\n",
       " 'hh': {'mean': 0.011538594961166382,\n",
       "  'lower': 0.011416812553819537,\n",
       "  'upper': 0.011660377312633873},\n",
       " 'hh_R': {'mean': 0.011475730687379837,\n",
       "  'lower': 0.011337361488095221,\n",
       "  'upper': 0.01161409824753672},\n",
       " 'hh_D': {'mean': 0.011619585566222668,\n",
       "  'lower': 0.011455549413900644,\n",
       "  'upper': 0.011783625890869827}}"
      ]
     },
     "execution_count": 92,
     "metadata": {},
     "output_type": "execute_result"
    }
   ],
   "source": [
    "# this is what a metrics_dict looks like\n",
    "analyzer.analyze_subset(conditions={'subject': 'alcohol'}, n=100)"
   ]
  },
  {
   "cell_type": "code",
   "execution_count": 100,
   "metadata": {},
   "outputs": [
    {
     "data": {
      "text/plain": [
       "{'dataset': {'n_records': 221604,\n",
       "  'n_records_R': 115184,\n",
       "  'n_records_D': 106420,\n",
       "  'js': {'mean': 0.11741460307864937,\n",
       "   'lower': 0.11389445624737096,\n",
       "   'upper': 0.12093474990992778},\n",
       "  'js_R': {'mean': 0.11893283706222445,\n",
       "   'lower': 0.11550934515843445,\n",
       "   'upper': 0.12235632896601445},\n",
       "  'js_D': {'mean': 0.11395940060511288,\n",
       "   'lower': 0.11043419594388082,\n",
       "   'upper': 0.11748460526634494},\n",
       "  'js_RD': {'mean': 0.11450915538514478,\n",
       "   'lower': 0.1107597074748568,\n",
       "   'upper': 0.11825860329543272},\n",
       "  'hh': {'mean': 0.011216025799512863,\n",
       "   'lower': 0.011129789534745462,\n",
       "   'upper': 0.011302260359959954},\n",
       "  'hh_R': {'mean': 0.011181900277733803,\n",
       "   'lower': 0.011110832458815553,\n",
       "   'upper': 0.011252967668243668},\n",
       "  'hh_D': {'mean': 0.011229170486330986,\n",
       "   'lower': 0.011151564618322271,\n",
       "   'upper': 0.011306776559230666}},\n",
       " 'subjects': {'defense': {'n_records': 26678,\n",
       "   'n_records_R': 13913,\n",
       "   'n_records_D': 12765,\n",
       "   'js': {'mean': 0.11664789008616705,\n",
       "    'lower': 0.11284114806079792,\n",
       "    'upper': 0.12045463211153612},\n",
       "   'js_R': {'mean': 0.11911821081395925,\n",
       "    'lower': 0.11540426368673178,\n",
       "    'upper': 0.12283215794118672},\n",
       "   'js_D': {'mean': 0.11559860986894345,\n",
       "    'lower': 0.11189414933365595,\n",
       "    'upper': 0.1193030704042309},\n",
       "   'js_RD': {'mean': 0.11355619190127281,\n",
       "    'lower': 0.11002382393751012,\n",
       "    'upper': 0.1170885598650355},\n",
       "   'hh': {'mean': 0.011145927011966705,\n",
       "    'lower': 0.011059741235546296,\n",
       "    'upper': 0.01123211201538938},\n",
       "   'hh_R': {'mean': 0.011116420850157738,\n",
       "    'lower': 0.011042586188213726,\n",
       "    'upper': 0.011190256946338514},\n",
       "   'hh_D': {'mean': 0.0111681604757905,\n",
       "    'lower': 0.011089254345066045,\n",
       "    'upper': 0.011247067202561405}},\n",
       "  'minorities': {'n_records': 3717,\n",
       "   'n_records_R': 1945,\n",
       "   'n_records_D': 1772,\n",
       "   'js': {'mean': 0.11478700986350182,\n",
       "    'lower': 0.11118989228572176,\n",
       "    'upper': 0.1183841274412819},\n",
       "   'js_R': {'mean': 0.11787177462059777,\n",
       "    'lower': 0.11383138916435286,\n",
       "    'upper': 0.12191216007684268},\n",
       "   'js_D': {'mean': 0.11860626488613715,\n",
       "    'lower': 0.11502210404416094,\n",
       "    'upper': 0.1221904257281134},\n",
       "   'js_RD': {'mean': 0.12010054574590988,\n",
       "    'lower': 0.1158762280105763,\n",
       "    'upper': 0.12432486348124346},\n",
       "   'hh': {'mean': 0.011099320836365223,\n",
       "    'lower': 0.01103200352427215,\n",
       "    'upper': 0.011166637366147333},\n",
       "   'hh_R': {'mean': 0.011114968918263912,\n",
       "    'lower': 0.011049711935214568,\n",
       "    'upper': 0.01118022622727616},\n",
       "   'hh_D': {'mean': 0.0112233841791749,\n",
       "    'lower': 0.011127903756575656,\n",
       "    'upper': 0.011318864685593176}},\n",
       "  'abortion': {'n_records': 858,\n",
       "   'n_records_R': 467,\n",
       "   'n_records_D': 391,\n",
       "   'js': {'mean': 0.11394343457427293,\n",
       "    'lower': 0.1098911552658136,\n",
       "    'upper': 0.11799571388273226},\n",
       "   'js_R': {'mean': 0.11215364881303057,\n",
       "    'lower': 0.10803169869796245,\n",
       "    'upper': 0.11627559892809869},\n",
       "   'js_D': {'mean': 0.11596303279141712,\n",
       "    'lower': 0.11192427352835058,\n",
       "    'upper': 0.12000179205448366},\n",
       "   'js_RD': {'mean': 0.11509462413468452,\n",
       "    'lower': 0.1115050996403577,\n",
       "    'upper': 0.11868414862901135},\n",
       "   'hh': {'mean': 0.011276884004473686,\n",
       "    'lower': 0.011199698246990325,\n",
       "    'upper': 0.011354071447650906},\n",
       "   'hh_R': {'mean': 0.011276551522314548,\n",
       "    'lower': 0.011193207533701902,\n",
       "    'upper': 0.011359897056922669},\n",
       "   'hh_D': {'mean': 0.01124326977878809,\n",
       "    'lower': 0.011159691041579854,\n",
       "    'upper': 0.011326848106214392}}}}"
      ]
     },
     "execution_count": 100,
     "metadata": {},
     "output_type": "execute_result"
    }
   ],
   "source": [
    "# this is what an analysis of a session looks like\n",
    "# there is a metrics_dict for the entire dataset and a metrics dict for each subject\n",
    "analyzer.analyze(subjects = ['defense', 'minorities', 'abortion'], n=200)"
   ]
  },
  {
   "cell_type": "code",
   "execution_count": null,
   "metadata": {},
   "outputs": [],
   "source": []
  }
 ],
 "metadata": {
  "kernelspec": {
   "display_name": "Python 3",
   "language": "python",
   "name": "python3"
  },
  "language_info": {
   "codemirror_mode": {
    "name": "ipython",
    "version": 3
   },
   "file_extension": ".py",
   "mimetype": "text/x-python",
   "name": "python",
   "nbconvert_exporter": "python",
   "pygments_lexer": "ipython3",
   "version": "3.7.4"
  }
 },
 "nbformat": 4,
 "nbformat_minor": 2
}
