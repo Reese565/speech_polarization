{
 "cells": [
  {
   "cell_type": "code",
   "execution_count": 1,
   "metadata": {},
   "outputs": [],
   "source": [
    "import os\n",
    "import sys\n",
    "import pandas as pd"
   ]
  },
  {
   "cell_type": "code",
   "execution_count": 2,
   "metadata": {},
   "outputs": [
    {
     "data": {
      "text/plain": [
       "['/home/rocassius/w266_final/notebooks/exploratory/analysis',\n",
       " '',\n",
       " '/home/rocassius/anaconda3/lib/python3.7/site-packages',\n",
       " '/home/rocassius/anaconda3/lib/python37.zip',\n",
       " '/home/rocassius/anaconda3/lib/python3.7',\n",
       " '/home/rocassius/anaconda3/lib/python3.7/lib-dynload',\n",
       " '/home/rocassius/w266_final/scripts',\n",
       " '/home/rocassius/anaconda3/lib/python3.7/site-packages/IPython/extensions',\n",
       " '/home/rocassius/.ipython',\n",
       " '/home/rocassius/w266_final/scripts/assembly',\n",
       " '/home/rocassius/w266_final/scripts/modeling']"
      ]
     },
     "execution_count": 2,
     "metadata": {},
     "output_type": "execute_result"
    }
   ],
   "source": [
    "sys.path.append(\"/home/rocassius/w266_final/scripts/assembly\")\n",
    "sys.path.append(\"/home/rocassius/w266_final/scripts/modeling\")\n",
    "sys.path"
   ]
  },
  {
   "cell_type": "code",
   "execution_count": 3,
   "metadata": {},
   "outputs": [],
   "source": [
    "# os.chdir(\"/home/rocassius/w266_final/scripts/assembly\")\n",
    "from constant import DOC_SAMPLE_PATH, DOC_PROPER_PATH\n",
    "from document import *"
   ]
  },
  {
   "cell_type": "code",
   "execution_count": 4,
   "metadata": {},
   "outputs": [],
   "source": [
    "# os.chdir(\"/home/rocassius/w266_final/scripts/modeling\")\n",
    "from rmn import *\n",
    "#from analysis import *\n",
    "from rmn_analyzer import *\n",
    "#from rmn_data_generator import *"
   ]
  },
  {
   "cell_type": "code",
   "execution_count": 5,
   "metadata": {},
   "outputs": [],
   "source": [
    "df_all = load_documents(sessions=list(range(104,105)), read_path=DOC_PROPER_PATH)"
   ]
  },
  {
   "cell_type": "code",
   "execution_count": 6,
   "metadata": {},
   "outputs": [
    {
     "name": "stdout",
     "output_type": "stream",
     "text": [
      "WARNING:tensorflow:From /home/rocassius/anaconda3/lib/python3.7/site-packages/tensorflow_core/python/keras/initializers.py:119: calling RandomUniform.__init__ (from tensorflow.python.ops.init_ops) with dtype is deprecated and will be removed in a future version.\n",
      "Instructions for updating:\n",
      "Call initializer instance with the dtype argument instead of passing it to the constructor\n",
      "WARNING:tensorflow:From /home/rocassius/anaconda3/lib/python3.7/site-packages/tensorflow_core/python/ops/resource_variable_ops.py:1630: calling BaseResourceVariable.__init__ (from tensorflow.python.ops.resource_variable_ops) with constraint is deprecated and will be removed in a future version.\n",
      "Instructions for updating:\n",
      "If using Keras pass *_constraint arguments to layers.\n"
     ]
    }
   ],
   "source": [
    "rmn = RMN()\n",
    "rmn.load_rmn(name=\"full\", save_path = \"/home/rocassius/gen-data/models\")"
   ]
  },
  {
   "cell_type": "markdown",
   "metadata": {},
   "source": [
    "### Analyze the 105th session with an RMN_Analyzer"
   ]
  },
  {
   "cell_type": "code",
   "execution_count": 212,
   "metadata": {},
   "outputs": [],
   "source": [
    "#====================#\n",
    "#=*= RMN Analyzer =*=#\n",
    "#====================#\n",
    "\n",
    "# Class for analyzing an RMN\n",
    "\n",
    "import numpy as np\n",
    "from analysis import *\n",
    "\n",
    "# constants\n",
    "SUB_KEY = 'subject'\n",
    "SPEAKER = 'speakerid'\n",
    "PARTY = 'party'\n",
    "\n",
    "# party constants\n",
    "REP = 'R'\n",
    "DEM = 'D'\n",
    "\n",
    "\n",
    "class RMN_Analyzer(object):\n",
    "    \"\"\"Class for Analyzing an RMN with respect to a dataset\n",
    "    \"\"\"\n",
    "    \n",
    "    def __init__(self, rmn, df):\n",
    "        \"\"\"\n",
    "        Args:\n",
    "        - rmn: (RMN) the RMN to be used for analysis\n",
    "        - df : (DataFrame) the dataframe to analyze\n",
    "        \"\"\"\n",
    "        \n",
    "        'Initialization'\n",
    "        self.rmn = rmn\n",
    "        self.df = df.reset_index(drop=True)\n",
    "        self.topic_preds = None\n",
    "        \n",
    "    @property\n",
    "    def index(self):\n",
    "        return self.df.index\n",
    "         \n",
    "        \n",
    "    def predict_topics(self, use_generator=True):\n",
    "        \"\"\"Computes the topic predictions for all observations\n",
    "        \"\"\"\n",
    "        if use_generator:\n",
    "            self.topic_preds = self.rmn.predict_topics_generator(self.df)\n",
    "        else:\n",
    "            self.topic_preds = self.rmn.predict_topics(self.df)\n",
    "        \n",
    "        \n",
    "    def sample_indices(self, indices, n):\n",
    "        \"\"\"Returns a SRR of the indices provided\n",
    "        \"\"\"\n",
    "        return np.random.choice(indices, n, replace=True)\n",
    "\n",
    "    \n",
    "    def bool_subset(self, col, value):\n",
    "        \"\"\"\n",
    "        Returns a boolean vector for each observation in the\n",
    "        dataframe indicating whether it meets the col = value condition\n",
    "        \n",
    "        \"\"\"\n",
    "        assert col in self.df.columns\n",
    "        return self.df[col] == value\n",
    "    \n",
    "    \n",
    "    def bool_index(self, conditions):\n",
    "        \"\"\"\n",
    "        Returns a boolean vector for each observation in the\n",
    "        dataframe indicating whether it meets all conditions\n",
    "        \n",
    "        Args:\n",
    "        - conditions: (dict) dictionary of conditions\n",
    "        \n",
    "        Returns: \n",
    "        - pandas series of booleans indicating where all \n",
    "          of the conditions hold\n",
    "        \"\"\"\n",
    "        # initialize bool index\n",
    "        bool_index = (pd.Series(True)\n",
    "                      .repeat(self.index.shape[0])\n",
    "                      .reset_index(drop=True))\n",
    "        \n",
    "        for col, val in conditions.items():\n",
    "            bool_index = bool_index & self.bool_subset(col, val)\n",
    "            \n",
    "        return bool_index\n",
    "    \n",
    "    \n",
    "    def cond_index(self, conditions):\n",
    "        \"\"\"Returns indices of records meeting the conditions\n",
    "        \"\"\"\n",
    "        return self.index[self.bool_index(conditions)]\n",
    "    \n",
    "    \n",
    "    def n_records(self, conditions={}):\n",
    "        \"\"\"Returns the number of records meetings the conditions\n",
    "        \"\"\"\n",
    "        return len(self.cond_index(conditions))\n",
    "    \n",
    "    \n",
    "    def compute_JS(self, index_A, index_B, base=2):\n",
    "        \"\"\"\n",
    "        Computes the mean pair-wise JS divergence and associated CI\n",
    "        between indices in index_A and indices in index_B\n",
    "        \"\"\"\n",
    "        p_A = self.topic_preds[index_A]\n",
    "        p_B = self.topic_preds[index_B]\n",
    "        js_list = [jensenshannon(p, q, base) for p, q in zip(p_A, p_B)]\n",
    "        \n",
    "        return mean_CI(js_list)\n",
    "        \n",
    "        \n",
    "    def compute_HH(self, index):\n",
    "        \"\"\"\n",
    "        Computes the mean HH index and associated CI between\n",
    "        indices in index_A and indices in index_B\n",
    "        \"\"\"\n",
    "        p = self.topic_preds[index]\n",
    "        hh_list = [hh_index(q) for q in p]\n",
    "        \n",
    "        return mean_CI(hh_list)\n",
    "          \n",
    "    \n",
    "    def inter_party_js(self, subject, n):\n",
    "        \"\"\"\n",
    "        Returns the estimated inter party JS divergence and a CI.\n",
    "        \n",
    "        Computes the inter party JS divergence between \n",
    "        Republicans and Democrats on a given subject\n",
    "        \n",
    "        Args:\n",
    "        - subject: (str) subject to examine\n",
    "        - n      : (int) sample size\n",
    "        \n",
    "        Returns: a numpy array of length 3, where\n",
    "        - 0 is the mean divergence point estimate:\n",
    "        - 1 is the lower bound of a 95% CI\n",
    "        - 2 is the upper bound of a 95% CI\n",
    "        \"\"\"\n",
    "        # ensure that the topic predictions exist\n",
    "        if self.topic_preds is None:\n",
    "            self.predict_topics()\n",
    "        \n",
    "        # find R and D indicies on the subject\n",
    "        index_R = self.cond_index({PARTY: REP, SUB_KEY: subject})\n",
    "        index_D = self.cond_index({PARTY: DEM, SUB_KEY: subject})\n",
    "        \n",
    "        # return None if indices are insufficient\n",
    "        if len(index_R)==0 or len(index_D)==0:\n",
    "            return None\n",
    "        \n",
    "        # sample \n",
    "        samp_index_R = self.sample_indices(index_R, n)\n",
    "        samp_index_D = self.sample_indices(index_D, n)\n",
    "    \n",
    "        return self.compute_JS(index_R, index_D)\n",
    "    \n",
    "    \n",
    "    def group_js(self, conditions, n):\n",
    "        \"\"\"\n",
    "        Returns the estimated mean JS divergence and a CI\n",
    "        \n",
    "        Estimates the average JS divergence between any two documents of\n",
    "        a group defined by the conditions. A document by speaker _i_ is \n",
    "        never compared to another document by speaker _i_.\n",
    "        \n",
    "        \n",
    "        Args:\n",
    "        - conditions: (dict) dictionary of conditions\n",
    "        - n      : (int) sample size\n",
    "        \n",
    "        Returns: a numpy array of length 3, where index...\n",
    "        - 0 is the mean divergence point estimate:\n",
    "        - 1 is the lower bound of a 95% CI\n",
    "        - 2 is the upper bound of a 95% CI\n",
    "        \"\"\"\n",
    "        # ensure that the topic predictions exist\n",
    "        if self.topic_preds is None:\n",
    "            self.predict_topics()\n",
    "        \n",
    "        # find indicies of party on the subject\n",
    "        cond_index = self.cond_index(conditions)\n",
    "        \n",
    "        # Return none if there are fewer than 2 speakers\n",
    "        if self.df.loc[cond_index][SPEAKER].nunique() < 2:\n",
    "            return None\n",
    "        \n",
    "        # Sample index pairs\n",
    "        index_AB = []\n",
    "        while len(index_AB) < n:\n",
    "            a_b = self.sample_indices(cond_index, n=2)\n",
    "            # include samples whose speakers are different\n",
    "            if self.df.loc[a_b][SPEAKER].nunique() == 2:\n",
    "                index_AB.append(a_b)\n",
    "        \n",
    "        index_AB = np.asarray(index_AB)\n",
    "        assert index_AB.shape == (n, 2)\n",
    "        \n",
    "        # get indices for each group\n",
    "        index_A, index_B = index_AB[:,0], index_AB[:,1]\n",
    "        \n",
    "        return self.compute_JS(index_A, index_B)\n",
    "    \n",
    "    \n",
    "    def group_hh(self, conditions={}, n=None):\n",
    "        \"\"\"\n",
    "        Returns the estimated mean HH index and a CI\n",
    "        \n",
    "        Estimates the average Herfindahl–Hirschman Index \n",
    "        of all records meetings the conditons.\n",
    "        \n",
    "        Args:\n",
    "        - subject: (str) subject to examine\n",
    "        - party  : (str) party of interest\n",
    "        - n      : (int) sample size\n",
    "        \n",
    "        Returns: a numpy array of length 3, where index...\n",
    "        - 0 is the mean index point estimate:\n",
    "        - 1 is the lower bound of a 95% CI\n",
    "        - 2 is the upper bound of a 95% CI\n",
    "        \"\"\"\n",
    "        # ensure that the topic predictions exist\n",
    "        if self.topic_preds is None:\n",
    "            self.predict_topics()\n",
    "        \n",
    "        # indicies meeting the conditions\n",
    "        cond_index = self.cond_index(conditions)\n",
    "        \n",
    "        if n is None:\n",
    "            return self.compute_HH(cond_index)\n",
    "        else:\n",
    "            samp_index = self.sample_indices(cond_index, n)\n",
    "            return self.compute_HH(samp_index)\n",
    "        \n",
    "#     def analyze\n",
    "        \n",
    "#     def analyze(self, subjects):\n",
    "#         \"\"\"\n",
    "#         Returns a dictionary of analysis.\n",
    "        \n",
    "#         for the entire dataset and each subject the following are computed:\n",
    "#         - n_records\n",
    "#         - n_records R\n",
    "#         - n_records D\n",
    "#         - all JS\n",
    "#         - RD  JS\n",
    "#         - RR  JS\n",
    "#         - DD  JS\n",
    "#         - all HH\n",
    "#         - R   HH\n",
    "#         - D   HH\n",
    "#         \"\"\"\n",
    "        \n",
    "#         entire = {''}\n",
    "        \n",
    "        \n",
    "        \n"
   ]
  },
  {
   "cell_type": "code",
   "execution_count": 218,
   "metadata": {},
   "outputs": [],
   "source": [
    "analyzer = RMN_Analyzer(rmn, df_all)"
   ]
  },
  {
   "cell_type": "code",
   "execution_count": 219,
   "metadata": {},
   "outputs": [],
   "source": [
    "# preds = analyzer.topic_preds\n",
    "analyzer.topic_preds = preds"
   ]
  },
  {
   "cell_type": "code",
   "execution_count": 220,
   "metadata": {},
   "outputs": [
    {
     "data": {
      "text/plain": [
       "982"
      ]
     },
     "execution_count": 220,
     "metadata": {},
     "output_type": "execute_result"
    }
   ],
   "source": [
    "np.sum(analyzer.bool_index(conditions={'party': 'R', 'subject': 'abortion'}))"
   ]
  },
  {
   "cell_type": "code",
   "execution_count": 221,
   "metadata": {},
   "outputs": [
    {
     "data": {
      "text/plain": [
       "{'estimate': 0.11111702782010845,\n",
       " 'lower': 0.1092181655534295,\n",
       " 'upper': 0.11301589008678742}"
      ]
     },
     "execution_count": 221,
     "metadata": {},
     "output_type": "execute_result"
    }
   ],
   "source": [
    "# compute inter-party divergence on abortion\n",
    "analyzer.inter_party_js(subject = 'abortion', n=100)"
   ]
  },
  {
   "cell_type": "code",
   "execution_count": 222,
   "metadata": {},
   "outputs": [
    {
     "data": {
      "text/plain": [
       "{'estimate': 0.11439676071103051,\n",
       " 'lower': 0.1083229381082281,\n",
       " 'upper': 0.12047058331383298}"
      ]
     },
     "execution_count": 222,
     "metadata": {},
     "output_type": "execute_result"
    }
   ],
   "source": [
    "analyzer.group_js({'party': 'D', 'subject': 'abortion'}, n=100)"
   ]
  },
  {
   "cell_type": "code",
   "execution_count": 223,
   "metadata": {},
   "outputs": [
    {
     "data": {
      "text/plain": [
       "{'estimate': 0.11148811564938771,\n",
       " 'lower': 0.10534804658928536,\n",
       " 'upper': 0.11762818470949003}"
      ]
     },
     "execution_count": 223,
     "metadata": {},
     "output_type": "execute_result"
    }
   ],
   "source": [
    "analyzer.group_js({'party': 'R', 'subject': 'abortion'}, n=100)"
   ]
  },
  {
   "cell_type": "code",
   "execution_count": 224,
   "metadata": {},
   "outputs": [
    {
     "data": {
      "text/plain": [
       "{'estimate': 0.011153317987918854,\n",
       " 'lower': 0.011041686421582491,\n",
       " 'upper': 0.01126494972189328}"
      ]
     },
     "execution_count": 224,
     "metadata": {},
     "output_type": "execute_result"
    }
   ],
   "source": [
    "analyzer.group_hh({'party': 'R', SUB_KEY: 'abortion'}, n=100)"
   ]
  },
  {
   "cell_type": "code",
   "execution_count": 225,
   "metadata": {},
   "outputs": [
    {
     "data": {
      "text/plain": [
       "127236"
      ]
     },
     "execution_count": 225,
     "metadata": {},
     "output_type": "execute_result"
    }
   ],
   "source": [
    "analyzer.n_records({'party': 'R'})"
   ]
  },
  {
   "cell_type": "code",
   "execution_count": 226,
   "metadata": {},
   "outputs": [
    {
     "ename": "AttributeError",
     "evalue": "'RMN_Analyzer' object has no attribute 'inter_party_divergence'",
     "output_type": "error",
     "traceback": [
      "\u001b[0;31m---------------------------------------------------------------------------\u001b[0m",
      "\u001b[0;31mAttributeError\u001b[0m                            Traceback (most recent call last)",
      "\u001b[0;32m<ipython-input-226-401f89936301>\u001b[0m in \u001b[0;36m<module>\u001b[0;34m\u001b[0m\n\u001b[1;32m      2\u001b[0m \u001b[0;34m\u001b[0m\u001b[0m\n\u001b[1;32m      3\u001b[0m data_dict = {\n\u001b[0;32m----> 4\u001b[0;31m     \u001b[0;34m'js_RD'\u001b[0m\u001b[0;34m:\u001b[0m \u001b[0manalyzer\u001b[0m\u001b[0;34m.\u001b[0m\u001b[0minter_party_divergence\u001b[0m\u001b[0;34m(\u001b[0m\u001b[0;34m'health'\u001b[0m\u001b[0;34m,\u001b[0m \u001b[0mn\u001b[0m\u001b[0;34m=\u001b[0m\u001b[0mN\u001b[0m\u001b[0;34m)\u001b[0m\u001b[0;34m,\u001b[0m\u001b[0;34m\u001b[0m\u001b[0;34m\u001b[0m\u001b[0m\n\u001b[0m\u001b[1;32m      5\u001b[0m     \u001b[0;34m'js_RR'\u001b[0m\u001b[0;34m:\u001b[0m \u001b[0manalyzer\u001b[0m\u001b[0;34m.\u001b[0m\u001b[0mintra_party_divergence\u001b[0m\u001b[0;34m(\u001b[0m\u001b[0;34m'R'\u001b[0m\u001b[0;34m,\u001b[0m \u001b[0;34m'health'\u001b[0m\u001b[0;34m,\u001b[0m  \u001b[0mn\u001b[0m\u001b[0;34m=\u001b[0m\u001b[0mN\u001b[0m\u001b[0;34m)\u001b[0m\u001b[0;34m,\u001b[0m\u001b[0;34m\u001b[0m\u001b[0;34m\u001b[0m\u001b[0m\n\u001b[1;32m      6\u001b[0m     \u001b[0;34m'js_DD'\u001b[0m\u001b[0;34m:\u001b[0m \u001b[0manalyzer\u001b[0m\u001b[0;34m.\u001b[0m\u001b[0mintra_party_divergence\u001b[0m\u001b[0;34m(\u001b[0m\u001b[0;34m'D'\u001b[0m\u001b[0;34m,\u001b[0m \u001b[0;34m'health'\u001b[0m\u001b[0;34m,\u001b[0m \u001b[0mn\u001b[0m\u001b[0;34m=\u001b[0m\u001b[0mN\u001b[0m\u001b[0;34m)\u001b[0m\u001b[0;34m\u001b[0m\u001b[0;34m\u001b[0m\u001b[0m\n",
      "\u001b[0;31mAttributeError\u001b[0m: 'RMN_Analyzer' object has no attribute 'inter_party_divergence'"
     ]
    }
   ],
   "source": [
    "N = 10000\n",
    "\n",
    "data_dict = {\n",
    "    'js_RD': analyzer.inter_party_divergence('health', n=N),\n",
    "    'js_RR': analyzer.intra_party_divergence('R', 'health',  n=N), \n",
    "    'js_DD': analyzer.intra_party_divergence('D', 'health', n=N) \n",
    "}"
   ]
  },
  {
   "cell_type": "code",
   "execution_count": 33,
   "metadata": {},
   "outputs": [],
   "source": [
    "import json \n",
    "\n",
    "with open('div_data.txt', 'w') as outfile:\n",
    "    json.dump(data_dict, outfile)"
   ]
  },
  {
   "cell_type": "code",
   "execution_count": 32,
   "metadata": {},
   "outputs": [
    {
     "data": {
      "text/plain": [
       "'/home/rocassius/w266_final/scripts/modeling'"
      ]
     },
     "execution_count": 32,
     "metadata": {},
     "output_type": "execute_result"
    }
   ],
   "source": [
    "os.getcwd()\n"
   ]
  },
  {
   "cell_type": "code",
   "execution_count": 34,
   "metadata": {},
   "outputs": [],
   "source": [
    "with open('div_data.txt') as json_file:\n",
    "    data = json.load(json_file)"
   ]
  },
  {
   "cell_type": "code",
   "execution_count": 35,
   "metadata": {},
   "outputs": [
    {
     "data": {
      "text/plain": [
       "{'js_RD': {'estimate': 0.11085805681099464,\n",
       "  'lower': 0.11000055448822368,\n",
       "  'upper': 0.1117155591337656},\n",
       " 'js_RR': {'estimate': 0.11106727010844802,\n",
       "  'lower': 0.1105057778011546,\n",
       "  'upper': 0.11162876241574145},\n",
       " 'js_DD': {'estimate': 0.1105937581579881,\n",
       "  'lower': 0.11002224760685128,\n",
       "  'upper': 0.11116526870912488}}"
      ]
     },
     "execution_count": 35,
     "metadata": {},
     "output_type": "execute_result"
    }
   ],
   "source": [
    "data"
   ]
  },
  {
   "cell_type": "code",
   "execution_count": null,
   "metadata": {},
   "outputs": [],
   "source": []
  }
 ],
 "metadata": {
  "kernelspec": {
   "display_name": "Python 3",
   "language": "python",
   "name": "python3"
  },
  "language_info": {
   "codemirror_mode": {
    "name": "ipython",
    "version": 3
   },
   "file_extension": ".py",
   "mimetype": "text/x-python",
   "name": "python",
   "nbconvert_exporter": "python",
   "pygments_lexer": "ipython3",
   "version": "3.7.4"
  }
 },
 "nbformat": 4,
 "nbformat_minor": 2
}
